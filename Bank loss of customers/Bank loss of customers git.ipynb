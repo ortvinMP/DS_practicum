{
 "cells": [
  {
   "cell_type": "markdown",
   "id": "55fb09b2",
   "metadata": {},
   "source": [
    "# Отток клиентов банка - описание проекта\n",
    "\n",
    "- Из банка каждый месяц стали уходить клиенты. Немного, но заметно. Банковские маркетологи посчитали: сохранять текущих клиентов дешевле, чем привлекать новых.\n",
    "- Нужно спрогнозировать, уйдёт клиент из банка в ближайшее время или нет. Предоставлены исторические данные о поведении клиентов и расторжении договоров с банком.\n",
    "- Необходимо построить модель с предельно большим значением F1-меры и довести метрику до 0.59. Также нужно проверить F1-меру на тестовой выборке\n",
    "- Дополнительно измерим AUC-ROC, сравнивним её значение с F1-мерой."
   ]
  },
  {
   "cell_type": "markdown",
   "id": "9a2ddf25",
   "metadata": {},
   "source": [
    "## Последовательность выполнения проекта\n",
    "\n",
    "- Загрузим и подготовим данные\n",
    "- Исследуем баланс классов, обучим модель без учёта дисбаланса. Сделаем выводы.\n",
    "- Улучшим качество модели, учитывая дисбаланс классов. Обучим разные модели и найдем лучшую. Сделаем выводы.\n",
    "- Выполним финальное тестирование."
   ]
  },
  {
   "cell_type": "markdown",
   "id": "51c800f1",
   "metadata": {},
   "source": [
    "## Описание данных\n",
    "\n",
    "**Признаки**\n",
    "\n",
    "- RowNumber — индекс строки в данных\n",
    "- CustomerId — уникальный идентификатор клиента\n",
    "- Surname — фамилия\n",
    "- CreditScore — кредитный рейтинг\n",
    "- Geography — страна проживания\n",
    "- Gender — пол\n",
    "- Age — возраст\n",
    "- Tenure — сколько лет человек является клиентом банка\n",
    "- Balance — баланс на счёте\n",
    "- NumOfProducts — количество продуктов банка, используемых клиентом\n",
    "- HasCrCard — наличие кредитной карты\n",
    "- IsActiveMember — активность клиента\n",
    "- EstimatedSalary — предполагаемая зарплата\n",
    "\n",
    "**Целевой признак**\n",
    "\n",
    "- Exited — факт ухода клиента"
   ]
  },
  {
   "cell_type": "markdown",
   "id": "de11fbf3",
   "metadata": {},
   "source": [
    "# Выполнение проекта"
   ]
  },
  {
   "cell_type": "markdown",
   "id": "352eaaff",
   "metadata": {},
   "source": [
    "## Подготовка данных"
   ]
  },
  {
   "cell_type": "markdown",
   "id": "9fe10829",
   "metadata": {},
   "source": [
    "### Загрузка и общий анализ данных"
   ]
  },
  {
   "cell_type": "code",
   "execution_count": 1,
   "id": "59decda8",
   "metadata": {},
   "outputs": [
    {
     "name": "stdout",
     "output_type": "stream",
     "text": [
      "RowNumber            int64\n",
      "CustomerId           int64\n",
      "Surname             object\n",
      "CreditScore          int64\n",
      "Geography           object\n",
      "Gender              object\n",
      "Age                  int64\n",
      "Tenure             float64\n",
      "Balance            float64\n",
      "NumOfProducts        int64\n",
      "HasCrCard            int64\n",
      "IsActiveMember       int64\n",
      "EstimatedSalary    float64\n",
      "Exited               int64\n",
      "dtype: object\n",
      "<class 'pandas.core.frame.DataFrame'>\n",
      "RangeIndex: 10000 entries, 0 to 9999\n",
      "Data columns (total 14 columns):\n",
      " #   Column           Non-Null Count  Dtype  \n",
      "---  ------           --------------  -----  \n",
      " 0   RowNumber        10000 non-null  int64  \n",
      " 1   CustomerId       10000 non-null  int64  \n",
      " 2   Surname          10000 non-null  object \n",
      " 3   CreditScore      10000 non-null  int64  \n",
      " 4   Geography        10000 non-null  object \n",
      " 5   Gender           10000 non-null  object \n",
      " 6   Age              10000 non-null  int64  \n",
      " 7   Tenure           9091 non-null   float64\n",
      " 8   Balance          10000 non-null  float64\n",
      " 9   NumOfProducts    10000 non-null  int64  \n",
      " 10  HasCrCard        10000 non-null  int64  \n",
      " 11  IsActiveMember   10000 non-null  int64  \n",
      " 12  EstimatedSalary  10000 non-null  float64\n",
      " 13  Exited           10000 non-null  int64  \n",
      "dtypes: float64(3), int64(8), object(3)\n",
      "memory usage: 1.1+ MB\n",
      "None\n"
     ]
    },
    {
     "data": {
      "text/html": [
       "<div>\n",
       "<style scoped>\n",
       "    .dataframe tbody tr th:only-of-type {\n",
       "        vertical-align: middle;\n",
       "    }\n",
       "\n",
       "    .dataframe tbody tr th {\n",
       "        vertical-align: top;\n",
       "    }\n",
       "\n",
       "    .dataframe thead th {\n",
       "        text-align: right;\n",
       "    }\n",
       "</style>\n",
       "<table border=\"1\" class=\"dataframe\">\n",
       "  <thead>\n",
       "    <tr style=\"text-align: right;\">\n",
       "      <th></th>\n",
       "      <th>RowNumber</th>\n",
       "      <th>CustomerId</th>\n",
       "      <th>Surname</th>\n",
       "      <th>CreditScore</th>\n",
       "      <th>Geography</th>\n",
       "      <th>Gender</th>\n",
       "      <th>Age</th>\n",
       "      <th>Tenure</th>\n",
       "      <th>Balance</th>\n",
       "      <th>NumOfProducts</th>\n",
       "      <th>HasCrCard</th>\n",
       "      <th>IsActiveMember</th>\n",
       "      <th>EstimatedSalary</th>\n",
       "      <th>Exited</th>\n",
       "    </tr>\n",
       "  </thead>\n",
       "  <tbody>\n",
       "    <tr>\n",
       "      <th>0</th>\n",
       "      <td>1</td>\n",
       "      <td>15634602</td>\n",
       "      <td>Hargrave</td>\n",
       "      <td>619</td>\n",
       "      <td>France</td>\n",
       "      <td>Female</td>\n",
       "      <td>42</td>\n",
       "      <td>2.0</td>\n",
       "      <td>0.00</td>\n",
       "      <td>1</td>\n",
       "      <td>1</td>\n",
       "      <td>1</td>\n",
       "      <td>101348.88</td>\n",
       "      <td>1</td>\n",
       "    </tr>\n",
       "    <tr>\n",
       "      <th>1</th>\n",
       "      <td>2</td>\n",
       "      <td>15647311</td>\n",
       "      <td>Hill</td>\n",
       "      <td>608</td>\n",
       "      <td>Spain</td>\n",
       "      <td>Female</td>\n",
       "      <td>41</td>\n",
       "      <td>1.0</td>\n",
       "      <td>83807.86</td>\n",
       "      <td>1</td>\n",
       "      <td>0</td>\n",
       "      <td>1</td>\n",
       "      <td>112542.58</td>\n",
       "      <td>0</td>\n",
       "    </tr>\n",
       "    <tr>\n",
       "      <th>2</th>\n",
       "      <td>3</td>\n",
       "      <td>15619304</td>\n",
       "      <td>Onio</td>\n",
       "      <td>502</td>\n",
       "      <td>France</td>\n",
       "      <td>Female</td>\n",
       "      <td>42</td>\n",
       "      <td>8.0</td>\n",
       "      <td>159660.80</td>\n",
       "      <td>3</td>\n",
       "      <td>1</td>\n",
       "      <td>0</td>\n",
       "      <td>113931.57</td>\n",
       "      <td>1</td>\n",
       "    </tr>\n",
       "    <tr>\n",
       "      <th>3</th>\n",
       "      <td>4</td>\n",
       "      <td>15701354</td>\n",
       "      <td>Boni</td>\n",
       "      <td>699</td>\n",
       "      <td>France</td>\n",
       "      <td>Female</td>\n",
       "      <td>39</td>\n",
       "      <td>1.0</td>\n",
       "      <td>0.00</td>\n",
       "      <td>2</td>\n",
       "      <td>0</td>\n",
       "      <td>0</td>\n",
       "      <td>93826.63</td>\n",
       "      <td>0</td>\n",
       "    </tr>\n",
       "    <tr>\n",
       "      <th>4</th>\n",
       "      <td>5</td>\n",
       "      <td>15737888</td>\n",
       "      <td>Mitchell</td>\n",
       "      <td>850</td>\n",
       "      <td>Spain</td>\n",
       "      <td>Female</td>\n",
       "      <td>43</td>\n",
       "      <td>2.0</td>\n",
       "      <td>125510.82</td>\n",
       "      <td>1</td>\n",
       "      <td>1</td>\n",
       "      <td>1</td>\n",
       "      <td>79084.10</td>\n",
       "      <td>0</td>\n",
       "    </tr>\n",
       "  </tbody>\n",
       "</table>\n",
       "</div>"
      ],
      "text/plain": [
       "   RowNumber  CustomerId   Surname  CreditScore Geography  Gender  Age  \\\n",
       "0          1    15634602  Hargrave          619    France  Female   42   \n",
       "1          2    15647311      Hill          608     Spain  Female   41   \n",
       "2          3    15619304      Onio          502    France  Female   42   \n",
       "3          4    15701354      Boni          699    France  Female   39   \n",
       "4          5    15737888  Mitchell          850     Spain  Female   43   \n",
       "\n",
       "   Tenure    Balance  NumOfProducts  HasCrCard  IsActiveMember  \\\n",
       "0     2.0       0.00              1          1               1   \n",
       "1     1.0   83807.86              1          0               1   \n",
       "2     8.0  159660.80              3          1               0   \n",
       "3     1.0       0.00              2          0               0   \n",
       "4     2.0  125510.82              1          1               1   \n",
       "\n",
       "   EstimatedSalary  Exited  \n",
       "0        101348.88       1  \n",
       "1        112542.58       0  \n",
       "2        113931.57       1  \n",
       "3         93826.63       0  \n",
       "4         79084.10       0  "
      ]
     },
     "metadata": {},
     "output_type": "display_data"
    }
   ],
   "source": [
    "import pandas as pd\n",
    "\n",
    "from sklearn.model_selection import train_test_split\n",
    "from sklearn.linear_model import LinearRegression\n",
    "from sklearn.tree import DecisionTreeRegressor\n",
    "from sklearn.tree import DecisionTreeClassifier\n",
    "from sklearn.ensemble import RandomForestRegressor\n",
    "from sklearn.ensemble import RandomForestClassifier\n",
    "from sklearn.metrics import mean_absolute_error\n",
    "from sklearn.preprocessing import StandardScaler\n",
    "from sklearn.metrics import roc_auc_score\n",
    "from sklearn.metrics import f1_score\n",
    "from sklearn.utils import shuffle\n",
    "from sklearn.metrics import accuracy_score\n",
    "from sklearn.metrics import precision_score\n",
    "from sklearn.metrics import recall_score\n",
    "from sklearn.metrics import roc_curve \n",
    "import matplotlib.pyplot as plt\n",
    "\n",
    "try:\n",
    "    data=pd.read_csv('C:/Users/kaz-106/YandexDisk/Py-projects/02_Practicum projects/06_Learning_with_teacher/Churn.csv')\n",
    "except:\n",
    "    data=pd.read_csv('https://code.s3.yandex.net/datasets/Churn.csv')\n",
    "\n",
    "print(data.dtypes)\n",
    "print(data.info())\n",
    "display(data.head())"
   ]
  },
  {
   "cell_type": "markdown",
   "id": "c35098c0",
   "metadata": {},
   "source": [
    "### Удаление пропусков\n",
    "\n",
    "- В столбце Tenure есть пропуски - около 10% всего датасета. Относительно много, но модель обучится и без этих данных\n",
    "- Удалим эти пропуски"
   ]
  },
  {
   "cell_type": "code",
   "execution_count": 2,
   "id": "a99da074",
   "metadata": {},
   "outputs": [
    {
     "data": {
      "text/plain": [
       "0"
      ]
     },
     "execution_count": 2,
     "metadata": {},
     "output_type": "execute_result"
    }
   ],
   "source": [
    "data=data.dropna(subset=['Tenure'])\n",
    "data['Tenure'].isna().sum()"
   ]
  },
  {
   "cell_type": "markdown",
   "id": "84a433b1",
   "metadata": {},
   "source": [
    "### Удаление лишних столбцов\n",
    "\n",
    "- RowNumber - просто индекс, для модели не нужен - удаляем\n",
    "- Surname - фамилия - удаляем\n",
    "- CustomerID - опять индекс, удаляем"
   ]
  },
  {
   "cell_type": "code",
   "execution_count": 3,
   "id": "050fb490",
   "metadata": {},
   "outputs": [
    {
     "data": {
      "text/html": [
       "<div>\n",
       "<style scoped>\n",
       "    .dataframe tbody tr th:only-of-type {\n",
       "        vertical-align: middle;\n",
       "    }\n",
       "\n",
       "    .dataframe tbody tr th {\n",
       "        vertical-align: top;\n",
       "    }\n",
       "\n",
       "    .dataframe thead th {\n",
       "        text-align: right;\n",
       "    }\n",
       "</style>\n",
       "<table border=\"1\" class=\"dataframe\">\n",
       "  <thead>\n",
       "    <tr style=\"text-align: right;\">\n",
       "      <th></th>\n",
       "      <th>CreditScore</th>\n",
       "      <th>Geography</th>\n",
       "      <th>Gender</th>\n",
       "      <th>Age</th>\n",
       "      <th>Tenure</th>\n",
       "      <th>Balance</th>\n",
       "      <th>NumOfProducts</th>\n",
       "      <th>HasCrCard</th>\n",
       "      <th>IsActiveMember</th>\n",
       "      <th>EstimatedSalary</th>\n",
       "      <th>Exited</th>\n",
       "    </tr>\n",
       "  </thead>\n",
       "  <tbody>\n",
       "    <tr>\n",
       "      <th>0</th>\n",
       "      <td>619</td>\n",
       "      <td>France</td>\n",
       "      <td>Female</td>\n",
       "      <td>42</td>\n",
       "      <td>2.0</td>\n",
       "      <td>0.00</td>\n",
       "      <td>1</td>\n",
       "      <td>1</td>\n",
       "      <td>1</td>\n",
       "      <td>101348.88</td>\n",
       "      <td>1</td>\n",
       "    </tr>\n",
       "    <tr>\n",
       "      <th>1</th>\n",
       "      <td>608</td>\n",
       "      <td>Spain</td>\n",
       "      <td>Female</td>\n",
       "      <td>41</td>\n",
       "      <td>1.0</td>\n",
       "      <td>83807.86</td>\n",
       "      <td>1</td>\n",
       "      <td>0</td>\n",
       "      <td>1</td>\n",
       "      <td>112542.58</td>\n",
       "      <td>0</td>\n",
       "    </tr>\n",
       "    <tr>\n",
       "      <th>2</th>\n",
       "      <td>502</td>\n",
       "      <td>France</td>\n",
       "      <td>Female</td>\n",
       "      <td>42</td>\n",
       "      <td>8.0</td>\n",
       "      <td>159660.80</td>\n",
       "      <td>3</td>\n",
       "      <td>1</td>\n",
       "      <td>0</td>\n",
       "      <td>113931.57</td>\n",
       "      <td>1</td>\n",
       "    </tr>\n",
       "    <tr>\n",
       "      <th>3</th>\n",
       "      <td>699</td>\n",
       "      <td>France</td>\n",
       "      <td>Female</td>\n",
       "      <td>39</td>\n",
       "      <td>1.0</td>\n",
       "      <td>0.00</td>\n",
       "      <td>2</td>\n",
       "      <td>0</td>\n",
       "      <td>0</td>\n",
       "      <td>93826.63</td>\n",
       "      <td>0</td>\n",
       "    </tr>\n",
       "    <tr>\n",
       "      <th>4</th>\n",
       "      <td>850</td>\n",
       "      <td>Spain</td>\n",
       "      <td>Female</td>\n",
       "      <td>43</td>\n",
       "      <td>2.0</td>\n",
       "      <td>125510.82</td>\n",
       "      <td>1</td>\n",
       "      <td>1</td>\n",
       "      <td>1</td>\n",
       "      <td>79084.10</td>\n",
       "      <td>0</td>\n",
       "    </tr>\n",
       "  </tbody>\n",
       "</table>\n",
       "</div>"
      ],
      "text/plain": [
       "   CreditScore Geography  Gender  Age  Tenure    Balance  NumOfProducts  \\\n",
       "0          619    France  Female   42     2.0       0.00              1   \n",
       "1          608     Spain  Female   41     1.0   83807.86              1   \n",
       "2          502    France  Female   42     8.0  159660.80              3   \n",
       "3          699    France  Female   39     1.0       0.00              2   \n",
       "4          850     Spain  Female   43     2.0  125510.82              1   \n",
       "\n",
       "   HasCrCard  IsActiveMember  EstimatedSalary  Exited  \n",
       "0          1               1        101348.88       1  \n",
       "1          0               1        112542.58       0  \n",
       "2          1               0        113931.57       1  \n",
       "3          0               0         93826.63       0  \n",
       "4          1               1         79084.10       0  "
      ]
     },
     "metadata": {},
     "output_type": "display_data"
    }
   ],
   "source": [
    "data=data.drop(columns=['RowNumber','CustomerId','Surname'])\n",
    "display(data.head())"
   ]
  },
  {
   "cell_type": "markdown",
   "id": "d5746281",
   "metadata": {},
   "source": [
    "### Прямое кодирование\n",
    "\n",
    "- Переведем категориальные признаки в количественные\n",
    "- Чтобы избежать дамми-ловушки используем аргумент drop_first=True)"
   ]
  },
  {
   "cell_type": "code",
   "execution_count": 4,
   "id": "bd7a1110",
   "metadata": {},
   "outputs": [
    {
     "data": {
      "text/plain": [
       "(9091, 12)"
      ]
     },
     "metadata": {},
     "output_type": "display_data"
    },
    {
     "data": {
      "text/html": [
       "<div>\n",
       "<style scoped>\n",
       "    .dataframe tbody tr th:only-of-type {\n",
       "        vertical-align: middle;\n",
       "    }\n",
       "\n",
       "    .dataframe tbody tr th {\n",
       "        vertical-align: top;\n",
       "    }\n",
       "\n",
       "    .dataframe thead th {\n",
       "        text-align: right;\n",
       "    }\n",
       "</style>\n",
       "<table border=\"1\" class=\"dataframe\">\n",
       "  <thead>\n",
       "    <tr style=\"text-align: right;\">\n",
       "      <th></th>\n",
       "      <th>CreditScore</th>\n",
       "      <th>Age</th>\n",
       "      <th>Tenure</th>\n",
       "      <th>Balance</th>\n",
       "      <th>NumOfProducts</th>\n",
       "      <th>HasCrCard</th>\n",
       "      <th>IsActiveMember</th>\n",
       "      <th>EstimatedSalary</th>\n",
       "      <th>Exited</th>\n",
       "      <th>Geography_Germany</th>\n",
       "      <th>Geography_Spain</th>\n",
       "      <th>Gender_Male</th>\n",
       "    </tr>\n",
       "  </thead>\n",
       "  <tbody>\n",
       "    <tr>\n",
       "      <th>0</th>\n",
       "      <td>619</td>\n",
       "      <td>42</td>\n",
       "      <td>2.0</td>\n",
       "      <td>0.00</td>\n",
       "      <td>1</td>\n",
       "      <td>1</td>\n",
       "      <td>1</td>\n",
       "      <td>101348.88</td>\n",
       "      <td>1</td>\n",
       "      <td>0</td>\n",
       "      <td>0</td>\n",
       "      <td>0</td>\n",
       "    </tr>\n",
       "    <tr>\n",
       "      <th>1</th>\n",
       "      <td>608</td>\n",
       "      <td>41</td>\n",
       "      <td>1.0</td>\n",
       "      <td>83807.86</td>\n",
       "      <td>1</td>\n",
       "      <td>0</td>\n",
       "      <td>1</td>\n",
       "      <td>112542.58</td>\n",
       "      <td>0</td>\n",
       "      <td>0</td>\n",
       "      <td>1</td>\n",
       "      <td>0</td>\n",
       "    </tr>\n",
       "    <tr>\n",
       "      <th>2</th>\n",
       "      <td>502</td>\n",
       "      <td>42</td>\n",
       "      <td>8.0</td>\n",
       "      <td>159660.80</td>\n",
       "      <td>3</td>\n",
       "      <td>1</td>\n",
       "      <td>0</td>\n",
       "      <td>113931.57</td>\n",
       "      <td>1</td>\n",
       "      <td>0</td>\n",
       "      <td>0</td>\n",
       "      <td>0</td>\n",
       "    </tr>\n",
       "    <tr>\n",
       "      <th>3</th>\n",
       "      <td>699</td>\n",
       "      <td>39</td>\n",
       "      <td>1.0</td>\n",
       "      <td>0.00</td>\n",
       "      <td>2</td>\n",
       "      <td>0</td>\n",
       "      <td>0</td>\n",
       "      <td>93826.63</td>\n",
       "      <td>0</td>\n",
       "      <td>0</td>\n",
       "      <td>0</td>\n",
       "      <td>0</td>\n",
       "    </tr>\n",
       "    <tr>\n",
       "      <th>4</th>\n",
       "      <td>850</td>\n",
       "      <td>43</td>\n",
       "      <td>2.0</td>\n",
       "      <td>125510.82</td>\n",
       "      <td>1</td>\n",
       "      <td>1</td>\n",
       "      <td>1</td>\n",
       "      <td>79084.10</td>\n",
       "      <td>0</td>\n",
       "      <td>0</td>\n",
       "      <td>1</td>\n",
       "      <td>0</td>\n",
       "    </tr>\n",
       "  </tbody>\n",
       "</table>\n",
       "</div>"
      ],
      "text/plain": [
       "   CreditScore  Age  Tenure    Balance  NumOfProducts  HasCrCard  \\\n",
       "0          619   42     2.0       0.00              1          1   \n",
       "1          608   41     1.0   83807.86              1          0   \n",
       "2          502   42     8.0  159660.80              3          1   \n",
       "3          699   39     1.0       0.00              2          0   \n",
       "4          850   43     2.0  125510.82              1          1   \n",
       "\n",
       "   IsActiveMember  EstimatedSalary  Exited  Geography_Germany  \\\n",
       "0               1        101348.88       1                  0   \n",
       "1               1        112542.58       0                  0   \n",
       "2               0        113931.57       1                  0   \n",
       "3               0         93826.63       0                  0   \n",
       "4               1         79084.10       0                  0   \n",
       "\n",
       "   Geography_Spain  Gender_Male  \n",
       "0                0            0  \n",
       "1                1            0  \n",
       "2                0            0  \n",
       "3                0            0  \n",
       "4                1            0  "
      ]
     },
     "metadata": {},
     "output_type": "display_data"
    }
   ],
   "source": [
    "data_ohe = pd.get_dummies(data, drop_first=True)\n",
    "display(data_ohe.shape)\n",
    "display(data_ohe.head())\n"
   ]
  },
  {
   "cell_type": "markdown",
   "id": "a64f0210",
   "metadata": {},
   "source": [
    "### Масштабирование признаков\n",
    "\n",
    "- Количественные признаки имеют разный масштаб. В данном проекте мы будем исследовать модели случайного леса, решающего дерева или линейной регресси, которые не требуют масшатабирования. Однако на случай использования других моделей все равно сохраним код с маштабированием\n",
    "- Выделим количественные признаки в отдельную `Series` для проведения масштабирования"
   ]
  },
  {
   "cell_type": "code",
   "execution_count": 5,
   "id": "4f444f87",
   "metadata": {},
   "outputs": [],
   "source": [
    "#numeric = ['CreditScore', 'Age', 'Tenure', 'NumOfProducts','EstimatedSalary','Balance']\n",
    "\n",
    "#scaler = StandardScaler()\n",
    "#scaler.fit(data_ohe[numeric])\n",
    "#data_ohe[numeric] = scaler.transform(data_ohe[numeric])\n",
    "\n",
    "#display(data_ohe.head())\n",
    "\n"
   ]
  },
  {
   "cell_type": "markdown",
   "id": "ad65efe1",
   "metadata": {},
   "source": [
    "### Разделение выборки\n",
    "\n",
    "Разделим выборку на обучающую, тестовую и валидационную в пропорции 60:20:20"
   ]
  },
  {
   "cell_type": "code",
   "execution_count": 6,
   "id": "4ef5a49c",
   "metadata": {},
   "outputs": [
    {
     "name": "stdout",
     "output_type": "stream",
     "text": [
      "(5454, 12)\n",
      "(1819, 12)\n",
      "(1818, 12)\n"
     ]
    }
   ],
   "source": [
    "data_train, data_valid = train_test_split(data_ohe, test_size=0.2,train_size=0.8,random_state=123)\n",
    "data_train, data_test = train_test_split(data_train, test_size=0.25,train_size=0.75,random_state=123)\n",
    "\n",
    "print(data_train.shape)\n",
    "print(data_valid.shape)\n",
    "print(data_test.shape)\n"
   ]
  },
  {
   "cell_type": "markdown",
   "id": "b80f68ab",
   "metadata": {},
   "source": [
    "### Выделение признаков"
   ]
  },
  {
   "cell_type": "code",
   "execution_count": 7,
   "id": "1eebeb59",
   "metadata": {},
   "outputs": [],
   "source": [
    "features_train = data_train.drop(['Exited'], axis=1)\n",
    "target_train = data_train['Exited']\n",
    "\n",
    "features_valid = data_valid.drop(['Exited'], axis=1)\n",
    "target_valid = data_valid['Exited']\n",
    "\n",
    "features_test = data_test.drop(['Exited'], axis=1)\n",
    "target_test = data_test['Exited']"
   ]
  },
  {
   "cell_type": "markdown",
   "id": "17caa03e",
   "metadata": {},
   "source": [
    "## Исследование задачи (без учета дисбаланса)\n",
    "\n",
    "Оценим баланс классов"
   ]
  },
  {
   "cell_type": "code",
   "execution_count": 8,
   "id": "560da6ed",
   "metadata": {},
   "outputs": [
    {
     "data": {
      "text/plain": [
       "0    7237\n",
       "1    1854\n",
       "Name: Exited, dtype: int64"
      ]
     },
     "execution_count": 8,
     "metadata": {},
     "output_type": "execute_result"
    }
   ],
   "source": [
    "data_ohe['Exited'].value_counts()"
   ]
  },
  {
   "cell_type": "markdown",
   "id": "3488801e",
   "metadata": {},
   "source": [
    "Классы несбалансированы. Попробуем обучить различные модели без учета данного фактора"
   ]
  },
  {
   "cell_type": "markdown",
   "id": "7b722ab6",
   "metadata": {},
   "source": [
    "### Случайный лес\n",
    "\n",
    "- Обучим модель на тестовой выборке\n",
    "- Подберем гиперпарметры на валидационной выборке\n",
    "- Получим метрики на тестовой выборке"
   ]
  },
  {
   "cell_type": "code",
   "execution_count": 9,
   "id": "b0915665",
   "metadata": {},
   "outputs": [
    {
     "name": "stdout",
     "output_type": "stream",
     "text": [
      "f1 = 10 : 0.5402843601895735\n",
      "f1 = 15 : 0.5868263473053893\n",
      "f1 = 20 : 0.5595054095826894\n",
      "f1 = 25 : 0.5661538461538461\n",
      "f1 = 30 : 0.5665634674922599\n",
      "f1 = 35 : 0.5727411944869832\n",
      "f1 = 40 : 0.5669781931464175\n",
      "f1 = 45 : 0.5770992366412213\n",
      "\n",
      "Подбор гиперпарметров\n",
      "best estimators= 15 : 0.5868263473053893\n"
     ]
    }
   ],
   "source": [
    "best_estimators_1=0\n",
    "best_f1_1=0\n",
    "best_model_rfc=None\n",
    "for estimators in range(10, 50, 5):\n",
    "    model = RandomForestClassifier(n_estimators=estimators, random_state=12345)\n",
    "    model.fit(features_train, target_train)\n",
    "    predicted_valid = model.predict(features_valid)\n",
    "    f1 = f1_score(target_valid, predicted_valid)\n",
    "    \n",
    "    if f1 > best_f1_1:\n",
    "        best_f1_1=f1\n",
    "        best_estimators_1=estimators\n",
    "        best_model_rfc=model\n",
    "    print(\"f1 =\", estimators, \":\", f1)\n",
    "    \n",
    "print()\n",
    "print('Подбор гиперпарметров')\n",
    "print('best estimators=',best_estimators_1,':',best_f1_1,)\n",
    "\n",
    "#model_core_rfc=best_model_rfc.fit(features_train, target_train)\n",
    "#predicted_test=model_core_rfc.predict(features_test)\n",
    "#print()\n",
    "#print('Метрики на тестовой выборке')\n",
    "#print(\"F1:\", f1_score(target_test, predicted_test))\n",
    "#print(\"ROC_auc:\", roc_auc_score(target_test, predicted_test))\n"
   ]
  },
  {
   "cell_type": "markdown",
   "id": "071b8f38",
   "metadata": {},
   "source": [
    "### Решающее дерево"
   ]
  },
  {
   "cell_type": "code",
   "execution_count": 10,
   "id": "b2106af0",
   "metadata": {},
   "outputs": [
    {
     "name": "stdout",
     "output_type": "stream",
     "text": [
      "f1 = 1 : 0.0\n",
      "f1 = 2 : 0.517799352750809\n",
      "f1 = 3 : 0.536741214057508\n",
      "f1 = 4 : 0.5\n",
      "f1 = 5 : 0.515358361774744\n",
      "f1 = 6 : 0.5462962962962964\n",
      "f1 = 7 : 0.5714285714285714\n",
      "f1 = 8 : 0.5789473684210527\n",
      "f1 = 9 : 0.5402298850574713\n",
      "f1 = 10 : 0.5573770491803278\n",
      "f1 = 11 : 0.5331491712707183\n",
      "f1 = 12 : 0.512064343163539\n",
      "f1 = 13 : 0.5148771021992238\n",
      "f1 = 14 : 0.48984771573604063\n",
      "f1 = 15 : 0.49692496924969254\n",
      "f1 = 16 : 0.4868255959849435\n",
      "f1 = 17 : 0.4893350062735257\n",
      "f1 = 18 : 0.4765432098765433\n",
      "f1 = 19 : 0.4911392405063291\n",
      "\n",
      "Подбор гиперпарметров\n",
      "best depth= 8 : 0.5789473684210527\n"
     ]
    }
   ],
   "source": [
    "best_depth=0\n",
    "best_f1_2=0\n",
    "best_model_dt=None\n",
    "for depth in range(1, 20):\n",
    "    model = DecisionTreeClassifier(max_depth=depth,random_state=12345) \n",
    "    model.fit(features_train, target_train)\n",
    "    predicted_valid = model.predict(features_valid)\n",
    "    f1 = f1_score(target_valid, predicted_valid)\n",
    "    \n",
    "    if f1 > best_f1_2:\n",
    "        best_f1_2=f1\n",
    "        best_depth=depth\n",
    "        best_model_dt=model\n",
    "    print(\"f1 =\", depth, \":\", f1)\n",
    "    \n",
    "\n",
    "print()\n",
    "print('Подбор гиперпарметров')\n",
    "print('best depth=',best_depth,':',best_f1_2,)\n",
    "\n",
    "#model_core_dt=best_model_dt.fit(features_train, target_train)\n",
    "#predicted_test=model_core_dt.predict(features_test)\n",
    "#print()\n",
    "#print('Метрики на тестовой выборке')\n",
    "#print(\"F1:\", f1_score(target_test, predicted_test))\n",
    "#print(\"ROC_auc:\", roc_auc_score(target_test, predicted_test))"
   ]
  },
  {
   "cell_type": "markdown",
   "id": "43627a70",
   "metadata": {},
   "source": [
    "### Выводы\n",
    "\n",
    "- Были обучены модели решающего дерева и случайного дерева, подобраны соотвествующие гиперпараметры\n",
    "- Зафиксированы лушчие значения метрик"
   ]
  },
  {
   "cell_type": "markdown",
   "id": "74889332",
   "metadata": {},
   "source": [
    "## Борьба с дисбалансом. Class_weight"
   ]
  },
  {
   "cell_type": "markdown",
   "id": "f6125605",
   "metadata": {},
   "source": [
    "Попробуем обучить те же самые модели с учетом дисбаланса классов. Используем аргумент class_weight = 'balanced'"
   ]
  },
  {
   "cell_type": "markdown",
   "id": "d3d80141",
   "metadata": {},
   "source": [
    "### Случайный лес\n",
    "\n",
    "- Обучим модель на тестовой выборке c учетом балансировки\n",
    "- Подберем гиперпарметры на валидационной выборке\n",
    "- Получим метрики на тестовой выборке"
   ]
  },
  {
   "cell_type": "code",
   "execution_count": 11,
   "id": "8d0d166e",
   "metadata": {},
   "outputs": [
    {
     "name": "stdout",
     "output_type": "stream",
     "text": [
      "\n",
      "Подбор гиперпарметров\n",
      "best estimators= 45 : 0.5606299212598425\n"
     ]
    }
   ],
   "source": [
    "best_estimators_1=0\n",
    "best_f1_1=0\n",
    "best_model_rfc=None\n",
    "for estimators in range(10, 50, 5):\n",
    "    model = RandomForestClassifier(n_estimators=estimators, random_state=12345,class_weight = 'balanced')\n",
    "    model.fit(features_train, target_train)\n",
    "    predicted_valid = model.predict(features_valid)\n",
    "    f1 = f1_score(target_valid, predicted_valid)\n",
    "    \n",
    "    if f1 > best_f1_1:\n",
    "        best_f1_1=f1\n",
    "        best_estimators_1=estimators\n",
    "        best_model_rfc=model\n",
    "        \n",
    "print()\n",
    "print('Подбор гиперпарметров')\n",
    "print('best estimators=',best_estimators_1,':',best_f1_1,)\n",
    "\n",
    "#core_model_rfc=best_model_rfc.fit(features_train, target_train)\n",
    "#predicted_test=core_model_rfc.predict(features_test)\n",
    "#print()\n",
    "#print('Метрики на тестовой выборке')\n",
    "#print(\"F1:\", f1_score(target_test, predicted_test))\n",
    "#print(\"ROC_auc:\", roc_auc_score(target_test, predicted_test))"
   ]
  },
  {
   "cell_type": "markdown",
   "id": "7693abe1",
   "metadata": {},
   "source": [
    "При таком балансировании классов метрики улучшились"
   ]
  },
  {
   "cell_type": "markdown",
   "id": "cda48ce6",
   "metadata": {},
   "source": [
    "### Решающее дерево\n",
    "\n",
    "- Обучим модель на тестовой выборке c учетом балансировки\n",
    "- Подберем гиперпарметры на валидационной выборке\n",
    "- Получим метрики на тестовой выборке"
   ]
  },
  {
   "cell_type": "code",
   "execution_count": 12,
   "id": "c586d20b",
   "metadata": {},
   "outputs": [
    {
     "name": "stdout",
     "output_type": "stream",
     "text": [
      "\n",
      "Подбор гиперпарметров\n",
      "best depth= 6 : 0.5931558935361217\n"
     ]
    }
   ],
   "source": [
    "best_depth=0\n",
    "best_f1_2=0\n",
    "best_model_dt=None\n",
    "for depth in range(1, 20):\n",
    "    model = DecisionTreeClassifier(max_depth=depth,random_state=12345,class_weight = 'balanced') \n",
    "    model.fit(features_train, target_train)\n",
    "    predicted_valid = model.predict(features_valid)\n",
    "    f1 = f1_score(target_valid, predicted_valid)\n",
    "    \n",
    "    if f1 > best_f1_2:\n",
    "        best_f1_2=f1\n",
    "        best_depth=depth\n",
    "        best_model_dt=model\n",
    "    \n",
    "\n",
    "print()\n",
    "print('Подбор гиперпарметров')\n",
    "print('best depth=',best_depth,':',best_f1_2,)\n",
    "\n",
    "#model_core_dt=best_model_dt.fit(features_train, target_train)\n",
    "#predicted_test=model_core_dt.predict(features_test)\n",
    "#print()\n",
    "#print('Метрики на тестовой выборке')\n",
    "#print(\"F1:\", f1_score(target_test, predicted_test))\n",
    "#print(\"ROC_auc:\", roc_auc_score(target_test, predicted_test))"
   ]
  },
  {
   "cell_type": "markdown",
   "id": "6cff663b",
   "metadata": {},
   "source": [
    "### Выводы\n",
    "\n",
    "- Для обоих моделей балансирование классов с помощью class_weight показало некоторое улучшение метрик"
   ]
  },
  {
   "cell_type": "markdown",
   "id": "8deca2ef",
   "metadata": {},
   "source": [
    "## Борьба с дисбалансом. Увеличение выборки"
   ]
  },
  {
   "cell_type": "markdown",
   "id": "b81b3d91",
   "metadata": {},
   "source": [
    "### Функция для увеличения выборки"
   ]
  },
  {
   "cell_type": "code",
   "execution_count": 13,
   "id": "27fbc9aa",
   "metadata": {},
   "outputs": [
    {
     "name": "stdout",
     "output_type": "stream",
     "text": [
      "(8766, 11)\n",
      "(8766,)\n"
     ]
    },
    {
     "data": {
      "text/plain": [
       "1    4416\n",
       "0    4350\n",
       "Name: Exited, dtype: int64"
      ]
     },
     "execution_count": 13,
     "metadata": {},
     "output_type": "execute_result"
    }
   ],
   "source": [
    "def upsample(features, target, repeat):\n",
    "\n",
    "    features_zeros = features_train[target_train == 0]\n",
    "    features_ones = features_train[target_train == 1]\n",
    "    target_zeros = target_train[target_train == 0]\n",
    "    target_ones = target_train[target_train == 1]\n",
    "\n",
    "    repeat = 4\n",
    "    features_upsampled = pd.concat([features_zeros] + [features_ones] * repeat)\n",
    "    target_upsampled = pd.concat([target_zeros] + [target_ones] * repeat)\n",
    "    \n",
    "    features_upsampled = shuffle(features_upsampled,random_state=12345)\n",
    "    target_upsampled = shuffle(target_upsampled,random_state=12345)\n",
    "    \n",
    "    return features_upsampled, target_upsampled\n",
    "\n",
    "features_upsampled, target_upsampled = upsample(features_train, target_train, 4)\n",
    "\n",
    "print(features_upsampled.shape)\n",
    "print(target_upsampled.shape)\n",
    "\n",
    "target_upsampled.value_counts()"
   ]
  },
  {
   "cell_type": "markdown",
   "id": "fd500788",
   "metadata": {},
   "source": [
    "### Случайный лес\n",
    "\n",
    "- Обучим случайный лес на увеличенной выборке"
   ]
  },
  {
   "cell_type": "code",
   "execution_count": 14,
   "id": "b828f1e0",
   "metadata": {},
   "outputs": [
    {
     "name": "stdout",
     "output_type": "stream",
     "text": [
      "\n",
      "Подбор гиперпарметров\n",
      "best estimators= 45 : 0.6056338028169014\n"
     ]
    }
   ],
   "source": [
    "best_estimators_1=0\n",
    "best_f1_1=0\n",
    "best_model_rfc=None\n",
    "for estimators in range(10, 50, 5):\n",
    "    model = RandomForestClassifier(n_estimators=estimators, random_state=12345)\n",
    "    model.fit(features_upsampled, target_upsampled)\n",
    "    predicted_valid = model.predict(features_valid)\n",
    "    f1 = f1_score(target_valid, predicted_valid)\n",
    "    \n",
    "    if f1 > best_f1_1:\n",
    "        best_f1_1=f1\n",
    "        best_estimators_1=estimators\n",
    "        best_model_rfc=model\n",
    "        \n",
    "print()\n",
    "print('Подбор гиперпарметров')\n",
    "print('best estimators=',best_estimators_1,':',best_f1_1,)\n",
    "\n",
    "\n",
    "#core_model_rfc=best_model_rfc.fit(features_upsampled, target_upsampled)\n",
    "#predicted_test=core_model_rfc.predict(features_test)\n",
    "#print()\n",
    "#print('Метрики на тестовой выборке')\n",
    "#print(\"F1:\", f1_score(target_test, predicted_test))\n",
    "#print(\"ROC_auc:\", roc_auc_score(target_test, predicted_test))"
   ]
  },
  {
   "cell_type": "markdown",
   "id": "844d2e66",
   "metadata": {},
   "source": [
    "### Решаюшее дерево\n",
    "\n",
    "- Обучим решающее дерево на увеличенной выборке"
   ]
  },
  {
   "cell_type": "code",
   "execution_count": 15,
   "id": "e802adf3",
   "metadata": {},
   "outputs": [
    {
     "name": "stdout",
     "output_type": "stream",
     "text": [
      "\n",
      "Подбор гиперпарметров\n",
      "best depth= 6 : 0.5931558935361217\n"
     ]
    }
   ],
   "source": [
    "best_depth=0\n",
    "best_f1_2=0\n",
    "best_model_dt=None\n",
    "for depth in range(1, 20):\n",
    "    model = DecisionTreeClassifier(max_depth=depth,random_state=12345) \n",
    "    model.fit(features_upsampled, target_upsampled)\n",
    "    predicted_valid = model.predict(features_valid)\n",
    "    f1 = f1_score(target_valid, predicted_valid)\n",
    "    \n",
    "    if f1 > best_f1_2:\n",
    "        best_f1_2=f1\n",
    "        best_depth=depth\n",
    "        best_model_dt=model\n",
    "    \n",
    "\n",
    "print()\n",
    "print('Подбор гиперпарметров')\n",
    "print('best depth=',best_depth,':',best_f1_2,)\n",
    "\n",
    "#model_core_dt=best_model_dt.fit(features_upsampled, target_upsampled)\n",
    "#predicted_test=model_core_dt.predict(features_test)\n",
    "#print()\n",
    "#print('Метрики на тестовой выборке')\n",
    "#print(\"F1:\", f1_score(target_test, predicted_test))\n",
    "#print(\"ROC_auc:\", roc_auc_score(target_test, predicted_test))"
   ]
  },
  {
   "cell_type": "markdown",
   "id": "ba28cf9d",
   "metadata": {},
   "source": [
    "### Выводы\n",
    "\n",
    "- Для случайного леса метрики значительно улучшись\n",
    "- Для решающего дерева метрики ухудшились - методика не подходит\n"
   ]
  },
  {
   "cell_type": "markdown",
   "id": "39040db1",
   "metadata": {},
   "source": [
    "## Борьба с дисалансом. Уменьшение выборки"
   ]
  },
  {
   "cell_type": "markdown",
   "id": "144eafea",
   "metadata": {},
   "source": [
    "### Функция для уменьшения выборки"
   ]
  },
  {
   "cell_type": "code",
   "execution_count": 16,
   "id": "7619dd98",
   "metadata": {},
   "outputs": [],
   "source": [
    "def downsample(features, target, fraction):\n",
    "    features_zeros = features[target == 0]\n",
    "    features_ones = features[target == 1]\n",
    "    target_zeros = target[target == 0]\n",
    "    target_ones = target[target == 1]\n",
    "\n",
    "    features_downsampled = pd.concat(\n",
    "        [features_zeros.sample(frac=fraction, random_state=12345)] + [features_ones])\n",
    "    target_downsampled = pd.concat(\n",
    "        [target_zeros.sample(frac=fraction, random_state=12345)] + [target_ones])\n",
    "    \n",
    "    features_downsampled, target_downsampled = shuffle(\n",
    "        features_downsampled, target_downsampled, random_state=12345)\n",
    "    \n",
    "    return features_downsampled, target_downsampled\n",
    "\n",
    "features_downsampled, target_downsampled = downsample(features_train, target_train, 0.1)"
   ]
  },
  {
   "cell_type": "markdown",
   "id": "072a468e",
   "metadata": {},
   "source": [
    "### Случайный лес"
   ]
  },
  {
   "cell_type": "code",
   "execution_count": 17,
   "id": "a70ffd09",
   "metadata": {},
   "outputs": [
    {
     "name": "stdout",
     "output_type": "stream",
     "text": [
      "\n",
      "Подбор гиперпарметров\n",
      "best estimators= 30 : 0.5014285714285714\n"
     ]
    }
   ],
   "source": [
    "best_estimators_1=0\n",
    "best_f1_1=0\n",
    "best_model_rfc=None\n",
    "for estimators in range(10, 50, 5):\n",
    "    model = RandomForestClassifier(n_estimators=estimators, random_state=12345)\n",
    "    model.fit(features_downsampled, target_downsampled)\n",
    "    predicted_valid = model.predict(features_valid)\n",
    "    f1 = f1_score(target_valid, predicted_valid)\n",
    "    \n",
    "    if f1 > best_f1_1:\n",
    "        best_f1_1=f1\n",
    "        best_estimators_1=estimators\n",
    "        best_model_rfc=model\n",
    "        \n",
    "print()\n",
    "print('Подбор гиперпарметров')\n",
    "print('best estimators=',best_estimators_1,':',best_f1_1,)\n",
    "\n",
    "#core_model_rfc=best_model_rfc.fit(features_downsampled, target_downsampled)\n",
    "#predicted_test=core_model_rfc.predict(features_test)\n",
    "#print()\n",
    "#print('Метрики на тестовой выборке')\n",
    "#print(\"F1:\", f1_score(target_test, predicted_test))\n",
    "#print(\"ROC_auc:\", roc_auc_score(target_test, predicted_test))"
   ]
  },
  {
   "cell_type": "markdown",
   "id": "65cb3588",
   "metadata": {},
   "source": [
    "### Решающее дерево"
   ]
  },
  {
   "cell_type": "code",
   "execution_count": 18,
   "id": "d4ac3329",
   "metadata": {},
   "outputs": [
    {
     "name": "stdout",
     "output_type": "stream",
     "text": [
      "\n",
      "Подбор гиперпарметров\n",
      "best depth= 2 : 0.5057096247960849\n"
     ]
    }
   ],
   "source": [
    "best_depth=0\n",
    "best_f1_2=0\n",
    "best_model_dt=None\n",
    "for depth in range(1, 20):\n",
    "    model = DecisionTreeClassifier(max_depth=depth,random_state=12345) \n",
    "    model.fit(features_downsampled, target_downsampled)\n",
    "    predicted_valid = model.predict(features_valid)\n",
    "    f1 = f1_score(target_valid, predicted_valid)\n",
    "    \n",
    "    if f1 > best_f1_2:\n",
    "        best_f1_2=f1\n",
    "        best_depth=depth\n",
    "        best_model_dt=model\n",
    "    \n",
    "\n",
    "print()\n",
    "print('Подбор гиперпарметров')\n",
    "print('best depth=',best_depth,':',best_f1_2,)\n",
    "\n",
    "#model_core_dt=best_model_dt.fit(features_downsampled, target_downsampled)\n",
    "#predicted_test=model_core_dt.predict(features_test)\n",
    "#print()\n",
    "#print('Метрики на тестовой выборке')\n",
    "#print(\"F1:\", f1_score(target_test, predicted_test))\n",
    "#print(\"ROC_auc:\", roc_auc_score(target_test, predicted_test))"
   ]
  },
  {
   "cell_type": "markdown",
   "id": "9b254b7e",
   "metadata": {},
   "source": [
    "### Выводы\n",
    "\n",
    "- Уменьшение выборки показало ухудшение метрик на всех моделях"
   ]
  },
  {
   "cell_type": "markdown",
   "id": "81ff9d4c",
   "metadata": {},
   "source": [
    "## Тестирование модели"
   ]
  },
  {
   "cell_type": "markdown",
   "id": "4d0dd892",
   "metadata": {},
   "source": [
    "Наилучшие результаты показала модель случайного леса после увеличения выборки - проверим ее на тестовой выборке"
   ]
  },
  {
   "cell_type": "code",
   "execution_count": 19,
   "id": "a5c0827c",
   "metadata": {},
   "outputs": [
    {
     "name": "stdout",
     "output_type": "stream",
     "text": [
      "\n",
      "Метрики на тестовой выборке\n",
      "F1: 0.5842349304482226\n",
      "ROC_auc: 0.8305076930171076\n"
     ]
    },
    {
     "data": {
      "image/png": "[encoded data removed]",
      "text/plain": [
       "<Figure size 640x480 with 1 Axes>"
      ]
     },
     "metadata": {},
     "output_type": "display_data"
    }
   ],
   "source": [
    "best_estimators_1=0\n",
    "best_f1_1=0\n",
    "best_model_rfc=None\n",
    "for estimators in range(10, 50, 5):\n",
    "    model = RandomForestClassifier(n_estimators=estimators, random_state=12345)\n",
    "    model.fit(features_upsampled, target_upsampled)\n",
    "    predicted_valid = model.predict(features_valid)\n",
    "    f1 = f1_score(target_valid, predicted_valid)\n",
    "    \n",
    "    if f1 > best_f1_1:\n",
    "        best_f1_1=f1\n",
    "        best_estimators_1=estimators\n",
    "        best_model_rfc=model\n",
    "        \n",
    "#print()\n",
    "#print('Подбор гиперпарметров')\n",
    "#print('best estimators=',best_estimators_1,':',best_f1_1,)\n",
    "\n",
    "core_model_rfc=best_model_rfc.fit(features_upsampled, target_upsampled)\n",
    "predicted_test=core_model_rfc.predict(features_test)\n",
    "print()\n",
    "print('Метрики на тестовой выборке')\n",
    "print(\"F1:\", f1_score(target_test, predicted_test))\n",
    "\n",
    "\n",
    "probabilities_test = core_model_rfc.predict_proba(features_test)\n",
    "probabilities_one_test = probabilities_test[:, 1]\n",
    "\n",
    "fpr, tpr, thresholds = roc_curve(target_test, probabilities_one_test) \n",
    "\n",
    "print(\"ROC_auc:\", roc_auc_score(target_test, probabilities_one_test))\n",
    "\n",
    "\n",
    "\n",
    "plt.figure()\n",
    "plt.plot([0, 1], [0, 1], linestyle='--')\n",
    "plt.xlim([0.0, 1.0])\n",
    "plt.ylim([0.0, 1.0])\n",
    "plt.plot(fpr, tpr)\n",
    "plt.xlabel('False Positive Rate')\n",
    "plt.ylabel('True Positive Rate')\n",
    "plt.title('ROC-кривая')\n",
    "plt.show()"
   ]
  },
  {
   "cell_type": "markdown",
   "id": "dd101585",
   "metadata": {},
   "source": [
    "## Выводы\n",
    "\n",
    "\n",
    "\n",
    "    "
   ]
  },
  {
   "cell_type": "markdown",
   "id": "67d67c46",
   "metadata": {},
   "source": [
    "- Был проведена загрузка и общий анализ данных, удалены лишние столбцы, закодированы категориальные признаки, выборка разделена на части, определен дисбаланс в данных\n",
    "- Обучение моделей без учета дисбаланса показало относительно низкие значения метрики F1\n",
    "- Были применены различные методы борьбы с дисбалансом (class_weight, уменьшение и увеличение выборок)\n",
    "- Для каждого варианта обучения моделей были оптимизированы гиперпараметры\n",
    "- Уменьшение выборки, в целом, показало худшие результаты из всех методик\n",
    "- **При финальном тестировании наилучшие значения метрик F1 и ROC_AUC показала модель случайного леса с увеличением выборки в 4 раза**"
   ]
  }
 ],
 "metadata": {
  "ExecuteTimeLog": [
   {
    "duration": 99,
    "start_time": "2022-10-03T04:02:37.911Z"
   },
   {
    "duration": 47,
    "start_time": "2022-10-03T04:08:18.420Z"
   },
   {
    "duration": 1235,
    "start_time": "2022-10-03T04:08:23.223Z"
   },
   {
    "duration": 9,
    "start_time": "2022-10-03T04:08:24.460Z"
   },
   {
    "duration": 13,
    "start_time": "2022-10-03T04:08:24.470Z"
   },
   {
    "duration": 22,
    "start_time": "2022-10-03T04:08:24.484Z"
   },
   {
    "duration": 3,
    "start_time": "2022-10-03T04:08:24.507Z"
   },
   {
    "duration": 9,
    "start_time": "2022-10-03T04:08:24.511Z"
   },
   {
    "duration": 6,
    "start_time": "2022-10-03T04:08:24.522Z"
   },
   {
    "duration": 7,
    "start_time": "2022-10-03T04:08:24.529Z"
   },
   {
    "duration": 1488,
    "start_time": "2022-10-03T04:08:24.537Z"
   },
   {
    "duration": 402,
    "start_time": "2022-10-03T04:08:26.027Z"
   },
   {
    "duration": 1439,
    "start_time": "2022-10-03T04:08:26.431Z"
   },
   {
    "duration": 401,
    "start_time": "2022-10-03T04:08:27.872Z"
   },
   {
    "duration": 16,
    "start_time": "2022-10-03T04:08:28.274Z"
   },
   {
    "duration": 3441,
    "start_time": "2022-10-03T04:08:28.292Z"
   },
   {
    "duration": 626,
    "start_time": "2022-10-03T04:08:31.735Z"
   },
   {
    "duration": 16,
    "start_time": "2022-10-03T04:08:32.363Z"
   },
   {
    "duration": 671,
    "start_time": "2022-10-03T04:08:32.381Z"
   },
   {
    "duration": 176,
    "start_time": "2022-10-03T04:08:33.054Z"
   },
   {
    "duration": 2996,
    "start_time": "2022-10-03T04:08:33.232Z"
   },
   {
    "duration": 2412,
    "start_time": "2022-10-03T04:09:27.305Z"
   },
   {
    "duration": 19,
    "start_time": "2022-10-03T04:11:33.267Z"
   },
   {
    "duration": 17,
    "start_time": "2022-10-03T04:11:59.693Z"
   },
   {
    "duration": 68,
    "start_time": "2022-10-03T04:12:10.100Z"
   },
   {
    "duration": 20,
    "start_time": "2022-10-03T04:12:17.778Z"
   },
   {
    "duration": 108,
    "start_time": "2022-10-03T04:14:31.383Z"
   },
   {
    "duration": 536,
    "start_time": "2022-10-03T04:14:48.265Z"
   },
   {
    "duration": 19,
    "start_time": "2022-10-03T04:15:04.315Z"
   },
   {
    "duration": 33,
    "start_time": "2022-10-03T04:16:31.345Z"
   },
   {
    "duration": 1059,
    "start_time": "2022-10-03T04:17:01.130Z"
   },
   {
    "duration": 18,
    "start_time": "2022-10-03T04:17:19.579Z"
   },
   {
    "duration": 19,
    "start_time": "2022-10-03T04:17:39.963Z"
   },
   {
    "duration": 16,
    "start_time": "2022-10-03T04:17:49.716Z"
   },
   {
    "duration": 15,
    "start_time": "2022-10-03T04:19:08.422Z"
   },
   {
    "duration": 15,
    "start_time": "2022-10-03T04:19:14.206Z"
   },
   {
    "duration": 69,
    "start_time": "2022-10-03T04:19:27.100Z"
   },
   {
    "duration": 1225,
    "start_time": "2022-10-03T04:19:41.546Z"
   },
   {
    "duration": 8,
    "start_time": "2022-10-03T04:19:42.773Z"
   },
   {
    "duration": 13,
    "start_time": "2022-10-03T04:19:42.783Z"
   },
   {
    "duration": 22,
    "start_time": "2022-10-03T04:19:42.798Z"
   },
   {
    "duration": 2,
    "start_time": "2022-10-03T04:19:42.823Z"
   },
   {
    "duration": 11,
    "start_time": "2022-10-03T04:19:42.827Z"
   },
   {
    "duration": 6,
    "start_time": "2022-10-03T04:19:42.840Z"
   },
   {
    "duration": 34,
    "start_time": "2022-10-03T04:19:42.848Z"
   },
   {
    "duration": 1494,
    "start_time": "2022-10-03T04:19:42.883Z"
   },
   {
    "duration": 401,
    "start_time": "2022-10-03T04:19:44.379Z"
   },
   {
    "duration": 1404,
    "start_time": "2022-10-03T04:19:44.782Z"
   },
   {
    "duration": 389,
    "start_time": "2022-10-03T04:19:46.187Z"
   },
   {
    "duration": 17,
    "start_time": "2022-10-03T04:19:46.577Z"
   },
   {
    "duration": 1908,
    "start_time": "2022-10-03T04:19:46.596Z"
   },
   {
    "duration": 466,
    "start_time": "2022-10-03T04:19:48.506Z"
   },
   {
    "duration": 12,
    "start_time": "2022-10-03T04:19:48.976Z"
   },
   {
    "duration": 618,
    "start_time": "2022-10-03T04:19:48.989Z"
   },
   {
    "duration": 162,
    "start_time": "2022-10-03T04:19:49.609Z"
   },
   {
    "duration": 2240,
    "start_time": "2022-10-03T04:19:49.777Z"
   },
   {
    "duration": 2384,
    "start_time": "2022-10-03T04:24:13.527Z"
   },
   {
    "duration": 2276,
    "start_time": "2022-10-03T04:25:06.574Z"
   },
   {
    "duration": 2248,
    "start_time": "2022-10-03T04:25:26.906Z"
   },
   {
    "duration": 2341,
    "start_time": "2022-10-03T04:25:44.693Z"
   },
   {
    "duration": 1219,
    "start_time": "2022-10-03T04:25:58.061Z"
   },
   {
    "duration": 9,
    "start_time": "2022-10-03T04:25:59.282Z"
   },
   {
    "duration": 15,
    "start_time": "2022-10-03T04:25:59.292Z"
   },
   {
    "duration": 24,
    "start_time": "2022-10-03T04:25:59.308Z"
   },
   {
    "duration": 3,
    "start_time": "2022-10-03T04:25:59.335Z"
   },
   {
    "duration": 47,
    "start_time": "2022-10-03T04:25:59.340Z"
   },
   {
    "duration": 7,
    "start_time": "2022-10-03T04:25:59.390Z"
   },
   {
    "duration": 13,
    "start_time": "2022-10-03T04:25:59.398Z"
   },
   {
    "duration": 1467,
    "start_time": "2022-10-03T04:25:59.413Z"
   },
   {
    "duration": 397,
    "start_time": "2022-10-03T04:26:00.882Z"
   },
   {
    "duration": 1378,
    "start_time": "2022-10-03T04:26:01.281Z"
   },
   {
    "duration": 432,
    "start_time": "2022-10-03T04:26:02.661Z"
   },
   {
    "duration": 15,
    "start_time": "2022-10-03T04:26:03.095Z"
   },
   {
    "duration": 1883,
    "start_time": "2022-10-03T04:26:03.112Z"
   },
   {
    "duration": 499,
    "start_time": "2022-10-03T04:26:04.997Z"
   },
   {
    "duration": 10,
    "start_time": "2022-10-03T04:26:05.498Z"
   },
   {
    "duration": 622,
    "start_time": "2022-10-03T04:26:05.509Z"
   },
   {
    "duration": 165,
    "start_time": "2022-10-03T04:26:06.132Z"
   },
   {
    "duration": 2399,
    "start_time": "2022-10-03T04:26:06.298Z"
   },
   {
    "duration": 2434,
    "start_time": "2022-10-03T04:27:57.777Z"
   },
   {
    "duration": 2261,
    "start_time": "2022-10-03T04:29:09.139Z"
   },
   {
    "duration": 2312,
    "start_time": "2022-10-03T04:30:08.819Z"
   },
   {
    "duration": 2352,
    "start_time": "2022-10-03T04:31:36.301Z"
   },
   {
    "duration": 1664,
    "start_time": "2022-10-03T04:31:55.774Z"
   },
   {
    "duration": 10,
    "start_time": "2022-10-03T04:31:57.440Z"
   },
   {
    "duration": 15,
    "start_time": "2022-10-03T04:31:57.452Z"
   },
   {
    "duration": 25,
    "start_time": "2022-10-03T04:31:57.468Z"
   },
   {
    "duration": 2,
    "start_time": "2022-10-03T04:31:57.496Z"
   },
   {
    "duration": 12,
    "start_time": "2022-10-03T04:31:57.499Z"
   },
   {
    "duration": 8,
    "start_time": "2022-10-03T04:31:57.512Z"
   },
   {
    "duration": 10,
    "start_time": "2022-10-03T04:31:57.522Z"
   },
   {
    "duration": 1530,
    "start_time": "2022-10-03T04:31:57.533Z"
   },
   {
    "duration": 449,
    "start_time": "2022-10-03T04:31:59.065Z"
   },
   {
    "duration": 1419,
    "start_time": "2022-10-03T04:31:59.516Z"
   },
   {
    "duration": 392,
    "start_time": "2022-10-03T04:32:00.937Z"
   },
   {
    "duration": 15,
    "start_time": "2022-10-03T04:32:01.330Z"
   },
   {
    "duration": 1936,
    "start_time": "2022-10-03T04:32:01.348Z"
   },
   {
    "duration": 458,
    "start_time": "2022-10-03T04:32:03.286Z"
   },
   {
    "duration": 10,
    "start_time": "2022-10-03T04:32:03.746Z"
   },
   {
    "duration": 615,
    "start_time": "2022-10-03T04:32:03.757Z"
   },
   {
    "duration": 162,
    "start_time": "2022-10-03T04:32:04.374Z"
   },
   {
    "duration": 2455,
    "start_time": "2022-10-03T04:32:04.537Z"
   },
   {
    "duration": 55,
    "start_time": "2022-10-03T04:32:38.898Z"
   }
  ],
  "kernelspec": {
   "display_name": "Python 3 (ipykernel)",
   "language": "python",
   "name": "python3"
  },
  "language_info": {
   "codemirror_mode": {
    "name": "ipython",
    "version": 3
   },
   "file_extension": ".py",
   "mimetype": "text/x-python",
   "name": "python",
   "nbconvert_exporter": "python",
   "pygments_lexer": "ipython3",
   "version": "3.9.13"
  },
  "toc": {
   "base_numbering": 1,
   "nav_menu": {},
   "number_sections": true,
   "sideBar": true,
   "skip_h1_title": false,
   "title_cell": "Table of Contents",
   "title_sidebar": "Отток клиентов",
   "toc_cell": false,
   "toc_position": {
    "height": "693.636px",
    "left": "100px",
    "top": "111.051px",
    "width": "349.091px"
   },
   "toc_section_display": true,
   "toc_window_display": true
  }
 },
 "nbformat": 4,
 "nbformat_minor": 5
}
