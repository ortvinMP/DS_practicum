{
 "cells": [
  {
   "cell_type": "markdown",
   "id": "db051467",
   "metadata": {},
   "source": [
    "# Описание проекта\n",
    "\n",
    "- Оператор мобильной связи выяснил: многие клиенты пользуются архивными тарифами. Они хотят построить систему, способную проанализировать поведение клиентов и предложить пользователям новый тариф: «Смарт» или «Ультра».\n",
    "- В нашем распоряжении данные о поведении клиентов, которые уже перешли на эти тарифы. Необходимо построить модель для задачи классификации, которая выберет подходящий тариф.\n",
    "- Необходимо построить модель с максимально большим значением accuracy. Доля правильных ответов должна составлять по крайней мере 0.75"
   ]
  },
  {
   "cell_type": "markdown",
   "id": "a0d9899e",
   "metadata": {},
   "source": [
    "## Описание данных\n",
    "Каждый объект в наборе данных — это информация о поведении одного пользователя за месяц. Известно:\n",
    "\n",
    "- сalls — количество звонков,\n",
    "- minutes — суммарная длительность звонков в минутах,\n",
    "- messages — количество sms-сообщений,\n",
    "- mb_used — израсходованный интернет-трафик в Мб,\n",
    "- is_ultra — каким тарифом пользовался в течение месяца («Ультра» — 1, «Смарт» — 0)."
   ]
  },
  {
   "cell_type": "markdown",
   "id": "56a9ff26",
   "metadata": {},
   "source": [
    "# Выполнение проекта"
   ]
  },
  {
   "cell_type": "markdown",
   "id": "0ca1ccba",
   "metadata": {},
   "source": [
    "## Общая информация\n",
    "\n",
    "Импортируем нужные библиотеки\n"
   ]
  },
  {
   "cell_type": "code",
   "execution_count": 2,
   "id": "c04494e4",
   "metadata": {},
   "outputs": [],
   "source": [
    "import pandas as pd\n",
    "import numpy as np\n",
    "import matplotlib.pyplot as plt\n",
    "import seaborn as sns\n",
    "from scipy import stats as st\n",
    "from sklearn.ensemble import RandomForestClassifier\n",
    "from sklearn.model_selection import train_test_split\n",
    "from sklearn.tree import DecisionTreeClassifier\n",
    "from sklearn.metrics import accuracy_score\n",
    "from sklearn.linear_model import LogisticRegression\n",
    "import matplotlib.pyplot as plt\n",
    "\n"
   ]
  },
  {
   "cell_type": "markdown",
   "id": "09898d8d",
   "metadata": {},
   "source": [
    "Загрузим данные"
   ]
  },
  {
   "cell_type": "code",
   "execution_count": 3,
   "id": "fbd28ba2",
   "metadata": {},
   "outputs": [],
   "source": [
    "try:\n",
    "    df=pd.read_csv('C:/Users/kaz-106/YandexDisk/Py-projects/02_Practicum projects/05_Machine_learning_introduction/users_behavior.csv')\n",
    "except:\n",
    "    df=pd.read_csv('https://code.s3.yandex.net/datasets/users_behavior.csv')"
   ]
  },
  {
   "cell_type": "markdown",
   "id": "bcf63cbb",
   "metadata": {},
   "source": [
    "## Общий вид данных\n",
    "\n",
    "Изучим общий вид данных"
   ]
  },
  {
   "cell_type": "code",
   "execution_count": 4,
   "id": "79766f52",
   "metadata": {},
   "outputs": [
    {
     "name": "stdout",
     "output_type": "stream",
     "text": [
      "<class 'pandas.core.frame.DataFrame'>\n",
      "RangeIndex: 3214 entries, 0 to 3213\n",
      "Data columns (total 5 columns):\n",
      " #   Column    Non-Null Count  Dtype  \n",
      "---  ------    --------------  -----  \n",
      " 0   calls     3214 non-null   float64\n",
      " 1   minutes   3214 non-null   float64\n",
      " 2   messages  3214 non-null   float64\n",
      " 3   mb_used   3214 non-null   float64\n",
      " 4   is_ultra  3214 non-null   int64  \n",
      "dtypes: float64(4), int64(1)\n",
      "memory usage: 125.7 KB\n"
     ]
    },
    {
     "data": {
      "text/plain": [
       "None"
      ]
     },
     "metadata": {},
     "output_type": "display_data"
    },
    {
     "data": {
      "text/html": [
       "<div>\n",
       "<style scoped>\n",
       "    .dataframe tbody tr th:only-of-type {\n",
       "        vertical-align: middle;\n",
       "    }\n",
       "\n",
       "    .dataframe tbody tr th {\n",
       "        vertical-align: top;\n",
       "    }\n",
       "\n",
       "    .dataframe thead th {\n",
       "        text-align: right;\n",
       "    }\n",
       "</style>\n",
       "<table border=\"1\" class=\"dataframe\">\n",
       "  <thead>\n",
       "    <tr style=\"text-align: right;\">\n",
       "      <th></th>\n",
       "      <th>calls</th>\n",
       "      <th>minutes</th>\n",
       "      <th>messages</th>\n",
       "      <th>mb_used</th>\n",
       "      <th>is_ultra</th>\n",
       "    </tr>\n",
       "  </thead>\n",
       "  <tbody>\n",
       "    <tr>\n",
       "      <th>0</th>\n",
       "      <td>40.0</td>\n",
       "      <td>311.90</td>\n",
       "      <td>83.0</td>\n",
       "      <td>19915.42</td>\n",
       "      <td>0</td>\n",
       "    </tr>\n",
       "    <tr>\n",
       "      <th>1</th>\n",
       "      <td>85.0</td>\n",
       "      <td>516.75</td>\n",
       "      <td>56.0</td>\n",
       "      <td>22696.96</td>\n",
       "      <td>0</td>\n",
       "    </tr>\n",
       "    <tr>\n",
       "      <th>2</th>\n",
       "      <td>77.0</td>\n",
       "      <td>467.66</td>\n",
       "      <td>86.0</td>\n",
       "      <td>21060.45</td>\n",
       "      <td>0</td>\n",
       "    </tr>\n",
       "    <tr>\n",
       "      <th>3</th>\n",
       "      <td>106.0</td>\n",
       "      <td>745.53</td>\n",
       "      <td>81.0</td>\n",
       "      <td>8437.39</td>\n",
       "      <td>1</td>\n",
       "    </tr>\n",
       "    <tr>\n",
       "      <th>4</th>\n",
       "      <td>66.0</td>\n",
       "      <td>418.74</td>\n",
       "      <td>1.0</td>\n",
       "      <td>14502.75</td>\n",
       "      <td>0</td>\n",
       "    </tr>\n",
       "    <tr>\n",
       "      <th>5</th>\n",
       "      <td>58.0</td>\n",
       "      <td>344.56</td>\n",
       "      <td>21.0</td>\n",
       "      <td>15823.37</td>\n",
       "      <td>0</td>\n",
       "    </tr>\n",
       "    <tr>\n",
       "      <th>6</th>\n",
       "      <td>57.0</td>\n",
       "      <td>431.64</td>\n",
       "      <td>20.0</td>\n",
       "      <td>3738.90</td>\n",
       "      <td>1</td>\n",
       "    </tr>\n",
       "    <tr>\n",
       "      <th>7</th>\n",
       "      <td>15.0</td>\n",
       "      <td>132.40</td>\n",
       "      <td>6.0</td>\n",
       "      <td>21911.60</td>\n",
       "      <td>0</td>\n",
       "    </tr>\n",
       "    <tr>\n",
       "      <th>8</th>\n",
       "      <td>7.0</td>\n",
       "      <td>43.39</td>\n",
       "      <td>3.0</td>\n",
       "      <td>2538.67</td>\n",
       "      <td>1</td>\n",
       "    </tr>\n",
       "    <tr>\n",
       "      <th>9</th>\n",
       "      <td>90.0</td>\n",
       "      <td>665.41</td>\n",
       "      <td>38.0</td>\n",
       "      <td>17358.61</td>\n",
       "      <td>0</td>\n",
       "    </tr>\n",
       "  </tbody>\n",
       "</table>\n",
       "</div>"
      ],
      "text/plain": [
       "   calls  minutes  messages   mb_used  is_ultra\n",
       "0   40.0   311.90      83.0  19915.42         0\n",
       "1   85.0   516.75      56.0  22696.96         0\n",
       "2   77.0   467.66      86.0  21060.45         0\n",
       "3  106.0   745.53      81.0   8437.39         1\n",
       "4   66.0   418.74       1.0  14502.75         0\n",
       "5   58.0   344.56      21.0  15823.37         0\n",
       "6   57.0   431.64      20.0   3738.90         1\n",
       "7   15.0   132.40       6.0  21911.60         0\n",
       "8    7.0    43.39       3.0   2538.67         1\n",
       "9   90.0   665.41      38.0  17358.61         0"
      ]
     },
     "execution_count": 4,
     "metadata": {},
     "output_type": "execute_result"
    }
   ],
   "source": [
    "display(df.info())\n",
    "df.head(10)\n"
   ]
  },
  {
   "cell_type": "markdown",
   "id": "5bad7e3a",
   "metadata": {},
   "source": [
    "## Разделение данных на выборки\n",
    "\n",
    "Разделим данные на обучающую, валидационную и тестовую выборки. В данном случае у нас нет отдельной тестовой выборки, значит, данные нужно разбить на три части: обучающую, валидационную и тестовую.\n",
    "Размеры тестового и валидационного наборов обычно равны. Разобьем исходные данные в соотношении 60:20:20. Используем метод train_test_split дважды. Данный метод по умолчанию перемешивает данные, так что не нужно беспокоиться о стратификации"
   ]
  },
  {
   "cell_type": "code",
   "execution_count": 5,
   "id": "70012252",
   "metadata": {},
   "outputs": [
    {
     "name": "stdout",
     "output_type": "stream",
     "text": [
      "(1928, 5)\n",
      "(643, 5)\n",
      "(643, 5)\n"
     ]
    }
   ],
   "source": [
    "df_train, df_valid = train_test_split(df, test_size=0.2,train_size=0.8,random_state=123)\n",
    "df_train, df_test = train_test_split(df_train, test_size=0.25,train_size=0.75,random_state=123)\n",
    "\n",
    "print(df_train.shape)\n",
    "print(df_valid.shape)\n",
    "print(df_test.shape)"
   ]
  },
  {
   "cell_type": "markdown",
   "id": "4c47f59b",
   "metadata": {},
   "source": [
    "## Выделение признаков и целевых признаков"
   ]
  },
  {
   "cell_type": "code",
   "execution_count": 6,
   "id": "18957b84",
   "metadata": {},
   "outputs": [],
   "source": [
    "features_train = df_train.drop(['is_ultra'], axis=1)\n",
    "target_train = df_train['is_ultra']\n",
    "\n",
    "features_valid = df_valid.drop(['is_ultra'], axis=1)\n",
    "target_valid = df_valid['is_ultra']\n",
    "\n",
    "features_test = df_test.drop(['is_ultra'], axis=1)\n",
    "target_test = df_test['is_ultra']"
   ]
  },
  {
   "cell_type": "markdown",
   "id": "77acf134",
   "metadata": {},
   "source": [
    "## Исследуем качесто разных моделей\n",
    "\n",
    "- Будем применять к данным разные модели, варьировать гиперпараметры и исследовать качество моделей\n",
    "- В данном проекте решается задача классификации, будем пробовать следующие модели:\n",
    "\n",
    "    1. Решаюшее дерево\n",
    "    2. Случайный лес\n",
    "    3. Логистическая регрессия"
   ]
  },
  {
   "cell_type": "markdown",
   "id": "5d00667b",
   "metadata": {},
   "source": [
    "### Решающее дерево\n",
    "\n",
    "У алгоритма решающего дерева есть следующие гиперпараметры:\n",
    "- max_depth — максимальная глубина дерева;\n",
    "- criterion — критерий разделения;\n",
    "- min_samples_split — минимальное число объектов в узле дерева, достаточное для дальнейшего разделения;\n",
    "- min_samples_leaf — минимальное число объектов в листьях дерева — нижних узлах с ответами\n",
    "\n",
    "В данном проекте исcледуем модель решающего дерева с различной глубиной деревьев. Построим график зависимости качества модели от глубины дерева - видно, что глубина более 10 не имеет смысла"
   ]
  },
  {
   "cell_type": "code",
   "execution_count": 7,
   "id": "e179b768",
   "metadata": {},
   "outputs": [
    {
     "data": {
      "image/png": "[encoded data removed]",
      "text/plain": [
       "<Figure size 640x480 with 1 Axes>"
      ]
     },
     "metadata": {},
     "output_type": "display_data"
    },
    {
     "data": {
      "image/png": "[encoded data removed]",
      "text/plain": [
       "<Figure size 640x480 with 1 Axes>"
      ]
     },
     "metadata": {},
     "output_type": "display_data"
    },
    {
     "name": "stdout",
     "output_type": "stream",
     "text": [
      "\n",
      "Accuracy наилучшей модели на валидационной выборке: 0.8055987558320373\n",
      "\n",
      "Wall time: 682 ms\n"
     ]
    }
   ],
   "source": [
    "%%time\n",
    "\n",
    "best_model_1 = None\n",
    "best_result_1 = 0\n",
    "\n",
    "x_axis_1=[]\n",
    "y_axis_1=[]\n",
    "\n",
    "x_axis_1t=[]\n",
    "y_axis_1t=[]\n",
    "\n",
    "for depth in range(1,50):\n",
    "    model_1 = DecisionTreeClassifier(random_state=12345, max_depth=depth) # обучим модель с заданной глубиной дерева\n",
    "    model_1.fit(features_train,target_train) # обучим модель на тренировочной выборке\n",
    "    \n",
    "    predictions_train=model_1.predict(features_train)\n",
    "    \n",
    "    y_axis_1t.append(accuracy_score(target_train, predictions_train))\n",
    "    x_axis_1t.append(depth)\n",
    "    \n",
    "    \n",
    "    result_1 = model_1.score(features_valid,target_valid) # посчитаем качество модели на валидационной выборке\n",
    "    \n",
    "    predictions_valid = model_1.predict(features_valid)\n",
    "    #print(\"max_depth =\", depth, \": \", end='')\n",
    "    #print(accuracy_score(target_valid, predictions_valid))\n",
    "    y_axis_1.append(accuracy_score(target_valid, predictions_valid))\n",
    "    x_axis_1.append(depth)\n",
    "    \n",
    "    if result_1 > best_result_1:\n",
    "        best_model_1 = model_1 #сохраним наилучшую модель\n",
    "        best_result_1 = result_1  #сохраним наилучшее значение метрики accuracy на валидационных данных\n",
    "       \n",
    "plt.plot(x_axis_1,y_axis_1)\n",
    "plt.title('Accuracy / Depth (valid)', fontsize=17)\n",
    "plt.show()\n",
    "\n",
    "plt.plot(x_axis_1t,y_axis_1t)\n",
    "plt.title('Accuracy / Depth (train)', fontsize=17)\n",
    "plt.show()\n",
    "        \n",
    "print('')\n",
    "print(\"Accuracy наилучшей модели на валидационной выборке:\", best_result_1)\n",
    "print('')"
   ]
  },
  {
   "cell_type": "markdown",
   "id": "4d495c2f",
   "metadata": {},
   "source": [
    "### Случайный лес\n",
    "\n",
    "Иследуем модель случайного леса с различным количеством деревьев "
   ]
  },
  {
   "cell_type": "code",
   "execution_count": 8,
   "id": "404bb6bc",
   "metadata": {
    "scrolled": true
   },
   "outputs": [
    {
     "data": {
      "image/png": "[encoded data removed]",
      "text/plain": [
       "<Figure size 640x480 with 1 Axes>"
      ]
     },
     "metadata": {},
     "output_type": "display_data"
    },
    {
     "data": {
      "image/png": "[encoded data removed]",
      "text/plain": [
       "<Figure size 640x480 with 1 Axes>"
      ]
     },
     "metadata": {},
     "output_type": "display_data"
    },
    {
     "name": "stdout",
     "output_type": "stream",
     "text": [
      "\n",
      "Accuracy наилучшей модели на валидационной выборке: 0.8102643856920684\n",
      "\n",
      "Wall time: 4.65 s\n"
     ]
    }
   ],
   "source": [
    "%%time\n",
    "\n",
    "best_model_2 = None\n",
    "best_result_2 = 0\n",
    "\n",
    "x_axis_2=[]\n",
    "y_axis_2=[]\n",
    "\n",
    "x_axis_2t=[]\n",
    "y_axis_2t=[]\n",
    "\n",
    "for est in range(1, 50):\n",
    "    model_2 = RandomForestClassifier(random_state=12345, n_estimators=est) # обучим модель с заданным количеством деревьев\n",
    "    model_2.fit(features_train,target_train) # обучим модель на тренировочной выборке\n",
    "    result_2 = model_2.score(features_valid,target_valid) # посчитаем качество модели на валидационной выборке\n",
    "    predictions_valid = model_2.predict(features_valid)\n",
    "    \n",
    "    predictions_train=model_2.predict(features_train)\n",
    "    \n",
    "    y_axis_2t.append(accuracy_score(target_train, predictions_train))\n",
    "    x_axis_2t.append(est)\n",
    "    \n",
    "    \n",
    "    y_axis_2.append(accuracy_score(target_valid, predictions_valid))\n",
    "    x_axis_2.append(est)\n",
    "    \n",
    "    \n",
    "    if result_2 > best_result_2:\n",
    "        best_model_2 = model_2 #сохраним наилучшую модель\n",
    "        best_result_2 = result_2  #сохраним наилучшее значение метрики accuracy на валидационных данных\n",
    "        \n",
    "plt.plot(x_axis_2,y_axis_2)\n",
    "plt.title('Accuracy / Trees (valid)', fontsize=17)\n",
    "plt.show()       \n",
    "\n",
    "plt.plot(x_axis_2t,y_axis_2t)\n",
    "plt.title('Accuracy / Trees (train)', fontsize=17)\n",
    "plt.show()\n",
    "        \n",
    "        \n",
    "print('')\n",
    "print(\"Accuracy наилучшей модели на валидационной выборке:\", best_result_2)\n",
    "print('')\n"
   ]
  },
  {
   "cell_type": "markdown",
   "id": "e559b30a",
   "metadata": {},
   "source": [
    "### Логистическия регрессия\n",
    "\n",
    "Исследуем модель логистической регрессии\n",
    "\n",
    "Гиперпараметры: \n",
    "- solver='lbfgs' - алгоритм, который будет строить модель, алгоритм 'lbfgs' — один из самых распространённых. Он подходит для большинства задач.\n",
    "- max_iter=1000 - максимальное количество итераций обучения.\n"
   ]
  },
  {
   "cell_type": "code",
   "execution_count": 9,
   "id": "b264334d",
   "metadata": {},
   "outputs": [
    {
     "name": "stdout",
     "output_type": "stream",
     "text": [
      "\n",
      "Accuracy наилучшей модели на валидационной выборке: 0.7511664074650077\n",
      "\n",
      "Wall time: 130 ms\n"
     ]
    }
   ],
   "source": [
    "%%time\n",
    "\n",
    "model_3 = LogisticRegression(random_state=12345, solver='lbfgs', max_iter=1000) \n",
    "model_3.fit(features_train,target_train) \n",
    "result_3 = model_3.score(features_valid,target_valid)\n",
    "print('')\n",
    "print(\"Accuracy наилучшей модели на валидационной выборке:\", result_3)\n",
    "print('')\n"
   ]
  },
  {
   "cell_type": "markdown",
   "id": "b3b75cab",
   "metadata": {},
   "source": [
    "### Проверка качества модели на тестовой выборке\n",
    "\n",
    "Наилучшую точность показала модель случайного леса. Отметим, что для нее затраты CPU time гораздо выше, чем для решающего дерева. Проверим ее на тестовой выборке"
   ]
  },
  {
   "cell_type": "code",
   "execution_count": 11,
   "id": "40d15fab",
   "metadata": {},
   "outputs": [
    {
     "name": "stdout",
     "output_type": "stream",
     "text": [
      "\n",
      "Accuracy наилучшей модели на тестовой выборке: 0.7853810264385692\n"
     ]
    }
   ],
   "source": [
    "predictions_test=model_2.predict(features_test)\n",
    "print('')\n",
    "print(\"Accuracy наилучшей модели на тестовой выборке:\",accuracy_score(target_test, predictions_test))"
   ]
  },
  {
   "cell_type": "markdown",
   "id": "5282411a",
   "metadata": {},
   "source": [
    "### Выводы"
   ]
  },
  {
   "cell_type": "markdown",
   "id": "8f8f4c96",
   "metadata": {},
   "source": [
    "- Была выполнено исследование качества различных моделей машинного обучения, применимых к задаче классификации: решающее дерево, случайный лес, логистическая регрессия\n",
    "- Модели были оптимизированны на валидационных данных с использованием различных гиперпараметров\n",
    "- Была произведена проверка точности лучшей модели на тестовых данных:\n",
    "1. Лучшая модель - случайный лес (наивысшая точность, однако высокие затраты CPU time)\n",
    "2. Точности модели на тестовых данных выше 0.75, что удовлетворяет требованиям данного проекта\n",
    "\n",
    "   "
   ]
  }
 ],
 "metadata": {
  "ExecuteTimeLog": [
   {
    "duration": 1308,
    "start_time": "2022-09-05T12:07:18.744Z"
   },
   {
    "duration": 25,
    "start_time": "2022-09-05T12:07:20.054Z"
   },
   {
    "duration": 1499,
    "start_time": "2022-09-05T12:07:20.080Z"
   },
   {
    "duration": 6,
    "start_time": "2022-09-05T12:07:21.582Z"
   },
   {
    "duration": 203,
    "start_time": "2022-09-05T12:07:21.590Z"
   },
   {
    "duration": 282,
    "start_time": "2022-09-05T12:07:21.794Z"
   },
   {
    "duration": 51,
    "start_time": "2022-09-05T12:07:22.078Z"
   },
   {
    "duration": 1142,
    "start_time": "2022-09-05T13:05:20.211Z"
   },
   {
    "duration": 1982,
    "start_time": "2022-09-05T13:05:27.620Z"
   },
   {
    "duration": 29,
    "start_time": "2022-09-05T13:05:29.605Z"
   },
   {
    "duration": 285,
    "start_time": "2022-09-05T13:05:29.636Z"
   },
   {
    "duration": 9,
    "start_time": "2022-09-05T13:05:29.924Z"
   },
   {
    "duration": 148,
    "start_time": "2022-09-05T13:05:29.936Z"
   },
   {
    "duration": 321,
    "start_time": "2022-09-05T13:05:30.086Z"
   },
   {
    "duration": 50,
    "start_time": "2022-09-05T13:05:30.411Z"
   },
   {
    "duration": 101,
    "start_time": "2022-09-05T13:08:33.349Z"
   },
   {
    "duration": 133,
    "start_time": "2022-09-05T13:11:35.104Z"
   },
   {
    "duration": 12,
    "start_time": "2022-09-05T13:15:12.792Z"
   },
   {
    "duration": 37,
    "start_time": "2022-09-05T13:15:19.961Z"
   },
   {
    "duration": 40,
    "start_time": "2022-09-05T13:15:32.135Z"
   },
   {
    "duration": 10,
    "start_time": "2022-09-05T13:15:55.729Z"
   },
   {
    "duration": 40,
    "start_time": "2022-09-05T13:16:09.458Z"
   },
   {
    "duration": 20,
    "start_time": "2022-09-05T13:17:11.824Z"
   },
   {
    "duration": 7,
    "start_time": "2022-09-05T13:18:11.049Z"
   },
   {
    "duration": 72,
    "start_time": "2022-09-05T13:19:14.626Z"
   },
   {
    "duration": 85,
    "start_time": "2022-09-05T13:20:08.263Z"
   },
   {
    "duration": 147,
    "start_time": "2022-09-05T13:21:53.021Z"
   },
   {
    "duration": 83,
    "start_time": "2022-09-05T13:22:09.488Z"
   },
   {
    "duration": 86,
    "start_time": "2022-09-05T13:22:21.571Z"
   },
   {
    "duration": 315,
    "start_time": "2022-09-05T13:22:53.239Z"
   },
   {
    "duration": 360,
    "start_time": "2022-09-05T13:22:59.390Z"
   },
   {
    "duration": 113,
    "start_time": "2022-09-05T13:24:20.829Z"
   },
   {
    "duration": 41,
    "start_time": "2022-09-05T13:25:28.157Z"
   },
   {
    "duration": 87,
    "start_time": "2022-09-05T13:25:48.615Z"
   },
   {
    "duration": 83,
    "start_time": "2022-09-05T13:26:27.478Z"
   },
   {
    "duration": 7,
    "start_time": "2022-09-05T13:27:57.150Z"
   },
   {
    "duration": 42,
    "start_time": "2022-09-05T13:31:43.344Z"
   },
   {
    "duration": 260,
    "start_time": "2022-09-05T13:35:23.202Z"
   },
   {
    "duration": 71,
    "start_time": "2022-09-05T13:35:49.735Z"
   },
   {
    "duration": 91,
    "start_time": "2022-09-05T13:36:48.403Z"
   },
   {
    "duration": 1539,
    "start_time": "2022-09-05T13:39:11.375Z"
   },
   {
    "duration": 1948,
    "start_time": "2022-09-05T13:41:37.221Z"
   },
   {
    "duration": 218,
    "start_time": "2022-09-05T13:42:01.729Z"
   },
   {
    "duration": 112,
    "start_time": "2022-09-05T13:42:20.245Z"
   },
   {
    "duration": 111,
    "start_time": "2022-09-05T13:43:26.330Z"
   },
   {
    "duration": 212,
    "start_time": "2022-09-05T13:43:41.706Z"
   },
   {
    "duration": 103,
    "start_time": "2022-09-05T13:44:53.845Z"
   },
   {
    "duration": 199,
    "start_time": "2022-09-05T13:47:07.434Z"
   },
   {
    "duration": 195,
    "start_time": "2022-09-05T13:52:09.932Z"
   },
   {
    "duration": 202,
    "start_time": "2022-09-05T13:52:24.333Z"
   },
   {
    "duration": 206,
    "start_time": "2022-09-05T13:54:43.635Z"
   },
   {
    "duration": 268,
    "start_time": "2022-09-05T13:55:01.782Z"
   },
   {
    "duration": 565,
    "start_time": "2022-09-05T13:55:19.327Z"
   },
   {
    "duration": 206,
    "start_time": "2022-09-05T13:55:30.170Z"
   },
   {
    "duration": 166,
    "start_time": "2022-09-05T13:55:54.366Z"
   },
   {
    "duration": 200,
    "start_time": "2022-09-05T13:56:03.275Z"
   },
   {
    "duration": 1615,
    "start_time": "2022-09-06T07:23:54.001Z"
   },
   {
    "duration": 208,
    "start_time": "2022-09-06T07:23:55.618Z"
   },
   {
    "duration": 25,
    "start_time": "2022-09-06T07:23:55.827Z"
   },
   {
    "duration": 8,
    "start_time": "2022-09-06T07:23:55.854Z"
   },
   {
    "duration": 18,
    "start_time": "2022-09-06T07:23:55.864Z"
   },
   {
    "duration": 236,
    "start_time": "2022-09-06T07:23:55.884Z"
   },
   {
    "duration": 255,
    "start_time": "2022-09-06T07:23:56.122Z"
   },
   {
    "duration": 49,
    "start_time": "2022-09-06T07:23:56.825Z"
   },
   {
    "duration": 13,
    "start_time": "2022-09-06T07:23:56.876Z"
   },
   {
    "duration": 0,
    "start_time": "2022-09-06T07:23:56.891Z"
   },
   {
    "duration": 189,
    "start_time": "2022-09-06T07:24:21.672Z"
   },
   {
    "duration": 275,
    "start_time": "2022-09-06T07:24:32.976Z"
   },
   {
    "duration": 89,
    "start_time": "2022-09-06T07:25:32.276Z"
   },
   {
    "duration": 117,
    "start_time": "2022-09-06T07:27:41.785Z"
   },
   {
    "duration": 309,
    "start_time": "2022-09-06T07:28:03.491Z"
   },
   {
    "duration": 198,
    "start_time": "2022-09-06T07:28:24.869Z"
   },
   {
    "duration": 214,
    "start_time": "2022-09-06T07:30:09.423Z"
   },
   {
    "duration": 193,
    "start_time": "2022-09-06T07:30:28.052Z"
   },
   {
    "duration": 3021,
    "start_time": "2022-09-06T07:30:43.161Z"
   },
   {
    "duration": 2559,
    "start_time": "2022-09-06T07:30:54.396Z"
   },
   {
    "duration": 664,
    "start_time": "2022-09-06T07:31:18.032Z"
   },
   {
    "duration": 654,
    "start_time": "2022-09-06T07:33:31.105Z"
   },
   {
    "duration": 713,
    "start_time": "2022-09-06T07:33:36.122Z"
   },
   {
    "duration": 791,
    "start_time": "2022-09-06T07:34:19.280Z"
   },
   {
    "duration": 670,
    "start_time": "2022-09-06T07:35:25.255Z"
   },
   {
    "duration": 680,
    "start_time": "2022-09-06T07:35:53.468Z"
   },
   {
    "duration": 693,
    "start_time": "2022-09-06T07:35:58.861Z"
   },
   {
    "duration": 458,
    "start_time": "2022-09-06T07:37:01.404Z"
   },
   {
    "duration": 391,
    "start_time": "2022-09-06T07:37:37.999Z"
   },
   {
    "duration": 87873,
    "start_time": "2022-09-06T07:37:48.947Z"
   },
   {
    "duration": 6144,
    "start_time": "2022-09-06T07:41:38.041Z"
   },
   {
    "duration": 5723,
    "start_time": "2022-09-06T07:42:14.019Z"
   },
   {
    "duration": 86,
    "start_time": "2022-09-06T07:46:40.919Z"
   },
   {
    "duration": 881,
    "start_time": "2022-09-06T07:46:52.302Z"
   },
   {
    "duration": 874,
    "start_time": "2022-09-06T07:47:10.850Z"
   },
   {
    "duration": 6503,
    "start_time": "2022-09-06T07:48:42.071Z"
   },
   {
    "duration": 6741,
    "start_time": "2022-09-06T07:49:03.971Z"
   },
   {
    "duration": 18,
    "start_time": "2022-09-06T13:28:43.434Z"
   },
   {
    "duration": 20,
    "start_time": "2022-09-06T13:29:49.702Z"
   },
   {
    "duration": 1721,
    "start_time": "2022-09-06T13:30:00.618Z"
   },
   {
    "duration": 252,
    "start_time": "2022-09-06T13:30:02.341Z"
   },
   {
    "duration": 28,
    "start_time": "2022-09-06T13:30:02.594Z"
   },
   {
    "duration": 10,
    "start_time": "2022-09-06T13:30:02.623Z"
   },
   {
    "duration": 12,
    "start_time": "2022-09-06T13:30:02.636Z"
   },
   {
    "duration": 963,
    "start_time": "2022-09-06T13:30:02.650Z"
   },
   {
    "duration": 6817,
    "start_time": "2022-09-06T13:30:03.615Z"
   },
   {
    "duration": 59,
    "start_time": "2022-09-06T13:30:10.434Z"
   },
   {
    "duration": 18,
    "start_time": "2022-09-06T13:30:10.496Z"
   },
   {
    "duration": 1548,
    "start_time": "2022-09-06T13:48:36.292Z"
   },
   {
    "duration": 146,
    "start_time": "2022-09-06T13:48:39.045Z"
   },
   {
    "duration": 22,
    "start_time": "2022-09-06T13:48:41.100Z"
   },
   {
    "duration": 117,
    "start_time": "2022-09-06T13:48:46.794Z"
   },
   {
    "duration": 14,
    "start_time": "2022-09-06T13:48:52.519Z"
   },
   {
    "duration": 15,
    "start_time": "2022-09-06T13:49:25.285Z"
   },
   {
    "duration": 13,
    "start_time": "2022-09-06T13:50:46.854Z"
   },
   {
    "duration": 4,
    "start_time": "2022-09-06T13:50:52.747Z"
   },
   {
    "duration": 79,
    "start_time": "2022-09-06T13:50:53.088Z"
   },
   {
    "duration": 23,
    "start_time": "2022-09-06T13:50:53.849Z"
   },
   {
    "duration": 10,
    "start_time": "2022-09-06T13:50:54.873Z"
   },
   {
    "duration": 16,
    "start_time": "2022-09-06T13:50:55.275Z"
   },
   {
    "duration": 893,
    "start_time": "2022-09-06T13:50:55.690Z"
   },
   {
    "duration": 6331,
    "start_time": "2022-09-06T13:50:56.589Z"
   },
   {
    "duration": 61,
    "start_time": "2022-09-06T13:51:02.922Z"
   },
   {
    "duration": 18,
    "start_time": "2022-09-06T13:51:02.985Z"
   }
  ],
  "kernelspec": {
   "display_name": "Python 3 (ipykernel)",
   "language": "python",
   "name": "python3"
  },
  "language_info": {
   "codemirror_mode": {
    "name": "ipython",
    "version": 3
   },
   "file_extension": ".py",
   "mimetype": "text/x-python",
   "name": "python",
   "nbconvert_exporter": "python",
   "pygments_lexer": "ipython3",
   "version": "3.9.13"
  },
  "toc": {
   "base_numbering": 1,
   "nav_menu": {},
   "number_sections": true,
   "sideBar": true,
   "skip_h1_title": false,
   "title_cell": "Table of Contents",
   "title_sidebar": "Рекомендация тарифов",
   "toc_cell": false,
   "toc_position": {
    "height": "calc(100% - 180px)",
    "left": "10px",
    "top": "150px",
    "width": "341.319px"
   },
   "toc_section_display": true,
   "toc_window_display": true
  }
 },
 "nbformat": 4,
 "nbformat_minor": 5
}
