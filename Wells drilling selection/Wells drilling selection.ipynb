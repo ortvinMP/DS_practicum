{
 "cells": [
  {
   "cell_type": "markdown",
   "id": "a64af81b",
   "metadata": {},
   "source": [
    "# Проект - выбор региона бурения\n",
    "\n",
    "Для добывающей компании необходимо решить, где бурить новую скважину.\n",
    "\n",
    "Шаги для выбора локации обычно такие:\n",
    "- В избранном регионе собирают характеристики для скважин: качество нефти и объём её запасов;\n",
    "- Строят модель для предсказания объёма запасов в новых скважинах;\n",
    "- Выбирают скважины с самыми высокими оценками значений;\n",
    "- Определяют регион с максимальной суммарной прибылью отобранных скважин.\n",
    "\n",
    "Нам предоставлены пробы нефти в трёх регионах. Характеристики для каждой скважины в регионе уже известны. Нужно построить модель для определения региона, где добыча принесёт наибольшую прибыль. Будем анализировать возможную прибыль и риски техникой Bootstrap."
   ]
  },
  {
   "cell_type": "markdown",
   "id": "26198c09",
   "metadata": {},
   "source": [
    "## Последовательность выполнения проекта\n",
    "\n",
    "- Загрузим и подготовим данные.\n",
    "\n",
    "- Обучим и проверим модель для каждого региона:\n",
    "\n",
    "    - Разделим данные на обучающую и валидационную выборки в соотношении 75:25.\n",
    "    - Обучим модель и сделаем предсказания на валидационной выборке.\n",
    "    - Сохраним предсказания и правильные ответы на валидационной выборке.\n",
    "    - Выведем на экран средний запас предсказанного сырья и RMSE модели.\n",
    "    - Проанализируем результаты.\n",
    "    \n",
    "- Подготовимся к расчёту прибыли:\n",
    "\n",
    "    - Все ключевые значения для расчётов сохраним в отдельных переменных.\n",
    "    - Рассчитаем достаточный объём сырья для безубыточной разработки новой скважины. Сравним полученный объём сырья со средним запасом в каждом регионе.\n",
    "    - Напишем выводы по этапу подготовки расчёта прибыли.\n",
    "    \n",
    "- Напишем функцию для расчёта прибыли по выбранным скважинам и предсказаниям модели:\n",
    "\n",
    "    - Выберем скважины с максимальными значениями предсказаний.\n",
    "    - Просуммируем целевое значение объёма сырья, соответствующее этим предсказаниям.\n",
    "    - Рассчитаем прибыль для полученного объёма сырья.\n",
    "    \n",
    "- Посчитаем риски и прибыль для каждого региона:\n",
    "\n",
    "    - Применим технику Bootstrap с 1000 выборок, чтобы найти распределение прибыли.\n",
    "    - Найдем среднюю прибыль, 95%-й доверительный интервал и риск убытков. Убыток — это отрицательная прибыль.\n",
    "    - Сделаем выводы: предложим регион для разработки скважин и обоснуем выбор."
   ]
  },
  {
   "cell_type": "markdown",
   "id": "8411190b",
   "metadata": {},
   "source": [
    "## Описание данных\n",
    "\n",
    "- Данные геологоразведки трёх регионов находятся в соотвествующих файлах\n",
    "- id — уникальный идентификатор скважины;\n",
    "- f0, f1, f2 — три признака точек (неважно, что они означают, но сами признаки значимы);\n",
    "- product — объём запасов в скважине (тыс. баррелей)."
   ]
  },
  {
   "cell_type": "markdown",
   "id": "982bb1e5",
   "metadata": {},
   "source": [
    "## Условия задачи\n",
    "\n",
    "- Для обучения модели подходит только линейная регрессия (остальные — недостаточно предсказуемые).\n",
    "- При разведке региона исследуют 500 точек, из которых с помощью машинного обучения выбирают 200 лучших для разработки.\n",
    "- Бюджет на разработку скважин в регионе — 10 млрд рублей.\n",
    "- При нынешних ценах один баррель сырья приносит 450 рублей дохода. Доход с каждой единицы продукта составляет 450 тыс. рублей, поскольку объём указан в тысячах баррелей.\n",
    "- После оценки рисков нужно оставить лишь те регионы, в которых вероятность убытков меньше 2.5%. Среди них выбирают регион с наибольшей средней прибылью.\n",
    "- Данные синтетические: детали контрактов и характеристики месторождений не разглашаются."
   ]
  },
  {
   "cell_type": "markdown",
   "id": "d37bbf7d",
   "metadata": {},
   "source": [
    "# Выполнение проекта"
   ]
  },
  {
   "cell_type": "markdown",
   "id": "7386c7d3",
   "metadata": {},
   "source": [
    "## Загрузка и общий анализ данных"
   ]
  },
  {
   "cell_type": "markdown",
   "id": "110499d6",
   "metadata": {},
   "source": [
    "### Загрузка данных"
   ]
  },
  {
   "cell_type": "code",
   "execution_count": 1,
   "id": "a1825cdf",
   "metadata": {},
   "outputs": [
    {
     "name": "stdout",
     "output_type": "stream",
     "text": [
      "<class 'pandas.core.frame.DataFrame'>\n",
      "RangeIndex: 100000 entries, 0 to 99999\n",
      "Data columns (total 5 columns):\n",
      " #   Column   Non-Null Count   Dtype  \n",
      "---  ------   --------------   -----  \n",
      " 0   id       100000 non-null  object \n",
      " 1   f0       100000 non-null  float64\n",
      " 2   f1       100000 non-null  float64\n",
      " 3   f2       100000 non-null  float64\n",
      " 4   product  100000 non-null  float64\n",
      "dtypes: float64(4), object(1)\n",
      "memory usage: 3.8+ MB\n",
      "None\n",
      "id          object\n",
      "f0         float64\n",
      "f1         float64\n",
      "f2         float64\n",
      "product    float64\n",
      "dtype: object\n"
     ]
    },
    {
     "data": {
      "text/html": [
       "<div>\n",
       "<style scoped>\n",
       "    .dataframe tbody tr th:only-of-type {\n",
       "        vertical-align: middle;\n",
       "    }\n",
       "\n",
       "    .dataframe tbody tr th {\n",
       "        vertical-align: top;\n",
       "    }\n",
       "\n",
       "    .dataframe thead th {\n",
       "        text-align: right;\n",
       "    }\n",
       "</style>\n",
       "<table border=\"1\" class=\"dataframe\">\n",
       "  <thead>\n",
       "    <tr style=\"text-align: right;\">\n",
       "      <th></th>\n",
       "      <th>id</th>\n",
       "      <th>f0</th>\n",
       "      <th>f1</th>\n",
       "      <th>f2</th>\n",
       "      <th>product</th>\n",
       "    </tr>\n",
       "  </thead>\n",
       "  <tbody>\n",
       "    <tr>\n",
       "      <th>0</th>\n",
       "      <td>txEyH</td>\n",
       "      <td>0.705745</td>\n",
       "      <td>-0.497823</td>\n",
       "      <td>1.221170</td>\n",
       "      <td>105.280062</td>\n",
       "    </tr>\n",
       "    <tr>\n",
       "      <th>1</th>\n",
       "      <td>2acmU</td>\n",
       "      <td>1.334711</td>\n",
       "      <td>-0.340164</td>\n",
       "      <td>4.365080</td>\n",
       "      <td>73.037750</td>\n",
       "    </tr>\n",
       "    <tr>\n",
       "      <th>2</th>\n",
       "      <td>409Wp</td>\n",
       "      <td>1.022732</td>\n",
       "      <td>0.151990</td>\n",
       "      <td>1.419926</td>\n",
       "      <td>85.265647</td>\n",
       "    </tr>\n",
       "    <tr>\n",
       "      <th>3</th>\n",
       "      <td>iJLyR</td>\n",
       "      <td>-0.032172</td>\n",
       "      <td>0.139033</td>\n",
       "      <td>2.978566</td>\n",
       "      <td>168.620776</td>\n",
       "    </tr>\n",
       "    <tr>\n",
       "      <th>4</th>\n",
       "      <td>Xdl7t</td>\n",
       "      <td>1.988431</td>\n",
       "      <td>0.155413</td>\n",
       "      <td>4.751769</td>\n",
       "      <td>154.036647</td>\n",
       "    </tr>\n",
       "  </tbody>\n",
       "</table>\n",
       "</div>"
      ],
      "text/plain": [
       "      id        f0        f1        f2     product\n",
       "0  txEyH  0.705745 -0.497823  1.221170  105.280062\n",
       "1  2acmU  1.334711 -0.340164  4.365080   73.037750\n",
       "2  409Wp  1.022732  0.151990  1.419926   85.265647\n",
       "3  iJLyR -0.032172  0.139033  2.978566  168.620776\n",
       "4  Xdl7t  1.988431  0.155413  4.751769  154.036647"
      ]
     },
     "metadata": {},
     "output_type": "display_data"
    },
    {
     "name": "stdout",
     "output_type": "stream",
     "text": [
      "<class 'pandas.core.frame.DataFrame'>\n",
      "RangeIndex: 100000 entries, 0 to 99999\n",
      "Data columns (total 5 columns):\n",
      " #   Column   Non-Null Count   Dtype  \n",
      "---  ------   --------------   -----  \n",
      " 0   id       100000 non-null  object \n",
      " 1   f0       100000 non-null  float64\n",
      " 2   f1       100000 non-null  float64\n",
      " 3   f2       100000 non-null  float64\n",
      " 4   product  100000 non-null  float64\n",
      "dtypes: float64(4), object(1)\n",
      "memory usage: 3.8+ MB\n",
      "None\n",
      "id          object\n",
      "f0         float64\n",
      "f1         float64\n",
      "f2         float64\n",
      "product    float64\n",
      "dtype: object\n"
     ]
    },
    {
     "data": {
      "text/html": [
       "<div>\n",
       "<style scoped>\n",
       "    .dataframe tbody tr th:only-of-type {\n",
       "        vertical-align: middle;\n",
       "    }\n",
       "\n",
       "    .dataframe tbody tr th {\n",
       "        vertical-align: top;\n",
       "    }\n",
       "\n",
       "    .dataframe thead th {\n",
       "        text-align: right;\n",
       "    }\n",
       "</style>\n",
       "<table border=\"1\" class=\"dataframe\">\n",
       "  <thead>\n",
       "    <tr style=\"text-align: right;\">\n",
       "      <th></th>\n",
       "      <th>id</th>\n",
       "      <th>f0</th>\n",
       "      <th>f1</th>\n",
       "      <th>f2</th>\n",
       "      <th>product</th>\n",
       "    </tr>\n",
       "  </thead>\n",
       "  <tbody>\n",
       "    <tr>\n",
       "      <th>0</th>\n",
       "      <td>kBEdx</td>\n",
       "      <td>-15.001348</td>\n",
       "      <td>-8.276000</td>\n",
       "      <td>-0.005876</td>\n",
       "      <td>3.179103</td>\n",
       "    </tr>\n",
       "    <tr>\n",
       "      <th>1</th>\n",
       "      <td>62mP7</td>\n",
       "      <td>14.272088</td>\n",
       "      <td>-3.475083</td>\n",
       "      <td>0.999183</td>\n",
       "      <td>26.953261</td>\n",
       "    </tr>\n",
       "    <tr>\n",
       "      <th>2</th>\n",
       "      <td>vyE1P</td>\n",
       "      <td>6.263187</td>\n",
       "      <td>-5.948386</td>\n",
       "      <td>5.001160</td>\n",
       "      <td>134.766305</td>\n",
       "    </tr>\n",
       "    <tr>\n",
       "      <th>3</th>\n",
       "      <td>KcrkZ</td>\n",
       "      <td>-13.081196</td>\n",
       "      <td>-11.506057</td>\n",
       "      <td>4.999415</td>\n",
       "      <td>137.945408</td>\n",
       "    </tr>\n",
       "    <tr>\n",
       "      <th>4</th>\n",
       "      <td>AHL4O</td>\n",
       "      <td>12.702195</td>\n",
       "      <td>-8.147433</td>\n",
       "      <td>5.004363</td>\n",
       "      <td>134.766305</td>\n",
       "    </tr>\n",
       "  </tbody>\n",
       "</table>\n",
       "</div>"
      ],
      "text/plain": [
       "      id         f0         f1        f2     product\n",
       "0  kBEdx -15.001348  -8.276000 -0.005876    3.179103\n",
       "1  62mP7  14.272088  -3.475083  0.999183   26.953261\n",
       "2  vyE1P   6.263187  -5.948386  5.001160  134.766305\n",
       "3  KcrkZ -13.081196 -11.506057  4.999415  137.945408\n",
       "4  AHL4O  12.702195  -8.147433  5.004363  134.766305"
      ]
     },
     "metadata": {},
     "output_type": "display_data"
    },
    {
     "name": "stdout",
     "output_type": "stream",
     "text": [
      "<class 'pandas.core.frame.DataFrame'>\n",
      "RangeIndex: 100000 entries, 0 to 99999\n",
      "Data columns (total 5 columns):\n",
      " #   Column   Non-Null Count   Dtype  \n",
      "---  ------   --------------   -----  \n",
      " 0   id       100000 non-null  object \n",
      " 1   f0       100000 non-null  float64\n",
      " 2   f1       100000 non-null  float64\n",
      " 3   f2       100000 non-null  float64\n",
      " 4   product  100000 non-null  float64\n",
      "dtypes: float64(4), object(1)\n",
      "memory usage: 3.8+ MB\n",
      "None\n",
      "id          object\n",
      "f0         float64\n",
      "f1         float64\n",
      "f2         float64\n",
      "product    float64\n",
      "dtype: object\n"
     ]
    },
    {
     "data": {
      "text/html": [
       "<div>\n",
       "<style scoped>\n",
       "    .dataframe tbody tr th:only-of-type {\n",
       "        vertical-align: middle;\n",
       "    }\n",
       "\n",
       "    .dataframe tbody tr th {\n",
       "        vertical-align: top;\n",
       "    }\n",
       "\n",
       "    .dataframe thead th {\n",
       "        text-align: right;\n",
       "    }\n",
       "</style>\n",
       "<table border=\"1\" class=\"dataframe\">\n",
       "  <thead>\n",
       "    <tr style=\"text-align: right;\">\n",
       "      <th></th>\n",
       "      <th>id</th>\n",
       "      <th>f0</th>\n",
       "      <th>f1</th>\n",
       "      <th>f2</th>\n",
       "      <th>product</th>\n",
       "    </tr>\n",
       "  </thead>\n",
       "  <tbody>\n",
       "    <tr>\n",
       "      <th>0</th>\n",
       "      <td>fwXo0</td>\n",
       "      <td>-1.146987</td>\n",
       "      <td>0.963328</td>\n",
       "      <td>-0.828965</td>\n",
       "      <td>27.758673</td>\n",
       "    </tr>\n",
       "    <tr>\n",
       "      <th>1</th>\n",
       "      <td>WJtFt</td>\n",
       "      <td>0.262778</td>\n",
       "      <td>0.269839</td>\n",
       "      <td>-2.530187</td>\n",
       "      <td>56.069697</td>\n",
       "    </tr>\n",
       "    <tr>\n",
       "      <th>2</th>\n",
       "      <td>ovLUW</td>\n",
       "      <td>0.194587</td>\n",
       "      <td>0.289035</td>\n",
       "      <td>-5.586433</td>\n",
       "      <td>62.871910</td>\n",
       "    </tr>\n",
       "    <tr>\n",
       "      <th>3</th>\n",
       "      <td>q6cA6</td>\n",
       "      <td>2.236060</td>\n",
       "      <td>-0.553760</td>\n",
       "      <td>0.930038</td>\n",
       "      <td>114.572842</td>\n",
       "    </tr>\n",
       "    <tr>\n",
       "      <th>4</th>\n",
       "      <td>WPMUX</td>\n",
       "      <td>-0.515993</td>\n",
       "      <td>1.716266</td>\n",
       "      <td>5.899011</td>\n",
       "      <td>149.600746</td>\n",
       "    </tr>\n",
       "  </tbody>\n",
       "</table>\n",
       "</div>"
      ],
      "text/plain": [
       "      id        f0        f1        f2     product\n",
       "0  fwXo0 -1.146987  0.963328 -0.828965   27.758673\n",
       "1  WJtFt  0.262778  0.269839 -2.530187   56.069697\n",
       "2  ovLUW  0.194587  0.289035 -5.586433   62.871910\n",
       "3  q6cA6  2.236060 -0.553760  0.930038  114.572842\n",
       "4  WPMUX -0.515993  1.716266  5.899011  149.600746"
      ]
     },
     "metadata": {},
     "output_type": "display_data"
    }
   ],
   "source": [
    "import pandas as pd\n",
    "\n",
    "from sklearn.linear_model import LinearRegression\n",
    "from sklearn.model_selection import train_test_split\n",
    "from sklearn.metrics import mean_squared_error\n",
    "from sklearn.metrics import accuracy_score\n",
    "from math import sqrt\n",
    "import numpy as np\n",
    "from scipy import stats as st\n",
    "\n",
    "\n",
    "try:\n",
    "    df_0=pd.read_csv('C:/Users/kaz-106/YandexDisk/Py-projects/02_Practicum projects/07_Machine_learning_in_business/geo_data_0.csv')\n",
    "except:\n",
    "    df_0=pd.read_csv('/datasets/geo_data_0.csv')\n",
    "    \n",
    "try:\n",
    "    df_1=pd.read_csv('C:/Users/kaz-106/YandexDisk/Py-projects/02_Practicum projects/07_Machine_learning_in_business/geo_data_1.csv')\n",
    "except:\n",
    "    df_1=pd.read_csv('/datasets/geo_data_1.csv')    \n",
    "    \n",
    "try:\n",
    "    df_2=pd.read_csv('C:/Users/kaz-106/YandexDisk/Py-projects/02_Practicum projects/07_Machine_learning_in_business/geo_data_2.csv')\n",
    "except:\n",
    "    df_2=pd.read_csv('/geo_data_2.csv')    \n",
    "    \n",
    "df_all=[df_0,df_1,df_2]\n",
    "\n",
    "for data in df_all:\n",
    "    print(data.info())\n",
    "    print(data.dtypes)\n",
    "    display(data.head())\n",
    "\n",
    "    \n",
    "   "
   ]
  },
  {
   "cell_type": "markdown",
   "id": "d424cf7c",
   "metadata": {},
   "source": [
    "### Проверка пропуски\n",
    "\n",
    "- Из предыдущего шага видно, что в данных нет пропусков"
   ]
  },
  {
   "cell_type": "markdown",
   "id": "bd97cdae",
   "metadata": {},
   "source": [
    "### Проверка на дубликаты.\n",
    "\n",
    "- Есть несколько повторяющихся id - удалим их"
   ]
  },
  {
   "cell_type": "code",
   "execution_count": 2,
   "id": "375abe95",
   "metadata": {},
   "outputs": [
    {
     "name": "stdout",
     "output_type": "stream",
     "text": [
      "10\n",
      "4\n",
      "4\n"
     ]
    }
   ],
   "source": [
    "for data in df_all:\n",
    "    print(data['id'].duplicated().sum())\n",
    "   "
   ]
  },
  {
   "cell_type": "code",
   "execution_count": 3,
   "id": "52f1c605",
   "metadata": {},
   "outputs": [],
   "source": [
    "df_0=df_0.drop_duplicates(subset=['id'])\n",
    "df_1=df_1.drop_duplicates(subset=['id'])\n",
    "df_2=df_2.drop_duplicates(subset=['id'])\n",
    "df_all=[df_0,df_1,df_2]"
   ]
  },
  {
   "cell_type": "code",
   "execution_count": 4,
   "id": "16b24633",
   "metadata": {},
   "outputs": [
    {
     "name": "stdout",
     "output_type": "stream",
     "text": [
      "0\n",
      "0\n",
      "0\n"
     ]
    }
   ],
   "source": [
    "for data in df_all:\n",
    "    print(data['id'].duplicated().sum())"
   ]
  },
  {
   "cell_type": "markdown",
   "id": "fd5ca9bc",
   "metadata": {},
   "source": [
    "### Удаление лишних столбцов\n",
    "\n",
    "- Столбец Id не нужен для обучения модели - удалим его"
   ]
  },
  {
   "cell_type": "code",
   "execution_count": 5,
   "id": "30e06172",
   "metadata": {},
   "outputs": [],
   "source": [
    "df_0=df_0.drop('id',axis=1)\n",
    "\n",
    "df_1=df_1.drop('id',axis=1)\n",
    "\n",
    "df_2=df_2.drop('id',axis=1)\n"
   ]
  },
  {
   "cell_type": "markdown",
   "id": "396d0e25",
   "metadata": {},
   "source": [
    "## Обучение и проверка модели по регионам"
   ]
  },
  {
   "cell_type": "markdown",
   "id": "42bac091",
   "metadata": {},
   "source": [
    "### Разделение выборок\n",
    "\n",
    "- Разделим выборки на обучающие и валидационные"
   ]
  },
  {
   "cell_type": "code",
   "execution_count": 6,
   "id": "0fddf233",
   "metadata": {},
   "outputs": [
    {
     "name": "stdout",
     "output_type": "stream",
     "text": [
      "(74992, 4)\n",
      "\n",
      "(24998, 4)\n",
      "\n",
      "(74997, 4)\n",
      "\n",
      "(24999, 4)\n",
      "\n",
      "(74997, 4)\n",
      "\n",
      "(24999, 4)\n",
      "\n"
     ]
    }
   ],
   "source": [
    "train_0, valid_0 = train_test_split(df_0, test_size=0.25,train_size=0.75,random_state=12345)\n",
    "train_1, valid_1 = train_test_split(df_1, test_size=0.25,train_size=0.75,random_state=12345)\n",
    "train_2, valid_2 = train_test_split(df_2, test_size=0.25,train_size=0.75,random_state=12345)\n",
    "\n",
    "df_all_splitted=[train_0, valid_0, train_1, valid_1, train_2, valid_2]\n",
    "\n",
    "for data in df_all_splitted:\n",
    "    print(data.shape)\n",
    "    print()\n"
   ]
  },
  {
   "cell_type": "markdown",
   "id": "ada9d541",
   "metadata": {},
   "source": [
    "### Выделение признаков\n",
    "\n",
    "- Выделим признаки из обучающих и валидационных наборов по всем регионам"
   ]
  },
  {
   "cell_type": "code",
   "execution_count": 7,
   "id": "f60a2036",
   "metadata": {},
   "outputs": [],
   "source": [
    "features_train_0 = train_0.drop('product', axis=1)\n",
    "target_train_0 = train_0['product']\n",
    "\n",
    "features_valid_0 = valid_0.drop('product', axis=1)\n",
    "target_valid_0 = valid_0['product'] \n",
    "\n",
    "\n",
    "\n",
    "features_train_1 = train_1.drop('product', axis=1)\n",
    "target_train_1 = train_1['product']\n",
    "\n",
    "features_valid_1 = valid_1.drop('product', axis=1)\n",
    "target_valid_1 = valid_1['product'] \n",
    "\n",
    "\n",
    "\n",
    "features_train_2 = train_2.drop('product', axis=1)\n",
    "target_train_2 = train_2['product']\n",
    "\n",
    "features_valid_2 = valid_2.drop('product', axis=1)\n",
    "target_valid_2 = valid_2['product'] "
   ]
  },
  {
   "cell_type": "markdown",
   "id": "c2352875",
   "metadata": {},
   "source": [
    "### Обучение моделей"
   ]
  },
  {
   "cell_type": "markdown",
   "id": "6ee71a78",
   "metadata": {},
   "source": [
    "#### Регион 1"
   ]
  },
  {
   "cell_type": "code",
   "execution_count": 8,
   "id": "c3b602e7",
   "metadata": {},
   "outputs": [
    {
     "name": "stdout",
     "output_type": "stream",
     "text": [
      "Регион 1\n",
      "Модель линейной регрессии\n",
      "MSE = 1432.8895312377324\n",
      "RMSE = 37.853527328872964\n",
      "Среднее = 92.78915638280621\n"
     ]
    }
   ],
   "source": [
    "model_0 = LinearRegression()\n",
    "model_0.fit(features_train_0, target_train_0)\n",
    "predicted_valid_0 = model_0.predict(features_valid_0)\n",
    "mse_0 = mean_squared_error(target_valid_0, predicted_valid_0)\n",
    "rms_0 = sqrt(mse_0)\n",
    "\n",
    "print(\"Регион 1\")\n",
    "print(\"Модель линейной регрессии\")\n",
    "print(\"MSE =\", mse_0)\n",
    "print(\"RMSE =\", rms_0)\n",
    "print(\"Среднее =\", predicted_valid_0.mean())\n",
    "\n",
    "\n"
   ]
  },
  {
   "cell_type": "markdown",
   "id": "72b9cb4e",
   "metadata": {},
   "source": [
    "#### Регион 2"
   ]
  },
  {
   "cell_type": "code",
   "execution_count": 9,
   "id": "9afe37dc",
   "metadata": {},
   "outputs": [
    {
     "name": "stdout",
     "output_type": "stream",
     "text": [
      "Регион 2\n",
      "Модель линейной регрессии\n",
      "MSE = 0.7957697318650299\n",
      "RMSE = 0.8920592647717022\n",
      "Среднее = 69.17831957030432\n"
     ]
    }
   ],
   "source": [
    "model_1 = LinearRegression()\n",
    "model_1.fit(features_train_1, target_train_1)\n",
    "predicted_valid_1 = model_1.predict(features_valid_1)\n",
    "mse_1 = mean_squared_error(target_valid_1, predicted_valid_1)\n",
    "rms_1 = sqrt(mse_1)\n",
    "\n",
    "print(\"Регион 2\")\n",
    "print(\"Модель линейной регрессии\")\n",
    "print(\"MSE =\", mse_1)\n",
    "print(\"RMSE =\", rms_1)\n",
    "print(\"Среднее =\", predicted_valid_1.mean())"
   ]
  },
  {
   "cell_type": "markdown",
   "id": "79c271a3",
   "metadata": {},
   "source": [
    "#### Регион 3"
   ]
  },
  {
   "cell_type": "code",
   "execution_count": 10,
   "id": "52f5af15",
   "metadata": {},
   "outputs": [
    {
     "name": "stdout",
     "output_type": "stream",
     "text": [
      "Регион 3\n",
      "Модель линейной регрессии\n",
      "MSE = 1606.0738119304278\n",
      "RMSE = 40.07585073246016\n",
      "Среднее = 94.86572480562035\n"
     ]
    }
   ],
   "source": [
    "model_2 = LinearRegression()\n",
    "model_2.fit(features_train_2, target_train_2)\n",
    "\n",
    "predicted_valid_2 = model_2.predict(features_valid_2)\n",
    "mse_2 = mean_squared_error(target_valid_2, predicted_valid_2)\n",
    "rms_2 = sqrt(mse_2)\n",
    "\n",
    "\n",
    "print(\"Регион 3\")\n",
    "print(\"Модель линейной регрессии\")\n",
    "print(\"MSE =\", mse_2)\n",
    "print(\"RMSE =\", rms_2)\n",
    "print(\"Среднее =\", predicted_valid_2.mean())"
   ]
  },
  {
   "cell_type": "markdown",
   "id": "3882c375",
   "metadata": {},
   "source": [
    "### Выводы\n",
    "\n",
    "- Наибольшими запасами обладает регион 3, но в тоже время у него значительно большая ошибка\n",
    "- Чуть меньшие запасы в регионе 1, при меньшей ошибке\n",
    "- Регион 2 обладает самыми маленькими запасами"
   ]
  },
  {
   "cell_type": "markdown",
   "id": "57e460ed",
   "metadata": {},
   "source": [
    "## Подготовка к расчету прибыли"
   ]
  },
  {
   "cell_type": "markdown",
   "id": "dd22844d",
   "metadata": {},
   "source": [
    "### Ввод общих переменных"
   ]
  },
  {
   "cell_type": "code",
   "execution_count": 11,
   "id": "06d1ac5b",
   "metadata": {},
   "outputs": [],
   "source": [
    "HOLES_TOTAL=500 # общее количество исследуемых точек в регионе\n",
    "\n",
    "HOLES_SELECTION=200 # количество точек выбираемых для разработки\n",
    "\n",
    "TOTAL_BUDGET=10000000000 # общий бюджет на разработку скважин в регионе\n",
    "\n",
    "BARREL_REVENUE = 450 # доход с одного барреля\n",
    "\n",
    "PRODUCT_REVENUE = 450000 # доход с единицы продукта\n",
    "\n",
    "RISK_LEVEL = 0.025 # допустимый уровень риска возникновения убытков"
   ]
  },
  {
   "cell_type": "markdown",
   "id": "77441270",
   "metadata": {},
   "source": [
    "### Рассчет достаточного объёма сырья для безубыточной разработки новой скважины"
   ]
  },
  {
   "cell_type": "code",
   "execution_count": 12,
   "id": "c0fcff9c",
   "metadata": {},
   "outputs": [
    {
     "name": "stdout",
     "output_type": "stream",
     "text": [
      "Минимальный необходимый уровень запасов в скважине для разработки: 111.1\n",
      "\n",
      "Оценка рентабельности регионов по средним запасам\n",
      "\n",
      "Запас сырья в регионе 1 меньше необходимого на 18.3\n",
      "Запас сырья в регионе 2 меньше необходимого на 41.9\n",
      "Запас сырья в регионе 3 меньше необходимого на 16.2\n"
     ]
    }
   ],
   "source": [
    "one_hole_budget = TOTAL_BUDGET/HOLES_SELECTION\n",
    "\n",
    "one_hole_product_need = one_hole_budget/PRODUCT_REVENUE\n",
    "print('Минимальный необходимый уровень запасов в скважине для разработки:',round(one_hole_product_need,1))\n",
    "\n",
    "mean_oil_reserves=[predicted_valid_0.mean(),predicted_valid_1.mean(),predicted_valid_2.mean()]\n",
    "print()\n",
    "print('Оценка рентабельности регионов по средним запасам')\n",
    "print()\n",
    "def reserves_check(mean_reserves):\n",
    "    for i in range(len(mean_oil_reserves)):\n",
    "        if mean_reserves[i] < one_hole_product_need:\n",
    "            print(f'Запас сырья в регионе {i+1} меньше необходимого на {round(one_hole_product_need - mean_oil_reserves[i], 1)}')\n",
    "        else:\n",
    "            print(f'Запас сырья в регионе {i+1} большин необходимого на {round(mean_oil_reserves[i] - one_hole_product_need, 1)}')\n",
    "\n",
    "reserves_check(mean_oil_reserves)\n",
    "\n",
    "\n"
   ]
  },
  {
   "cell_type": "markdown",
   "id": "4b2cb05d",
   "metadata": {},
   "source": [
    "- Среднее значение уровня запасов во всех трех регионах ниже минимально необходимого уровня,"
   ]
  },
  {
   "cell_type": "markdown",
   "id": "5be00639",
   "metadata": {},
   "source": [
    "## Функция для расчета прибыли и рисков\n",
    "\n",
    "- Напишем соотвествущую функцию\n",
    "- Будем подавать на вход функции предсказания модели и целевые выборки\n",
    "- Выберем 200 самых богатых скважин"
   ]
  },
  {
   "cell_type": "code",
   "execution_count": 13,
   "id": "ddb7efc1",
   "metadata": {},
   "outputs": [],
   "source": [
    "def profit(target, predictions):\n",
    "    target = pd.Series(target).reset_index(drop=True)\n",
    "    predictions = pd.Series(predictions).reset_index(drop=True)\n",
    "    predictions_selection = predictions.sort_values(ascending=False)[:HOLES_SELECTION].index\n",
    "    selection = target[predictions_selection]\n",
    "    profit = (selection.sum() * PRODUCT_REVENUE) - TOTAL_BUDGET\n",
    "    return round(profit, 1)"
   ]
  },
  {
   "cell_type": "code",
   "execution_count": 14,
   "id": "46a8ba68",
   "metadata": {},
   "outputs": [
    {
     "name": "stdout",
     "output_type": "stream",
     "text": [
      "Прибыль в регионе 1: 3365187237.7\n"
     ]
    }
   ],
   "source": [
    "print('Прибыль в регионе 1:',profit(target_valid_0, predicted_valid_0))"
   ]
  },
  {
   "cell_type": "code",
   "execution_count": 15,
   "id": "a499ec24",
   "metadata": {},
   "outputs": [
    {
     "name": "stdout",
     "output_type": "stream",
     "text": [
      "Прибыль в регионе 2: 2415086696.7\n"
     ]
    }
   ],
   "source": [
    "print('Прибыль в регионе 2:',profit(target_valid_1, predicted_valid_1))"
   ]
  },
  {
   "cell_type": "code",
   "execution_count": 16,
   "id": "38633916",
   "metadata": {},
   "outputs": [
    {
     "name": "stdout",
     "output_type": "stream",
     "text": [
      "Прибыль в регионе 3: 2501283853.3\n"
     ]
    }
   ],
   "source": [
    "print('Прибыль в регионе 3:',profit(target_valid_2, predicted_valid_2))"
   ]
  },
  {
   "cell_type": "markdown",
   "id": "d46f883d",
   "metadata": {},
   "source": [
    "## Bootstrap для выбора региона"
   ]
  },
  {
   "cell_type": "markdown",
   "id": "da0212bd",
   "metadata": {},
   "source": [
    "### Общая функция"
   ]
  },
  {
   "cell_type": "code",
   "execution_count": 17,
   "id": "463063e9",
   "metadata": {},
   "outputs": [],
   "source": [
    "def profit_b(target, probabilities, count, sample_size):\n",
    "    state = np.random.RandomState(12345)\n",
    "    values = []\n",
    "    for i in range(count):\n",
    "        target_subsample = target.sample(n=sample_size, random_state=state, replace=True)\n",
    "        probs_subsample = probabilities[target_subsample.index]\n",
    "        \n",
    "        values.append(profit(target_subsample, probs_subsample))\n",
    "\n",
    "    values = pd.Series(values)\n",
    "    mean = values.mean()\n",
    "    risk = (values < 0).mean()\n",
    "    \n",
    "    lower = values.quantile(0.025)\n",
    "    upper = values.quantile(0.975)\n",
    "    quantile_interval = (lower, upper)\n",
    "    return round(mean,1), round(risk*100, 1), quantile_interval"
   ]
  },
  {
   "cell_type": "markdown",
   "id": "b0643815",
   "metadata": {},
   "source": [
    "### Регион 1"
   ]
  },
  {
   "cell_type": "code",
   "execution_count": 18,
   "id": "5e2c0a44",
   "metadata": {},
   "outputs": [
    {
     "name": "stdout",
     "output_type": "stream",
     "text": [
      "Регион 1\n",
      "\n",
      "Средняя выручка =  380613470.0\n",
      "95 %ый доверительный интервал по квантилям =  (-142942739.71, 890976833.81)\n",
      "Риск убытков: 7.7%\n"
     ]
    }
   ],
   "source": [
    "mean_0, risk_0, interval_0,  = profit_b(target_valid_0.reset_index(drop=True), predicted_valid_0, 1000, 500)\n",
    "print('Регион 1')\n",
    "print()\n",
    "print('Средняя выручка = ', mean_0)\n",
    "print('95 %ый доверительный интервал по квантилям = ', interval_0)\n",
    "print(f'Риск убытков: {risk_0}%')"
   ]
  },
  {
   "cell_type": "markdown",
   "id": "cfb31bed",
   "metadata": {},
   "source": [
    "### Регион 2"
   ]
  },
  {
   "cell_type": "code",
   "execution_count": 19,
   "id": "c767fe41",
   "metadata": {},
   "outputs": [
    {
     "name": "stdout",
     "output_type": "stream",
     "text": [
      "Регион 2\n",
      "\n",
      "Средняя выручка =  478484939.6\n",
      "95 %ый доверительный интервал по квантилям =  (89525124.9925, 866604745.5099999)\n",
      "Риск убытков: 1.2%\n"
     ]
    }
   ],
   "source": [
    "mean_1, risk_1, interval_1,  = profit_b(target_valid_1.reset_index(drop=True), predicted_valid_1, 1000, 500)\n",
    "print('Регион 2')\n",
    "print()\n",
    "print('Средняя выручка = ', mean_1)\n",
    "print('95 %ый доверительный интервал по квантилям = ', interval_1)\n",
    "print(f'Риск убытков: {risk_1}%')"
   ]
  },
  {
   "cell_type": "markdown",
   "id": "1e535ef0",
   "metadata": {},
   "source": [
    "### Регион 3"
   ]
  },
  {
   "cell_type": "code",
   "execution_count": 20,
   "id": "0cdc4f0b",
   "metadata": {},
   "outputs": [
    {
     "name": "stdout",
     "output_type": "stream",
     "text": [
      "Регион 3\n",
      "\n",
      "Средняя выручка =  330546258.0\n",
      "95 %ый доверительный интервал по квантилям =  (-190365733.89499998, 840467403.6174998)\n",
      "Риск убытков: 11.3%\n"
     ]
    }
   ],
   "source": [
    "mean_2, risk_2, interval_2,  = profit_b(target_valid_2.reset_index(drop=True), predicted_valid_2, 1000, 500)\n",
    "print('Регион 3')\n",
    "print()\n",
    "print('Средняя выручка = ', mean_2)\n",
    "print('95 %ый доверительный интервал по квантилям = ', interval_2)\n",
    "print(f'Риск убытков: {risk_2}%')"
   ]
  },
  {
   "cell_type": "markdown",
   "id": "2767d2aa",
   "metadata": {},
   "source": [
    "## Выводы"
   ]
  },
  {
   "cell_type": "markdown",
   "id": "33907d90",
   "metadata": {},
   "source": [
    "- По результатам применения техники Bootstrap следует разрабатывать скважины в регионе 2. Там наибольшая средняя выручка, лучшие значения 95% доверительного интервала и низкий риск убытков"
   ]
  }
 ],
 "metadata": {
  "ExecuteTimeLog": [
   {
    "duration": 12,
    "start_time": "2022-10-07T12:08:05.039Z"
   },
   {
    "duration": 4,
    "start_time": "2022-10-07T12:08:08.451Z"
   },
   {
    "duration": 2776,
    "start_time": "2022-10-07T12:10:19.283Z"
   },
   {
    "duration": 67,
    "start_time": "2022-10-07T12:10:22.062Z"
   },
   {
    "duration": 90,
    "start_time": "2022-10-07T12:10:22.131Z"
   },
   {
    "duration": 59,
    "start_time": "2022-10-07T12:10:22.223Z"
   },
   {
    "duration": 9,
    "start_time": "2022-10-07T12:10:22.286Z"
   },
   {
    "duration": 66,
    "start_time": "2022-10-07T12:10:22.298Z"
   },
   {
    "duration": 19,
    "start_time": "2022-10-07T12:10:22.366Z"
   },
   {
    "duration": 141,
    "start_time": "2022-10-07T12:10:22.387Z"
   },
   {
    "duration": 111,
    "start_time": "2022-10-07T12:10:22.533Z"
   },
   {
    "duration": 176,
    "start_time": "2022-10-07T12:10:22.646Z"
   },
   {
    "duration": 101,
    "start_time": "2022-10-07T12:10:22.823Z"
   },
   {
    "duration": 22,
    "start_time": "2022-10-07T12:10:22.926Z"
   },
   {
    "duration": 12,
    "start_time": "2022-10-07T12:10:22.951Z"
   },
   {
    "duration": 129,
    "start_time": "2022-10-07T12:10:22.966Z"
   },
   {
    "duration": 0,
    "start_time": "2022-10-07T12:10:23.097Z"
   },
   {
    "duration": 0,
    "start_time": "2022-10-07T12:10:23.098Z"
   },
   {
    "duration": 0,
    "start_time": "2022-10-07T12:10:23.100Z"
   },
   {
    "duration": 0,
    "start_time": "2022-10-07T12:10:23.102Z"
   },
   {
    "duration": 0,
    "start_time": "2022-10-07T12:10:23.103Z"
   },
   {
    "duration": 0,
    "start_time": "2022-10-07T12:10:23.104Z"
   },
   {
    "duration": 6,
    "start_time": "2022-10-07T12:10:52.877Z"
   },
   {
    "duration": 18,
    "start_time": "2022-10-07T12:10:56.191Z"
   },
   {
    "duration": 5,
    "start_time": "2022-10-07T12:11:20.346Z"
   },
   {
    "duration": 10,
    "start_time": "2022-10-07T12:11:21.455Z"
   },
   {
    "duration": 9,
    "start_time": "2022-10-07T12:11:22.429Z"
   },
   {
    "duration": 10,
    "start_time": "2022-10-07T12:11:23.006Z"
   },
   {
    "duration": 2408,
    "start_time": "2022-10-07T12:11:38.881Z"
   },
   {
    "duration": 65,
    "start_time": "2022-10-07T12:11:41.292Z"
   },
   {
    "duration": 125,
    "start_time": "2022-10-07T12:11:41.360Z"
   },
   {
    "duration": 59,
    "start_time": "2022-10-07T12:11:41.488Z"
   },
   {
    "duration": 35,
    "start_time": "2022-10-07T12:11:41.550Z"
   },
   {
    "duration": 64,
    "start_time": "2022-10-07T12:11:41.588Z"
   },
   {
    "duration": 24,
    "start_time": "2022-10-07T12:11:41.654Z"
   },
   {
    "duration": 51,
    "start_time": "2022-10-07T12:11:41.680Z"
   },
   {
    "duration": 234,
    "start_time": "2022-10-07T12:11:41.735Z"
   },
   {
    "duration": 159,
    "start_time": "2022-10-07T12:11:41.973Z"
   },
   {
    "duration": 92,
    "start_time": "2022-10-07T12:11:42.134Z"
   },
   {
    "duration": 96,
    "start_time": "2022-10-07T12:11:42.228Z"
   },
   {
    "duration": 19,
    "start_time": "2022-10-07T12:11:42.327Z"
   },
   {
    "duration": 20,
    "start_time": "2022-10-07T12:11:42.349Z"
   },
   {
    "duration": 22,
    "start_time": "2022-10-07T12:11:42.372Z"
   },
   {
    "duration": 9,
    "start_time": "2022-10-07T12:11:42.396Z"
   },
   {
    "duration": 6,
    "start_time": "2022-10-07T12:11:42.407Z"
   },
   {
    "duration": 168,
    "start_time": "2022-10-07T12:11:42.415Z"
   },
   {
    "duration": 0,
    "start_time": "2022-10-07T12:11:42.585Z"
   },
   {
    "duration": 0,
    "start_time": "2022-10-07T12:11:42.587Z"
   },
   {
    "duration": 2479,
    "start_time": "2022-10-07T12:12:16.789Z"
   },
   {
    "duration": 70,
    "start_time": "2022-10-07T12:12:19.270Z"
   },
   {
    "duration": 104,
    "start_time": "2022-10-07T12:12:19.342Z"
   },
   {
    "duration": 54,
    "start_time": "2022-10-07T12:12:19.448Z"
   },
   {
    "duration": 21,
    "start_time": "2022-10-07T12:12:19.506Z"
   },
   {
    "duration": 63,
    "start_time": "2022-10-07T12:12:19.530Z"
   },
   {
    "duration": 22,
    "start_time": "2022-10-07T12:12:19.595Z"
   },
   {
    "duration": 70,
    "start_time": "2022-10-07T12:12:19.619Z"
   },
   {
    "duration": 162,
    "start_time": "2022-10-07T12:12:19.691Z"
   },
   {
    "duration": 178,
    "start_time": "2022-10-07T12:12:19.855Z"
   },
   {
    "duration": 186,
    "start_time": "2022-10-07T12:12:20.036Z"
   },
   {
    "duration": 50,
    "start_time": "2022-10-07T12:12:20.224Z"
   },
   {
    "duration": 31,
    "start_time": "2022-10-07T12:12:20.277Z"
   },
   {
    "duration": 33,
    "start_time": "2022-10-07T12:12:20.312Z"
   },
   {
    "duration": 38,
    "start_time": "2022-10-07T12:12:20.347Z"
   },
   {
    "duration": 33,
    "start_time": "2022-10-07T12:12:20.387Z"
   },
   {
    "duration": 31,
    "start_time": "2022-10-07T12:12:20.422Z"
   },
   {
    "duration": 1104,
    "start_time": "2022-10-07T12:12:20.456Z"
   },
   {
    "duration": 1069,
    "start_time": "2022-10-07T12:12:21.562Z"
   },
   {
    "duration": 1112,
    "start_time": "2022-10-07T12:12:22.633Z"
   },
   {
    "duration": 1946,
    "start_time": "2022-10-07T12:12:56.448Z"
   },
   {
    "duration": 83,
    "start_time": "2022-10-07T12:12:58.397Z"
   },
   {
    "duration": 98,
    "start_time": "2022-10-07T12:12:58.482Z"
   },
   {
    "duration": 67,
    "start_time": "2022-10-07T12:12:58.583Z"
   },
   {
    "duration": 10,
    "start_time": "2022-10-07T12:12:58.652Z"
   },
   {
    "duration": 33,
    "start_time": "2022-10-07T12:12:58.664Z"
   },
   {
    "duration": 16,
    "start_time": "2022-10-07T12:12:58.721Z"
   },
   {
    "duration": 84,
    "start_time": "2022-10-07T12:12:58.739Z"
   },
   {
    "duration": 127,
    "start_time": "2022-10-07T12:12:58.825Z"
   },
   {
    "duration": 214,
    "start_time": "2022-10-07T12:12:58.955Z"
   },
   {
    "duration": 163,
    "start_time": "2022-10-07T12:12:59.173Z"
   },
   {
    "duration": 16,
    "start_time": "2022-10-07T12:12:59.339Z"
   },
   {
    "duration": 7,
    "start_time": "2022-10-07T12:12:59.357Z"
   },
   {
    "duration": 18,
    "start_time": "2022-10-07T12:12:59.367Z"
   },
   {
    "duration": 20,
    "start_time": "2022-10-07T12:12:59.388Z"
   },
   {
    "duration": 22,
    "start_time": "2022-10-07T12:12:59.411Z"
   },
   {
    "duration": 13,
    "start_time": "2022-10-07T12:12:59.435Z"
   },
   {
    "duration": 1513,
    "start_time": "2022-10-07T12:12:59.451Z"
   },
   {
    "duration": 1509,
    "start_time": "2022-10-07T12:13:00.966Z"
   },
   {
    "duration": 1393,
    "start_time": "2022-10-07T12:13:02.477Z"
   }
  ],
  "kernelspec": {
   "display_name": "Python 3 (ipykernel)",
   "language": "python",
   "name": "python3"
  },
  "language_info": {
   "codemirror_mode": {
    "name": "ipython",
    "version": 3
   },
   "file_extension": ".py",
   "mimetype": "text/x-python",
   "name": "python",
   "nbconvert_exporter": "python",
   "pygments_lexer": "ipython3",
   "version": "3.9.13"
  },
  "toc": {
   "base_numbering": 1,
   "nav_menu": {},
   "number_sections": true,
   "sideBar": true,
   "skip_h1_title": false,
   "title_cell": "Table of Contents",
   "title_sidebar": "Выбор локации для скважины",
   "toc_cell": false,
   "toc_position": {
    "height": "calc(100% - 180px)",
    "left": "10px",
    "top": "150px",
    "width": "349.091px"
   },
   "toc_section_display": true,
   "toc_window_display": false
  }
 },
 "nbformat": 4,
 "nbformat_minor": 5
}
