{
 "cells": [
  {
   "cell_type": "markdown",
   "id": "1897d699",
   "metadata": {},
   "source": [
    "# Исследование надежности заемщиков\n",
    "\n",
    "- Необходимо определить, влияют ли семейное положение, количество детей, уровень дохода клиента и цель кредита на факт погашения кредита в срок. Заказчик - банк, и ему важно иметь возможность до одобрения кредита предсказать вероятность возврата кредита в срок. Результат работы в этом проекте будет использован при построении модели кредитного скоринга.\n",
    "\n",
    "- Входные данные: Датасет содержащий данные о возрасте клиента, стаже, семейном положении, образовании, доходе, цели кредита. Целевой признак - наличие задолженности по кредиту."
   ]
  },
  {
   "cell_type": "markdown",
   "id": "fda240e0",
   "metadata": {},
   "source": [
    "## Загрузка и оценка данных"
   ]
  },
  {
   "cell_type": "markdown",
   "id": "d06cb5d3",
   "metadata": {},
   "source": [
    "Загрузим данные"
   ]
  },
  {
   "cell_type": "code",
   "execution_count": 1,
   "id": "80753026",
   "metadata": {},
   "outputs": [],
   "source": [
    "import pandas as pd\n",
    "\n",
    "try:\n",
    "    data = pd.read_csv('/datasets/data.csv')\n",
    "except:\n",
    "    data = pd.read_csv('https://code.s3.yandex.net/datasets/data.csv')"
   ]
  },
  {
   "cell_type": "markdown",
   "id": "b24f7475",
   "metadata": {},
   "source": [
    "Выведем первые 20 строк"
   ]
  },
  {
   "cell_type": "code",
   "execution_count": 2,
   "id": "6cc2e9b6",
   "metadata": {},
   "outputs": [
    {
     "data": {
      "text/html": [
       "<div>\n",
       "<style scoped>\n",
       "    .dataframe tbody tr th:only-of-type {\n",
       "        vertical-align: middle;\n",
       "    }\n",
       "\n",
       "    .dataframe tbody tr th {\n",
       "        vertical-align: top;\n",
       "    }\n",
       "\n",
       "    .dataframe thead th {\n",
       "        text-align: right;\n",
       "    }\n",
       "</style>\n",
       "<table border=\"1\" class=\"dataframe\">\n",
       "  <thead>\n",
       "    <tr style=\"text-align: right;\">\n",
       "      <th></th>\n",
       "      <th>children</th>\n",
       "      <th>days_employed</th>\n",
       "      <th>dob_years</th>\n",
       "      <th>education</th>\n",
       "      <th>education_id</th>\n",
       "      <th>family_status</th>\n",
       "      <th>family_status_id</th>\n",
       "      <th>gender</th>\n",
       "      <th>income_type</th>\n",
       "      <th>debt</th>\n",
       "      <th>total_income</th>\n",
       "      <th>purpose</th>\n",
       "    </tr>\n",
       "  </thead>\n",
       "  <tbody>\n",
       "    <tr>\n",
       "      <th>0</th>\n",
       "      <td>1</td>\n",
       "      <td>-8437.673028</td>\n",
       "      <td>42</td>\n",
       "      <td>высшее</td>\n",
       "      <td>0</td>\n",
       "      <td>женат / замужем</td>\n",
       "      <td>0</td>\n",
       "      <td>F</td>\n",
       "      <td>сотрудник</td>\n",
       "      <td>0</td>\n",
       "      <td>253875.639453</td>\n",
       "      <td>покупка жилья</td>\n",
       "    </tr>\n",
       "    <tr>\n",
       "      <th>1</th>\n",
       "      <td>1</td>\n",
       "      <td>-4024.803754</td>\n",
       "      <td>36</td>\n",
       "      <td>среднее</td>\n",
       "      <td>1</td>\n",
       "      <td>женат / замужем</td>\n",
       "      <td>0</td>\n",
       "      <td>F</td>\n",
       "      <td>сотрудник</td>\n",
       "      <td>0</td>\n",
       "      <td>112080.014102</td>\n",
       "      <td>приобретение автомобиля</td>\n",
       "    </tr>\n",
       "    <tr>\n",
       "      <th>2</th>\n",
       "      <td>0</td>\n",
       "      <td>-5623.422610</td>\n",
       "      <td>33</td>\n",
       "      <td>Среднее</td>\n",
       "      <td>1</td>\n",
       "      <td>женат / замужем</td>\n",
       "      <td>0</td>\n",
       "      <td>M</td>\n",
       "      <td>сотрудник</td>\n",
       "      <td>0</td>\n",
       "      <td>145885.952297</td>\n",
       "      <td>покупка жилья</td>\n",
       "    </tr>\n",
       "    <tr>\n",
       "      <th>3</th>\n",
       "      <td>3</td>\n",
       "      <td>-4124.747207</td>\n",
       "      <td>32</td>\n",
       "      <td>среднее</td>\n",
       "      <td>1</td>\n",
       "      <td>женат / замужем</td>\n",
       "      <td>0</td>\n",
       "      <td>M</td>\n",
       "      <td>сотрудник</td>\n",
       "      <td>0</td>\n",
       "      <td>267628.550329</td>\n",
       "      <td>дополнительное образование</td>\n",
       "    </tr>\n",
       "    <tr>\n",
       "      <th>4</th>\n",
       "      <td>0</td>\n",
       "      <td>340266.072047</td>\n",
       "      <td>53</td>\n",
       "      <td>среднее</td>\n",
       "      <td>1</td>\n",
       "      <td>гражданский брак</td>\n",
       "      <td>1</td>\n",
       "      <td>F</td>\n",
       "      <td>пенсионер</td>\n",
       "      <td>0</td>\n",
       "      <td>158616.077870</td>\n",
       "      <td>сыграть свадьбу</td>\n",
       "    </tr>\n",
       "    <tr>\n",
       "      <th>5</th>\n",
       "      <td>0</td>\n",
       "      <td>-926.185831</td>\n",
       "      <td>27</td>\n",
       "      <td>высшее</td>\n",
       "      <td>0</td>\n",
       "      <td>гражданский брак</td>\n",
       "      <td>1</td>\n",
       "      <td>M</td>\n",
       "      <td>компаньон</td>\n",
       "      <td>0</td>\n",
       "      <td>255763.565419</td>\n",
       "      <td>покупка жилья</td>\n",
       "    </tr>\n",
       "    <tr>\n",
       "      <th>6</th>\n",
       "      <td>0</td>\n",
       "      <td>-2879.202052</td>\n",
       "      <td>43</td>\n",
       "      <td>высшее</td>\n",
       "      <td>0</td>\n",
       "      <td>женат / замужем</td>\n",
       "      <td>0</td>\n",
       "      <td>F</td>\n",
       "      <td>компаньон</td>\n",
       "      <td>0</td>\n",
       "      <td>240525.971920</td>\n",
       "      <td>операции с жильем</td>\n",
       "    </tr>\n",
       "    <tr>\n",
       "      <th>7</th>\n",
       "      <td>0</td>\n",
       "      <td>-152.779569</td>\n",
       "      <td>50</td>\n",
       "      <td>СРЕДНЕЕ</td>\n",
       "      <td>1</td>\n",
       "      <td>женат / замужем</td>\n",
       "      <td>0</td>\n",
       "      <td>M</td>\n",
       "      <td>сотрудник</td>\n",
       "      <td>0</td>\n",
       "      <td>135823.934197</td>\n",
       "      <td>образование</td>\n",
       "    </tr>\n",
       "    <tr>\n",
       "      <th>8</th>\n",
       "      <td>2</td>\n",
       "      <td>-6929.865299</td>\n",
       "      <td>35</td>\n",
       "      <td>ВЫСШЕЕ</td>\n",
       "      <td>0</td>\n",
       "      <td>гражданский брак</td>\n",
       "      <td>1</td>\n",
       "      <td>F</td>\n",
       "      <td>сотрудник</td>\n",
       "      <td>0</td>\n",
       "      <td>95856.832424</td>\n",
       "      <td>на проведение свадьбы</td>\n",
       "    </tr>\n",
       "    <tr>\n",
       "      <th>9</th>\n",
       "      <td>0</td>\n",
       "      <td>-2188.756445</td>\n",
       "      <td>41</td>\n",
       "      <td>среднее</td>\n",
       "      <td>1</td>\n",
       "      <td>женат / замужем</td>\n",
       "      <td>0</td>\n",
       "      <td>M</td>\n",
       "      <td>сотрудник</td>\n",
       "      <td>0</td>\n",
       "      <td>144425.938277</td>\n",
       "      <td>покупка жилья для семьи</td>\n",
       "    </tr>\n",
       "  </tbody>\n",
       "</table>\n",
       "</div>"
      ],
      "text/plain": [
       "   children  days_employed  dob_years education  education_id  \\\n",
       "0         1   -8437.673028         42    высшее             0   \n",
       "1         1   -4024.803754         36   среднее             1   \n",
       "2         0   -5623.422610         33   Среднее             1   \n",
       "3         3   -4124.747207         32   среднее             1   \n",
       "4         0  340266.072047         53   среднее             1   \n",
       "5         0    -926.185831         27    высшее             0   \n",
       "6         0   -2879.202052         43    высшее             0   \n",
       "7         0    -152.779569         50   СРЕДНЕЕ             1   \n",
       "8         2   -6929.865299         35    ВЫСШЕЕ             0   \n",
       "9         0   -2188.756445         41   среднее             1   \n",
       "\n",
       "      family_status  family_status_id gender income_type  debt   total_income  \\\n",
       "0   женат / замужем                 0      F   сотрудник     0  253875.639453   \n",
       "1   женат / замужем                 0      F   сотрудник     0  112080.014102   \n",
       "2   женат / замужем                 0      M   сотрудник     0  145885.952297   \n",
       "3   женат / замужем                 0      M   сотрудник     0  267628.550329   \n",
       "4  гражданский брак                 1      F   пенсионер     0  158616.077870   \n",
       "5  гражданский брак                 1      M   компаньон     0  255763.565419   \n",
       "6   женат / замужем                 0      F   компаньон     0  240525.971920   \n",
       "7   женат / замужем                 0      M   сотрудник     0  135823.934197   \n",
       "8  гражданский брак                 1      F   сотрудник     0   95856.832424   \n",
       "9   женат / замужем                 0      M   сотрудник     0  144425.938277   \n",
       "\n",
       "                      purpose  \n",
       "0               покупка жилья  \n",
       "1     приобретение автомобиля  \n",
       "2               покупка жилья  \n",
       "3  дополнительное образование  \n",
       "4             сыграть свадьбу  \n",
       "5               покупка жилья  \n",
       "6           операции с жильем  \n",
       "7                 образование  \n",
       "8       на проведение свадьбы  \n",
       "9     покупка жилья для семьи  "
      ]
     },
     "execution_count": 2,
     "metadata": {},
     "output_type": "execute_result"
    }
   ],
   "source": [
    "data.head(10)"
   ]
  },
  {
   "cell_type": "markdown",
   "id": "48edaf40",
   "metadata": {},
   "source": [
    "Выведем основную информацию о датафрейме"
   ]
  },
  {
   "cell_type": "code",
   "execution_count": 3,
   "id": "e15a902a",
   "metadata": {},
   "outputs": [
    {
     "name": "stdout",
     "output_type": "stream",
     "text": [
      "<class 'pandas.core.frame.DataFrame'>\n",
      "RangeIndex: 21525 entries, 0 to 21524\n",
      "Data columns (total 12 columns):\n",
      " #   Column            Non-Null Count  Dtype  \n",
      "---  ------            --------------  -----  \n",
      " 0   children          21525 non-null  int64  \n",
      " 1   days_employed     19351 non-null  float64\n",
      " 2   dob_years         21525 non-null  int64  \n",
      " 3   education         21525 non-null  object \n",
      " 4   education_id      21525 non-null  int64  \n",
      " 5   family_status     21525 non-null  object \n",
      " 6   family_status_id  21525 non-null  int64  \n",
      " 7   gender            21525 non-null  object \n",
      " 8   income_type       21525 non-null  object \n",
      " 9   debt              21525 non-null  int64  \n",
      " 10  total_income      19351 non-null  float64\n",
      " 11  purpose           21525 non-null  object \n",
      "dtypes: float64(2), int64(5), object(5)\n",
      "memory usage: 2.0+ MB\n"
     ]
    }
   ],
   "source": [
    "data.info()"
   ]
  },
  {
   "cell_type": "markdown",
   "id": "0707f429",
   "metadata": {},
   "source": [
    "## Предобработка данных"
   ]
  },
  {
   "cell_type": "markdown",
   "id": "55e65d5c",
   "metadata": {},
   "source": [
    "### Обработка пропусков - 1\n",
    "\n",
    "- Определим количество пропусков по столбцам"
   ]
  },
  {
   "cell_type": "code",
   "execution_count": 4,
   "id": "22344979",
   "metadata": {},
   "outputs": [
    {
     "data": {
      "text/plain": [
       "children               0\n",
       "days_employed       2174\n",
       "dob_years              0\n",
       "education              0\n",
       "education_id           0\n",
       "family_status          0\n",
       "family_status_id       0\n",
       "gender                 0\n",
       "income_type            0\n",
       "debt                   0\n",
       "total_income        2174\n",
       "purpose                0\n",
       "dtype: int64"
      ]
     },
     "execution_count": 4,
     "metadata": {},
     "output_type": "execute_result"
    }
   ],
   "source": [
    "data.isna().sum()"
   ]
  },
  {
   "cell_type": "markdown",
   "id": "33fc4b1d",
   "metadata": {},
   "source": [
    "Пропуски в столбце `total_income` заменим медианным значением"
   ]
  },
  {
   "cell_type": "code",
   "execution_count": 5,
   "id": "b4c55e23",
   "metadata": {},
   "outputs": [],
   "source": [
    "for t in data['income_type'].unique():\n",
    "    data.loc[(data['income_type'] == t) & (data['total_income'].isna()), 'total_income'] = \\\n",
    "    data.loc[(data['income_type'] == t), 'total_income'].median()"
   ]
  },
  {
   "cell_type": "markdown",
   "id": "91dc7d09",
   "metadata": {},
   "source": [
    "### Обработка аномальных значений"
   ]
  },
  {
   "cell_type": "markdown",
   "id": "c252168c",
   "metadata": {},
   "source": [
    "В столбце `days_employed` не может быть отрицательных значений - заменим их на положительные"
   ]
  },
  {
   "cell_type": "code",
   "execution_count": 6,
   "id": "ec866dd9",
   "metadata": {},
   "outputs": [],
   "source": [
    "data['days_employed'] = data['days_employed'].abs()"
   ]
  },
  {
   "cell_type": "markdown",
   "id": "83626d52",
   "metadata": {},
   "source": [
    "Проверим медианные значения по трудовому стажу"
   ]
  },
  {
   "cell_type": "code",
   "execution_count": 7,
   "id": "a56eb7cc",
   "metadata": {},
   "outputs": [
    {
     "data": {
      "text/plain": [
       "income_type\n",
       "безработный        366413.652744\n",
       "в декрете            3296.759962\n",
       "госслужащий          2689.368353\n",
       "компаньон            1547.382223\n",
       "пенсионер          365213.306266\n",
       "предприниматель       520.848083\n",
       "сотрудник            1574.202821\n",
       "студент               578.751554\n",
       "Name: days_employed, dtype: float64"
      ]
     },
     "execution_count": 7,
     "metadata": {},
     "output_type": "execute_result"
    }
   ],
   "source": [
    "data.groupby('income_type')['days_employed'].agg('median')"
   ]
  },
  {
   "cell_type": "markdown",
   "id": "14bbaa16",
   "metadata": {},
   "source": [
    "Некоторые группы имеют аномально большие значения - пока оставим как есть"
   ]
  },
  {
   "cell_type": "markdown",
   "id": "6dd2c3d3",
   "metadata": {},
   "source": [
    "Посмотрим на значения в столбце `children`"
   ]
  },
  {
   "cell_type": "code",
   "execution_count": 8,
   "id": "1a712f66",
   "metadata": {},
   "outputs": [
    {
     "data": {
      "text/plain": [
       "array([ 1,  0,  3,  2, -1,  4, 20,  5], dtype=int64)"
      ]
     },
     "execution_count": 8,
     "metadata": {},
     "output_type": "execute_result"
    }
   ],
   "source": [
    "data['children'].unique()"
   ]
  },
  {
   "cell_type": "markdown",
   "id": "57ea08ab",
   "metadata": {},
   "source": [
    "Встречаются аномальные значения - удалим их"
   ]
  },
  {
   "cell_type": "code",
   "execution_count": 9,
   "id": "1f4f747d",
   "metadata": {},
   "outputs": [],
   "source": [
    "data = data[(data['children'] != -1) & (data['children'] != 20)]"
   ]
  },
  {
   "cell_type": "markdown",
   "id": "9040eef6",
   "metadata": {},
   "source": [
    "Проверим что аномальные значения удалены"
   ]
  },
  {
   "cell_type": "code",
   "execution_count": 10,
   "id": "cb89718a",
   "metadata": {},
   "outputs": [
    {
     "data": {
      "text/plain": [
       "array([1, 0, 3, 2, 4, 5], dtype=int64)"
      ]
     },
     "execution_count": 10,
     "metadata": {},
     "output_type": "execute_result"
    }
   ],
   "source": [
    "data['children'].unique()"
   ]
  },
  {
   "cell_type": "markdown",
   "id": "f916a3fb",
   "metadata": {},
   "source": [
    "### Обработка пропусков - 2"
   ]
  },
  {
   "cell_type": "markdown",
   "id": "4f3ef2c9",
   "metadata": {},
   "source": [
    "Пропуски в столбце `days_employed` заполним медианными значениями по каждого типа занятости `income_type`"
   ]
  },
  {
   "cell_type": "code",
   "execution_count": 11,
   "id": "2e5ccce8",
   "metadata": {},
   "outputs": [],
   "source": [
    "for t in data['income_type'].unique():\n",
    "    data.loc[(data['income_type'] == t) & (data['days_employed'].isna()), 'days_employed'] = \\\n",
    "    data.loc[(data['income_type'] == t), 'days_employed'].median()"
   ]
  },
  {
   "cell_type": "markdown",
   "id": "2a0710f9",
   "metadata": {},
   "source": [
    "Еще раз проверим данные на пропуски"
   ]
  },
  {
   "cell_type": "code",
   "execution_count": 12,
   "id": "6a4b5dd4",
   "metadata": {},
   "outputs": [
    {
     "data": {
      "text/plain": [
       "children            0\n",
       "days_employed       0\n",
       "dob_years           0\n",
       "education           0\n",
       "education_id        0\n",
       "family_status       0\n",
       "family_status_id    0\n",
       "gender              0\n",
       "income_type         0\n",
       "debt                0\n",
       "total_income        0\n",
       "purpose             0\n",
       "dtype: int64"
      ]
     },
     "execution_count": 12,
     "metadata": {},
     "output_type": "execute_result"
    }
   ],
   "source": [
    "data.isna().sum()"
   ]
  },
  {
   "cell_type": "markdown",
   "id": "ca26be71",
   "metadata": {},
   "source": [
    "### Изменение типов данных"
   ]
  },
  {
   "cell_type": "markdown",
   "id": "ac0db880",
   "metadata": {},
   "source": [
    "Заменим вещественный тип данных в столбце `total_income` на целочисленный"
   ]
  },
  {
   "cell_type": "code",
   "execution_count": 13,
   "id": "ebac4f2f",
   "metadata": {},
   "outputs": [],
   "source": [
    "data['total_income'] = data['total_income'].astype(int)"
   ]
  },
  {
   "cell_type": "markdown",
   "id": "208385ee",
   "metadata": {},
   "source": [
    "### Обработка дубликатов"
   ]
  },
  {
   "cell_type": "markdown",
   "id": "3ab3dc0c",
   "metadata": {},
   "source": [
    "Проверим количество дубликатов и удалим если они есть"
   ]
  },
  {
   "cell_type": "code",
   "execution_count": 14,
   "id": "54fa26ef",
   "metadata": {},
   "outputs": [
    {
     "data": {
      "text/plain": [
       "54"
      ]
     },
     "execution_count": 14,
     "metadata": {},
     "output_type": "execute_result"
    }
   ],
   "source": [
    "data.duplicated().sum()"
   ]
  },
  {
   "cell_type": "code",
   "execution_count": 15,
   "id": "d92c8538",
   "metadata": {},
   "outputs": [],
   "source": [
    "data = data.drop_duplicates()"
   ]
  },
  {
   "cell_type": "markdown",
   "id": "5bb0c764",
   "metadata": {},
   "source": [
    "Обработаем неявные дубликаты в столбце `education` по регистру"
   ]
  },
  {
   "cell_type": "code",
   "execution_count": 16,
   "id": "e2cd6b0f",
   "metadata": {},
   "outputs": [],
   "source": [
    "data['education'] = data['education'].str.lower()"
   ]
  },
  {
   "cell_type": "markdown",
   "id": "d5c4e6c5",
   "metadata": {},
   "source": [
    "### Категоризация данных\n",
    "\n",
    "- Разделим клиентов на категории по доходам"
   ]
  },
  {
   "cell_type": "code",
   "execution_count": 17,
   "id": "2b49f901",
   "metadata": {},
   "outputs": [],
   "source": [
    "def categorize_income(income):\n",
    "    try:\n",
    "        if 0 <= income <= 30000:\n",
    "            return 'E'\n",
    "        elif 30001 <= income <= 50000:\n",
    "            return 'D'\n",
    "        elif 50001 <= income <= 200000:\n",
    "            return 'C'\n",
    "        elif 200001 <= income <= 1000000:\n",
    "            return 'B'\n",
    "        elif income >= 1000001:\n",
    "            return 'A'\n",
    "    except:\n",
    "        pass"
   ]
  },
  {
   "cell_type": "code",
   "execution_count": 18,
   "id": "ea1eb90a",
   "metadata": {},
   "outputs": [],
   "source": [
    "data['total_income_category'] = data['total_income'].apply(categorize_income)"
   ]
  },
  {
   "cell_type": "markdown",
   "id": "ce927a4d",
   "metadata": {},
   "source": [
    "Посмотрим на уникальные цели кредита"
   ]
  },
  {
   "cell_type": "code",
   "execution_count": 19,
   "id": "3ba9ae8f",
   "metadata": {},
   "outputs": [
    {
     "data": {
      "text/plain": [
       "array(['покупка жилья', 'приобретение автомобиля',\n",
       "       'дополнительное образование', 'сыграть свадьбу',\n",
       "       'операции с жильем', 'образование', 'на проведение свадьбы',\n",
       "       'покупка жилья для семьи', 'покупка недвижимости',\n",
       "       'покупка коммерческой недвижимости', 'покупка жилой недвижимости',\n",
       "       'строительство собственной недвижимости', 'недвижимость',\n",
       "       'строительство недвижимости', 'на покупку подержанного автомобиля',\n",
       "       'на покупку своего автомобиля',\n",
       "       'операции с коммерческой недвижимостью',\n",
       "       'строительство жилой недвижимости', 'жилье',\n",
       "       'операции со своей недвижимостью', 'автомобили',\n",
       "       'заняться образованием', 'сделка с подержанным автомобилем',\n",
       "       'получение образования', 'автомобиль', 'свадьба',\n",
       "       'получение дополнительного образования', 'покупка своего жилья',\n",
       "       'операции с недвижимостью', 'получение высшего образования',\n",
       "       'свой автомобиль', 'сделка с автомобилем',\n",
       "       'профильное образование', 'высшее образование',\n",
       "       'покупка жилья для сдачи', 'на покупку автомобиля', 'ремонт жилью',\n",
       "       'заняться высшим образованием'], dtype=object)"
      ]
     },
     "execution_count": 19,
     "metadata": {},
     "output_type": "execute_result"
    }
   ],
   "source": [
    "data['purpose'].unique()"
   ]
  },
  {
   "cell_type": "markdown",
   "id": "ee95f3b9",
   "metadata": {},
   "source": [
    "Сгруппируем одинаковые цели кредита"
   ]
  },
  {
   "cell_type": "code",
   "execution_count": 20,
   "id": "b928a593",
   "metadata": {},
   "outputs": [],
   "source": [
    "def categorize_purpose(row):\n",
    "    try:\n",
    "        if 'автом' in row:\n",
    "            return 'операции с автомобилем'\n",
    "        elif 'жил' in row or 'недвиж' in row:\n",
    "            return 'операции с недвижимостью'\n",
    "        elif 'свад' in row:\n",
    "            return 'проведение свадьбы'\n",
    "        elif 'образов' in row:\n",
    "            return 'получение образования'\n",
    "    except:\n",
    "        return 'нет категории'"
   ]
  },
  {
   "cell_type": "code",
   "execution_count": 21,
   "id": "2600ab13",
   "metadata": {},
   "outputs": [],
   "source": [
    "data['purpose_category'] = data['purpose'].apply(categorize_purpose)\n"
   ]
  },
  {
   "cell_type": "markdown",
   "id": "497f1e24",
   "metadata": {},
   "source": [
    "## Исследование данных"
   ]
  },
  {
   "cell_type": "markdown",
   "id": "311ef050",
   "metadata": {},
   "source": [
    "**Описание столбцов данных**\\\n",
    "children — количество детей в семье\\\n",
    "days_employed — общий трудовой стаж в днях\\\n",
    "dob_years — возраст клиента в годах\\\n",
    "education — уровень образования клиента\\\n",
    "education_id — идентификатор уровня образования\\\n",
    "family_status — семейное положение\\\n",
    "family_status_id — идентификатор семейного положения\\\n",
    "gender — пол клиента\\\n",
    "income_type — тип занятости\\\n",
    "debt — имел ли задолженность по возврату кредитов\\\n",
    "total_income — ежемесячный доход\\\n",
    "purpose — цель получения кредита"
   ]
  },
  {
   "cell_type": "markdown",
   "id": "4d20edc1",
   "metadata": {},
   "source": [
    "### Если ли зависимость между количеством детей и вероятностью просрочки?"
   ]
  },
  {
   "cell_type": "code",
   "execution_count": 22,
   "id": "9db54317",
   "metadata": {},
   "outputs": [
    {
     "data": {
      "text/html": [
       "<div>\n",
       "<style scoped>\n",
       "    .dataframe tbody tr th:only-of-type {\n",
       "        vertical-align: middle;\n",
       "    }\n",
       "\n",
       "    .dataframe tbody tr th {\n",
       "        vertical-align: top;\n",
       "    }\n",
       "\n",
       "    .dataframe thead th {\n",
       "        text-align: right;\n",
       "    }\n",
       "</style>\n",
       "<table border=\"1\" class=\"dataframe\">\n",
       "  <thead>\n",
       "    <tr style=\"text-align: right;\">\n",
       "      <th></th>\n",
       "      <th>Children amount</th>\n",
       "      <th>Loaner</th>\n",
       "      <th>Latepay</th>\n",
       "      <th>Latepay ratio</th>\n",
       "    </tr>\n",
       "  </thead>\n",
       "  <tbody>\n",
       "    <tr>\n",
       "      <th>0</th>\n",
       "      <td>0</td>\n",
       "      <td>14107</td>\n",
       "      <td>1063</td>\n",
       "      <td>0.075353</td>\n",
       "    </tr>\n",
       "    <tr>\n",
       "      <th>1</th>\n",
       "      <td>1</td>\n",
       "      <td>4809</td>\n",
       "      <td>444</td>\n",
       "      <td>0.092327</td>\n",
       "    </tr>\n",
       "    <tr>\n",
       "      <th>2</th>\n",
       "      <td>2</td>\n",
       "      <td>2052</td>\n",
       "      <td>194</td>\n",
       "      <td>0.094542</td>\n",
       "    </tr>\n",
       "    <tr>\n",
       "      <th>3</th>\n",
       "      <td>3</td>\n",
       "      <td>330</td>\n",
       "      <td>27</td>\n",
       "      <td>0.081818</td>\n",
       "    </tr>\n",
       "    <tr>\n",
       "      <th>4</th>\n",
       "      <td>4</td>\n",
       "      <td>41</td>\n",
       "      <td>4</td>\n",
       "      <td>0.097561</td>\n",
       "    </tr>\n",
       "    <tr>\n",
       "      <th>5</th>\n",
       "      <td>5</td>\n",
       "      <td>9</td>\n",
       "      <td>0</td>\n",
       "      <td>0.000000</td>\n",
       "    </tr>\n",
       "  </tbody>\n",
       "</table>\n",
       "</div>"
      ],
      "text/plain": [
       "   Children amount  Loaner  Latepay  Latepay ratio\n",
       "0                0   14107     1063       0.075353\n",
       "1                1    4809      444       0.092327\n",
       "2                2    2052      194       0.094542\n",
       "3                3     330       27       0.081818\n",
       "4                4      41        4       0.097561\n",
       "5                5       9        0       0.000000"
      ]
     },
     "metadata": {},
     "output_type": "display_data"
    },
    {
     "name": "stdout",
     "output_type": "stream",
     "text": [
      "0.017800262319655237\n"
     ]
    },
    {
     "data": {
      "text/plain": [
       "<AxesSubplot:xlabel='Children amount', ylabel='Latepay ratio'>"
      ]
     },
     "metadata": {},
     "output_type": "display_data"
    },
    {
     "data": {
      "image/png": "[encoded data removed]",
      "text/plain": [
       "<Figure size 640x480 with 1 Axes>"
      ]
     },
     "metadata": {},
     "output_type": "display_data"
    }
   ],
   "source": [
    "import seaborn as sns\n",
    "\n",
    "#Отсортируем таблицу по числу детей у заемщика (0-5)\n",
    "data=data.sort_values(by='children',ascending=True)\n",
    "\n",
    "#Сделаем отдельный список на уникальные значения по количеству детей\n",
    "children_groups=data['children'].unique()\n",
    "\n",
    "# Посчитаем общее число заемщиков по группам\n",
    "total_loaner_by_child_amount = list(data.groupby('children')['children'].count())\n",
    "\n",
    "# Посчитаем общее число заемщиков с просрочкой по группам\n",
    "total_latepayer_by_child_amount=list(data.groupby('children')['debt'].sum())\n",
    "\n",
    "#Сделаем табличку с промежуточными данными. Child Latepay = cl\n",
    "child_data={'Children amount':children_groups,'Loaner':total_loaner_by_child_amount,\\\n",
    " 'Latepay':total_latepayer_by_child_amount}\n",
    "cl=pd.DataFrame(child_data)\n",
    "\n",
    "#Добавим столбец с коэффициентом просрочки\n",
    "cl['Latepay ratio']=(cl['Latepay']/cl['Loaner'])\n",
    "display(cl)\n",
    "\n",
    "# Виден рост вероятности просрочки в группах от 0 до 2 включительно, затем провал и опять рост. У заемщиков\n",
    "# с 5 детьми вообще ни одной просрочки. \n",
    "# посчитаем долю заемщиков с количеством детей 3 и более\n",
    "\n",
    "loaner_more_that_two=(data.loc[data['children']>=3,'children'].count())/data.shape[0]\n",
    "print(loaner_more_that_two)\n",
    "\n",
    "# таких заемщиков всего 1,7% в относительном выражении, в общем выводе ими можно пренебречь\n",
    "\n",
    "display(sns.barplot(x = 'Children amount', y = 'Latepay ratio', data = cl))"
   ]
  },
  {
   "cell_type": "markdown",
   "id": "01662fc1",
   "metadata": {},
   "source": [
    "**Выводы:**\n",
    "1. С увеличением числа детей у заемщика вероятность просрочки кредита возрастает. Это справедливо для заемщиков с числом детей до 2 включительно.\n",
    "2. Для заемщиков с числом детей 3 и более такой зависимости не наблюдается. Однако таких заемщиков всего 1,7% от общего числа. Если возможно, следует увеличить выборку"
   ]
  },
  {
   "cell_type": "markdown",
   "id": "e5e14ae6",
   "metadata": {},
   "source": [
    "### Есть ли зависимость между семейным положением и возвратом кредита в срок"
   ]
  },
  {
   "cell_type": "code",
   "execution_count": 23,
   "id": "6196e1d4",
   "metadata": {},
   "outputs": [
    {
     "data": {
      "text/html": [
       "<div>\n",
       "<style scoped>\n",
       "    .dataframe tbody tr th:only-of-type {\n",
       "        vertical-align: middle;\n",
       "    }\n",
       "\n",
       "    .dataframe tbody tr th {\n",
       "        vertical-align: top;\n",
       "    }\n",
       "\n",
       "    .dataframe thead th {\n",
       "        text-align: right;\n",
       "    }\n",
       "</style>\n",
       "<table border=\"1\" class=\"dataframe\">\n",
       "  <thead>\n",
       "    <tr style=\"text-align: right;\">\n",
       "      <th></th>\n",
       "      <th>Family status</th>\n",
       "      <th>Loaner</th>\n",
       "      <th>Latepay ratio</th>\n",
       "    </tr>\n",
       "  </thead>\n",
       "  <tbody>\n",
       "    <tr>\n",
       "      <th>2</th>\n",
       "      <td>вдовец / вдова</td>\n",
       "      <td>951</td>\n",
       "      <td>0.066246</td>\n",
       "    </tr>\n",
       "    <tr>\n",
       "      <th>1</th>\n",
       "      <td>в разводе</td>\n",
       "      <td>1189</td>\n",
       "      <td>0.070648</td>\n",
       "    </tr>\n",
       "    <tr>\n",
       "      <th>4</th>\n",
       "      <td>женат / замужем</td>\n",
       "      <td>12266</td>\n",
       "      <td>0.075575</td>\n",
       "    </tr>\n",
       "    <tr>\n",
       "      <th>3</th>\n",
       "      <td>гражданский брак</td>\n",
       "      <td>4146</td>\n",
       "      <td>0.092861</td>\n",
       "    </tr>\n",
       "    <tr>\n",
       "      <th>0</th>\n",
       "      <td>Не женат / не замужем</td>\n",
       "      <td>2796</td>\n",
       "      <td>0.097639</td>\n",
       "    </tr>\n",
       "  </tbody>\n",
       "</table>\n",
       "</div>"
      ],
      "text/plain": [
       "           Family status  Loaner  Latepay ratio\n",
       "2         вдовец / вдова     951       0.066246\n",
       "1              в разводе    1189       0.070648\n",
       "4        женат / замужем   12266       0.075575\n",
       "3       гражданский брак    4146       0.092861\n",
       "0  Не женат / не замужем    2796       0.097639"
      ]
     },
     "metadata": {},
     "output_type": "display_data"
    },
    {
     "data": {
      "text/plain": [
       "<AxesSubplot:xlabel='Family status', ylabel='Latepay ratio'>"
      ]
     },
     "metadata": {},
     "output_type": "display_data"
    },
    {
     "data": {
      "image/png": "[encoded data removed]",
      "text/plain": [
       "<Figure size 640x480 with 1 Axes>"
      ]
     },
     "metadata": {},
     "output_type": "display_data"
    }
   ],
   "source": [
    "import matplotlib.pyplot as plt\n",
    "\n",
    "# отсортируем таблицу по семейному статусу\n",
    "data=data.sort_values(by='family_status',ascending=True)\n",
    "\n",
    "# посчитаем число заемщиков по группам\n",
    "family_status_groups=(data.groupby('family_status')['family_status_id'].count())\n",
    "#print('Число заемщиков по группам\\n',family_status_groups)\n",
    "\n",
    "# посчитаем число заемщиков с просрочками по группам\n",
    "family_status_groups_debt=(data.groupby('family_status')['debt'].sum())\n",
    "#print('Число заемщиков с просрочкой\\n',family_status_groups_debt)\n",
    "\n",
    "# посчитаем коэффициент вероятности просрочки по группам\n",
    "latepay_ratio_family=family_status_groups_debt/family_status_groups\n",
    "#print(latepay_ratio_family)\n",
    "\n",
    "# Переведем series в списки для таблицы\n",
    "family_status_list=list(data['family_status'].unique())\n",
    "family_status_id_list=list(data['family_status_id'].unique())\n",
    "family_status_groups_list=list(family_status_groups)\n",
    "latepay_ratio_list=list(latepay_ratio_family)\n",
    "\n",
    "# Сделаем табличку с промежуточными результатами\n",
    "latepay_family_data={'Family status':family_status_list,'Loaner':family_status_groups_list,\\\n",
    "'Latepay ratio':latepay_ratio_list}\n",
    "fl=pd.DataFrame(latepay_family_data)\n",
    "\n",
    "# отсортируем по коэффициенту просрочки\n",
    "fl=fl.sort_values(by='Latepay ratio',ascending=True)\n",
    "display(fl)\n",
    "\n",
    "# Сдалем график \n",
    "fl = sns.barplot(x = 'Family status', y = 'Latepay ratio', data = fl)\n",
    "fl.set_xticklabels(fl.get_xticklabels(),rotation = 45)\n",
    "display(fl)"
   ]
  },
  {
   "cell_type": "markdown",
   "id": "b43b65b2",
   "metadata": {},
   "source": [
    "**Вывод:** \n",
    "1. Люди состоящие в официальном браке или когда либо бывшие в нем, с меньшей вероянтостью могут просрочить кредит"
   ]
  },
  {
   "cell_type": "markdown",
   "id": "0698cf2f",
   "metadata": {},
   "source": [
    "### Есть ли зависимость между уровнем дохода и возвратом кредита в срок?**"
   ]
  },
  {
   "cell_type": "code",
   "execution_count": 24,
   "id": "7f804198",
   "metadata": {},
   "outputs": [
    {
     "name": "stdout",
     "output_type": "stream",
     "text": [
      "Максимальная вероятность просрочки в группе E (доход 0-30 тыс)\n",
      "Минимальная вероятность просрочки в группе D (доход 30-50 тыс)\n"
     ]
    },
    {
     "data": {
      "text/plain": [
       "<AxesSubplot:xlabel='Income group', ylabel='Latepay ratio'>"
      ]
     },
     "metadata": {},
     "output_type": "display_data"
    },
    {
     "data": {
      "image/png": "[encoded data removed]",
      "text/plain": [
       "<Figure size 640x480 with 1 Axes>"
      ]
     },
     "metadata": {},
     "output_type": "display_data"
    }
   ],
   "source": [
    "# отсортируем таблицу по категория дохода\n",
    "data=data.sort_values(by='total_income_category',ascending=True)\n",
    "\n",
    "# посчитаем число заемщиков по категориям дохода\n",
    "income_groups_total=(data.groupby('total_income_category')['total_income_category'].count())\n",
    "#print('Число заемщиков по группам\\n',income_groups)\n",
    "\n",
    "# посчитаем число заемщиков с просрочками по группам\n",
    "income_groups_debt=(data.groupby('total_income_category')['debt'].sum())\n",
    "#print('Число заемщиков с просрочкой\\n',income_groups_debt)\n",
    "\n",
    "# посчитаем коэффициент вероятности просрочки по группам\n",
    "latepay_ratio_income=income_groups_debt/income_groups_total\n",
    "#print(latepay_ratio_income)\n",
    "\n",
    "# Переведем series в списки для таблицы\n",
    "income_groups_list=list(data['total_income_category'].unique())\n",
    "income_groups_total_list=list(income_groups_total)\n",
    "latepay_ratio_income_list=list(latepay_ratio_income)\n",
    "\n",
    "# Сделаем табличку с промежуточными результатами\n",
    "latepay_income_data={'Income group':income_groups_list,\\\n",
    "'Loaner':income_groups_total_list,'Latepay ratio':latepay_ratio_income_list}\n",
    "il=pd.DataFrame(latepay_income_data)\n",
    "\n",
    "#отсортируем по группам дохода\n",
    "il=il.sort_values(by='Income group',ascending=True)\n",
    "\n",
    "\n",
    "# Посмотрим в каких группах максимальная и минимальная вероятность просрочки\n",
    "print(\"Максимальная вероятность просрочки в группе\",\\\n",
    "il.loc[il['Latepay ratio'] == il['Latepay ratio'].max(),'Income group'].to_string(index=False),'(доход 0-30 тыс)')\n",
    "print('Минимальная вероятность просрочки в группе',\\\n",
    "il.loc[il['Latepay ratio'] == il['Latepay ratio'].min(),'Income group'].to_string(index=False),'(доход 30-50 тыс)')\n",
    "\n",
    "\n",
    "# Сделаем график \n",
    "il = sns.barplot(x = 'Income group', y = 'Latepay ratio', data = il)\n",
    "display(il)"
   ]
  },
  {
   "cell_type": "markdown",
   "id": "10a59296",
   "metadata": {},
   "source": [
    "**Вывод:** \n",
    "1. Вероятность просрочки в целом не зависит от дохода заемщика\n",
    "2. Максимальная доля просрочек в группе E (0-30 тыс): 8,5%\n",
    "3. Минимальная доля просрочек в группе D (30-50 тыс): 5,5%\n"
   ]
  },
  {
   "cell_type": "markdown",
   "id": "ca5967ed",
   "metadata": {},
   "source": [
    "### Как разные цели кредита влияют на его возврат в срок?"
   ]
  },
  {
   "cell_type": "code",
   "execution_count": 25,
   "id": "4585ea0a",
   "metadata": {},
   "outputs": [
    {
     "data": {
      "text/html": [
       "<div>\n",
       "<style scoped>\n",
       "    .dataframe tbody tr th:only-of-type {\n",
       "        vertical-align: middle;\n",
       "    }\n",
       "\n",
       "    .dataframe tbody tr th {\n",
       "        vertical-align: top;\n",
       "    }\n",
       "\n",
       "    .dataframe thead th {\n",
       "        text-align: right;\n",
       "    }\n",
       "</style>\n",
       "<table border=\"1\" class=\"dataframe\">\n",
       "  <thead>\n",
       "    <tr style=\"text-align: right;\">\n",
       "      <th></th>\n",
       "      <th>Purpose</th>\n",
       "      <th>Loaner</th>\n",
       "      <th>Latepay ratio</th>\n",
       "    </tr>\n",
       "  </thead>\n",
       "  <tbody>\n",
       "    <tr>\n",
       "      <th>1</th>\n",
       "      <td>операции с недвижимостью</td>\n",
       "      <td>10754</td>\n",
       "      <td>0.072531</td>\n",
       "    </tr>\n",
       "    <tr>\n",
       "      <th>3</th>\n",
       "      <td>проведение свадьбы</td>\n",
       "      <td>2324</td>\n",
       "      <td>0.078744</td>\n",
       "    </tr>\n",
       "    <tr>\n",
       "      <th>2</th>\n",
       "      <td>получение образования</td>\n",
       "      <td>3989</td>\n",
       "      <td>0.092504</td>\n",
       "    </tr>\n",
       "    <tr>\n",
       "      <th>0</th>\n",
       "      <td>операции с автомобилем</td>\n",
       "      <td>4281</td>\n",
       "      <td>0.093436</td>\n",
       "    </tr>\n",
       "  </tbody>\n",
       "</table>\n",
       "</div>"
      ],
      "text/plain": [
       "                    Purpose  Loaner  Latepay ratio\n",
       "1  операции с недвижимостью   10754       0.072531\n",
       "3        проведение свадьбы    2324       0.078744\n",
       "2     получение образования    3989       0.092504\n",
       "0    операции с автомобилем    4281       0.093436"
      ]
     },
     "metadata": {},
     "output_type": "display_data"
    },
    {
     "data": {
      "text/plain": [
       "<AxesSubplot:xlabel='Purpose', ylabel='Latepay ratio'>"
      ]
     },
     "metadata": {},
     "output_type": "display_data"
    },
    {
     "data": {
      "image/png": "[encoded data removed]",
      "text/plain": [
       "<Figure size 640x480 with 1 Axes>"
      ]
     },
     "metadata": {},
     "output_type": "display_data"
    }
   ],
   "source": [
    "# отсортируем таблицу по категория дохода\n",
    "data=data.sort_values(by='purpose_category',ascending=True)\n",
    "\n",
    "# посчитаем число заемщиков по категориям дохода\n",
    "purpose_groups_total=(data.groupby('purpose_category')['purpose_category'].count())\n",
    "#print('Число заемщиков по группам\\n',purpose_groups)\n",
    "\n",
    "# посчитаем число заемщиков с просрочками по группам\n",
    "purpose_groups_debt=(data.groupby('purpose_category')['debt'].sum())\n",
    "#print('Число заемщиков с просрочкой\\n',purpose_groups_debt)\n",
    "\n",
    "# посчитаем коэффициент вероятности просрочки по группам\n",
    "purpose_ratio=purpose_groups_debt/purpose_groups_total\n",
    "#print(purpose_ratio)\n",
    "\n",
    "# Переведем series в списки для таблицы\n",
    "purpose_category_list=list(data['purpose_category'].unique())\n",
    "purpose_groups_total_list=list(purpose_groups_total)\n",
    "purpose_ratio_list=list(purpose_ratio)\n",
    "\n",
    "# Сделаем табличку с промежуточными результатами\n",
    "purpose_data={'Purpose':purpose_category_list,'Loaner':purpose_groups_total_list,\\\n",
    "'Latepay ratio':purpose_ratio_list}\n",
    "pl=pd.DataFrame(purpose_data)\n",
    "\n",
    "# отсортируем по вероятности просрочки\n",
    "pl=pl.sort_values(by='Latepay ratio',ascending=True)\n",
    "display(pl)\n",
    "\n",
    "# Сделаем график \n",
    "pl = sns.barplot(x = 'Purpose', y = 'Latepay ratio', data = pl)\n",
    "pl.set_xticklabels(pl.get_xticklabels(),rotation = 45)\n",
    "display(pl)\n"
   ]
  },
  {
   "cell_type": "markdown",
   "id": "cb6591a0",
   "metadata": {},
   "source": [
    "**Вывод:** \n",
    "1. Операции с недвижимостью и проведение свадеб - наименее рискованные цели кредита с точки зрения вероятности просрочки\n",
    "2. Вероятность просрочки кредита на получение образования и операции с автомобилем - примерно одинаковая"
   ]
  },
  {
   "cell_type": "markdown",
   "id": "7aac002f",
   "metadata": {},
   "source": [
    "## Общий вывод"
   ]
  },
  {
   "cell_type": "markdown",
   "id": "600d95e7",
   "metadata": {},
   "source": [
    "1. Исходные данные требуют предобработки - удаления пропусков, замены некорректных значений, категоризации\n",
    "2. Наличие детей увеличивает вероятность просрочки\n",
    "3. Вероятность просрочки не зависит от дохода заемщика\n",
    "4. Ипотечные кредиты - самые надежные для банка\n",
    "5. Никогда не состоявшие в браке или состоящие в неофициальном браке - менее надежные клиенты по сравнению с прочими"
   ]
  }
 ],
 "metadata": {
  "kernelspec": {
   "display_name": "Python 3 (ipykernel)",
   "language": "python",
   "name": "python3"
  },
  "language_info": {
   "codemirror_mode": {
    "name": "ipython",
    "version": 3
   },
   "file_extension": ".py",
   "mimetype": "text/x-python",
   "name": "python",
   "nbconvert_exporter": "python",
   "pygments_lexer": "ipython3",
   "version": "3.9.13"
  },
  "toc": {
   "base_numbering": 1,
   "nav_menu": {},
   "number_sections": true,
   "sideBar": true,
   "skip_h1_title": false,
   "title_cell": "Table of Contents",
   "title_sidebar": "Contents",
   "toc_cell": false,
   "toc_position": {},
   "toc_section_display": true,
   "toc_window_display": false
  }
 },
 "nbformat": 4,
 "nbformat_minor": 5
}
