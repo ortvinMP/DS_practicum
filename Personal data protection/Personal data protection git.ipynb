{
 "cells": [
  {
   "cell_type": "markdown",
   "metadata": {},
   "source": [
    "# Защита персональных данных клиентов"
   ]
  },
  {
   "cell_type": "markdown",
   "metadata": {},
   "source": [
    "- Нужно защитить данные клиентов страховой компании. Необходимо разработать такой метод преобразования данных, чтобы по ним было сложно восстановить персональную информацию. Нужно обосновать корректность его работы.\n",
    "\n",
    "- Нужно защитить данные, чтобы при преобразовании качество моделей машинного обучения не ухудшилось. Подбирать наилучшую модель не требуется."
   ]
  },
  {
   "cell_type": "code",
   "execution_count": 1,
   "metadata": {},
   "outputs": [],
   "source": [
    "import pandas as pd\n",
    "import numpy as np\n",
    "import seaborn as sns\n",
    "from sklearn.model_selection import train_test_split\n",
    "from sklearn.metrics import r2_score\n",
    "from numpy import linalg as LA\n",
    "from sklearn.linear_model import LinearRegression"
   ]
  },
  {
   "cell_type": "code",
   "execution_count": 2,
   "metadata": {},
   "outputs": [
    {
     "name": "stdout",
     "output_type": "stream",
     "text": [
      "Пол                    int64\n",
      "Возраст              float64\n",
      "Зарплата             float64\n",
      "Члены семьи            int64\n",
      "Страховые выплаты      int64\n",
      "dtype: object\n",
      "<class 'pandas.core.frame.DataFrame'>\n",
      "RangeIndex: 5000 entries, 0 to 4999\n",
      "Data columns (total 5 columns):\n",
      " #   Column             Non-Null Count  Dtype  \n",
      "---  ------             --------------  -----  \n",
      " 0   Пол                5000 non-null   int64  \n",
      " 1   Возраст            5000 non-null   float64\n",
      " 2   Зарплата           5000 non-null   float64\n",
      " 3   Члены семьи        5000 non-null   int64  \n",
      " 4   Страховые выплаты  5000 non-null   int64  \n",
      "dtypes: float64(2), int64(3)\n",
      "memory usage: 195.4 KB\n",
      "None\n"
     ]
    },
    {
     "data": {
      "text/html": [
       "<div>\n",
       "<style scoped>\n",
       "    .dataframe tbody tr th:only-of-type {\n",
       "        vertical-align: middle;\n",
       "    }\n",
       "\n",
       "    .dataframe tbody tr th {\n",
       "        vertical-align: top;\n",
       "    }\n",
       "\n",
       "    .dataframe thead th {\n",
       "        text-align: right;\n",
       "    }\n",
       "</style>\n",
       "<table border=\"1\" class=\"dataframe\">\n",
       "  <thead>\n",
       "    <tr style=\"text-align: right;\">\n",
       "      <th></th>\n",
       "      <th>Пол</th>\n",
       "      <th>Возраст</th>\n",
       "      <th>Зарплата</th>\n",
       "      <th>Члены семьи</th>\n",
       "      <th>Страховые выплаты</th>\n",
       "    </tr>\n",
       "  </thead>\n",
       "  <tbody>\n",
       "    <tr>\n",
       "      <th>0</th>\n",
       "      <td>1</td>\n",
       "      <td>41.0</td>\n",
       "      <td>49600.0</td>\n",
       "      <td>1</td>\n",
       "      <td>0</td>\n",
       "    </tr>\n",
       "    <tr>\n",
       "      <th>1</th>\n",
       "      <td>0</td>\n",
       "      <td>46.0</td>\n",
       "      <td>38000.0</td>\n",
       "      <td>1</td>\n",
       "      <td>1</td>\n",
       "    </tr>\n",
       "    <tr>\n",
       "      <th>2</th>\n",
       "      <td>0</td>\n",
       "      <td>29.0</td>\n",
       "      <td>21000.0</td>\n",
       "      <td>0</td>\n",
       "      <td>0</td>\n",
       "    </tr>\n",
       "    <tr>\n",
       "      <th>3</th>\n",
       "      <td>0</td>\n",
       "      <td>21.0</td>\n",
       "      <td>41700.0</td>\n",
       "      <td>2</td>\n",
       "      <td>0</td>\n",
       "    </tr>\n",
       "    <tr>\n",
       "      <th>4</th>\n",
       "      <td>1</td>\n",
       "      <td>28.0</td>\n",
       "      <td>26100.0</td>\n",
       "      <td>0</td>\n",
       "      <td>0</td>\n",
       "    </tr>\n",
       "  </tbody>\n",
       "</table>\n",
       "</div>"
      ],
      "text/plain": [
       "   Пол  Возраст  Зарплата  Члены семьи  Страховые выплаты\n",
       "0    1     41.0   49600.0            1                  0\n",
       "1    0     46.0   38000.0            1                  1\n",
       "2    0     29.0   21000.0            0                  0\n",
       "3    0     21.0   41700.0            2                  0\n",
       "4    1     28.0   26100.0            0                  0"
      ]
     },
     "metadata": {},
     "output_type": "display_data"
    }
   ],
   "source": [
    "try:\n",
    "    data=pd.read_csv('C:/Users/kaz-106/YandexDisk/Py-projects/02_Practicum projects/08_Linear_algebra/insurance.csv')\n",
    "except:\n",
    "    data=pd.read_csv('/datasets/insurance.csv')\n",
    "    \n",
    "print(data.dtypes)\n",
    "print(data.info())\n",
    "display(data.head())\n",
    "    "
   ]
  },
  {
   "cell_type": "markdown",
   "metadata": {},
   "source": [
    "## Загрузка данных"
   ]
  },
  {
   "cell_type": "markdown",
   "metadata": {},
   "source": [
    "1. Данные не содержат пропусков"
   ]
  },
  {
   "cell_type": "code",
   "execution_count": 3,
   "metadata": {},
   "outputs": [
    {
     "name": "stdout",
     "output_type": "stream",
     "text": [
      "0.148\n"
     ]
    }
   ],
   "source": [
    "print((data['Страховые выплаты'].sum())/(len(data['Страховые выплаты'])))"
   ]
  },
  {
   "cell_type": "code",
   "execution_count": 4,
   "metadata": {},
   "outputs": [
    {
     "data": {
      "text/html": [
       "<div>\n",
       "<style scoped>\n",
       "    .dataframe tbody tr th:only-of-type {\n",
       "        vertical-align: middle;\n",
       "    }\n",
       "\n",
       "    .dataframe tbody tr th {\n",
       "        vertical-align: top;\n",
       "    }\n",
       "\n",
       "    .dataframe thead th {\n",
       "        text-align: right;\n",
       "    }\n",
       "</style>\n",
       "<table border=\"1\" class=\"dataframe\">\n",
       "  <thead>\n",
       "    <tr style=\"text-align: right;\">\n",
       "      <th></th>\n",
       "      <th>Пол</th>\n",
       "      <th>Возраст</th>\n",
       "      <th>Зарплата</th>\n",
       "      <th>Члены семьи</th>\n",
       "      <th>Страховые выплаты</th>\n",
       "    </tr>\n",
       "  </thead>\n",
       "  <tbody>\n",
       "    <tr>\n",
       "      <th>Пол</th>\n",
       "      <td>1.000000</td>\n",
       "      <td>0.002074</td>\n",
       "      <td>0.014910</td>\n",
       "      <td>-0.008991</td>\n",
       "      <td>0.010140</td>\n",
       "    </tr>\n",
       "    <tr>\n",
       "      <th>Возраст</th>\n",
       "      <td>0.002074</td>\n",
       "      <td>1.000000</td>\n",
       "      <td>-0.019093</td>\n",
       "      <td>-0.006692</td>\n",
       "      <td>0.651030</td>\n",
       "    </tr>\n",
       "    <tr>\n",
       "      <th>Зарплата</th>\n",
       "      <td>0.014910</td>\n",
       "      <td>-0.019093</td>\n",
       "      <td>1.000000</td>\n",
       "      <td>-0.030296</td>\n",
       "      <td>-0.014963</td>\n",
       "    </tr>\n",
       "    <tr>\n",
       "      <th>Члены семьи</th>\n",
       "      <td>-0.008991</td>\n",
       "      <td>-0.006692</td>\n",
       "      <td>-0.030296</td>\n",
       "      <td>1.000000</td>\n",
       "      <td>-0.036290</td>\n",
       "    </tr>\n",
       "    <tr>\n",
       "      <th>Страховые выплаты</th>\n",
       "      <td>0.010140</td>\n",
       "      <td>0.651030</td>\n",
       "      <td>-0.014963</td>\n",
       "      <td>-0.036290</td>\n",
       "      <td>1.000000</td>\n",
       "    </tr>\n",
       "  </tbody>\n",
       "</table>\n",
       "</div>"
      ],
      "text/plain": [
       "                        Пол   Возраст  Зарплата  Члены семьи  \\\n",
       "Пол                1.000000  0.002074  0.014910    -0.008991   \n",
       "Возраст            0.002074  1.000000 -0.019093    -0.006692   \n",
       "Зарплата           0.014910 -0.019093  1.000000    -0.030296   \n",
       "Члены семьи       -0.008991 -0.006692 -0.030296     1.000000   \n",
       "Страховые выплаты  0.010140  0.651030 -0.014963    -0.036290   \n",
       "\n",
       "                   Страховые выплаты  \n",
       "Пол                         0.010140  \n",
       "Возраст                     0.651030  \n",
       "Зарплата                   -0.014963  \n",
       "Члены семьи                -0.036290  \n",
       "Страховые выплаты           1.000000  "
      ]
     },
     "metadata": {},
     "output_type": "display_data"
    }
   ],
   "source": [
    "display(data.corr()) \n"
   ]
  },
  {
   "cell_type": "markdown",
   "metadata": {},
   "source": [
    "## Теоретическое обоснование и умножение матриц"
   ]
  },
  {
   "cell_type": "markdown",
   "metadata": {},
   "source": [
    "Свойства обратных матриц\n",
    "\n",
    "- Матрица $А$ является обратной, если существует матрица $A^{-1}$, удовлетворяющая выражению:\n",
    "$ AA^{1} = A^{-1}A = E $,\n",
    "где $E$ - единичная матрица.\n",
    "- Обратная матрица обозначается как $A^{-1}$ \n",
    "- $А$ и $A^{-1}$ называются взаимно обратными\n",
    "- Если матрица $А$ обратима, то для нее существует только **одна** матрица обратная к $А$. \n",
    "- Если матрица $А$ обратима , то матрица $A^-1$ также является обратимой  \n",
    "- Определитель необратимой матрицы $= 0$, определитель обратимой матрицы $\\not= 0$  "
   ]
  },
  {
   "cell_type": "markdown",
   "metadata": {},
   "source": [
    "Обозначения:\n",
    "\n",
    "- $X$ — матрица признаков (нулевой столбец состоит из единиц)\n",
    "\n",
    "- $y$ — вектор целевого признака\n",
    "\n",
    "- $P$ — матрица, на которую умножаются признаки\n",
    "\n",
    "- $w$ — вектор весов линейной регрессии (нулевой элемент равен сдвигу)\n",
    "\n",
    "- $w*$ - вектор весов линейной регрессии матрицы полученной домножением исходной матрицы на обратимую (нулевой элемент равен сдвигу)\n",
    "\n",
    "- $\\hat{y}$ - предсказания по исходной матрице признаков\n",
    "\n",
    "- $\\hat{y}*$ - предсказания по матрице полученной домножением на обратимую матрицу"
   ]
  },
  {
   "cell_type": "markdown",
   "metadata": {},
   "source": [
    "**Что нужно доказать:** При умножении признаков на обратимую матрицу качество модели линейной регрессии не изменится\n",
    "\n",
    "**Доказательство:**\n",
    " \n",
    "1. Основные свойства обратной матрицы \n",
    "   $$ det(A)=1/det(A)$$\n",
    "2. Основные свойства единичной матрицы \n",
    "   $$AE=EA=A $$\n",
    "   $$AA^{-1}=E$$\n",
    "3. Сочетательное свойство матриц, ассоциативность: \n",
    "   $$A(BC)=(AB)C$$\n"
   ]
  },
  {
   "cell_type": "markdown",
   "metadata": {},
   "source": [
    "Рассмотрим исходную матрицу признаков $X$\n",
    "\n",
    "Предсказания:\n",
    "\n",
    "$$\n",
    "\\hat{y} = Xw\n",
    "$$\n",
    "\n",
    "Задача обучения:\n",
    "\n",
    "$$\n",
    "w = \\arg\\min_w MSE(Xw, y)\n",
    "$$\n",
    "\n",
    "Формула обучения:\n",
    "\n",
    "$$\n",
    "w = (X^T X)^{-1} X^T y\n",
    "$$\n",
    "\n",
    "Формула предсказания:\n",
    "\n",
    "$$\n",
    "\\hat{y} = X(X^TX)^{-1} X^Ty\n",
    "$$\n",
    "\n",
    "Раскроем скобки:\n",
    "\n",
    "$$\n",
    "\\hat{y} = X(X)^{-1}(X^T)^{-1} X^Ty\n",
    "$$\n",
    "\n",
    "Используем свойство единичной матрицы:\n",
    "\n",
    "$$\n",
    "\\hat{y} = EEy\n",
    "$$\n",
    "\n",
    "Иначе\n",
    "\n",
    "$$\n",
    "\\hat{y} = y\n",
    "$$\n",
    "\n",
    "Рассмотрим новую матрицу признаков $XP$\n",
    "\n",
    "Предсказания:\n",
    "\n",
    "$$\n",
    "\\hat{y}* = XPw*\n",
    "$$\n",
    "\n",
    "Формула обучения:\n",
    "\n",
    "$$\n",
    "w* = ((XP)^T XP)^{-1} (XP)^T y\n",
    "$$\n",
    "\n",
    "Раскроем транспонирование матриц:\n",
    "$$\n",
    "w* = (P^T X^T XP)^{-1} P^TX^T y\n",
    "$$\n",
    "\n",
    "Раскроем скобки для произведения обратных матриц:\n",
    "$$\n",
    "w* = (XP)^{-1}(P^T X^T)^{-1} P^TX^T y\n",
    "$$\n",
    "\n",
    "Еще раз раскроем скобки:\n",
    "$$\n",
    "w* = P^{-1}X^{-1}(X^T)^{-1}(P^T)^{-1}P^TX^T y\n",
    "$$\n",
    "\n",
    "Сократим произведение матриц $(P^T)^{-1}P^T$ по свойству единичной матрицы. Получим $E$ или $1$;\n",
    "$$\n",
    "w* = P^{-1}X^{-1}(X^T)^{-1}X^T y\n",
    "$$\n",
    "или\n",
    "$$\n",
    "w* = P^{-1}(X^TX)^{-1}X^T y\n",
    "$$\n",
    "\n",
    "Запишем предсказания по новым признакам с учетом полученной формулы для $w*$:\n",
    "\n",
    "$$\n",
    "\\hat{y}* = XPP^{-1}(X^TX)^{-1}X^T y\n",
    "$$\n",
    "\n",
    "Сократим произведение матриц $P(P)^{-1}$ по свойству единичной матрицы. Получаем $E$ или $1$;\n",
    "$$\n",
    "\\hat{y}* = X(X^TX)^{-1}X^T y\n",
    "$$\n",
    "\n",
    "В итоге\n",
    "$$ \n",
    "\\hat{y} =\\hat{y}* = X(X^TX)^{-1}X^T y \n",
    "$$\n",
    "\n",
    "Соотношение между векторами весов исходной и домноженной матрицы\n",
    "\n",
    "$$\n",
    "w* = P^{-1}w\n",
    "$$\n"
   ]
  },
  {
   "cell_type": "markdown",
   "metadata": {},
   "source": [
    " **Доказательство rev 2**"
   ]
  },
  {
   "cell_type": "markdown",
   "metadata": {},
   "source": [
    "$$ \n",
    "\\hat{y} =Xw=\\hat{y}*=XPw* \n",
    "$$\n",
    "\n",
    "$$\n",
    "w* = ((XP)^T XP)^{-1}(XP)^T y = (P^T X^T XP)^{-1}P^TX^Ty = P^{-1}(X^TX)^{-1}(P^T)^{-1}P^TX^Ty = P^{-1}(X^TX)^{-1}X^Ty=P^{-1}w\n",
    "$$\n",
    "\n",
    "Из преобразований выходит что нужно умножать на $P^{-1}$, значит $P$ должна быть обратимой"
   ]
  },
  {
   "cell_type": "markdown",
   "metadata": {},
   "source": [
    "## Алгоритм преобразования"
   ]
  },
  {
   "cell_type": "markdown",
   "metadata": {},
   "source": [
    "**Алгоритм**\n",
    "1. Запишем признаки и целевой признак\n",
    "2. Создадим произвольную обратимую нормальную матрицу\n",
    "    - обратимая матрица должна квадратной\n",
    "    - обратимая матрица должна иметь размер равный длине вектора признаков, в данном случае 4\n",
    "3. Обучим модель\n",
    "4. Получим метрику R2 модели\n",
    "5. Умножим обратную матрицу на признаки\n",
    "6. Обучим модель на новых данных\n",
    "7. Получим метрику R2 на новой модели\n",
    "8. Сравним метрики"
   ]
  },
  {
   "cell_type": "markdown",
   "metadata": {},
   "source": [
    "**Обоснование**\n",
    "\n",
    "1. Для проверки качества модели после умножения на произвольную квадратную нормальную матрицу будем сравнивать качество линейной регрессии для двух матриц (с умножением и без умножения)"
   ]
  },
  {
   "cell_type": "markdown",
   "metadata": {},
   "source": [
    "## Проверка алгоритма"
   ]
  },
  {
   "cell_type": "markdown",
   "metadata": {},
   "source": [
    "### Запись признаков"
   ]
  },
  {
   "cell_type": "code",
   "execution_count": 5,
   "metadata": {},
   "outputs": [],
   "source": [
    "features = data.drop('Страховые выплаты', axis=1).values\n",
    "target = data['Страховые выплаты'].values"
   ]
  },
  {
   "cell_type": "code",
   "execution_count": 6,
   "metadata": {},
   "outputs": [
    {
     "name": "stdout",
     "output_type": "stream",
     "text": [
      "4\n"
     ]
    }
   ],
   "source": [
    "n =len(features[0])\n",
    "print(n)"
   ]
  },
  {
   "cell_type": "markdown",
   "metadata": {},
   "source": [
    "### Создание произвольной матрицы"
   ]
  },
  {
   "cell_type": "code",
   "execution_count": 7,
   "metadata": {},
   "outputs": [
    {
     "data": {
      "text/plain": [
       "array([[-1.46454482, -0.02629502,  0.06894974, -0.75895875],\n",
       "       [ 2.97510428,  0.24959776, -0.52128918,  0.0523694 ],\n",
       "       [ 0.71129757, -0.69237197, -0.26072352, -0.8312422 ],\n",
       "       [-1.51603176,  0.56023374,  0.49772997, -0.59434147]])"
      ]
     },
     "metadata": {},
     "output_type": "display_data"
    }
   ],
   "source": [
    "random_c = np.random.normal(size=(n,n))\n",
    "display(random_c)"
   ]
  },
  {
   "cell_type": "markdown",
   "metadata": {},
   "source": [
    "### Проверка обратимости"
   ]
  },
  {
   "cell_type": "code",
   "execution_count": 8,
   "metadata": {},
   "outputs": [
    {
     "data": {
      "text/plain": [
       "array([[-0.72042864,  0.09207398,  0.38069216,  0.39564813],\n",
       "       [ 0.99405844,  0.83877447, -1.00719513,  0.21317689],\n",
       "       [-3.66528875, -1.02131342,  1.63506271,  2.30369968],\n",
       "       [-0.29482426, -0.29951741, -0.55117536, -0.56157258]])"
      ]
     },
     "metadata": {},
     "output_type": "display_data"
    }
   ],
   "source": [
    "random_c=LA.inv(random_c)\n",
    "display(random_c)"
   ]
  },
  {
   "cell_type": "markdown",
   "metadata": {},
   "source": [
    "### Обучение модели"
   ]
  },
  {
   "cell_type": "code",
   "execution_count": 9,
   "metadata": {},
   "outputs": [
    {
     "name": "stdout",
     "output_type": "stream",
     "text": [
      "R2 исходной модели: 0.4249455028666801\n",
      "R2 преобразованной модели: 0.424945502866677\n"
     ]
    }
   ],
   "source": [
    "model = LinearRegression()\n",
    "model.fit(features, target)\n",
    "predictions = model.predict(features)\n",
    "print('R2 исходной модели:',r2_score(target, predictions))\n",
    "\n",
    "new_matrix = features @ random_c\n",
    "model.fit(new_matrix, target)\n",
    "predictions = model.predict(new_matrix)\n",
    "print('R2 преобразованной модели:',r2_score(target, predictions))"
   ]
  },
  {
   "cell_type": "markdown",
   "metadata": {},
   "source": [
    "### Вывод"
   ]
  },
  {
   "cell_type": "markdown",
   "metadata": {},
   "source": [
    "**Выводы**\n",
    "\n",
    "1. Проведена выгрузка и проверка входных данных, проверка корреляции признаков\n",
    "2. Выполнено теоретическое обоснование задачи, проверена возможность умножения признаков на обратимую матрицу, доказана независимость метрик линейной регрессии от использования зашифрованных таким образом данных. Доказано соотношение между исходными и преобразоваными векторам коэффициентов\n",
    "3. Разработан алгоритм преобразования данных и обучения моделей на исходных и зашифрованных данных. Создана произвольная матрица для шифрования данных\n",
    "4. Проведено обучение моделей и сравнение метрик R2\n",
    "5. Метрики R2 не отличаются в пределах погрешности, результаты экперимента соотвествуют теоретическому обоснованию"
   ]
  }
 ],
 "metadata": {
  "ExecuteTimeLog": [
   {
    "duration": 2565,
    "start_time": "2023-02-16T17:10:47.397Z"
   },
   {
    "duration": 4,
    "start_time": "2023-02-16T17:10:49.964Z"
   },
   {
    "duration": 9,
    "start_time": "2023-02-16T17:10:49.969Z"
   },
   {
    "duration": 7,
    "start_time": "2023-02-16T17:10:49.980Z"
   },
   {
    "duration": 24,
    "start_time": "2023-02-16T17:10:49.989Z"
   },
   {
    "duration": 111,
    "start_time": "2023-02-16T17:10:50.016Z"
   },
   {
    "duration": 49,
    "start_time": "2023-02-17T05:06:19.735Z"
   },
   {
    "duration": 39,
    "start_time": "2023-02-17T05:08:29.313Z"
   },
   {
    "duration": 1562,
    "start_time": "2023-02-17T05:08:35.638Z"
   },
   {
    "duration": 158,
    "start_time": "2023-02-17T05:08:37.201Z"
   },
   {
    "duration": 3,
    "start_time": "2023-02-17T05:08:37.361Z"
   },
   {
    "duration": 23,
    "start_time": "2023-02-17T05:08:37.366Z"
   },
   {
    "duration": 4,
    "start_time": "2023-02-17T05:08:37.390Z"
   },
   {
    "duration": 6,
    "start_time": "2023-02-17T05:08:37.396Z"
   },
   {
    "duration": 7,
    "start_time": "2023-02-17T05:08:37.403Z"
   },
   {
    "duration": 258,
    "start_time": "2023-02-17T05:08:37.412Z"
   },
   {
    "duration": 63,
    "start_time": "2023-02-17T05:13:17.068Z"
   },
   {
    "duration": 4,
    "start_time": "2023-02-17T05:13:35.730Z"
   },
   {
    "duration": 9,
    "start_time": "2023-02-17T05:14:22.668Z"
   },
   {
    "duration": 11,
    "start_time": "2023-02-17T05:14:37.073Z"
   },
   {
    "duration": 356,
    "start_time": "2023-02-17T05:15:03.395Z"
   },
   {
    "duration": 50,
    "start_time": "2023-02-20T02:45:16.966Z"
   },
   {
    "duration": 325,
    "start_time": "2023-02-27T05:40:07.605Z"
   },
   {
    "duration": 69,
    "start_time": "2023-02-27T06:18:44.631Z"
   },
   {
    "duration": 49,
    "start_time": "2023-02-27T06:20:14.007Z"
   },
   {
    "duration": 1524,
    "start_time": "2023-02-27T06:20:20.585Z"
   },
   {
    "duration": 167,
    "start_time": "2023-02-27T06:20:22.111Z"
   },
   {
    "duration": 3,
    "start_time": "2023-02-27T06:20:22.280Z"
   },
   {
    "duration": 12,
    "start_time": "2023-02-27T06:20:22.285Z"
   },
   {
    "duration": 3,
    "start_time": "2023-02-27T06:20:22.299Z"
   },
   {
    "duration": 103,
    "start_time": "2023-02-27T06:20:22.304Z"
   },
   {
    "duration": 0,
    "start_time": "2023-02-27T06:20:22.408Z"
   },
   {
    "duration": 0,
    "start_time": "2023-02-27T06:20:22.409Z"
   },
   {
    "duration": 0,
    "start_time": "2023-02-27T06:20:22.410Z"
   },
   {
    "duration": 5,
    "start_time": "2023-02-27T06:21:15.592Z"
   },
   {
    "duration": 9,
    "start_time": "2023-02-27T06:21:25.721Z"
   },
   {
    "duration": 4,
    "start_time": "2023-02-27T06:21:32.035Z"
   },
   {
    "duration": 2,
    "start_time": "2023-02-27T06:21:44.694Z"
   },
   {
    "duration": 3,
    "start_time": "2023-02-27T06:21:52.085Z"
   },
   {
    "duration": 5,
    "start_time": "2023-02-27T06:22:01.629Z"
   },
   {
    "duration": 1333,
    "start_time": "2023-02-27T06:22:06.036Z"
   },
   {
    "duration": 131,
    "start_time": "2023-02-27T06:22:07.371Z"
   },
   {
    "duration": 4,
    "start_time": "2023-02-27T06:22:07.504Z"
   },
   {
    "duration": 11,
    "start_time": "2023-02-27T06:22:07.510Z"
   },
   {
    "duration": 4,
    "start_time": "2023-02-27T06:22:07.523Z"
   },
   {
    "duration": 4,
    "start_time": "2023-02-27T06:22:07.528Z"
   },
   {
    "duration": 5,
    "start_time": "2023-02-27T06:22:07.534Z"
   },
   {
    "duration": 8,
    "start_time": "2023-02-27T06:22:07.541Z"
   },
   {
    "duration": 59,
    "start_time": "2023-02-27T06:22:07.551Z"
   },
   {
    "duration": 72,
    "start_time": "2023-02-27T06:23:43.258Z"
   },
   {
    "duration": 1374,
    "start_time": "2023-02-27T07:51:37.200Z"
   },
   {
    "duration": 671,
    "start_time": "2023-02-27T07:51:38.576Z"
   },
   {
    "duration": 4,
    "start_time": "2023-02-27T07:51:39.249Z"
   },
   {
    "duration": 21,
    "start_time": "2023-02-27T07:51:39.255Z"
   },
   {
    "duration": 12,
    "start_time": "2023-02-27T07:51:39.277Z"
   },
   {
    "duration": 22,
    "start_time": "2023-02-27T07:51:39.290Z"
   },
   {
    "duration": 8,
    "start_time": "2023-02-27T07:51:39.314Z"
   },
   {
    "duration": 11,
    "start_time": "2023-02-27T07:51:39.324Z"
   },
   {
    "duration": 66,
    "start_time": "2023-02-27T07:51:39.344Z"
   },
   {
    "duration": 75,
    "start_time": "2023-02-27T10:11:17.286Z"
   },
   {
    "duration": 2,
    "start_time": "2023-02-27T10:30:20.026Z"
   }
  ],
  "kernelspec": {
   "display_name": "Python 3 (ipykernel)",
   "language": "python",
   "name": "python3"
  },
  "language_info": {
   "codemirror_mode": {
    "name": "ipython",
    "version": 3
   },
   "file_extension": ".py",
   "mimetype": "text/x-python",
   "name": "python",
   "nbconvert_exporter": "python",
   "pygments_lexer": "ipython3",
   "version": "3.9.13"
  },
  "toc": {
   "base_numbering": 1,
   "nav_menu": {},
   "number_sections": true,
   "sideBar": true,
   "skip_h1_title": true,
   "title_cell": "Содержание",
   "title_sidebar": "Contents",
   "toc_cell": true,
   "toc_position": {
    "height": "calc(100% - 180px)",
    "left": "10px",
    "top": "150px",
    "width": "384px"
   },
   "toc_section_display": true,
   "toc_window_display": true
  }
 },
 "nbformat": 4,
 "nbformat_minor": 4
}
