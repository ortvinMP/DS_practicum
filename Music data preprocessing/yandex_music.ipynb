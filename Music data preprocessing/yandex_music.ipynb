{
 "cells": [
  {
   "attachments": {},
   "cell_type": "markdown",
   "metadata": {
    "deletable": false,
    "editable": false,
    "id": "E0vqbgi9ay0H"
   },
   "source": [
    "# Яндекс Музыка"
   ]
  },
  {
   "attachments": {},
   "cell_type": "markdown",
   "metadata": {
    "deletable": false,
    "editable": false,
    "id": "VUC88oWjTJw2"
   },
   "source": [
    "На данных Яндекс Музыки сравним поведение пользователей двух городов\n",
    "\n",
    "**Цель исследования** — проверить три гипотезы:\n",
    "1. Активность пользователей зависит от дня недели. Причём в Москве и Петербурге это проявляется по-разному.\n",
    "2. В понедельник утром в Москве преобладают одни жанры, а в Петербурге — другие. Так же и вечером пятницы преобладают разные жанры — в зависимости от города. \n",
    "3. Москва и Петербург предпочитают разные жанры музыки. В Москве чаще слушают поп-музыку, в Петербурге — русский рэп.\n",
    "\n",
    "**Ход исследования**\n",
    "\n",
    "Данные о поведении пользователей возьмем из файла `yandex_music_project.csv`. О качестве данных ничего не известно. Поэтому перед проверкой гипотез выполним обзор данных. \n",
    "\n",
    "Проверим данные на ошибки и оценим их влияние на исследование. Затем, на этапе предобработки определим возможность исправить самые критичные ошибки данных.\n",
    "\n"
   ]
  },
  {
   "attachments": {},
   "cell_type": "markdown",
   "metadata": {
    "deletable": false,
    "editable": false,
    "id": "Ml1hmfXC_Zcs"
   },
   "source": [
    "## Обзор данных\n",
    "\n",
    "Проведем первоначальную оценку данных\n"
   ]
  },
  {
   "cell_type": "code",
   "execution_count": null,
   "metadata": {
    "deletable": false,
    "id": "AXN7PHPN_Zcs"
   },
   "outputs": [],
   "source": [
    "# импорт библиотеки pandas\n",
    "import pandas as pd"
   ]
  },
  {
   "cell_type": "code",
   "execution_count": null,
   "metadata": {
    "deletable": false,
    "id": "fFVu7vqh_Zct"
   },
   "outputs": [],
   "source": [
    "# загрузка с данными и сохранение в df\n",
    "df = pd.read_csv('/datasets/yandex_music_project.csv')"
   ]
  },
  {
   "cell_type": "code",
   "execution_count": 3,
   "metadata": {
    "deletable": false,
    "id": "oWTVX3gW_Zct"
   },
   "outputs": [
    {
     "name": "stdout",
     "output_type": "stream",
     "text": [
      "     userID                        Track            artist   genre  \\\n",
      "0  FFB692EC            Kamigata To Boots  The Mass Missile    rock   \n",
      "1  55204538  Delayed Because of Accident  Andreas Rönnberg    rock   \n",
      "2    20EC38            Funiculì funiculà       Mario Lanza     pop   \n",
      "3  A3DD03C9        Dragons in the Sunset        Fire + Ice    folk   \n",
      "4  E2DC1FAE                  Soul People        Space Echo   dance   \n",
      "5  842029A1                    Преданная         IMPERVTOR  rusrap   \n",
      "6  4CB90AA5                         True      Roman Messer   dance   \n",
      "7  F03E1C1F             Feeling This Way   Polina Griffith   dance   \n",
      "8  8FA1D3BE     И вновь продолжается бой               NaN  ruspop   \n",
      "9  E772D5C0                    Pessimist               NaN   dance   \n",
      "\n",
      "             City        time        Day  \n",
      "0  Saint-Petersburg  20:28:33  Wednesday  \n",
      "1            Moscow  14:07:09     Friday  \n",
      "2  Saint-Petersburg  20:58:07  Wednesday  \n",
      "3  Saint-Petersburg  08:37:09     Monday  \n",
      "4            Moscow  08:34:34     Monday  \n",
      "5  Saint-Petersburg  13:09:41     Friday  \n",
      "6            Moscow  13:00:07  Wednesday  \n",
      "7            Moscow  20:47:49  Wednesday  \n",
      "8            Moscow  09:17:40     Friday  \n",
      "9  Saint-Petersburg  21:20:49  Wednesday  \n"
     ]
    }
   ],
   "source": [
    "# получение первых 10 строк таблицы df\n",
    "print(df.head(10))"
   ]
  },
  {
   "cell_type": "code",
   "execution_count": 4,
   "metadata": {
    "deletable": false,
    "id": "DSf2kIb-_Zct"
   },
   "outputs": [
    {
     "name": "stdout",
     "output_type": "stream",
     "text": [
      "<class 'pandas.core.frame.DataFrame'>\n",
      "RangeIndex: 65079 entries, 0 to 65078\n",
      "Data columns (total 7 columns):\n",
      " #   Column    Non-Null Count  Dtype \n",
      "---  ------    --------------  ----- \n",
      " 0     userID  65079 non-null  object\n",
      " 1   Track     63848 non-null  object\n",
      " 2   artist    57876 non-null  object\n",
      " 3   genre     63881 non-null  object\n",
      " 4     City    65079 non-null  object\n",
      " 5   time      65079 non-null  object\n",
      " 6   Day       65079 non-null  object\n",
      "dtypes: object(7)\n",
      "memory usage: 3.5+ MB\n"
     ]
    }
   ],
   "source": [
    "# получение общей информации о данных в таблице df\n",
    "df.info()"
   ]
  },
  {
   "attachments": {},
   "cell_type": "markdown",
   "metadata": {
    "deletable": false,
    "editable": false,
    "id": "TaQ2Iwbr_Zct"
   },
   "source": [
    "В таблице семь столбцов. Тип данных во всех столбцах — `object`.\n",
    "\n",
    "Согласно документации к данным:\n",
    "* `userID` — идентификатор пользователя;\n",
    "* `Track` — название трека;  \n",
    "* `artist` — имя исполнителя;\n",
    "* `genre` — название жанра;\n",
    "* `City` — город пользователя;\n",
    "* `time` — время начала прослушивания;\n",
    "* `Day` — день недели.\n",
    "\n",
    "Количество значений в столбцах различается. В данных есть пропущенные значения."
   ]
  },
  {
   "attachments": {},
   "cell_type": "markdown",
   "metadata": {
    "deletable": false,
    "editable": false,
    "id": "MCB6-dXG_Zct"
   },
   "source": [
    "**Выводы**\n",
    "\n",
    "В данных есть пропуски, перед дальнейшим анализом необходимо их обработать"
   ]
  },
  {
   "attachments": {},
   "cell_type": "markdown",
   "metadata": {
    "deletable": false,
    "editable": false,
    "id": "dIaKXr29_Zct",
    "tags": [
     "start_task"
    ]
   },
   "source": [
    "### Стиль заголовков"
   ]
  },
  {
   "cell_type": "code",
   "execution_count": null,
   "metadata": {
    "deletable": false,
    "id": "oKOTdF_Q_Zct"
   },
   "outputs": [
    {
     "name": "stdout",
     "output_type": "stream",
     "text": [
      "Index(['  userID', 'Track', 'artist', 'genre', '  City  ', 'time', 'Day'], dtype='object')\n"
     ]
    }
   ],
   "source": [
    "# перечень названий столбцов таблицы df\n",
    "print(df.columns)"
   ]
  },
  {
   "cell_type": "code",
   "execution_count": null,
   "metadata": {
    "deletable": false,
    "id": "ISlFqs5y_Zct"
   },
   "outputs": [],
   "source": [
    "# приведем названия колонок к корректному стилю кода\n",
    "df=df.rename(columns={'  userID': 'user_id', 'Track': 'track', '  City  ': 'city', 'Day': 'day'})"
   ]
  },
  {
   "cell_type": "code",
   "execution_count": 8,
   "metadata": {
    "deletable": false,
    "id": "d4NOAmTW_Zct"
   },
   "outputs": [
    {
     "name": "stdout",
     "output_type": "stream",
     "text": [
      "Index(['user_id', 'track', 'artist', 'genre', 'city', 'time', 'day'], dtype='object')\n"
     ]
    }
   ],
   "source": [
    "# проверка результатов - перечень названий столбцов\n",
    "print(df.columns)"
   ]
  },
  {
   "attachments": {},
   "cell_type": "markdown",
   "metadata": {
    "deletable": false,
    "editable": false,
    "id": "5ISfbcfY_Zct",
    "tags": [
     "start_task"
    ]
   },
   "source": [
    "### Пропуски значений\n"
   ]
  },
  {
   "cell_type": "code",
   "execution_count": 9,
   "metadata": {
    "deletable": false,
    "id": "RskX29qr_Zct"
   },
   "outputs": [
    {
     "name": "stdout",
     "output_type": "stream",
     "text": [
      "user_id       0\n",
      "track      1231\n",
      "artist     7203\n",
      "genre      1198\n",
      "city          0\n",
      "time          0\n",
      "day           0\n",
      "dtype: int64\n"
     ]
    }
   ],
   "source": [
    "# подсчёт пропусков\n",
    "print(df.isna().sum())"
   ]
  },
  {
   "attachments": {},
   "cell_type": "markdown",
   "metadata": {
    "deletable": false,
    "editable": false,
    "id": "qubhgnlO_Zct"
   },
   "source": [
    "Не все пропуски имеют значение для проекта. Например пропуски в`track` и `artist` в данной ситуации не важны. Заменим их явными обозначениями.\n",
    "\n",
    "Но пропуски в `genre` могут помешать сравнению музыкальных вкусов в Москве и Санкт-Петербурге. На практике было бы правильно установить причину пропусков и восстановить данные. Такой возможности нет в учебном проекте. Придётся:\n",
    "* заполнить и эти пропуски явными обозначениями;\n",
    "* оценить, насколько они повредят расчётам. "
   ]
  },
  {
   "cell_type": "markdown",
   "metadata": {
    "deletable": false,
    "editable": false,
    "id": "fSv2laPA_Zct",
    "tags": [
     "start_task"
    ]
   },
   "source": [
    "**Задание 10**\n",
    "\n",
    "Замените пропущенные значения в столбцах `track`, `artist` и `genre` на строку `'unknown'`. Для этого создайте список `columns_to_replace`, переберите его элементы циклом `for` и для каждого столбца выполните замену пропущенных значений:"
   ]
  },
  {
   "cell_type": "code",
   "execution_count": 10,
   "metadata": {
    "deletable": false,
    "id": "KplB5qWs_Zct"
   },
   "outputs": [],
   "source": [
    "# перебор названий столбцов в цикле и замена пропущенных значений на 'unknown'\n",
    "columns_to_replace=['track','artist','genre']\n",
    "for column in columns_to_replace:\n",
    "    df[column]=df[column].fillna('unknown')\n",
    "df = df.drop_duplicates().reset_index(drop=True)"
   ]
  },
  {
   "cell_type": "markdown",
   "metadata": {
    "deletable": false,
    "editable": false,
    "id": "Ilsm-MZo_Zct",
    "tags": [
     "start_task"
    ]
   },
   "source": [
    "**Задание 11**\n",
    "\n",
    "Убедитесь, что в таблице не осталось пропусков. Для этого ещё раз посчитайте пропущенные значения."
   ]
  },
  {
   "cell_type": "code",
   "execution_count": 11,
   "metadata": {
    "deletable": false,
    "id": "Tq4nYRX4_Zct"
   },
   "outputs": [
    {
     "name": "stdout",
     "output_type": "stream",
     "text": [
      "user_id    0\n",
      "track      0\n",
      "artist     0\n",
      "genre      0\n",
      "city       0\n",
      "time       0\n",
      "day        0\n",
      "dtype: int64\n"
     ]
    }
   ],
   "source": [
    "# подсчёт пропусков\n",
    "print(df.isna().sum())"
   ]
  },
  {
   "cell_type": "markdown",
   "metadata": {
    "deletable": false,
    "editable": false,
    "id": "BWKRtBJ3_Zct",
    "tags": [
     "start_task"
    ]
   },
   "source": [
    "### Дубликаты\n",
    "\n",
    "**Задание 12**\n",
    "\n",
    "Посчитайте явные дубликаты в таблице одной командой:"
   ]
  },
  {
   "cell_type": "code",
   "execution_count": 12,
   "metadata": {
    "deletable": false,
    "id": "36eES_S0_Zct"
   },
   "outputs": [
    {
     "name": "stdout",
     "output_type": "stream",
     "text": [
      "0\n"
     ]
    }
   ],
   "source": [
    "# подсчёт явных дубликатов\n",
    "print(df.duplicated().sum())"
   ]
  },
  {
   "cell_type": "markdown",
   "metadata": {
    "deletable": false,
    "editable": false,
    "id": "Ot25h6XR_Zct",
    "tags": [
     "start_task"
    ]
   },
   "source": [
    "**Задание 13**\n",
    "\n",
    "Вызовите специальный метод `pandas`, чтобы удалить явные дубликаты:"
   ]
  },
  {
   "cell_type": "code",
   "execution_count": 13,
   "metadata": {
    "deletable": false,
    "id": "exFHq6tt_Zct"
   },
   "outputs": [],
   "source": [
    "# удаление явных дубликатов\n",
    "df = df.drop_duplicates().reset_index(drop=True)"
   ]
  },
  {
   "cell_type": "markdown",
   "metadata": {
    "deletable": false,
    "editable": false,
    "id": "Im2YwBEG_Zct",
    "tags": [
     "start_task"
    ]
   },
   "source": [
    "**Задание 14**\n",
    "\n",
    "Ещё раз посчитайте явные дубликаты в таблице — убедитесь, что полностью от них избавились:"
   ]
  },
  {
   "cell_type": "code",
   "execution_count": 14,
   "metadata": {
    "deletable": false,
    "id": "-8PuNWQ0_Zct"
   },
   "outputs": [
    {
     "name": "stdout",
     "output_type": "stream",
     "text": [
      "0\n"
     ]
    }
   ],
   "source": [
    "# проверка на отсутствие дубликатов\n",
    "print(df.duplicated().sum())"
   ]
  },
  {
   "cell_type": "markdown",
   "metadata": {
    "deletable": false,
    "editable": false,
    "id": "QlFBsxAr_Zct"
   },
   "source": [
    "Теперь избавьтесь от неявных дубликатов в колонке `genre`. Например, название одного и того же жанра может быть записано немного по-разному. Такие ошибки тоже повлияют на результат исследования."
   ]
  },
  {
   "cell_type": "markdown",
   "metadata": {
    "deletable": false,
    "editable": false,
    "id": "eSjWwsOh_Zct",
    "tags": [
     "start_task"
    ]
   },
   "source": [
    "**Задание 15**\n",
    "\n",
    "Выведите на экран список уникальных названий жанров, отсортированный в алфавитном порядке. Для этого:\n",
    "1. извлеките нужный столбец датафрейма; \n",
    "2. примените к нему метод сортировки;\n",
    "3. для отсортированного столбца вызовите метод, который вернёт уникальные значения из столбца."
   ]
  },
  {
   "cell_type": "code",
   "execution_count": 15,
   "metadata": {
    "deletable": false,
    "id": "JIUcqzZN_Zct"
   },
   "outputs": [
    {
     "name": "stdout",
     "output_type": "stream",
     "text": [
      "['acid' 'acoustic' 'action' 'adult' 'africa' 'afrikaans' 'alternative'\n",
      " 'alternativepunk' 'ambient' 'americana' 'animated' 'anime' 'arabesk'\n",
      " 'arabic' 'arena' 'argentinetango' 'art' 'audiobook' 'author' 'avantgarde'\n",
      " 'axé' 'baile' 'balkan' 'beats' 'bigroom' 'black' 'bluegrass' 'blues'\n",
      " 'bollywood' 'bossa' 'brazilian' 'breakbeat' 'breaks' 'broadway'\n",
      " 'cantautori' 'cantopop' 'canzone' 'caribbean' 'caucasian' 'celtic'\n",
      " 'chamber' 'chanson' 'children' 'chill' 'chinese' 'choral' 'christian'\n",
      " 'christmas' 'classical' 'classicmetal' 'club' 'colombian' 'comedy'\n",
      " 'conjazz' 'contemporary' 'country' 'cuban' 'dance' 'dancehall' 'dancepop'\n",
      " 'dark' 'death' 'deep' 'deutschrock' 'deutschspr' 'dirty' 'disco' 'dnb'\n",
      " 'documentary' 'downbeat' 'downtempo' 'drum' 'dub' 'dubstep' 'eastern'\n",
      " 'easy' 'electronic' 'electropop' 'emo' 'entehno' 'epicmetal' 'estrada'\n",
      " 'ethnic' 'eurofolk' 'european' 'experimental' 'extrememetal' 'fado'\n",
      " 'fairytail' 'film' 'fitness' 'flamenco' 'folk' 'folklore' 'folkmetal'\n",
      " 'folkrock' 'folktronica' 'forró' 'frankreich' 'französisch' 'french'\n",
      " 'funk' 'future' 'gangsta' 'garage' 'german' 'ghazal' 'gitarre' 'glitch'\n",
      " 'gospel' 'gothic' 'grime' 'grunge' 'gypsy' 'handsup' \"hard'n'heavy\"\n",
      " 'hardcore' 'hardstyle' 'hardtechno' 'hip' 'hip-hop' 'hiphop' 'historisch'\n",
      " 'holiday' 'hop' 'horror' 'house' 'hymn' 'idm' 'independent' 'indian'\n",
      " 'indie' 'indipop' 'industrial' 'inspirational' 'instrumental'\n",
      " 'international' 'irish' 'jam' 'japanese' 'jazz' 'jewish' 'jpop' 'jungle'\n",
      " 'k-pop' 'karadeniz' 'karaoke' 'kayokyoku' 'korean' 'laiko' 'latin'\n",
      " 'latino' 'leftfield' 'local' 'lounge' 'loungeelectronic' 'lovers'\n",
      " 'malaysian' 'mandopop' 'marschmusik' 'meditative' 'mediterranean'\n",
      " 'melodic' 'metal' 'metalcore' 'mexican' 'middle' 'minimal'\n",
      " 'miscellaneous' 'modern' 'mood' 'mpb' 'muslim' 'native' 'neoklassik'\n",
      " 'neue' 'new' 'newage' 'newwave' 'nu' 'nujazz' 'numetal' 'oceania' 'old'\n",
      " 'opera' 'orchestral' 'other' 'piano' 'podcasts' 'pop' 'popdance'\n",
      " 'popelectronic' 'popeurodance' 'poprussian' 'post' 'posthardcore'\n",
      " 'postrock' 'power' 'progmetal' 'progressive' 'psychedelic' 'punjabi'\n",
      " 'punk' 'quebecois' 'ragga' 'ram' 'rancheras' 'rap' 'rave' 'reggae'\n",
      " 'reggaeton' 'regional' 'relax' 'religious' 'retro' 'rhythm' 'rnb' 'rnr'\n",
      " 'rock' 'rockabilly' 'rockalternative' 'rockindie' 'rockother' 'romance'\n",
      " 'roots' 'ruspop' 'rusrap' 'rusrock' 'russian' 'salsa' 'samba' 'scenic'\n",
      " 'schlager' 'self' 'sertanejo' 'shanson' 'shoegazing' 'showtunes' 'singer'\n",
      " 'ska' 'skarock' 'slow' 'smooth' 'soft' 'soul' 'soulful' 'sound'\n",
      " 'soundtrack' 'southern' 'specialty' 'speech' 'spiritual' 'sport'\n",
      " 'stonerrock' 'surf' 'swing' 'synthpop' 'synthrock' 'sängerportrait'\n",
      " 'tango' 'tanzorchester' 'taraftar' 'tatar' 'tech' 'techno' 'teen'\n",
      " 'thrash' 'top' 'traditional' 'tradjazz' 'trance' 'tribal' 'trip'\n",
      " 'triphop' 'tropical' 'türk' 'türkçe' 'ukrrock' 'unknown' 'urban' 'uzbek'\n",
      " 'variété' 'vi' 'videogame' 'vocal' 'western' 'world' 'worldbeat' 'ïîï'\n",
      " 'электроника']\n"
     ]
    }
   ],
   "source": [
    "# Просмотр уникальных названий жанров\n",
    "genre_list=df['genre']\n",
    "genre_list=genre_list.sort_values()\n",
    "print(genre_list.unique())\n",
    "\n",
    "\n"
   ]
  },
  {
   "cell_type": "markdown",
   "metadata": {
    "deletable": false,
    "editable": false,
    "id": "qej-Qmuo_Zct",
    "tags": [
     "start_task"
    ]
   },
   "source": [
    "**Задание 16**\n",
    "\n",
    "Просмотрите список и найдите неявные дубликаты названия `hiphop`. Это могут быть названия с ошибками или альтернативные названия того же жанра.\n",
    "\n",
    "Вы увидите следующие неявные дубликаты:\n",
    "* *hip*,\n",
    "* *hop*,\n",
    "* *hip-hop*.\n",
    "\n",
    "Чтобы очистить от них таблицу используйте метод `replace()` с двумя аргументами: списком строк-дубликатов (включащий *hip*, *hop* и *hip-hop*) и строкой с правильным значением. Вам нужно исправить колонку `genre` в таблице `df`: заменить каждое значение из списка дубликатов на верное. Вместо `hip`, `hop` и `hip-hop` в таблице должно быть значение `hiphop`:"
   ]
  },
  {
   "cell_type": "code",
   "execution_count": 16,
   "metadata": {
    "deletable": false,
    "id": "ErNDkmns_Zct"
   },
   "outputs": [],
   "source": [
    "# Устранение неявных дубликатов\n",
    "duplicates = ['hip', 'hop', 'hip-hop']\n",
    "correct='hiphop'\n",
    "df['genre']=df['genre'].replace(duplicates, correct)"
   ]
  },
  {
   "cell_type": "markdown",
   "metadata": {
    "deletable": false,
    "editable": false,
    "id": "zQKF16_RG15m",
    "tags": [
     "start_task"
    ]
   },
   "source": [
    "**Задание 17**\n",
    "\n",
    "Проверьте, что заменили неправильные названия:\n",
    "\n",
    "*   hip,\n",
    "*   hop,\n",
    "*   hip-hop.\n",
    "\n",
    "Выведите отсортированный список уникальных значений столбца `genre`:"
   ]
  },
  {
   "cell_type": "code",
   "execution_count": 17,
   "metadata": {
    "deletable": false,
    "id": "wvixALnFG15m"
   },
   "outputs": [
    {
     "name": "stdout",
     "output_type": "stream",
     "text": [
      "['acid' 'acoustic' 'action' 'adult' 'africa' 'afrikaans' 'alternative'\n",
      " 'alternativepunk' 'ambient' 'americana' 'animated' 'anime' 'arabesk'\n",
      " 'arabic' 'arena' 'argentinetango' 'art' 'audiobook' 'author' 'avantgarde'\n",
      " 'axé' 'baile' 'balkan' 'beats' 'bigroom' 'black' 'bluegrass' 'blues'\n",
      " 'bollywood' 'bossa' 'brazilian' 'breakbeat' 'breaks' 'broadway'\n",
      " 'cantautori' 'cantopop' 'canzone' 'caribbean' 'caucasian' 'celtic'\n",
      " 'chamber' 'chanson' 'children' 'chill' 'chinese' 'choral' 'christian'\n",
      " 'christmas' 'classical' 'classicmetal' 'club' 'colombian' 'comedy'\n",
      " 'conjazz' 'contemporary' 'country' 'cuban' 'dance' 'dancehall' 'dancepop'\n",
      " 'dark' 'death' 'deep' 'deutschrock' 'deutschspr' 'dirty' 'disco' 'dnb'\n",
      " 'documentary' 'downbeat' 'downtempo' 'drum' 'dub' 'dubstep' 'eastern'\n",
      " 'easy' 'electronic' 'electropop' 'emo' 'entehno' 'epicmetal' 'estrada'\n",
      " 'ethnic' 'eurofolk' 'european' 'experimental' 'extrememetal' 'fado'\n",
      " 'fairytail' 'film' 'fitness' 'flamenco' 'folk' 'folklore' 'folkmetal'\n",
      " 'folkrock' 'folktronica' 'forró' 'frankreich' 'französisch' 'french'\n",
      " 'funk' 'future' 'gangsta' 'garage' 'german' 'ghazal' 'gitarre' 'glitch'\n",
      " 'gospel' 'gothic' 'grime' 'grunge' 'gypsy' 'handsup' \"hard'n'heavy\"\n",
      " 'hardcore' 'hardstyle' 'hardtechno' 'hiphop' 'historisch' 'holiday'\n",
      " 'horror' 'house' 'hymn' 'idm' 'independent' 'indian' 'indie' 'indipop'\n",
      " 'industrial' 'inspirational' 'instrumental' 'international' 'irish' 'jam'\n",
      " 'japanese' 'jazz' 'jewish' 'jpop' 'jungle' 'k-pop' 'karadeniz' 'karaoke'\n",
      " 'kayokyoku' 'korean' 'laiko' 'latin' 'latino' 'leftfield' 'local'\n",
      " 'lounge' 'loungeelectronic' 'lovers' 'malaysian' 'mandopop' 'marschmusik'\n",
      " 'meditative' 'mediterranean' 'melodic' 'metal' 'metalcore' 'mexican'\n",
      " 'middle' 'minimal' 'miscellaneous' 'modern' 'mood' 'mpb' 'muslim'\n",
      " 'native' 'neoklassik' 'neue' 'new' 'newage' 'newwave' 'nu' 'nujazz'\n",
      " 'numetal' 'oceania' 'old' 'opera' 'orchestral' 'other' 'piano' 'podcasts'\n",
      " 'pop' 'popdance' 'popelectronic' 'popeurodance' 'poprussian' 'post'\n",
      " 'posthardcore' 'postrock' 'power' 'progmetal' 'progressive' 'psychedelic'\n",
      " 'punjabi' 'punk' 'quebecois' 'ragga' 'ram' 'rancheras' 'rap' 'rave'\n",
      " 'reggae' 'reggaeton' 'regional' 'relax' 'religious' 'retro' 'rhythm'\n",
      " 'rnb' 'rnr' 'rock' 'rockabilly' 'rockalternative' 'rockindie' 'rockother'\n",
      " 'romance' 'roots' 'ruspop' 'rusrap' 'rusrock' 'russian' 'salsa' 'samba'\n",
      " 'scenic' 'schlager' 'self' 'sertanejo' 'shanson' 'shoegazing' 'showtunes'\n",
      " 'singer' 'ska' 'skarock' 'slow' 'smooth' 'soft' 'soul' 'soulful' 'sound'\n",
      " 'soundtrack' 'southern' 'specialty' 'speech' 'spiritual' 'sport'\n",
      " 'stonerrock' 'surf' 'swing' 'synthpop' 'synthrock' 'sängerportrait'\n",
      " 'tango' 'tanzorchester' 'taraftar' 'tatar' 'tech' 'techno' 'teen'\n",
      " 'thrash' 'top' 'traditional' 'tradjazz' 'trance' 'tribal' 'trip'\n",
      " 'triphop' 'tropical' 'türk' 'türkçe' 'ukrrock' 'unknown' 'urban' 'uzbek'\n",
      " 'variété' 'vi' 'videogame' 'vocal' 'western' 'world' 'worldbeat' 'ïîï'\n",
      " 'электроника']\n"
     ]
    }
   ],
   "source": [
    "# Проверка на неявные дубликаты\n",
    "genre_list=df['genre']\n",
    "genre_list=genre_list.sort_values()\n",
    "print(genre_list.unique())"
   ]
  },
  {
   "cell_type": "markdown",
   "metadata": {
    "deletable": false,
    "editable": false,
    "id": "jz6a9-7HQUDd"
   },
   "source": [
    "**Выводы**\n",
    "\n",
    "Предобработка обнаружила три проблемы в данных:\n",
    "\n",
    "- нарушения в стиле заголовков,\n",
    "- пропущенные значения,\n",
    "- дубликаты — явные и неявные.\n",
    "\n",
    "Вы исправили заголовки, чтобы упростить работу с таблицей. Без дубликатов исследование станет более точным.\n",
    "\n",
    "Пропущенные значения вы заменили на `'unknown'`. Ещё предстоит увидеть, не повредят ли исследованию пропуски в колонке `genre`.\n",
    "\n",
    "Теперь можно перейти к проверке гипотез. "
   ]
  },
  {
   "cell_type": "markdown",
   "metadata": {
    "deletable": false,
    "editable": false,
    "id": "WttZHXH0SqKk"
   },
   "source": [
    "## Проверка гипотез"
   ]
  },
  {
   "cell_type": "markdown",
   "metadata": {
    "deletable": false,
    "editable": false,
    "id": "Im936VVi_Zcu"
   },
   "source": [
    "### Сравнение поведения пользователей двух столиц"
   ]
  },
  {
   "cell_type": "markdown",
   "metadata": {
    "deletable": false,
    "editable": false,
    "id": "nwt_MuaL_Zcu"
   },
   "source": [
    "Первая гипотеза утверждает, что пользователи по-разному слушают музыку в Москве и Санкт-Петербурге. Проверьте это предположение по данным о трёх днях недели — понедельнике, среде и пятнице. Для этого:\n",
    "\n",
    "* Разделите пользователей Москвы и Санкт-Петербурга.\n",
    "* Сравните, сколько треков послушала каждая группа пользователей в понедельник, среду и пятницу.\n"
   ]
  },
  {
   "cell_type": "markdown",
   "metadata": {
    "deletable": false,
    "editable": false,
    "id": "8Dw_YMmT_Zcu",
    "tags": [
     "start_task"
    ]
   },
   "source": [
    "**Задание 18**\n",
    "\n",
    "Для тренировки сначала выполните каждый из расчётов по отдельности. \n",
    "\n",
    "Оцените активность пользователей в каждом городе. Сгруппируйте данные по городу и посчитайте прослушивания в каждой группе.\n",
    "\n"
   ]
  },
  {
   "cell_type": "code",
   "execution_count": 18,
   "metadata": {
    "deletable": false,
    "id": "0_Qs96oh_Zcu"
   },
   "outputs": [
    {
     "name": "stdout",
     "output_type": "stream",
     "text": [
      "city\n",
      "Moscow              42741\n",
      "Saint-Petersburg    18512\n",
      "Name: user_id, dtype: int64\n"
     ]
    }
   ],
   "source": [
    "# Подсчёт прослушиваний в каждом городе\n",
    "print(df.groupby('city')['user_id'].count())"
   ]
  },
  {
   "cell_type": "markdown",
   "metadata": {
    "deletable": false,
    "editable": false,
    "id": "dzli3w8o_Zcu",
    "tags": [
     "start_task"
    ]
   },
   "source": [
    "В Москве прослушиваний больше, чем в Петербурге. Из этого не следует, что московские пользователи чаще слушают музыку. Просто самих пользователей в Москве больше.\n",
    "\n",
    "**Задание 19**\n",
    "\n",
    "Теперь сгруппируйте данные по дню недели и посчитайте прослушивания в понедельник, среду и пятницу. Учтите, что в данных есть информация о прослушиваниях только за эти дни.\n"
   ]
  },
  {
   "cell_type": "code",
   "execution_count": 19,
   "metadata": {
    "deletable": false,
    "id": "uZMKjiJz_Zcu"
   },
   "outputs": [
    {
     "name": "stdout",
     "output_type": "stream",
     "text": [
      "day\n",
      "Friday       21840\n",
      "Monday       21354\n",
      "Wednesday    18059\n",
      "Name: user_id, dtype: int64\n"
     ]
    }
   ],
   "source": [
    "# Подсчёт прослушиваний в каждый из трёх дней\n",
    "print(df.groupby('day')['user_id'].count())"
   ]
  },
  {
   "cell_type": "markdown",
   "metadata": {
    "deletable": false,
    "editable": false,
    "id": "cC2tNrlL_Zcu"
   },
   "source": [
    "В среднем пользователи из двух городов менее активны по средам. Но картина может измениться, если рассмотреть каждый город в отдельности."
   ]
  },
  {
   "cell_type": "markdown",
   "metadata": {
    "deletable": false,
    "editable": false,
    "id": "POzs8bGa_Zcu",
    "tags": [
     "start_task"
    ]
   },
   "source": [
    "**Задание 20**\n",
    "\n",
    "\n",
    "Вы видели, как работает группировка по городу и по дням недели. Теперь напишите функцию, которая объединит два эти расчёта.\n",
    "\n",
    "Создайте функцию `number_tracks()`, которая посчитает прослушивания для заданного дня и города. Ей понадобятся два параметра:\n",
    "* день недели,\n",
    "* название города.\n",
    "\n",
    "В функции сохраните в переменную строки исходной таблицы, у которых значение:\n",
    "  * в колонке `day` равно параметру `day`,\n",
    "  * в колонке `city` равно параметру `city`.\n",
    "\n",
    "Для этого примените последовательную фильтрацию с логической индексацией (или сложные логические выражения в одну строку, если вы уже знакомы с ними).\n",
    "\n",
    "Затем посчитайте значения в столбце `user_id` получившейся таблицы. Результат сохраните в новую переменную. Верните эту переменную из функции."
   ]
  },
  {
   "cell_type": "code",
   "execution_count": 20,
   "metadata": {
    "deletable": false,
    "id": "Nz3GdQB1_Zcu"
   },
   "outputs": [
    {
     "data": {
      "text/plain": [
       "15945"
      ]
     },
     "execution_count": 20,
     "metadata": {},
     "output_type": "execute_result"
    }
   ],
   "source": [
    "def number_tracks(day, city):\n",
    "    track_list=df[df['day']==day]\n",
    "    track_list=track_list[track_list['city']==city]\n",
    "    track_list_count=track_list['user_id'].count()\n",
    "    return track_list_count\n",
    "\n",
    "number_tracks('Friday', 'Moscow')\n",
    "    \n",
    "# <создание функции number_tracks()>\n",
    "# Объявляется функция с двумя параметрами: day, city.\n",
    "# В переменной track_list сохраняются те строки таблицы df, для которых \n",
    "# значение в столбце 'day' равно параметру day и одновременно значение\n",
    "# в столбце 'city' равно параметру city (используйте последовательную фильтрацию\n",
    "# с помощью логической индексации или сложные логические выражения в одну строку, если вы уже знакомы с ними).\n",
    "# В переменной track_list_count сохраняется число значений столбца 'user_id',\n",
    "# рассчитанное методом count() для таблицы track_list.\n",
    "# Функция возвращает число - значение track_list_count.\n",
    "\n",
    "# Функция для подсчёта прослушиваний для конкретного города и дня.\n",
    "# С помощью последовательной фильтрации с логической индексацией она \n",
    "# сначала получит из исходной таблицы строки с нужным днём,\n",
    "# затем из результата отфильтрует строки с нужным городом,\n",
    "# методом count() посчитает количество значений в колонке user_id. \n",
    "# Это количество функция вернёт в качестве результата"
   ]
  },
  {
   "cell_type": "markdown",
   "metadata": {
    "deletable": false,
    "editable": false,
    "id": "ytf7xFrFJQ2r",
    "tags": [
     "start_task"
    ]
   },
   "source": [
    "**Задание 21**\n",
    "\n",
    "Вызовите `number_tracks()` шесть раз, меняя значение параметров — так, чтобы получить данные для каждого города в каждый из трёх дней."
   ]
  },
  {
   "cell_type": "code",
   "execution_count": 21,
   "metadata": {
    "deletable": false,
    "id": "rJcRATNQ_Zcu"
   },
   "outputs": [
    {
     "data": {
      "text/plain": [
       "15740"
      ]
     },
     "execution_count": 21,
     "metadata": {},
     "output_type": "execute_result"
    }
   ],
   "source": [
    "# количество прослушиваний в Москве по понедельникам\n",
    "number_tracks('Monday', 'Moscow')"
   ]
  },
  {
   "cell_type": "code",
   "execution_count": 22,
   "metadata": {
    "deletable": false,
    "id": "hq_ncZ5T_Zcu"
   },
   "outputs": [
    {
     "data": {
      "text/plain": [
       "5614"
      ]
     },
     "execution_count": 22,
     "metadata": {},
     "output_type": "execute_result"
    }
   ],
   "source": [
    "# количество прослушиваний в Санкт-Петербурге по понедельникам\n",
    "number_tracks('Monday', 'Saint-Petersburg')"
   ]
  },
  {
   "cell_type": "code",
   "execution_count": 23,
   "metadata": {
    "deletable": false,
    "id": "_NTy2VPU_Zcu"
   },
   "outputs": [
    {
     "data": {
      "text/plain": [
       "11056"
      ]
     },
     "execution_count": 23,
     "metadata": {},
     "output_type": "execute_result"
    }
   ],
   "source": [
    "# количество прослушиваний в Москве по средам\n",
    "number_tracks('Wednesday', 'Moscow')"
   ]
  },
  {
   "cell_type": "code",
   "execution_count": 24,
   "metadata": {
    "deletable": false,
    "id": "j2y3TAwo_Zcu"
   },
   "outputs": [
    {
     "data": {
      "text/plain": [
       "7003"
      ]
     },
     "execution_count": 24,
     "metadata": {},
     "output_type": "execute_result"
    }
   ],
   "source": [
    "# количество прослушиваний в Санкт-Петербурге по средам\n",
    "number_tracks('Wednesday', 'Saint-Petersburg')"
   ]
  },
  {
   "cell_type": "code",
   "execution_count": 25,
   "metadata": {
    "deletable": false,
    "id": "vYDw5u_K_Zcu"
   },
   "outputs": [
    {
     "data": {
      "text/plain": [
       "15945"
      ]
     },
     "execution_count": 25,
     "metadata": {},
     "output_type": "execute_result"
    }
   ],
   "source": [
    "# количество прослушиваний в Москве по пятницам\n",
    "number_tracks('Friday', 'Moscow')"
   ]
  },
  {
   "cell_type": "code",
   "execution_count": 26,
   "metadata": {
    "deletable": false,
    "id": "8_yzFtW3_Zcu"
   },
   "outputs": [
    {
     "data": {
      "text/plain": [
       "5895"
      ]
     },
     "execution_count": 26,
     "metadata": {},
     "output_type": "execute_result"
    }
   ],
   "source": [
    "# количество прослушиваний в Санкт-Петербурге по пятницам\n",
    "number_tracks('Friday', 'Saint-Petersburg')"
   ]
  },
  {
   "cell_type": "markdown",
   "metadata": {
    "deletable": false,
    "editable": false,
    "id": "7QXffbO-_Zcu",
    "tags": [
     "start_task"
    ]
   },
   "source": [
    "**Задание 22**\n",
    "\n",
    "Создайте c помощью конструктора `pd.DataFrame` таблицу, где\n",
    "* названия колонок — `['city', 'monday', 'wednesday', 'friday']`;\n",
    "* данные — результаты, которые вы получили с помощью `number_tracks`."
   ]
  },
  {
   "cell_type": "code",
   "execution_count": 27,
   "metadata": {
    "deletable": false,
    "id": "APAcLpOr_Zcu"
   },
   "outputs": [
    {
     "data": {
      "text/html": [
       "<div>\n",
       "<style scoped>\n",
       "    .dataframe tbody tr th:only-of-type {\n",
       "        vertical-align: middle;\n",
       "    }\n",
       "\n",
       "    .dataframe tbody tr th {\n",
       "        vertical-align: top;\n",
       "    }\n",
       "\n",
       "    .dataframe thead th {\n",
       "        text-align: right;\n",
       "    }\n",
       "</style>\n",
       "<table border=\"1\" class=\"dataframe\">\n",
       "  <thead>\n",
       "    <tr style=\"text-align: right;\">\n",
       "      <th></th>\n",
       "      <th>city</th>\n",
       "      <th>monday</th>\n",
       "      <th>wednesday</th>\n",
       "      <th>friday</th>\n",
       "    </tr>\n",
       "  </thead>\n",
       "  <tbody>\n",
       "    <tr>\n",
       "      <th>0</th>\n",
       "      <td>Москва</td>\n",
       "      <td>15740</td>\n",
       "      <td>11056</td>\n",
       "      <td>15945</td>\n",
       "    </tr>\n",
       "    <tr>\n",
       "      <th>1</th>\n",
       "      <td>Санкт-Петербург</td>\n",
       "      <td>5614</td>\n",
       "      <td>7003</td>\n",
       "      <td>5895</td>\n",
       "    </tr>\n",
       "  </tbody>\n",
       "</table>\n",
       "</div>"
      ],
      "text/plain": [
       "              city  monday  wednesday  friday\n",
       "0           Москва   15740      11056   15945\n",
       "1  Санкт-Петербург    5614       7003    5895"
      ]
     },
     "execution_count": 27,
     "metadata": {},
     "output_type": "execute_result"
    }
   ],
   "source": [
    "# Таблица с результатами\n",
    "results=pd.DataFrame(data=[['Москва', 15740, 11056, 15945],['Санкт-Петербург', 5614, 7003, 5895]],columns=['city', 'monday', 'wednesday', 'friday'])\n",
    "results"
   ]
  },
  {
   "cell_type": "markdown",
   "metadata": {
    "deletable": false,
    "editable": false,
    "id": "-EgPIHYu_Zcu"
   },
   "source": [
    "**Выводы**\n",
    "\n",
    "Данные показывают разницу поведения пользователей:\n",
    "\n",
    "- В Москве пик прослушиваний приходится на понедельник и пятницу, а в среду заметен спад.\n",
    "- В Петербурге, наоборот, больше слушают музыку по средам. Активность в понедельник и пятницу здесь почти в равной мере уступает среде.\n",
    "\n",
    "Значит, данные говорят в пользу первой гипотезы."
   ]
  },
  {
   "cell_type": "markdown",
   "metadata": {
    "deletable": false,
    "editable": false,
    "id": "atZAxtq4_Zcu"
   },
   "source": [
    "### Музыка в начале и в конце недели"
   ]
  },
  {
   "cell_type": "markdown",
   "metadata": {
    "deletable": false,
    "editable": false,
    "id": "eXrQqXFH_Zcu"
   },
   "source": [
    "Согласно второй гипотезе, утром в понедельник в Москве преобладают одни жанры, а в Петербурге — другие. Так же и вечером пятницы преобладают разные жанры — в зависимости от города."
   ]
  },
  {
   "cell_type": "markdown",
   "metadata": {
    "deletable": false,
    "editable": false,
    "id": "S8UcW6Hw_Zcu",
    "tags": [
     "start_task"
    ]
   },
   "source": [
    "**Задание 23**\n",
    "\n",
    "Сохраните таблицы с данными в две переменные:\n",
    "* по Москве — в `moscow_general`;\n",
    "* по Санкт-Петербургу — в `spb_general`."
   ]
  },
  {
   "cell_type": "code",
   "execution_count": 28,
   "metadata": {
    "deletable": false,
    "id": "qeaFfM_P_Zcu"
   },
   "outputs": [],
   "source": [
    "# получение таблицы moscow_general из тех строк таблицы df, \n",
    "# для которых значение в столбце 'city' равно 'Moscow'\n",
    "moscow_general=df[df['city']=='Moscow']"
   ]
  },
  {
   "cell_type": "code",
   "execution_count": 29,
   "metadata": {
    "deletable": false,
    "id": "ORaVRKto_Zcu"
   },
   "outputs": [],
   "source": [
    "# получение таблицы spb_general из тех строк таблицы df,\n",
    "# для которых значение в столбце 'city' равно 'Saint-Petersburg'\n",
    "spb_general=df[df['city']=='Saint-Petersburg']"
   ]
  },
  {
   "cell_type": "markdown",
   "metadata": {
    "deletable": false,
    "id": "MEJV-CX2_Zcu",
    "tags": [
     "start_task"
    ]
   },
   "source": [
    "**Задание 24**\n",
    "\n",
    "Создайте функцию `genre_weekday()` с четырьмя параметрами:\n",
    "* таблица (датафрейм) с данными,\n",
    "* день недели,\n",
    "* начальная временная метка в формате 'hh:mm', \n",
    "* последняя временная метка в формате 'hh:mm'.\n",
    "\n",
    "Функция должна вернуть информацию о топ-10 жанров тех треков, которые прослушивали в указанный день, в промежутке между двумя отметками времени."
   ]
  },
  {
   "cell_type": "code",
   "execution_count": 30,
   "metadata": {
    "deletable": false,
    "id": "laJT9BYl_Zcu"
   },
   "outputs": [],
   "source": [
    "def genre_weekday(table, day, time1, time2):\n",
    "    genre_df=table[table['day']==day]\n",
    "    genre_df=genre_df[genre_df['time']>time1]\n",
    "    genre_df=genre_df[genre_df['time']<time2]\n",
    "    genre_df_grouped=genre_df.groupby('genre')['genre'].count()\n",
    "    genre_df_sorted=genre_df_grouped.sort_values(ascending=False)\n",
    "    return genre_df_sorted[:10]\n",
    "    \n",
    "\n",
    "# Объявление функции genre_weekday() с параметрами table, day, time1, time2,\n",
    "# которая возвращает информацию о самых популярных жанрах в указанный день в\n",
    "# заданное время:\n",
    "# 1) в переменную genre_df сохраняются те строки переданного датафрейма table, для\n",
    "#    которых одновременно:\n",
    "#    - значение в столбце day равно значению аргумента day\n",
    "#    - значение в столбце time больше значения аргумента time1\n",
    "#    - значение в столбце time меньше значения аргумента time2\n",
    "#    Используйте последовательную фильтрацию с помощью логической индексации.\n",
    "# 2) сгруппировать датафрейм genre_df по столбцу genre, взять один из его\n",
    "#    столбцов и посчитать методом count() количество записей для каждого из\n",
    "#    присутствующих жанров, получившийся Series записать в переменную\n",
    "#    genre_df_count\n",
    "# 3) отсортировать genre_df_count по убыванию встречаемости и сохранить\n",
    "#    в переменную genre_df_sorted\n",
    "# 4) вернуть Series из 10 первых значений genre_df_sorted, это будут топ-10\n",
    "#    популярных жанров (в указанный день, в заданное время)\n",
    "\n"
   ]
  },
  {
   "cell_type": "markdown",
   "metadata": {
    "deletable": false,
    "editable": false,
    "id": "la2s2_PF_Zcu",
    "tags": [
     "start_task"
    ]
   },
   "source": [
    "**Задание 25**\n",
    "\n",
    "\n",
    "Cравните результаты функции `genre_weekday()` для Москвы и Санкт-Петербурга в понедельник утром (с 7:00 до 11:00) и в пятницу вечером (с 17:00 до 23:00):"
   ]
  },
  {
   "cell_type": "code",
   "execution_count": 31,
   "metadata": {
    "deletable": false,
    "id": "yz7itPUQ_Zcu"
   },
   "outputs": [
    {
     "data": {
      "text/plain": [
       "genre\n",
       "pop            781\n",
       "dance          549\n",
       "electronic     480\n",
       "rock           474\n",
       "hiphop         286\n",
       "ruspop         186\n",
       "world          181\n",
       "rusrap         175\n",
       "alternative    164\n",
       "unknown        161\n",
       "Name: genre, dtype: int64"
      ]
     },
     "execution_count": 31,
     "metadata": {},
     "output_type": "execute_result"
    }
   ],
   "source": [
    "genre_weekday(moscow_general,'Monday','07:00','11:00')\n",
    "\n",
    "\n",
    "\n",
    "# вызов функции для утра понедельника в Москве (вместо df — таблица moscow_general)\n",
    "# объекты, хранящие время, являются строками и сравниваются как строки\n",
    "# пример вызова: genre_weekday(moscow_general, 'Monday', '07:00', '11:00')"
   ]
  },
  {
   "cell_type": "code",
   "execution_count": 32,
   "metadata": {
    "deletable": false,
    "id": "kwUcHPdy_Zcu"
   },
   "outputs": [
    {
     "data": {
      "text/plain": [
       "genre\n",
       "pop            218\n",
       "dance          182\n",
       "rock           162\n",
       "electronic     147\n",
       "hiphop          80\n",
       "ruspop          64\n",
       "alternative     58\n",
       "rusrap          55\n",
       "jazz            44\n",
       "classical       40\n",
       "Name: genre, dtype: int64"
      ]
     },
     "execution_count": 32,
     "metadata": {},
     "output_type": "execute_result"
    }
   ],
   "source": [
    "# вызов функции для утра понедельника в Петербурге (вместо df — таблица spb_general)\n",
    "genre_weekday(spb_general,'Monday','07:00','11:00')"
   ]
  },
  {
   "cell_type": "code",
   "execution_count": 33,
   "metadata": {
    "deletable": false,
    "id": "EzXVRE1o_Zcu"
   },
   "outputs": [
    {
     "data": {
      "text/plain": [
       "genre\n",
       "pop            713\n",
       "rock           517\n",
       "dance          495\n",
       "electronic     482\n",
       "hiphop         273\n",
       "world          208\n",
       "ruspop         170\n",
       "alternative    163\n",
       "classical      163\n",
       "rusrap         142\n",
       "Name: genre, dtype: int64"
      ]
     },
     "execution_count": 33,
     "metadata": {},
     "output_type": "execute_result"
    }
   ],
   "source": [
    "# вызов функции для вечера пятницы в Москве\n",
    "genre_weekday(moscow_general,'Friday','17:00','23:00')"
   ]
  },
  {
   "cell_type": "code",
   "execution_count": 34,
   "metadata": {
    "deletable": false,
    "id": "JZaEKu5v_Zcu"
   },
   "outputs": [
    {
     "data": {
      "text/plain": [
       "genre\n",
       "pop            256\n",
       "electronic     216\n",
       "rock           216\n",
       "dance          210\n",
       "hiphop          97\n",
       "alternative     63\n",
       "jazz            61\n",
       "classical       60\n",
       "rusrap          59\n",
       "world           54\n",
       "Name: genre, dtype: int64"
      ]
     },
     "execution_count": 34,
     "metadata": {},
     "output_type": "execute_result"
    }
   ],
   "source": [
    "# вызов функции для вечера пятницы в Петербурге\n",
    "genre_weekday(spb_general,'Friday','17:00','23:00')"
   ]
  },
  {
   "cell_type": "markdown",
   "metadata": {
    "deletable": false,
    "editable": false,
    "id": "wrCe4MNX_Zcu"
   },
   "source": [
    "**Выводы**\n",
    "\n",
    "Если сравнить топ-10 жанров в понедельник утром, можно сделать такие выводы:\n",
    "\n",
    "1. В Москве и Петербурге слушают похожую музыку. Единственное отличие — в московский рейтинг вошёл жанр “world”, а в петербургский — джаз и классика.\n",
    "\n",
    "2. В Москве пропущенных значений оказалось так много, что значение `'unknown'` заняло десятое место среди самых популярных жанров. Значит, пропущенные значения занимают существенную долю в данных и угрожают достоверности исследования.\n",
    "\n",
    "Вечер пятницы не меняет эту картину. Некоторые жанры поднимаются немного выше, другие спускаются, но в целом топ-10 остаётся тем же самым.\n",
    "\n",
    "Таким образом, вторая гипотеза подтвердилась лишь частично:\n",
    "* Пользователи слушают похожую музыку в начале недели и в конце.\n",
    "* Разница между Москвой и Петербургом не слишком выражена. В Москве чаще слушают русскую популярную музыку, в Петербурге — джаз.\n",
    "\n",
    "Однако пропуски в данных ставят под сомнение этот результат. В Москве их так много, что рейтинг топ-10 мог бы выглядеть иначе, если бы не утерянные  данные о жанрах."
   ]
  },
  {
   "cell_type": "markdown",
   "metadata": {
    "deletable": false,
    "editable": false,
    "id": "JolODAqr_Zcu"
   },
   "source": [
    "### Жанровые предпочтения в Москве и Петербурге\n",
    "\n",
    "Гипотеза: Петербург — столица рэпа, музыку этого жанра там слушают чаще, чем в Москве.  А Москва — город контрастов, в котором, тем не менее, преобладает поп-музыка."
   ]
  },
  {
   "cell_type": "markdown",
   "metadata": {
    "deletable": false,
    "editable": false,
    "id": "DlegSvaT_Zcu",
    "tags": [
     "start_task"
    ]
   },
   "source": [
    "**Задание 26**\n",
    "\n",
    "Сгруппируйте таблицу `moscow_general` по жанру и посчитайте прослушивания треков каждого жанра методом `count()`. Затем отсортируйте результат в порядке убывания и сохраните его в таблице `moscow_genres`."
   ]
  },
  {
   "cell_type": "code",
   "execution_count": 35,
   "metadata": {
    "deletable": false,
    "id": "r19lIPke_Zcu"
   },
   "outputs": [],
   "source": [
    "moscow_genres=moscow_general.groupby('genre')['genre'].count().sort_values(ascending=False)\n",
    "# одной строкой: группировка таблицы moscow_general по столбцу 'genre', \n",
    "# подсчёт числа значений 'genre' в этой группировке методом count(), \n",
    "# сортировка получившегося Series в порядке убывания и сохранение в moscow_genres"
   ]
  },
  {
   "cell_type": "markdown",
   "metadata": {
    "deletable": false,
    "editable": false,
    "id": "6kMuomxTiIr8",
    "tags": [
     "start_task"
    ]
   },
   "source": [
    "**Задание 27**\n",
    "\n",
    "Выведите на экран первые десять строк `moscow_genres`:"
   ]
  },
  {
   "cell_type": "code",
   "execution_count": 36,
   "metadata": {
    "deletable": false,
    "id": "WhCSooF8_Zcv"
   },
   "outputs": [
    {
     "data": {
      "text/plain": [
       "genre\n",
       "pop            5892\n",
       "dance          4435\n",
       "rock           3965\n",
       "electronic     3786\n",
       "hiphop         2096\n",
       "classical      1616\n",
       "world          1432\n",
       "alternative    1379\n",
       "ruspop         1372\n",
       "rusrap         1161\n",
       "Name: genre, dtype: int64"
      ]
     },
     "execution_count": 36,
     "metadata": {},
     "output_type": "execute_result"
    }
   ],
   "source": [
    "# просмотр первых 10 строк moscow_genres\n",
    "moscow_genres[:10]"
   ]
  },
  {
   "cell_type": "markdown",
   "metadata": {
    "deletable": false,
    "editable": false,
    "id": "cnPG2vnN_Zcv",
    "tags": [
     "start_task"
    ]
   },
   "source": [
    "**Задание 28**\n",
    "\n",
    "\n",
    "Теперь повторите то же и для Петербурга.\n",
    "\n",
    "Сгруппируйте таблицу `spb_general` по жанру. Посчитайте прослушивания треков каждого жанра. Результат отсортируйте в порядке убывания и сохраните в таблице `spb_genres`:\n"
   ]
  },
  {
   "cell_type": "code",
   "execution_count": 37,
   "metadata": {
    "deletable": false,
    "id": "gluLIpE7_Zcv"
   },
   "outputs": [],
   "source": [
    "spb_genres=spb_general.groupby('genre')['genre'].count().sort_values(ascending=False)\n",
    "# одной строкой: группировка таблицы spb_general по столбцу 'genre', \n",
    "# подсчёт числа значений 'genre' в этой группировке методом count(), \n",
    "# сортировка получившегося Series в порядке убывания и сохранение в spb_genres"
   ]
  },
  {
   "cell_type": "markdown",
   "metadata": {
    "deletable": false,
    "editable": false,
    "id": "5Doha_ODgyQ8",
    "tags": [
     "start_task"
    ]
   },
   "source": [
    "**Задание 29**\n",
    "\n",
    "Выведите на экран первые десять строк `spb_genres`:"
   ]
  },
  {
   "cell_type": "code",
   "execution_count": 38,
   "metadata": {
    "deletable": false,
    "id": "uaGJHjVU_Zcv"
   },
   "outputs": [
    {
     "data": {
      "text/plain": [
       "genre\n",
       "pop            2431\n",
       "dance          1932\n",
       "rock           1879\n",
       "electronic     1736\n",
       "hiphop          960\n",
       "alternative     649\n",
       "classical       646\n",
       "rusrap          564\n",
       "ruspop          538\n",
       "world           515\n",
       "Name: genre, dtype: int64"
      ]
     },
     "execution_count": 38,
     "metadata": {},
     "output_type": "execute_result"
    }
   ],
   "source": [
    "spb_genres[:10]\n",
    "# просмотр первых 10 строк spb_genres"
   ]
  },
  {
   "cell_type": "markdown",
   "metadata": {
    "deletable": false,
    "editable": false,
    "id": "RY51YJYu_Zcv"
   },
   "source": [
    "**Выводы**"
   ]
  },
  {
   "cell_type": "markdown",
   "metadata": {
    "deletable": false,
    "editable": false,
    "id": "nVhnJEm__Zcv"
   },
   "source": [
    "Гипотеза частично подтвердилась:\n",
    "* Поп-музыка — самый популярный жанр в Москве, как и предполагала гипотеза. Более того, в топ-10 жанров встречается близкий жанр — русская популярная музыка.\n",
    "* Вопреки ожиданиям, рэп одинаково популярен в Москве и Петербурге. \n"
   ]
  },
  {
   "cell_type": "markdown",
   "metadata": {
    "deletable": false,
    "editable": false,
    "id": "ykKQ0N65_Zcv"
   },
   "source": [
    "## Итоги исследования"
   ]
  },
  {
   "cell_type": "markdown",
   "metadata": {
    "deletable": false,
    "editable": false,
    "id": "tjUwbHb3_Zcv"
   },
   "source": [
    "Вы проверили три гипотезы и установили:\n",
    "\n",
    "1. День недели по-разному влияет на активность пользователей в Москве и Петербурге. \n",
    "\n",
    "Первая гипотеза полностью подтвердилась.\n",
    "\n",
    "2. Музыкальные предпочтения не сильно меняются в течение недели — будь то Москва или Петербург. Небольшие различия заметны в начале недели, по понедельникам:\n",
    "* в Москве слушают музыку жанра “world”,\n",
    "* в Петербурге — джаз и классику.\n",
    "\n",
    "Таким образом, вторая гипотеза подтвердилась лишь отчасти. Этот результат мог оказаться иным, если бы не пропуски в данных.\n",
    "\n",
    "3. Во вкусах пользователей Москвы и Петербурга больше общего чем различий. Вопреки ожиданиям, предпочтения жанров в Петербурге напоминают московские.\n",
    "\n",
    "Третья гипотеза не подтвердилась. Если различия в предпочтениях и существуют, на основной массе пользователей они незаметны.\n",
    "\n",
    "**На практике исследования содержат проверки статистических гипотез.**\n",
    "Из данных одного сервиса не всегда можно сделать вывод о всех жителях города.\n",
    "Проверки статистических гипотез покажут, насколько они достоверны, исходя из имеющихся данных. \n",
    "С методами проверок гипотез вы ещё познакомитесь в следующих темах."
   ]
  }
 ],
 "metadata": {
  "ExecuteTimeLog": [
   {
    "duration": 50,
    "start_time": "2022-06-22T13:05:13.039Z"
   },
   {
    "duration": 84,
    "start_time": "2022-06-23T12:17:06.605Z"
   },
   {
    "duration": 57,
    "start_time": "2022-06-23T12:17:12.523Z"
   },
   {
    "duration": 7,
    "start_time": "2022-06-23T12:17:25.810Z"
   },
   {
    "duration": 7,
    "start_time": "2022-06-23T12:17:55.474Z"
   },
   {
    "duration": 7,
    "start_time": "2022-06-23T12:18:08.131Z"
   },
   {
    "duration": 8,
    "start_time": "2022-06-23T12:26:01.491Z"
   },
   {
    "duration": 413,
    "start_time": "2022-06-23T12:26:09.289Z"
   },
   {
    "duration": 459,
    "start_time": "2022-06-23T12:26:13.417Z"
   },
   {
    "duration": 202,
    "start_time": "2022-06-23T12:26:15.770Z"
   },
   {
    "duration": 19,
    "start_time": "2022-06-23T12:26:19.544Z"
   },
   {
    "duration": 34,
    "start_time": "2022-06-23T12:26:41.296Z"
   },
   {
    "duration": 2,
    "start_time": "2022-06-23T12:33:17.731Z"
   },
   {
    "duration": 3,
    "start_time": "2022-06-23T12:33:33.836Z"
   },
   {
    "duration": 43,
    "start_time": "2022-06-23T12:33:46.062Z"
   },
   {
    "duration": 6,
    "start_time": "2022-06-23T12:34:17.385Z"
   },
   {
    "duration": 31,
    "start_time": "2022-06-23T12:35:21.768Z"
   },
   {
    "duration": 33,
    "start_time": "2022-06-23T12:36:29.987Z"
   },
   {
    "duration": 53,
    "start_time": "2022-06-30T09:09:59.896Z"
   },
   {
    "duration": 10,
    "start_time": "2022-06-30T09:10:26.727Z"
   },
   {
    "duration": 9,
    "start_time": "2022-06-30T09:10:34.928Z"
   },
   {
    "duration": 7,
    "start_time": "2022-06-30T09:11:49.236Z"
   },
   {
    "duration": 3,
    "start_time": "2022-06-30T09:12:04.732Z"
   },
   {
    "duration": 27,
    "start_time": "2022-06-30T09:14:06.060Z"
   },
   {
    "duration": 26,
    "start_time": "2022-06-30T09:20:08.611Z"
   },
   {
    "duration": 812,
    "start_time": "2022-06-30T09:20:44.539Z"
   },
   {
    "duration": 27,
    "start_time": "2022-06-30T09:20:55.089Z"
   },
   {
    "duration": 878,
    "start_time": "2022-06-30T09:21:00.300Z"
   },
   {
    "duration": 71,
    "start_time": "2022-06-30T09:22:28.759Z"
   },
   {
    "duration": 76,
    "start_time": "2022-06-30T09:22:55.053Z"
   },
   {
    "duration": 68,
    "start_time": "2022-06-30T09:23:07.548Z"
   },
   {
    "duration": 6,
    "start_time": "2022-06-30T09:23:39.388Z"
   },
   {
    "duration": 11,
    "start_time": "2022-06-30T09:24:19.178Z"
   },
   {
    "duration": 5,
    "start_time": "2022-06-30T09:24:26.477Z"
   },
   {
    "duration": 7,
    "start_time": "2022-06-30T09:24:31.676Z"
   },
   {
    "duration": 5,
    "start_time": "2022-06-30T09:25:23.167Z"
   },
   {
    "duration": 2,
    "start_time": "2022-06-30T09:26:00.576Z"
   },
   {
    "duration": 11,
    "start_time": "2022-06-30T09:26:29.136Z"
   },
   {
    "duration": 39,
    "start_time": "2022-06-30T09:27:14.857Z"
   },
   {
    "duration": 75,
    "start_time": "2022-06-30T09:28:24.370Z"
   },
   {
    "duration": 52,
    "start_time": "2022-06-30T09:31:02.177Z"
   },
   {
    "duration": 80,
    "start_time": "2022-06-30T09:31:37.315Z"
   },
   {
    "duration": 51,
    "start_time": "2022-06-30T09:32:14.865Z"
   },
   {
    "duration": 72,
    "start_time": "2022-06-30T09:33:34.569Z"
   },
   {
    "duration": 53,
    "start_time": "2022-06-30T09:34:24.066Z"
   },
   {
    "duration": 66,
    "start_time": "2022-06-30T09:34:34.587Z"
   },
   {
    "duration": 49,
    "start_time": "2022-06-30T09:45:58.749Z"
   },
   {
    "duration": 7,
    "start_time": "2022-06-30T09:47:29.790Z"
   },
   {
    "duration": 7,
    "start_time": "2022-06-30T09:47:38.527Z"
   },
   {
    "duration": 450,
    "start_time": "2022-06-30T09:47:42.518Z"
   },
   {
    "duration": 156,
    "start_time": "2022-06-30T09:47:43.647Z"
   },
   {
    "duration": 8,
    "start_time": "2022-06-30T09:47:44.682Z"
   },
   {
    "duration": 33,
    "start_time": "2022-06-30T09:47:46.230Z"
   },
   {
    "duration": 2,
    "start_time": "2022-06-30T09:47:47.549Z"
   },
   {
    "duration": 3,
    "start_time": "2022-06-30T09:47:49.302Z"
   },
   {
    "duration": 14,
    "start_time": "2022-06-30T09:47:50.623Z"
   },
   {
    "duration": 3,
    "start_time": "2022-06-30T09:47:51.694Z"
   },
   {
    "duration": 25,
    "start_time": "2022-06-30T09:47:53.690Z"
   },
   {
    "duration": 106,
    "start_time": "2022-06-30T09:47:55.233Z"
   },
   {
    "duration": 23,
    "start_time": "2022-06-30T09:47:57.299Z"
   },
   {
    "duration": 60,
    "start_time": "2022-06-30T09:47:58.933Z"
   },
   {
    "duration": 69,
    "start_time": "2022-06-30T09:47:59.789Z"
   },
   {
    "duration": 58,
    "start_time": "2022-06-30T09:48:00.599Z"
   },
   {
    "duration": 63,
    "start_time": "2022-06-30T09:48:02.155Z"
   },
   {
    "duration": 51,
    "start_time": "2022-06-30T09:50:30.379Z"
   },
   {
    "duration": 30,
    "start_time": "2022-06-30T09:53:50.340Z"
   },
   {
    "duration": 32,
    "start_time": "2022-06-30T09:57:15.357Z"
   },
   {
    "duration": 17,
    "start_time": "2022-06-30T10:00:54.398Z"
   },
   {
    "duration": 6,
    "start_time": "2022-06-30T10:01:09.673Z"
   },
   {
    "duration": 6,
    "start_time": "2022-06-30T10:02:07.295Z"
   },
   {
    "duration": 34,
    "start_time": "2022-06-30T10:02:26.523Z"
   },
   {
    "duration": 48,
    "start_time": "2022-06-30T10:03:36.766Z"
   },
   {
    "duration": 15,
    "start_time": "2022-06-30T10:04:13.654Z"
   },
   {
    "duration": 14,
    "start_time": "2022-06-30T10:05:22.769Z"
   },
   {
    "duration": 13,
    "start_time": "2022-06-30T10:12:33.266Z"
   },
   {
    "duration": 13,
    "start_time": "2022-06-30T10:12:42.361Z"
   },
   {
    "duration": 3,
    "start_time": "2022-06-30T10:13:00.964Z"
   },
   {
    "duration": 16,
    "start_time": "2022-06-30T10:13:21.640Z"
   },
   {
    "duration": 4,
    "start_time": "2022-06-30T13:17:46.644Z"
   },
   {
    "duration": 9,
    "start_time": "2022-06-30T13:18:39.424Z"
   },
   {
    "duration": 10,
    "start_time": "2022-06-30T13:18:56.255Z"
   },
   {
    "duration": 20,
    "start_time": "2022-06-30T13:21:56.297Z"
   },
   {
    "duration": 23,
    "start_time": "2022-06-30T13:22:08.524Z"
   },
   {
    "duration": 25,
    "start_time": "2022-06-30T13:29:30.088Z"
   },
   {
    "duration": 21,
    "start_time": "2022-06-30T13:29:54.344Z"
   },
   {
    "duration": 58,
    "start_time": "2022-06-30T13:31:50.276Z"
   },
   {
    "duration": 12,
    "start_time": "2022-06-30T13:31:54.434Z"
   },
   {
    "duration": 4,
    "start_time": "2022-06-30T13:33:24.788Z"
   },
   {
    "duration": 9,
    "start_time": "2022-06-30T13:33:54.769Z"
   },
   {
    "duration": 32,
    "start_time": "2022-06-30T13:34:07.190Z"
   },
   {
    "duration": 22,
    "start_time": "2022-06-30T13:34:45.267Z"
   },
   {
    "duration": 30,
    "start_time": "2022-06-30T13:35:45.698Z"
   },
   {
    "duration": 30,
    "start_time": "2022-06-30T13:37:07.984Z"
   },
   {
    "duration": 37,
    "start_time": "2022-06-30T13:40:14.490Z"
   },
   {
    "duration": 29,
    "start_time": "2022-06-30T13:40:23.524Z"
   },
   {
    "duration": 31,
    "start_time": "2022-06-30T13:40:49.810Z"
   },
   {
    "duration": 19,
    "start_time": "2022-06-30T13:41:28.529Z"
   },
   {
    "duration": 25,
    "start_time": "2022-06-30T13:42:18.656Z"
   },
   {
    "duration": 19,
    "start_time": "2022-06-30T13:42:36.428Z"
   },
   {
    "duration": 23,
    "start_time": "2022-06-30T13:43:16.289Z"
   },
   {
    "duration": 19,
    "start_time": "2022-06-30T13:43:28.575Z"
   },
   {
    "duration": 17,
    "start_time": "2022-06-30T13:43:43.982Z"
   },
   {
    "duration": 14,
    "start_time": "2022-06-30T13:44:19.528Z"
   },
   {
    "duration": 30,
    "start_time": "2022-06-30T13:44:45.883Z"
   },
   {
    "duration": 31,
    "start_time": "2022-06-30T13:45:04.010Z"
   },
   {
    "duration": 19,
    "start_time": "2022-06-30T13:45:15.704Z"
   },
   {
    "duration": 22,
    "start_time": "2022-06-30T13:45:41.674Z"
   },
   {
    "duration": 55,
    "start_time": "2022-06-30T13:47:21.934Z"
   },
   {
    "duration": 9,
    "start_time": "2022-06-30T13:47:27.901Z"
   },
   {
    "duration": 8,
    "start_time": "2022-06-30T13:47:37.182Z"
   },
   {
    "duration": 19,
    "start_time": "2022-06-30T13:47:55.936Z"
   },
   {
    "duration": 52,
    "start_time": "2022-06-30T13:49:23.902Z"
   },
   {
    "duration": 70,
    "start_time": "2022-06-30T13:49:34.787Z"
   },
   {
    "duration": 48,
    "start_time": "2022-06-30T13:50:10.543Z"
   },
   {
    "duration": 19,
    "start_time": "2022-06-30T13:50:23.052Z"
   },
   {
    "duration": 22,
    "start_time": "2022-06-30T13:50:48.442Z"
   },
   {
    "duration": 16,
    "start_time": "2022-06-30T13:51:12.729Z"
   },
   {
    "duration": 20,
    "start_time": "2022-06-30T13:51:14.281Z"
   },
   {
    "duration": 15,
    "start_time": "2022-06-30T13:51:14.794Z"
   },
   {
    "duration": 18,
    "start_time": "2022-06-30T13:51:15.227Z"
   },
   {
    "duration": 15,
    "start_time": "2022-06-30T13:51:15.838Z"
   },
   {
    "duration": 17,
    "start_time": "2022-06-30T13:54:11.737Z"
   },
   {
    "duration": 14,
    "start_time": "2022-06-30T13:54:59.022Z"
   },
   {
    "duration": 16,
    "start_time": "2022-06-30T14:11:03.238Z"
   },
   {
    "duration": 7,
    "start_time": "2022-06-30T14:32:43.231Z"
   },
   {
    "duration": 4,
    "start_time": "2022-06-30T14:33:10.303Z"
   },
   {
    "duration": 12,
    "start_time": "2022-06-30T14:33:40.002Z"
   },
   {
    "duration": 9,
    "start_time": "2022-06-30T14:35:38.007Z"
   },
   {
    "duration": 20,
    "start_time": "2022-06-30T14:35:43.538Z"
   },
   {
    "duration": 63,
    "start_time": "2022-07-01T06:09:16.979Z"
   },
   {
    "duration": 5,
    "start_time": "2022-07-01T06:09:22.268Z"
   },
   {
    "duration": 47,
    "start_time": "2022-07-01T06:11:35.965Z"
   },
   {
    "duration": 8,
    "start_time": "2022-07-01T06:11:48.039Z"
   },
   {
    "duration": 4,
    "start_time": "2022-07-01T06:13:28.063Z"
   },
   {
    "duration": 8,
    "start_time": "2022-07-01T06:14:11.490Z"
   },
   {
    "duration": 7,
    "start_time": "2022-07-01T06:14:19.750Z"
   },
   {
    "duration": 503,
    "start_time": "2022-07-01T06:14:42.154Z"
   },
   {
    "duration": 195,
    "start_time": "2022-07-01T06:14:43.314Z"
   },
   {
    "duration": 9,
    "start_time": "2022-07-01T06:14:43.696Z"
   },
   {
    "duration": 29,
    "start_time": "2022-07-01T06:14:44.066Z"
   },
   {
    "duration": 2,
    "start_time": "2022-07-01T06:14:44.704Z"
   },
   {
    "duration": 4,
    "start_time": "2022-07-01T06:14:45.543Z"
   },
   {
    "duration": 12,
    "start_time": "2022-07-01T06:14:45.931Z"
   },
   {
    "duration": 4,
    "start_time": "2022-07-01T06:14:46.359Z"
   },
   {
    "duration": 23,
    "start_time": "2022-07-01T06:14:46.815Z"
   },
   {
    "duration": 91,
    "start_time": "2022-07-01T06:14:47.843Z"
   },
   {
    "duration": 23,
    "start_time": "2022-07-01T06:14:48.560Z"
   },
   {
    "duration": 62,
    "start_time": "2022-07-01T06:14:49.310Z"
   },
   {
    "duration": 72,
    "start_time": "2022-07-01T06:14:49.912Z"
   },
   {
    "duration": 58,
    "start_time": "2022-07-01T06:14:50.480Z"
   },
   {
    "duration": 38,
    "start_time": "2022-07-01T06:14:52.175Z"
   },
   {
    "duration": 12,
    "start_time": "2022-07-01T06:14:53.623Z"
   },
   {
    "duration": 40,
    "start_time": "2022-07-01T06:14:55.240Z"
   },
   {
    "duration": 11,
    "start_time": "2022-07-01T06:15:00.248Z"
   },
   {
    "duration": 11,
    "start_time": "2022-07-01T06:15:01.811Z"
   },
   {
    "duration": 24,
    "start_time": "2022-07-01T06:15:03.700Z"
   },
   {
    "duration": 17,
    "start_time": "2022-07-01T06:15:05.146Z"
   },
   {
    "duration": 15,
    "start_time": "2022-07-01T06:15:05.470Z"
   },
   {
    "duration": 15,
    "start_time": "2022-07-01T06:15:05.682Z"
   },
   {
    "duration": 14,
    "start_time": "2022-07-01T06:15:05.867Z"
   },
   {
    "duration": 16,
    "start_time": "2022-07-01T06:15:06.062Z"
   },
   {
    "duration": 16,
    "start_time": "2022-07-01T06:15:06.268Z"
   },
   {
    "duration": 10,
    "start_time": "2022-07-01T06:15:06.908Z"
   },
   {
    "duration": 12,
    "start_time": "2022-07-01T06:15:09.861Z"
   },
   {
    "duration": 9,
    "start_time": "2022-07-01T06:15:14.265Z"
   },
   {
    "duration": 15,
    "start_time": "2022-07-01T06:15:16.923Z"
   },
   {
    "duration": 20,
    "start_time": "2022-07-01T06:16:23.127Z"
   },
   {
    "duration": 23,
    "start_time": "2022-07-01T06:16:35.634Z"
   },
   {
    "duration": 21,
    "start_time": "2022-07-01T06:16:44.426Z"
   },
   {
    "duration": 22,
    "start_time": "2022-07-01T06:16:59.000Z"
   },
   {
    "duration": 42,
    "start_time": "2022-07-01T06:17:25.109Z"
   },
   {
    "duration": 21,
    "start_time": "2022-07-01T06:17:43.621Z"
   },
   {
    "duration": 4,
    "start_time": "2022-07-01T06:18:47.656Z"
   },
   {
    "duration": 26,
    "start_time": "2022-07-01T06:20:10.587Z"
   },
   {
    "duration": 379,
    "start_time": "2022-07-01T06:22:16.746Z"
   },
   {
    "duration": 160,
    "start_time": "2022-07-01T06:22:17.128Z"
   },
   {
    "duration": 9,
    "start_time": "2022-07-01T06:22:17.290Z"
   },
   {
    "duration": 44,
    "start_time": "2022-07-01T06:22:17.301Z"
   },
   {
    "duration": 3,
    "start_time": "2022-07-01T06:22:17.347Z"
   },
   {
    "duration": 10,
    "start_time": "2022-07-01T06:22:17.351Z"
   },
   {
    "duration": 14,
    "start_time": "2022-07-01T06:22:17.363Z"
   },
   {
    "duration": 9,
    "start_time": "2022-07-01T06:22:17.379Z"
   },
   {
    "duration": 24,
    "start_time": "2022-07-01T06:22:17.389Z"
   },
   {
    "duration": 89,
    "start_time": "2022-07-01T06:22:17.426Z"
   },
   {
    "duration": 28,
    "start_time": "2022-07-01T06:22:17.517Z"
   },
   {
    "duration": 57,
    "start_time": "2022-07-01T06:22:17.547Z"
   },
   {
    "duration": 78,
    "start_time": "2022-07-01T06:22:17.606Z"
   },
   {
    "duration": 61,
    "start_time": "2022-07-01T06:22:17.686Z"
   },
   {
    "duration": 39,
    "start_time": "2022-07-01T06:22:17.749Z"
   },
   {
    "duration": 10,
    "start_time": "2022-07-01T06:22:17.789Z"
   },
   {
    "duration": 59,
    "start_time": "2022-07-01T06:22:17.801Z"
   },
   {
    "duration": 11,
    "start_time": "2022-07-01T06:22:17.862Z"
   },
   {
    "duration": 11,
    "start_time": "2022-07-01T06:22:17.874Z"
   },
   {
    "duration": 48,
    "start_time": "2022-07-01T06:22:17.887Z"
   },
   {
    "duration": 20,
    "start_time": "2022-07-01T06:22:17.937Z"
   },
   {
    "duration": 14,
    "start_time": "2022-07-01T06:22:17.959Z"
   },
   {
    "duration": 13,
    "start_time": "2022-07-01T06:22:17.975Z"
   },
   {
    "duration": 38,
    "start_time": "2022-07-01T06:22:17.990Z"
   },
   {
    "duration": 16,
    "start_time": "2022-07-01T06:22:18.030Z"
   },
   {
    "duration": 14,
    "start_time": "2022-07-01T06:22:18.048Z"
   },
   {
    "duration": 10,
    "start_time": "2022-07-01T06:22:18.063Z"
   },
   {
    "duration": 10,
    "start_time": "2022-07-01T06:22:18.075Z"
   },
   {
    "duration": 8,
    "start_time": "2022-07-01T06:22:18.086Z"
   },
   {
    "duration": 34,
    "start_time": "2022-07-01T06:22:18.096Z"
   },
   {
    "duration": 23,
    "start_time": "2022-07-01T06:22:18.132Z"
   },
   {
    "duration": 12,
    "start_time": "2022-07-01T06:22:18.157Z"
   },
   {
    "duration": 15,
    "start_time": "2022-07-01T06:22:18.170Z"
   },
   {
    "duration": 11,
    "start_time": "2022-07-01T06:22:18.187Z"
   },
   {
    "duration": 2,
    "start_time": "2022-07-01T06:22:18.227Z"
   },
   {
    "duration": 5,
    "start_time": "2022-07-01T06:22:18.231Z"
   },
   {
    "duration": 4,
    "start_time": "2022-07-01T06:22:18.237Z"
   },
   {
    "duration": 5,
    "start_time": "2022-07-01T06:22:18.243Z"
   },
   {
    "duration": 3,
    "start_time": "2022-07-01T06:23:18.454Z"
   },
   {
    "duration": 16,
    "start_time": "2022-07-01T06:24:27.368Z"
   },
   {
    "duration": 17,
    "start_time": "2022-07-01T06:24:38.040Z"
   },
   {
    "duration": 4,
    "start_time": "2022-07-01T06:29:53.520Z"
   },
   {
    "duration": 61,
    "start_time": "2022-07-01T06:32:42.463Z"
   },
   {
    "duration": 7,
    "start_time": "2022-07-01T06:33:03.428Z"
   },
   {
    "duration": 350,
    "start_time": "2022-07-01T06:33:10.878Z"
   },
   {
    "duration": 155,
    "start_time": "2022-07-01T06:33:11.230Z"
   },
   {
    "duration": 7,
    "start_time": "2022-07-01T06:33:11.388Z"
   },
   {
    "duration": 33,
    "start_time": "2022-07-01T06:33:11.397Z"
   },
   {
    "duration": 3,
    "start_time": "2022-07-01T06:33:11.431Z"
   },
   {
    "duration": 11,
    "start_time": "2022-07-01T06:33:11.435Z"
   },
   {
    "duration": 16,
    "start_time": "2022-07-01T06:33:11.447Z"
   },
   {
    "duration": 12,
    "start_time": "2022-07-01T06:33:11.464Z"
   },
   {
    "duration": 30,
    "start_time": "2022-07-01T06:33:11.477Z"
   },
   {
    "duration": 93,
    "start_time": "2022-07-01T06:33:11.509Z"
   },
   {
    "duration": 26,
    "start_time": "2022-07-01T06:33:11.603Z"
   },
   {
    "duration": 59,
    "start_time": "2022-07-01T06:33:11.631Z"
   },
   {
    "duration": 75,
    "start_time": "2022-07-01T06:33:11.693Z"
   },
   {
    "duration": 61,
    "start_time": "2022-07-01T06:33:11.770Z"
   },
   {
    "duration": 37,
    "start_time": "2022-07-01T06:33:11.832Z"
   },
   {
    "duration": 11,
    "start_time": "2022-07-01T06:33:11.870Z"
   },
   {
    "duration": 55,
    "start_time": "2022-07-01T06:33:11.883Z"
   },
   {
    "duration": 11,
    "start_time": "2022-07-01T06:33:11.939Z"
   },
   {
    "duration": 11,
    "start_time": "2022-07-01T06:33:11.951Z"
   },
   {
    "duration": 23,
    "start_time": "2022-07-01T06:33:11.963Z"
   },
   {
    "duration": 43,
    "start_time": "2022-07-01T06:33:11.987Z"
   },
   {
    "duration": 13,
    "start_time": "2022-07-01T06:33:12.032Z"
   },
   {
    "duration": 20,
    "start_time": "2022-07-01T06:33:12.047Z"
   },
   {
    "duration": 14,
    "start_time": "2022-07-01T06:33:12.069Z"
   },
   {
    "duration": 16,
    "start_time": "2022-07-01T06:33:12.084Z"
   },
   {
    "duration": 36,
    "start_time": "2022-07-01T06:33:12.102Z"
   },
   {
    "duration": 9,
    "start_time": "2022-07-01T06:33:12.140Z"
   },
   {
    "duration": 13,
    "start_time": "2022-07-01T06:33:12.151Z"
   },
   {
    "duration": 11,
    "start_time": "2022-07-01T06:33:12.165Z"
   },
   {
    "duration": 5,
    "start_time": "2022-07-01T06:33:12.178Z"
   },
   {
    "duration": 43,
    "start_time": "2022-07-01T06:33:12.185Z"
   },
   {
    "duration": 12,
    "start_time": "2022-07-01T06:33:12.229Z"
   },
   {
    "duration": 14,
    "start_time": "2022-07-01T06:33:12.242Z"
   },
   {
    "duration": 10,
    "start_time": "2022-07-01T06:33:12.258Z"
   },
   {
    "duration": 8,
    "start_time": "2022-07-01T06:33:12.269Z"
   },
   {
    "duration": 5,
    "start_time": "2022-07-01T06:33:12.278Z"
   },
   {
    "duration": 5,
    "start_time": "2022-07-01T06:33:12.284Z"
   },
   {
    "duration": 36,
    "start_time": "2022-07-01T06:33:12.291Z"
   },
   {
    "duration": 7,
    "start_time": "2022-07-01T06:33:52.360Z"
   },
   {
    "duration": 394,
    "start_time": "2022-07-01T06:34:08.555Z"
   },
   {
    "duration": 154,
    "start_time": "2022-07-01T06:34:08.952Z"
   },
   {
    "duration": 17,
    "start_time": "2022-07-01T06:34:09.110Z"
   },
   {
    "duration": 42,
    "start_time": "2022-07-01T06:34:09.129Z"
   },
   {
    "duration": 11,
    "start_time": "2022-07-01T06:34:09.173Z"
   },
   {
    "duration": 20,
    "start_time": "2022-07-01T06:34:09.185Z"
   },
   {
    "duration": 27,
    "start_time": "2022-07-01T06:34:09.207Z"
   },
   {
    "duration": 15,
    "start_time": "2022-07-01T06:34:09.237Z"
   },
   {
    "duration": 45,
    "start_time": "2022-07-01T06:34:09.254Z"
   },
   {
    "duration": 92,
    "start_time": "2022-07-01T06:34:09.301Z"
   },
   {
    "duration": 22,
    "start_time": "2022-07-01T06:34:09.395Z"
   },
   {
    "duration": 59,
    "start_time": "2022-07-01T06:34:09.427Z"
   },
   {
    "duration": 82,
    "start_time": "2022-07-01T06:34:09.489Z"
   },
   {
    "duration": 63,
    "start_time": "2022-07-01T06:34:09.573Z"
   },
   {
    "duration": 40,
    "start_time": "2022-07-01T06:34:09.638Z"
   },
   {
    "duration": 12,
    "start_time": "2022-07-01T06:34:09.680Z"
   },
   {
    "duration": 59,
    "start_time": "2022-07-01T06:34:09.693Z"
   },
   {
    "duration": 11,
    "start_time": "2022-07-01T06:34:09.753Z"
   },
   {
    "duration": 11,
    "start_time": "2022-07-01T06:34:09.766Z"
   },
   {
    "duration": 49,
    "start_time": "2022-07-01T06:34:09.778Z"
   },
   {
    "duration": 18,
    "start_time": "2022-07-01T06:34:09.829Z"
   },
   {
    "duration": 16,
    "start_time": "2022-07-01T06:34:09.849Z"
   },
   {
    "duration": 14,
    "start_time": "2022-07-01T06:34:09.867Z"
   },
   {
    "duration": 15,
    "start_time": "2022-07-01T06:34:09.882Z"
   },
   {
    "duration": 15,
    "start_time": "2022-07-01T06:34:09.928Z"
   },
   {
    "duration": 14,
    "start_time": "2022-07-01T06:34:09.945Z"
   },
   {
    "duration": 9,
    "start_time": "2022-07-01T06:34:09.960Z"
   },
   {
    "duration": 11,
    "start_time": "2022-07-01T06:34:09.971Z"
   },
   {
    "duration": 9,
    "start_time": "2022-07-01T06:34:09.983Z"
   },
   {
    "duration": 35,
    "start_time": "2022-07-01T06:34:09.994Z"
   },
   {
    "duration": 27,
    "start_time": "2022-07-01T06:34:10.031Z"
   },
   {
    "duration": 12,
    "start_time": "2022-07-01T06:34:10.060Z"
   },
   {
    "duration": 15,
    "start_time": "2022-07-01T06:34:10.073Z"
   },
   {
    "duration": 11,
    "start_time": "2022-07-01T06:34:10.090Z"
   },
   {
    "duration": 31,
    "start_time": "2022-07-01T06:34:10.102Z"
   },
   {
    "duration": 4,
    "start_time": "2022-07-01T06:34:10.135Z"
   },
   {
    "duration": 10,
    "start_time": "2022-07-01T06:34:10.140Z"
   },
   {
    "duration": 5,
    "start_time": "2022-07-01T06:34:10.152Z"
   },
   {
    "duration": 678,
    "start_time": "2022-07-01T06:43:58.481Z"
   }
  ],
  "colab": {
   "collapsed_sections": [
    "E0vqbgi9ay0H",
    "VUC88oWjTJw2"
   ],
   "name": "automatization_template_upd4.ipynb",
   "provenance": []
  },
  "kernelspec": {
   "display_name": "Python 3 (ipykernel)",
   "language": "python",
   "name": "python3"
  },
  "language_info": {
   "codemirror_mode": {
    "name": "ipython",
    "version": 3
   },
   "file_extension": ".py",
   "mimetype": "text/x-python",
   "name": "python",
   "nbconvert_exporter": "python",
   "pygments_lexer": "ipython3",
   "version": "3.9.13"
  },
  "toc": {
   "base_numbering": 1,
   "nav_menu": {
    "height": "215px",
    "width": "403px"
   },
   "number_sections": true,
   "sideBar": true,
   "skip_h1_title": true,
   "title_cell": "Table of Contents",
   "title_sidebar": "Contents",
   "toc_cell": false,
   "toc_position": {
    "height": "calc(100% - 180px)",
    "left": "10px",
    "top": "150px",
    "width": "285.825px"
   },
   "toc_section_display": true,
   "toc_window_display": false
  }
 },
 "nbformat": 4,
 "nbformat_minor": 4
}
