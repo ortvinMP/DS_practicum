{
 "cells": [
  {
   "cell_type": "markdown",
   "id": "f236a25a",
   "metadata": {},
   "source": [
    "# Проект - переработка золота"
   ]
  },
  {
   "cell_type": "markdown",
   "id": "bf07acd4",
   "metadata": {},
   "source": [
    "## Общая информация"
   ]
  },
  {
   "cell_type": "markdown",
   "id": "66adb27e",
   "metadata": {},
   "source": [
    "- Данные находятся в трёх файлах:\n",
    "    \n",
    "    - gold_recovery_train_new.csv — обучающая выборка;\n",
    "    - gold_recovery_test_new.csv — тестовая выборка;\n",
    "    - gold_recovery_full_new.csv — исходные данные.\n",
    "\n",
    "- Данные индексируются датой и временем получения информации (признак date). Соседние по времени параметры часто похожи.\n",
    "\n",
    "- Некоторые параметры недоступны, потому что замеряются и/или рассчитываются значительно позже. Из-за этого в тестовой выборке отсутствуют некоторые признаки, которые могут быть в обучающей. Также в тестовом наборе нет целевых признаков.\n",
    "\n",
    "- Исходный датасет содержит обучающую и тестовую выборки со всеми признаками.\n",
    "\n",
    "- Имеются сырые данные. Прежде чем приступить к построению модели, проверим их корректность."
   ]
  },
  {
   "cell_type": "markdown",
   "id": "2721084a",
   "metadata": {},
   "source": [
    "## Описание параметров\n",
    "\n",
    "### Технологический процесс\n",
    "\n",
    "- Rougher feed — исходное сырье\n",
    "- Rougher additions (или reagent additions) — флотационные реагенты: Xanthate, Sulphate, Depressant\n",
    "- Xanthate **— ксантогенат (промотер, или активатор флотации);\n",
    "- Sulphate — сульфат (на данном производстве сульфид натрия);\n",
    "- Depressant — депрессант (силикат натрия).\n",
    "- Rougher process (англ. «грубый процесс») — флотация\n",
    "- Rougher tails — отвальные хвосты\n",
    "- Float banks — флотационная установка\n",
    "- Cleaner process — очистка\n",
    "- Rougher Au — черновой концентрат золота\n",
    "- Final Au — финальный концентрат золота\n",
    "\n",
    "### Параметры этапов\n",
    "\n",
    "- air amount — объём воздуха\n",
    "- fluid levels — уровень жидкости\n",
    "- feed size — размер гранул сырья\n",
    "- feed rate — скорость подачи\n",
    "\n",
    "### Наименование признаков\n",
    "\n",
    "    Наименование признаков должно быть такое:\n",
    "[этап].[тип_параметра].[название_параметра]\n",
    "    \n",
    "    Пример: rougher.input.feed_ag\n",
    "    \n",
    "Возможные значения для блока [этап]:\n",
    "- rougher — флотация\n",
    "- primary_cleaner — первичная очистка\n",
    "- secondary_cleaner — вторичная очистка\n",
    "- final — финальные характеристики\n",
    "\n",
    "Возможные значения для блока [тип_параметра]:\n",
    "- input — параметры сырья\n",
    "- output — параметры продукта\n",
    "- state — параметры, характеризующие текущее состояние этапа\n",
    "- calculation — расчётные характеристики\n",
    "\n",
    "### Расчёт эффективности\n",
    "\n",
    "Нужно смоделировать процесс восстановления золота из золотосодержащей руды.\n",
    "Эффективность обогащения рассчитывается по формуле:\n",
    "\n",
    "Recovery = (C*(F-T)) / (F*(C-T)) * 100%\n",
    "\n",
    "- C — доля золота в концентрате после флотации/очистки;\n",
    "- F — доля золота в сырье/концентрате до флотации/очистки;\n",
    "- T — доля золота в отвальных хвостах после флотации/очистки.\n",
    "\n",
    "### Метрика качества\n",
    "\n",
    "Используем метрику качества — sMAPE (англ. Symmetric Mean Absolute Percentage Error, «симметричное среднее абсолютное процентне отклонение»).\n",
    "\n",
    "- Необходимо спрогнозировать две величины\n",
    "    1. Эффективность обогащения чернового концентрата rougher.output.recovery;\n",
    "    2. Эффективность обогащения финального концентрата final.output.recovery."
   ]
  },
  {
   "cell_type": "markdown",
   "id": "f64ffb32",
   "metadata": {},
   "source": [
    "## Критерии проверки проекта\n",
    "\n",
    "- Насколько хорошо данные подготовлены и проанализированы\n",
    "- Какие строятся модели\n",
    "- Как проверяется их качество\n",
    "- Все ли шаги инструкции выполняются\n",
    "- Поддерживается ли структура проекта и правильно ли выполняются шаги\n",
    "- Какие получаются выводы\n",
    "- Поддерживается ли аккуратность кода, нет ли дублирования"
   ]
  },
  {
   "cell_type": "markdown",
   "id": "92355b6a",
   "metadata": {},
   "source": [
    "# Выполнение проекта"
   ]
  },
  {
   "cell_type": "markdown",
   "id": "adc52065",
   "metadata": {},
   "source": [
    "## Загрузка и общий анализ данных"
   ]
  },
  {
   "cell_type": "markdown",
   "id": "59bc67b4",
   "metadata": {},
   "source": [
    "### Загрузка данных"
   ]
  },
  {
   "cell_type": "code",
   "execution_count": 1,
   "id": "397b18c1",
   "metadata": {},
   "outputs": [],
   "source": [
    "import pandas as pd\n",
    "import matplotlib.pyplot as plt\n",
    "import seaborn as sns\n",
    "import numpy as np\n",
    "\n",
    "from sklearn.metrics import mean_squared_error\n",
    "from sklearn.metrics import mean_absolute_error\n",
    "from sklearn.metrics import accuracy_score\n",
    "from sklearn.metrics import make_scorer\n",
    "from sklearn.model_selection import train_test_split\n",
    "from sklearn.model_selection import GridSearchCV, cross_val_score, train_test_split, KFold, TimeSeriesSplit\n",
    "from sklearn.linear_model import LinearRegression\n",
    "from sklearn.ensemble import RandomForestClassifier\n",
    "from sklearn.ensemble import RandomForestRegressor\n",
    "from sklearn.tree import DecisionTreeClassifier\n",
    "from sklearn.preprocessing import StandardScaler\n",
    "\n",
    "from scipy import stats as st\n",
    "\n",
    "from math import sqrt\n",
    "\n",
    "pd.set_option('mode.chained_assignment', None)"
   ]
  },
  {
   "cell_type": "code",
   "execution_count": 2,
   "id": "7708545c",
   "metadata": {},
   "outputs": [],
   "source": [
    "try:\n",
    "    df_train=pd.read_csv('C:/Users/kaz-106/YandexDisk/Py-projects/02_Practicum projects/071_Final project - Module 2/gold_recovery_train_new.csv')\n",
    "except:\n",
    "    df_train=pd.read_csv('/datasets/gold_recovery_train_new.csv')\n",
    "    \n",
    "try:\n",
    "    df_test=pd.read_csv('C:/Users/kaz-106/YandexDisk/Py-projects/02_Practicum projects/071_Final project - Module 2/gold_recovery_test_new.csv')\n",
    "except:\n",
    "    df_test=pd.read_csv('/datasets/gold_recovery_test_new.csv')\n",
    "\n",
    "try:\n",
    "    df_full=pd.read_csv('C:/Users/kaz-106/YandexDisk/Py-projects/02_Practicum projects/071_Final project - Module 2/gold_recovery_full_new.csv')\n",
    "except:\n",
    "    df_full=pd.read_csv('/datasets/gold_recovery_full_new.csv')\n",
    "    \n",
    "df_all=[df_train,df_test,df_full] "
   ]
  },
  {
   "cell_type": "code",
   "execution_count": 3,
   "id": "4f2fe02b",
   "metadata": {},
   "outputs": [
    {
     "data": {
      "text/html": [
       "<div>\n",
       "<style scoped>\n",
       "    .dataframe tbody tr th:only-of-type {\n",
       "        vertical-align: middle;\n",
       "    }\n",
       "\n",
       "    .dataframe tbody tr th {\n",
       "        vertical-align: top;\n",
       "    }\n",
       "\n",
       "    .dataframe thead th {\n",
       "        text-align: right;\n",
       "    }\n",
       "</style>\n",
       "<table border=\"1\" class=\"dataframe\">\n",
       "  <thead>\n",
       "    <tr style=\"text-align: right;\">\n",
       "      <th></th>\n",
       "      <th>date</th>\n",
       "      <th>final.output.concentrate_ag</th>\n",
       "      <th>final.output.concentrate_pb</th>\n",
       "      <th>final.output.concentrate_sol</th>\n",
       "      <th>final.output.concentrate_au</th>\n",
       "      <th>final.output.recovery</th>\n",
       "      <th>final.output.tail_ag</th>\n",
       "      <th>final.output.tail_pb</th>\n",
       "      <th>final.output.tail_sol</th>\n",
       "      <th>final.output.tail_au</th>\n",
       "      <th>...</th>\n",
       "      <th>secondary_cleaner.state.floatbank4_a_air</th>\n",
       "      <th>secondary_cleaner.state.floatbank4_a_level</th>\n",
       "      <th>secondary_cleaner.state.floatbank4_b_air</th>\n",
       "      <th>secondary_cleaner.state.floatbank4_b_level</th>\n",
       "      <th>secondary_cleaner.state.floatbank5_a_air</th>\n",
       "      <th>secondary_cleaner.state.floatbank5_a_level</th>\n",
       "      <th>secondary_cleaner.state.floatbank5_b_air</th>\n",
       "      <th>secondary_cleaner.state.floatbank5_b_level</th>\n",
       "      <th>secondary_cleaner.state.floatbank6_a_air</th>\n",
       "      <th>secondary_cleaner.state.floatbank6_a_level</th>\n",
       "    </tr>\n",
       "  </thead>\n",
       "  <tbody>\n",
       "    <tr>\n",
       "      <th>0</th>\n",
       "      <td>2016-01-15 00:00:00</td>\n",
       "      <td>6.055403</td>\n",
       "      <td>9.889648</td>\n",
       "      <td>5.507324</td>\n",
       "      <td>42.192020</td>\n",
       "      <td>70.541216</td>\n",
       "      <td>10.411962</td>\n",
       "      <td>0.895447</td>\n",
       "      <td>16.904297</td>\n",
       "      <td>2.143149</td>\n",
       "      <td>...</td>\n",
       "      <td>14.016835</td>\n",
       "      <td>-502.488007</td>\n",
       "      <td>12.099931</td>\n",
       "      <td>-504.715942</td>\n",
       "      <td>9.925633</td>\n",
       "      <td>-498.310211</td>\n",
       "      <td>8.079666</td>\n",
       "      <td>-500.470978</td>\n",
       "      <td>14.151341</td>\n",
       "      <td>-605.841980</td>\n",
       "    </tr>\n",
       "    <tr>\n",
       "      <th>1</th>\n",
       "      <td>2016-01-15 01:00:00</td>\n",
       "      <td>6.029369</td>\n",
       "      <td>9.968944</td>\n",
       "      <td>5.257781</td>\n",
       "      <td>42.701629</td>\n",
       "      <td>69.266198</td>\n",
       "      <td>10.462676</td>\n",
       "      <td>0.927452</td>\n",
       "      <td>16.634514</td>\n",
       "      <td>2.224930</td>\n",
       "      <td>...</td>\n",
       "      <td>13.992281</td>\n",
       "      <td>-505.503262</td>\n",
       "      <td>11.950531</td>\n",
       "      <td>-501.331529</td>\n",
       "      <td>10.039245</td>\n",
       "      <td>-500.169983</td>\n",
       "      <td>7.984757</td>\n",
       "      <td>-500.582168</td>\n",
       "      <td>13.998353</td>\n",
       "      <td>-599.787184</td>\n",
       "    </tr>\n",
       "    <tr>\n",
       "      <th>2</th>\n",
       "      <td>2016-01-15 02:00:00</td>\n",
       "      <td>6.055926</td>\n",
       "      <td>10.213995</td>\n",
       "      <td>5.383759</td>\n",
       "      <td>42.657501</td>\n",
       "      <td>68.116445</td>\n",
       "      <td>10.507046</td>\n",
       "      <td>0.953716</td>\n",
       "      <td>16.208849</td>\n",
       "      <td>2.257889</td>\n",
       "      <td>...</td>\n",
       "      <td>14.015015</td>\n",
       "      <td>-502.520901</td>\n",
       "      <td>11.912783</td>\n",
       "      <td>-501.133383</td>\n",
       "      <td>10.070913</td>\n",
       "      <td>-500.129135</td>\n",
       "      <td>8.013877</td>\n",
       "      <td>-500.517572</td>\n",
       "      <td>14.028663</td>\n",
       "      <td>-601.427363</td>\n",
       "    </tr>\n",
       "    <tr>\n",
       "      <th>3</th>\n",
       "      <td>2016-01-15 03:00:00</td>\n",
       "      <td>6.047977</td>\n",
       "      <td>9.977019</td>\n",
       "      <td>4.858634</td>\n",
       "      <td>42.689819</td>\n",
       "      <td>68.347543</td>\n",
       "      <td>10.422762</td>\n",
       "      <td>0.883763</td>\n",
       "      <td>16.532835</td>\n",
       "      <td>2.146849</td>\n",
       "      <td>...</td>\n",
       "      <td>14.036510</td>\n",
       "      <td>-500.857308</td>\n",
       "      <td>11.999550</td>\n",
       "      <td>-501.193686</td>\n",
       "      <td>9.970366</td>\n",
       "      <td>-499.201640</td>\n",
       "      <td>7.977324</td>\n",
       "      <td>-500.255908</td>\n",
       "      <td>14.005551</td>\n",
       "      <td>-599.996129</td>\n",
       "    </tr>\n",
       "    <tr>\n",
       "      <th>4</th>\n",
       "      <td>2016-01-15 04:00:00</td>\n",
       "      <td>6.148599</td>\n",
       "      <td>10.142511</td>\n",
       "      <td>4.939416</td>\n",
       "      <td>42.774141</td>\n",
       "      <td>66.927016</td>\n",
       "      <td>10.360302</td>\n",
       "      <td>0.792826</td>\n",
       "      <td>16.525686</td>\n",
       "      <td>2.055292</td>\n",
       "      <td>...</td>\n",
       "      <td>14.027298</td>\n",
       "      <td>-499.838632</td>\n",
       "      <td>11.953070</td>\n",
       "      <td>-501.053894</td>\n",
       "      <td>9.925709</td>\n",
       "      <td>-501.686727</td>\n",
       "      <td>7.894242</td>\n",
       "      <td>-500.356035</td>\n",
       "      <td>13.996647</td>\n",
       "      <td>-601.496691</td>\n",
       "    </tr>\n",
       "  </tbody>\n",
       "</table>\n",
       "<p>5 rows × 87 columns</p>\n",
       "</div>"
      ],
      "text/plain": [
       "                  date  final.output.concentrate_ag  \\\n",
       "0  2016-01-15 00:00:00                     6.055403   \n",
       "1  2016-01-15 01:00:00                     6.029369   \n",
       "2  2016-01-15 02:00:00                     6.055926   \n",
       "3  2016-01-15 03:00:00                     6.047977   \n",
       "4  2016-01-15 04:00:00                     6.148599   \n",
       "\n",
       "   final.output.concentrate_pb  final.output.concentrate_sol  \\\n",
       "0                     9.889648                      5.507324   \n",
       "1                     9.968944                      5.257781   \n",
       "2                    10.213995                      5.383759   \n",
       "3                     9.977019                      4.858634   \n",
       "4                    10.142511                      4.939416   \n",
       "\n",
       "   final.output.concentrate_au  final.output.recovery  final.output.tail_ag  \\\n",
       "0                    42.192020              70.541216             10.411962   \n",
       "1                    42.701629              69.266198             10.462676   \n",
       "2                    42.657501              68.116445             10.507046   \n",
       "3                    42.689819              68.347543             10.422762   \n",
       "4                    42.774141              66.927016             10.360302   \n",
       "\n",
       "   final.output.tail_pb  final.output.tail_sol  final.output.tail_au  ...  \\\n",
       "0              0.895447              16.904297              2.143149  ...   \n",
       "1              0.927452              16.634514              2.224930  ...   \n",
       "2              0.953716              16.208849              2.257889  ...   \n",
       "3              0.883763              16.532835              2.146849  ...   \n",
       "4              0.792826              16.525686              2.055292  ...   \n",
       "\n",
       "   secondary_cleaner.state.floatbank4_a_air  \\\n",
       "0                                 14.016835   \n",
       "1                                 13.992281   \n",
       "2                                 14.015015   \n",
       "3                                 14.036510   \n",
       "4                                 14.027298   \n",
       "\n",
       "   secondary_cleaner.state.floatbank4_a_level  \\\n",
       "0                                 -502.488007   \n",
       "1                                 -505.503262   \n",
       "2                                 -502.520901   \n",
       "3                                 -500.857308   \n",
       "4                                 -499.838632   \n",
       "\n",
       "   secondary_cleaner.state.floatbank4_b_air  \\\n",
       "0                                 12.099931   \n",
       "1                                 11.950531   \n",
       "2                                 11.912783   \n",
       "3                                 11.999550   \n",
       "4                                 11.953070   \n",
       "\n",
       "   secondary_cleaner.state.floatbank4_b_level  \\\n",
       "0                                 -504.715942   \n",
       "1                                 -501.331529   \n",
       "2                                 -501.133383   \n",
       "3                                 -501.193686   \n",
       "4                                 -501.053894   \n",
       "\n",
       "   secondary_cleaner.state.floatbank5_a_air  \\\n",
       "0                                  9.925633   \n",
       "1                                 10.039245   \n",
       "2                                 10.070913   \n",
       "3                                  9.970366   \n",
       "4                                  9.925709   \n",
       "\n",
       "   secondary_cleaner.state.floatbank5_a_level  \\\n",
       "0                                 -498.310211   \n",
       "1                                 -500.169983   \n",
       "2                                 -500.129135   \n",
       "3                                 -499.201640   \n",
       "4                                 -501.686727   \n",
       "\n",
       "   secondary_cleaner.state.floatbank5_b_air  \\\n",
       "0                                  8.079666   \n",
       "1                                  7.984757   \n",
       "2                                  8.013877   \n",
       "3                                  7.977324   \n",
       "4                                  7.894242   \n",
       "\n",
       "   secondary_cleaner.state.floatbank5_b_level  \\\n",
       "0                                 -500.470978   \n",
       "1                                 -500.582168   \n",
       "2                                 -500.517572   \n",
       "3                                 -500.255908   \n",
       "4                                 -500.356035   \n",
       "\n",
       "   secondary_cleaner.state.floatbank6_a_air  \\\n",
       "0                                 14.151341   \n",
       "1                                 13.998353   \n",
       "2                                 14.028663   \n",
       "3                                 14.005551   \n",
       "4                                 13.996647   \n",
       "\n",
       "   secondary_cleaner.state.floatbank6_a_level  \n",
       "0                                 -605.841980  \n",
       "1                                 -599.787184  \n",
       "2                                 -601.427363  \n",
       "3                                 -599.996129  \n",
       "4                                 -601.496691  \n",
       "\n",
       "[5 rows x 87 columns]"
      ]
     },
     "metadata": {},
     "output_type": "display_data"
    },
    {
     "data": {
      "text/plain": [
       "(14149, 87)"
      ]
     },
     "metadata": {},
     "output_type": "display_data"
    },
    {
     "data": {
      "text/html": [
       "<div>\n",
       "<style scoped>\n",
       "    .dataframe tbody tr th:only-of-type {\n",
       "        vertical-align: middle;\n",
       "    }\n",
       "\n",
       "    .dataframe tbody tr th {\n",
       "        vertical-align: top;\n",
       "    }\n",
       "\n",
       "    .dataframe thead th {\n",
       "        text-align: right;\n",
       "    }\n",
       "</style>\n",
       "<table border=\"1\" class=\"dataframe\">\n",
       "  <thead>\n",
       "    <tr style=\"text-align: right;\">\n",
       "      <th></th>\n",
       "      <th>date</th>\n",
       "      <th>primary_cleaner.input.sulfate</th>\n",
       "      <th>primary_cleaner.input.depressant</th>\n",
       "      <th>primary_cleaner.input.feed_size</th>\n",
       "      <th>primary_cleaner.input.xanthate</th>\n",
       "      <th>primary_cleaner.state.floatbank8_a_air</th>\n",
       "      <th>primary_cleaner.state.floatbank8_a_level</th>\n",
       "      <th>primary_cleaner.state.floatbank8_b_air</th>\n",
       "      <th>primary_cleaner.state.floatbank8_b_level</th>\n",
       "      <th>primary_cleaner.state.floatbank8_c_air</th>\n",
       "      <th>...</th>\n",
       "      <th>secondary_cleaner.state.floatbank4_a_air</th>\n",
       "      <th>secondary_cleaner.state.floatbank4_a_level</th>\n",
       "      <th>secondary_cleaner.state.floatbank4_b_air</th>\n",
       "      <th>secondary_cleaner.state.floatbank4_b_level</th>\n",
       "      <th>secondary_cleaner.state.floatbank5_a_air</th>\n",
       "      <th>secondary_cleaner.state.floatbank5_a_level</th>\n",
       "      <th>secondary_cleaner.state.floatbank5_b_air</th>\n",
       "      <th>secondary_cleaner.state.floatbank5_b_level</th>\n",
       "      <th>secondary_cleaner.state.floatbank6_a_air</th>\n",
       "      <th>secondary_cleaner.state.floatbank6_a_level</th>\n",
       "    </tr>\n",
       "  </thead>\n",
       "  <tbody>\n",
       "    <tr>\n",
       "      <th>0</th>\n",
       "      <td>2016-09-01 00:59:59</td>\n",
       "      <td>210.800909</td>\n",
       "      <td>14.993118</td>\n",
       "      <td>8.080000</td>\n",
       "      <td>1.005021</td>\n",
       "      <td>1398.981301</td>\n",
       "      <td>-500.225577</td>\n",
       "      <td>1399.144926</td>\n",
       "      <td>-499.919735</td>\n",
       "      <td>1400.102998</td>\n",
       "      <td>...</td>\n",
       "      <td>12.023554</td>\n",
       "      <td>-497.795834</td>\n",
       "      <td>8.016656</td>\n",
       "      <td>-501.289139</td>\n",
       "      <td>7.946562</td>\n",
       "      <td>-432.317850</td>\n",
       "      <td>4.872511</td>\n",
       "      <td>-500.037437</td>\n",
       "      <td>26.705889</td>\n",
       "      <td>-499.709414</td>\n",
       "    </tr>\n",
       "    <tr>\n",
       "      <th>1</th>\n",
       "      <td>2016-09-01 01:59:59</td>\n",
       "      <td>215.392455</td>\n",
       "      <td>14.987471</td>\n",
       "      <td>8.080000</td>\n",
       "      <td>0.990469</td>\n",
       "      <td>1398.777912</td>\n",
       "      <td>-500.057435</td>\n",
       "      <td>1398.055362</td>\n",
       "      <td>-499.778182</td>\n",
       "      <td>1396.151033</td>\n",
       "      <td>...</td>\n",
       "      <td>12.058140</td>\n",
       "      <td>-498.695773</td>\n",
       "      <td>8.130979</td>\n",
       "      <td>-499.634209</td>\n",
       "      <td>7.958270</td>\n",
       "      <td>-525.839648</td>\n",
       "      <td>4.878850</td>\n",
       "      <td>-500.162375</td>\n",
       "      <td>25.019940</td>\n",
       "      <td>-499.819438</td>\n",
       "    </tr>\n",
       "    <tr>\n",
       "      <th>2</th>\n",
       "      <td>2016-09-01 02:59:59</td>\n",
       "      <td>215.259946</td>\n",
       "      <td>12.884934</td>\n",
       "      <td>7.786667</td>\n",
       "      <td>0.996043</td>\n",
       "      <td>1398.493666</td>\n",
       "      <td>-500.868360</td>\n",
       "      <td>1398.860436</td>\n",
       "      <td>-499.764529</td>\n",
       "      <td>1398.075709</td>\n",
       "      <td>...</td>\n",
       "      <td>11.962366</td>\n",
       "      <td>-498.767484</td>\n",
       "      <td>8.096893</td>\n",
       "      <td>-500.827423</td>\n",
       "      <td>8.071056</td>\n",
       "      <td>-500.801673</td>\n",
       "      <td>4.905125</td>\n",
       "      <td>-499.828510</td>\n",
       "      <td>24.994862</td>\n",
       "      <td>-500.622559</td>\n",
       "    </tr>\n",
       "    <tr>\n",
       "      <th>3</th>\n",
       "      <td>2016-09-01 03:59:59</td>\n",
       "      <td>215.336236</td>\n",
       "      <td>12.006805</td>\n",
       "      <td>7.640000</td>\n",
       "      <td>0.863514</td>\n",
       "      <td>1399.618111</td>\n",
       "      <td>-498.863574</td>\n",
       "      <td>1397.440120</td>\n",
       "      <td>-499.211024</td>\n",
       "      <td>1400.129303</td>\n",
       "      <td>...</td>\n",
       "      <td>12.033091</td>\n",
       "      <td>-498.350935</td>\n",
       "      <td>8.074946</td>\n",
       "      <td>-499.474407</td>\n",
       "      <td>7.897085</td>\n",
       "      <td>-500.868509</td>\n",
       "      <td>4.931400</td>\n",
       "      <td>-499.963623</td>\n",
       "      <td>24.948919</td>\n",
       "      <td>-498.709987</td>\n",
       "    </tr>\n",
       "    <tr>\n",
       "      <th>4</th>\n",
       "      <td>2016-09-01 04:59:59</td>\n",
       "      <td>199.099327</td>\n",
       "      <td>10.682530</td>\n",
       "      <td>7.530000</td>\n",
       "      <td>0.805575</td>\n",
       "      <td>1401.268123</td>\n",
       "      <td>-500.808305</td>\n",
       "      <td>1398.128818</td>\n",
       "      <td>-499.504543</td>\n",
       "      <td>1402.172226</td>\n",
       "      <td>...</td>\n",
       "      <td>12.025367</td>\n",
       "      <td>-500.786497</td>\n",
       "      <td>8.054678</td>\n",
       "      <td>-500.397500</td>\n",
       "      <td>8.107890</td>\n",
       "      <td>-509.526725</td>\n",
       "      <td>4.957674</td>\n",
       "      <td>-500.360026</td>\n",
       "      <td>25.003331</td>\n",
       "      <td>-500.856333</td>\n",
       "    </tr>\n",
       "  </tbody>\n",
       "</table>\n",
       "<p>5 rows × 53 columns</p>\n",
       "</div>"
      ],
      "text/plain": [
       "                  date  primary_cleaner.input.sulfate  \\\n",
       "0  2016-09-01 00:59:59                     210.800909   \n",
       "1  2016-09-01 01:59:59                     215.392455   \n",
       "2  2016-09-01 02:59:59                     215.259946   \n",
       "3  2016-09-01 03:59:59                     215.336236   \n",
       "4  2016-09-01 04:59:59                     199.099327   \n",
       "\n",
       "   primary_cleaner.input.depressant  primary_cleaner.input.feed_size  \\\n",
       "0                         14.993118                         8.080000   \n",
       "1                         14.987471                         8.080000   \n",
       "2                         12.884934                         7.786667   \n",
       "3                         12.006805                         7.640000   \n",
       "4                         10.682530                         7.530000   \n",
       "\n",
       "   primary_cleaner.input.xanthate  primary_cleaner.state.floatbank8_a_air  \\\n",
       "0                        1.005021                             1398.981301   \n",
       "1                        0.990469                             1398.777912   \n",
       "2                        0.996043                             1398.493666   \n",
       "3                        0.863514                             1399.618111   \n",
       "4                        0.805575                             1401.268123   \n",
       "\n",
       "   primary_cleaner.state.floatbank8_a_level  \\\n",
       "0                               -500.225577   \n",
       "1                               -500.057435   \n",
       "2                               -500.868360   \n",
       "3                               -498.863574   \n",
       "4                               -500.808305   \n",
       "\n",
       "   primary_cleaner.state.floatbank8_b_air  \\\n",
       "0                             1399.144926   \n",
       "1                             1398.055362   \n",
       "2                             1398.860436   \n",
       "3                             1397.440120   \n",
       "4                             1398.128818   \n",
       "\n",
       "   primary_cleaner.state.floatbank8_b_level  \\\n",
       "0                               -499.919735   \n",
       "1                               -499.778182   \n",
       "2                               -499.764529   \n",
       "3                               -499.211024   \n",
       "4                               -499.504543   \n",
       "\n",
       "   primary_cleaner.state.floatbank8_c_air  ...  \\\n",
       "0                             1400.102998  ...   \n",
       "1                             1396.151033  ...   \n",
       "2                             1398.075709  ...   \n",
       "3                             1400.129303  ...   \n",
       "4                             1402.172226  ...   \n",
       "\n",
       "   secondary_cleaner.state.floatbank4_a_air  \\\n",
       "0                                 12.023554   \n",
       "1                                 12.058140   \n",
       "2                                 11.962366   \n",
       "3                                 12.033091   \n",
       "4                                 12.025367   \n",
       "\n",
       "   secondary_cleaner.state.floatbank4_a_level  \\\n",
       "0                                 -497.795834   \n",
       "1                                 -498.695773   \n",
       "2                                 -498.767484   \n",
       "3                                 -498.350935   \n",
       "4                                 -500.786497   \n",
       "\n",
       "   secondary_cleaner.state.floatbank4_b_air  \\\n",
       "0                                  8.016656   \n",
       "1                                  8.130979   \n",
       "2                                  8.096893   \n",
       "3                                  8.074946   \n",
       "4                                  8.054678   \n",
       "\n",
       "   secondary_cleaner.state.floatbank4_b_level  \\\n",
       "0                                 -501.289139   \n",
       "1                                 -499.634209   \n",
       "2                                 -500.827423   \n",
       "3                                 -499.474407   \n",
       "4                                 -500.397500   \n",
       "\n",
       "   secondary_cleaner.state.floatbank5_a_air  \\\n",
       "0                                  7.946562   \n",
       "1                                  7.958270   \n",
       "2                                  8.071056   \n",
       "3                                  7.897085   \n",
       "4                                  8.107890   \n",
       "\n",
       "   secondary_cleaner.state.floatbank5_a_level  \\\n",
       "0                                 -432.317850   \n",
       "1                                 -525.839648   \n",
       "2                                 -500.801673   \n",
       "3                                 -500.868509   \n",
       "4                                 -509.526725   \n",
       "\n",
       "   secondary_cleaner.state.floatbank5_b_air  \\\n",
       "0                                  4.872511   \n",
       "1                                  4.878850   \n",
       "2                                  4.905125   \n",
       "3                                  4.931400   \n",
       "4                                  4.957674   \n",
       "\n",
       "   secondary_cleaner.state.floatbank5_b_level  \\\n",
       "0                                 -500.037437   \n",
       "1                                 -500.162375   \n",
       "2                                 -499.828510   \n",
       "3                                 -499.963623   \n",
       "4                                 -500.360026   \n",
       "\n",
       "   secondary_cleaner.state.floatbank6_a_air  \\\n",
       "0                                 26.705889   \n",
       "1                                 25.019940   \n",
       "2                                 24.994862   \n",
       "3                                 24.948919   \n",
       "4                                 25.003331   \n",
       "\n",
       "   secondary_cleaner.state.floatbank6_a_level  \n",
       "0                                 -499.709414  \n",
       "1                                 -499.819438  \n",
       "2                                 -500.622559  \n",
       "3                                 -498.709987  \n",
       "4                                 -500.856333  \n",
       "\n",
       "[5 rows x 53 columns]"
      ]
     },
     "metadata": {},
     "output_type": "display_data"
    },
    {
     "data": {
      "text/plain": [
       "(5290, 53)"
      ]
     },
     "metadata": {},
     "output_type": "display_data"
    },
    {
     "data": {
      "text/html": [
       "<div>\n",
       "<style scoped>\n",
       "    .dataframe tbody tr th:only-of-type {\n",
       "        vertical-align: middle;\n",
       "    }\n",
       "\n",
       "    .dataframe tbody tr th {\n",
       "        vertical-align: top;\n",
       "    }\n",
       "\n",
       "    .dataframe thead th {\n",
       "        text-align: right;\n",
       "    }\n",
       "</style>\n",
       "<table border=\"1\" class=\"dataframe\">\n",
       "  <thead>\n",
       "    <tr style=\"text-align: right;\">\n",
       "      <th></th>\n",
       "      <th>date</th>\n",
       "      <th>final.output.concentrate_ag</th>\n",
       "      <th>final.output.concentrate_pb</th>\n",
       "      <th>final.output.concentrate_sol</th>\n",
       "      <th>final.output.concentrate_au</th>\n",
       "      <th>final.output.recovery</th>\n",
       "      <th>final.output.tail_ag</th>\n",
       "      <th>final.output.tail_pb</th>\n",
       "      <th>final.output.tail_sol</th>\n",
       "      <th>final.output.tail_au</th>\n",
       "      <th>...</th>\n",
       "      <th>secondary_cleaner.state.floatbank4_a_air</th>\n",
       "      <th>secondary_cleaner.state.floatbank4_a_level</th>\n",
       "      <th>secondary_cleaner.state.floatbank4_b_air</th>\n",
       "      <th>secondary_cleaner.state.floatbank4_b_level</th>\n",
       "      <th>secondary_cleaner.state.floatbank5_a_air</th>\n",
       "      <th>secondary_cleaner.state.floatbank5_a_level</th>\n",
       "      <th>secondary_cleaner.state.floatbank5_b_air</th>\n",
       "      <th>secondary_cleaner.state.floatbank5_b_level</th>\n",
       "      <th>secondary_cleaner.state.floatbank6_a_air</th>\n",
       "      <th>secondary_cleaner.state.floatbank6_a_level</th>\n",
       "    </tr>\n",
       "  </thead>\n",
       "  <tbody>\n",
       "    <tr>\n",
       "      <th>0</th>\n",
       "      <td>2016-01-15 00:00:00</td>\n",
       "      <td>6.055403</td>\n",
       "      <td>9.889648</td>\n",
       "      <td>5.507324</td>\n",
       "      <td>42.192020</td>\n",
       "      <td>70.541216</td>\n",
       "      <td>10.411962</td>\n",
       "      <td>0.895447</td>\n",
       "      <td>16.904297</td>\n",
       "      <td>2.143149</td>\n",
       "      <td>...</td>\n",
       "      <td>14.016835</td>\n",
       "      <td>-502.488007</td>\n",
       "      <td>12.099931</td>\n",
       "      <td>-504.715942</td>\n",
       "      <td>9.925633</td>\n",
       "      <td>-498.310211</td>\n",
       "      <td>8.079666</td>\n",
       "      <td>-500.470978</td>\n",
       "      <td>14.151341</td>\n",
       "      <td>-605.841980</td>\n",
       "    </tr>\n",
       "    <tr>\n",
       "      <th>1</th>\n",
       "      <td>2016-01-15 01:00:00</td>\n",
       "      <td>6.029369</td>\n",
       "      <td>9.968944</td>\n",
       "      <td>5.257781</td>\n",
       "      <td>42.701629</td>\n",
       "      <td>69.266198</td>\n",
       "      <td>10.462676</td>\n",
       "      <td>0.927452</td>\n",
       "      <td>16.634514</td>\n",
       "      <td>2.224930</td>\n",
       "      <td>...</td>\n",
       "      <td>13.992281</td>\n",
       "      <td>-505.503262</td>\n",
       "      <td>11.950531</td>\n",
       "      <td>-501.331529</td>\n",
       "      <td>10.039245</td>\n",
       "      <td>-500.169983</td>\n",
       "      <td>7.984757</td>\n",
       "      <td>-500.582168</td>\n",
       "      <td>13.998353</td>\n",
       "      <td>-599.787184</td>\n",
       "    </tr>\n",
       "    <tr>\n",
       "      <th>2</th>\n",
       "      <td>2016-01-15 02:00:00</td>\n",
       "      <td>6.055926</td>\n",
       "      <td>10.213995</td>\n",
       "      <td>5.383759</td>\n",
       "      <td>42.657501</td>\n",
       "      <td>68.116445</td>\n",
       "      <td>10.507046</td>\n",
       "      <td>0.953716</td>\n",
       "      <td>16.208849</td>\n",
       "      <td>2.257889</td>\n",
       "      <td>...</td>\n",
       "      <td>14.015015</td>\n",
       "      <td>-502.520901</td>\n",
       "      <td>11.912783</td>\n",
       "      <td>-501.133383</td>\n",
       "      <td>10.070913</td>\n",
       "      <td>-500.129135</td>\n",
       "      <td>8.013877</td>\n",
       "      <td>-500.517572</td>\n",
       "      <td>14.028663</td>\n",
       "      <td>-601.427363</td>\n",
       "    </tr>\n",
       "    <tr>\n",
       "      <th>3</th>\n",
       "      <td>2016-01-15 03:00:00</td>\n",
       "      <td>6.047977</td>\n",
       "      <td>9.977019</td>\n",
       "      <td>4.858634</td>\n",
       "      <td>42.689819</td>\n",
       "      <td>68.347543</td>\n",
       "      <td>10.422762</td>\n",
       "      <td>0.883763</td>\n",
       "      <td>16.532835</td>\n",
       "      <td>2.146849</td>\n",
       "      <td>...</td>\n",
       "      <td>14.036510</td>\n",
       "      <td>-500.857308</td>\n",
       "      <td>11.999550</td>\n",
       "      <td>-501.193686</td>\n",
       "      <td>9.970366</td>\n",
       "      <td>-499.201640</td>\n",
       "      <td>7.977324</td>\n",
       "      <td>-500.255908</td>\n",
       "      <td>14.005551</td>\n",
       "      <td>-599.996129</td>\n",
       "    </tr>\n",
       "    <tr>\n",
       "      <th>4</th>\n",
       "      <td>2016-01-15 04:00:00</td>\n",
       "      <td>6.148599</td>\n",
       "      <td>10.142511</td>\n",
       "      <td>4.939416</td>\n",
       "      <td>42.774141</td>\n",
       "      <td>66.927016</td>\n",
       "      <td>10.360302</td>\n",
       "      <td>0.792826</td>\n",
       "      <td>16.525686</td>\n",
       "      <td>2.055292</td>\n",
       "      <td>...</td>\n",
       "      <td>14.027298</td>\n",
       "      <td>-499.838632</td>\n",
       "      <td>11.953070</td>\n",
       "      <td>-501.053894</td>\n",
       "      <td>9.925709</td>\n",
       "      <td>-501.686727</td>\n",
       "      <td>7.894242</td>\n",
       "      <td>-500.356035</td>\n",
       "      <td>13.996647</td>\n",
       "      <td>-601.496691</td>\n",
       "    </tr>\n",
       "  </tbody>\n",
       "</table>\n",
       "<p>5 rows × 87 columns</p>\n",
       "</div>"
      ],
      "text/plain": [
       "                  date  final.output.concentrate_ag  \\\n",
       "0  2016-01-15 00:00:00                     6.055403   \n",
       "1  2016-01-15 01:00:00                     6.029369   \n",
       "2  2016-01-15 02:00:00                     6.055926   \n",
       "3  2016-01-15 03:00:00                     6.047977   \n",
       "4  2016-01-15 04:00:00                     6.148599   \n",
       "\n",
       "   final.output.concentrate_pb  final.output.concentrate_sol  \\\n",
       "0                     9.889648                      5.507324   \n",
       "1                     9.968944                      5.257781   \n",
       "2                    10.213995                      5.383759   \n",
       "3                     9.977019                      4.858634   \n",
       "4                    10.142511                      4.939416   \n",
       "\n",
       "   final.output.concentrate_au  final.output.recovery  final.output.tail_ag  \\\n",
       "0                    42.192020              70.541216             10.411962   \n",
       "1                    42.701629              69.266198             10.462676   \n",
       "2                    42.657501              68.116445             10.507046   \n",
       "3                    42.689819              68.347543             10.422762   \n",
       "4                    42.774141              66.927016             10.360302   \n",
       "\n",
       "   final.output.tail_pb  final.output.tail_sol  final.output.tail_au  ...  \\\n",
       "0              0.895447              16.904297              2.143149  ...   \n",
       "1              0.927452              16.634514              2.224930  ...   \n",
       "2              0.953716              16.208849              2.257889  ...   \n",
       "3              0.883763              16.532835              2.146849  ...   \n",
       "4              0.792826              16.525686              2.055292  ...   \n",
       "\n",
       "   secondary_cleaner.state.floatbank4_a_air  \\\n",
       "0                                 14.016835   \n",
       "1                                 13.992281   \n",
       "2                                 14.015015   \n",
       "3                                 14.036510   \n",
       "4                                 14.027298   \n",
       "\n",
       "   secondary_cleaner.state.floatbank4_a_level  \\\n",
       "0                                 -502.488007   \n",
       "1                                 -505.503262   \n",
       "2                                 -502.520901   \n",
       "3                                 -500.857308   \n",
       "4                                 -499.838632   \n",
       "\n",
       "   secondary_cleaner.state.floatbank4_b_air  \\\n",
       "0                                 12.099931   \n",
       "1                                 11.950531   \n",
       "2                                 11.912783   \n",
       "3                                 11.999550   \n",
       "4                                 11.953070   \n",
       "\n",
       "   secondary_cleaner.state.floatbank4_b_level  \\\n",
       "0                                 -504.715942   \n",
       "1                                 -501.331529   \n",
       "2                                 -501.133383   \n",
       "3                                 -501.193686   \n",
       "4                                 -501.053894   \n",
       "\n",
       "   secondary_cleaner.state.floatbank5_a_air  \\\n",
       "0                                  9.925633   \n",
       "1                                 10.039245   \n",
       "2                                 10.070913   \n",
       "3                                  9.970366   \n",
       "4                                  9.925709   \n",
       "\n",
       "   secondary_cleaner.state.floatbank5_a_level  \\\n",
       "0                                 -498.310211   \n",
       "1                                 -500.169983   \n",
       "2                                 -500.129135   \n",
       "3                                 -499.201640   \n",
       "4                                 -501.686727   \n",
       "\n",
       "   secondary_cleaner.state.floatbank5_b_air  \\\n",
       "0                                  8.079666   \n",
       "1                                  7.984757   \n",
       "2                                  8.013877   \n",
       "3                                  7.977324   \n",
       "4                                  7.894242   \n",
       "\n",
       "   secondary_cleaner.state.floatbank5_b_level  \\\n",
       "0                                 -500.470978   \n",
       "1                                 -500.582168   \n",
       "2                                 -500.517572   \n",
       "3                                 -500.255908   \n",
       "4                                 -500.356035   \n",
       "\n",
       "   secondary_cleaner.state.floatbank6_a_air  \\\n",
       "0                                 14.151341   \n",
       "1                                 13.998353   \n",
       "2                                 14.028663   \n",
       "3                                 14.005551   \n",
       "4                                 13.996647   \n",
       "\n",
       "   secondary_cleaner.state.floatbank6_a_level  \n",
       "0                                 -605.841980  \n",
       "1                                 -599.787184  \n",
       "2                                 -601.427363  \n",
       "3                                 -599.996129  \n",
       "4                                 -601.496691  \n",
       "\n",
       "[5 rows x 87 columns]"
      ]
     },
     "metadata": {},
     "output_type": "display_data"
    },
    {
     "data": {
      "text/plain": [
       "(19439, 87)"
      ]
     },
     "metadata": {},
     "output_type": "display_data"
    }
   ],
   "source": [
    "for data in df_all:\n",
    "    \n",
    "    display(data.head())\n",
    "    display(data.shape)\n",
    "    "
   ]
  },
  {
   "cell_type": "code",
   "execution_count": 4,
   "id": "2a12f638",
   "metadata": {},
   "outputs": [
    {
     "name": "stdout",
     "output_type": "stream",
     "text": [
      "<class 'pandas.core.frame.DataFrame'>\n",
      "RangeIndex: 14149 entries, 0 to 14148\n",
      "Data columns (total 87 columns):\n",
      " #   Column                                              Non-Null Count  Dtype  \n",
      "---  ------                                              --------------  -----  \n",
      " 0   date                                                14149 non-null  object \n",
      " 1   final.output.concentrate_ag                         14148 non-null  float64\n",
      " 2   final.output.concentrate_pb                         14148 non-null  float64\n",
      " 3   final.output.concentrate_sol                        13938 non-null  float64\n",
      " 4   final.output.concentrate_au                         14149 non-null  float64\n",
      " 5   final.output.recovery                               14149 non-null  float64\n",
      " 6   final.output.tail_ag                                14149 non-null  float64\n",
      " 7   final.output.tail_pb                                14049 non-null  float64\n",
      " 8   final.output.tail_sol                               14144 non-null  float64\n",
      " 9   final.output.tail_au                                14149 non-null  float64\n",
      " 10  primary_cleaner.input.sulfate                       14129 non-null  float64\n",
      " 11  primary_cleaner.input.depressant                    14117 non-null  float64\n",
      " 12  primary_cleaner.input.feed_size                     14149 non-null  float64\n",
      " 13  primary_cleaner.input.xanthate                      14049 non-null  float64\n",
      " 14  primary_cleaner.output.concentrate_ag               14149 non-null  float64\n",
      " 15  primary_cleaner.output.concentrate_pb               14063 non-null  float64\n",
      " 16  primary_cleaner.output.concentrate_sol              13863 non-null  float64\n",
      " 17  primary_cleaner.output.concentrate_au               14149 non-null  float64\n",
      " 18  primary_cleaner.output.tail_ag                      14148 non-null  float64\n",
      " 19  primary_cleaner.output.tail_pb                      14134 non-null  float64\n",
      " 20  primary_cleaner.output.tail_sol                     14103 non-null  float64\n",
      " 21  primary_cleaner.output.tail_au                      14149 non-null  float64\n",
      " 22  primary_cleaner.state.floatbank8_a_air              14145 non-null  float64\n",
      " 23  primary_cleaner.state.floatbank8_a_level            14148 non-null  float64\n",
      " 24  primary_cleaner.state.floatbank8_b_air              14145 non-null  float64\n",
      " 25  primary_cleaner.state.floatbank8_b_level            14148 non-null  float64\n",
      " 26  primary_cleaner.state.floatbank8_c_air              14147 non-null  float64\n",
      " 27  primary_cleaner.state.floatbank8_c_level            14148 non-null  float64\n",
      " 28  primary_cleaner.state.floatbank8_d_air              14146 non-null  float64\n",
      " 29  primary_cleaner.state.floatbank8_d_level            14148 non-null  float64\n",
      " 30  rougher.calculation.sulfate_to_au_concentrate       14148 non-null  float64\n",
      " 31  rougher.calculation.floatbank10_sulfate_to_au_feed  14148 non-null  float64\n",
      " 32  rougher.calculation.floatbank11_sulfate_to_au_feed  14148 non-null  float64\n",
      " 33  rougher.calculation.au_pb_ratio                     14149 non-null  float64\n",
      " 34  rougher.input.feed_ag                               14149 non-null  float64\n",
      " 35  rougher.input.feed_pb                               14049 non-null  float64\n",
      " 36  rougher.input.feed_rate                             14141 non-null  float64\n",
      " 37  rougher.input.feed_size                             14005 non-null  float64\n",
      " 38  rougher.input.feed_sol                              14071 non-null  float64\n",
      " 39  rougher.input.feed_au                               14149 non-null  float64\n",
      " 40  rougher.input.floatbank10_sulfate                   14120 non-null  float64\n",
      " 41  rougher.input.floatbank10_xanthate                  14141 non-null  float64\n",
      " 42  rougher.input.floatbank11_sulfate                   14113 non-null  float64\n",
      " 43  rougher.input.floatbank11_xanthate                  13721 non-null  float64\n",
      " 44  rougher.output.concentrate_ag                       14149 non-null  float64\n",
      " 45  rougher.output.concentrate_pb                       14149 non-null  float64\n",
      " 46  rougher.output.concentrate_sol                      14127 non-null  float64\n",
      " 47  rougher.output.concentrate_au                       14149 non-null  float64\n",
      " 48  rougher.output.recovery                             14149 non-null  float64\n",
      " 49  rougher.output.tail_ag                              14148 non-null  float64\n",
      " 50  rougher.output.tail_pb                              14149 non-null  float64\n",
      " 51  rougher.output.tail_sol                             14149 non-null  float64\n",
      " 52  rougher.output.tail_au                              14149 non-null  float64\n",
      " 53  rougher.state.floatbank10_a_air                     14148 non-null  float64\n",
      " 54  rougher.state.floatbank10_a_level                   14148 non-null  float64\n",
      " 55  rougher.state.floatbank10_b_air                     14148 non-null  float64\n",
      " 56  rougher.state.floatbank10_b_level                   14148 non-null  float64\n",
      " 57  rougher.state.floatbank10_c_air                     14148 non-null  float64\n",
      " 58  rougher.state.floatbank10_c_level                   14148 non-null  float64\n",
      " 59  rougher.state.floatbank10_d_air                     14149 non-null  float64\n",
      " 60  rougher.state.floatbank10_d_level                   14149 non-null  float64\n",
      " 61  rougher.state.floatbank10_e_air                     13713 non-null  float64\n",
      " 62  rougher.state.floatbank10_e_level                   14149 non-null  float64\n",
      " 63  rougher.state.floatbank10_f_air                     14149 non-null  float64\n",
      " 64  rougher.state.floatbank10_f_level                   14149 non-null  float64\n",
      " 65  secondary_cleaner.output.tail_ag                    14147 non-null  float64\n",
      " 66  secondary_cleaner.output.tail_pb                    14139 non-null  float64\n",
      " 67  secondary_cleaner.output.tail_sol                   12544 non-null  float64\n",
      " 68  secondary_cleaner.output.tail_au                    14149 non-null  float64\n",
      " 69  secondary_cleaner.state.floatbank2_a_air            13932 non-null  float64\n",
      " 70  secondary_cleaner.state.floatbank2_a_level          14148 non-null  float64\n",
      " 71  secondary_cleaner.state.floatbank2_b_air            14128 non-null  float64\n",
      " 72  secondary_cleaner.state.floatbank2_b_level          14148 non-null  float64\n",
      " 73  secondary_cleaner.state.floatbank3_a_air            14145 non-null  float64\n",
      " 74  secondary_cleaner.state.floatbank3_a_level          14148 non-null  float64\n",
      " 75  secondary_cleaner.state.floatbank3_b_air            14148 non-null  float64\n",
      " 76  secondary_cleaner.state.floatbank3_b_level          14148 non-null  float64\n",
      " 77  secondary_cleaner.state.floatbank4_a_air            14143 non-null  float64\n",
      " 78  secondary_cleaner.state.floatbank4_a_level          14148 non-null  float64\n",
      " 79  secondary_cleaner.state.floatbank4_b_air            14148 non-null  float64\n",
      " 80  secondary_cleaner.state.floatbank4_b_level          14148 non-null  float64\n",
      " 81  secondary_cleaner.state.floatbank5_a_air            14148 non-null  float64\n",
      " 82  secondary_cleaner.state.floatbank5_a_level          14148 non-null  float64\n",
      " 83  secondary_cleaner.state.floatbank5_b_air            14148 non-null  float64\n",
      " 84  secondary_cleaner.state.floatbank5_b_level          14148 non-null  float64\n",
      " 85  secondary_cleaner.state.floatbank6_a_air            14147 non-null  float64\n",
      " 86  secondary_cleaner.state.floatbank6_a_level          14148 non-null  float64\n",
      "dtypes: float64(86), object(1)\n",
      "memory usage: 9.4+ MB\n"
     ]
    }
   ],
   "source": [
    "df_train.info()\n",
    "  "
   ]
  },
  {
   "cell_type": "code",
   "execution_count": 5,
   "id": "e1b690f3",
   "metadata": {},
   "outputs": [
    {
     "name": "stdout",
     "output_type": "stream",
     "text": [
      "<class 'pandas.core.frame.DataFrame'>\n",
      "RangeIndex: 5290 entries, 0 to 5289\n",
      "Data columns (total 53 columns):\n",
      " #   Column                                      Non-Null Count  Dtype  \n",
      "---  ------                                      --------------  -----  \n",
      " 0   date                                        5290 non-null   object \n",
      " 1   primary_cleaner.input.sulfate               5286 non-null   float64\n",
      " 2   primary_cleaner.input.depressant            5285 non-null   float64\n",
      " 3   primary_cleaner.input.feed_size             5290 non-null   float64\n",
      " 4   primary_cleaner.input.xanthate              5286 non-null   float64\n",
      " 5   primary_cleaner.state.floatbank8_a_air      5290 non-null   float64\n",
      " 6   primary_cleaner.state.floatbank8_a_level    5290 non-null   float64\n",
      " 7   primary_cleaner.state.floatbank8_b_air      5290 non-null   float64\n",
      " 8   primary_cleaner.state.floatbank8_b_level    5290 non-null   float64\n",
      " 9   primary_cleaner.state.floatbank8_c_air      5290 non-null   float64\n",
      " 10  primary_cleaner.state.floatbank8_c_level    5290 non-null   float64\n",
      " 11  primary_cleaner.state.floatbank8_d_air      5290 non-null   float64\n",
      " 12  primary_cleaner.state.floatbank8_d_level    5290 non-null   float64\n",
      " 13  rougher.input.feed_ag                       5290 non-null   float64\n",
      " 14  rougher.input.feed_pb                       5290 non-null   float64\n",
      " 15  rougher.input.feed_rate                     5287 non-null   float64\n",
      " 16  rougher.input.feed_size                     5289 non-null   float64\n",
      " 17  rougher.input.feed_sol                      5269 non-null   float64\n",
      " 18  rougher.input.feed_au                       5290 non-null   float64\n",
      " 19  rougher.input.floatbank10_sulfate           5285 non-null   float64\n",
      " 20  rougher.input.floatbank10_xanthate          5290 non-null   float64\n",
      " 21  rougher.input.floatbank11_sulfate           5282 non-null   float64\n",
      " 22  rougher.input.floatbank11_xanthate          5265 non-null   float64\n",
      " 23  rougher.state.floatbank10_a_air             5290 non-null   float64\n",
      " 24  rougher.state.floatbank10_a_level           5290 non-null   float64\n",
      " 25  rougher.state.floatbank10_b_air             5290 non-null   float64\n",
      " 26  rougher.state.floatbank10_b_level           5290 non-null   float64\n",
      " 27  rougher.state.floatbank10_c_air             5290 non-null   float64\n",
      " 28  rougher.state.floatbank10_c_level           5290 non-null   float64\n",
      " 29  rougher.state.floatbank10_d_air             5290 non-null   float64\n",
      " 30  rougher.state.floatbank10_d_level           5290 non-null   float64\n",
      " 31  rougher.state.floatbank10_e_air             5290 non-null   float64\n",
      " 32  rougher.state.floatbank10_e_level           5290 non-null   float64\n",
      " 33  rougher.state.floatbank10_f_air             5290 non-null   float64\n",
      " 34  rougher.state.floatbank10_f_level           5290 non-null   float64\n",
      " 35  secondary_cleaner.state.floatbank2_a_air    5287 non-null   float64\n",
      " 36  secondary_cleaner.state.floatbank2_a_level  5290 non-null   float64\n",
      " 37  secondary_cleaner.state.floatbank2_b_air    5288 non-null   float64\n",
      " 38  secondary_cleaner.state.floatbank2_b_level  5290 non-null   float64\n",
      " 39  secondary_cleaner.state.floatbank3_a_air    5281 non-null   float64\n",
      " 40  secondary_cleaner.state.floatbank3_a_level  5290 non-null   float64\n",
      " 41  secondary_cleaner.state.floatbank3_b_air    5290 non-null   float64\n",
      " 42  secondary_cleaner.state.floatbank3_b_level  5290 non-null   float64\n",
      " 43  secondary_cleaner.state.floatbank4_a_air    5290 non-null   float64\n",
      " 44  secondary_cleaner.state.floatbank4_a_level  5290 non-null   float64\n",
      " 45  secondary_cleaner.state.floatbank4_b_air    5290 non-null   float64\n",
      " 46  secondary_cleaner.state.floatbank4_b_level  5290 non-null   float64\n",
      " 47  secondary_cleaner.state.floatbank5_a_air    5290 non-null   float64\n",
      " 48  secondary_cleaner.state.floatbank5_a_level  5290 non-null   float64\n",
      " 49  secondary_cleaner.state.floatbank5_b_air    5290 non-null   float64\n",
      " 50  secondary_cleaner.state.floatbank5_b_level  5290 non-null   float64\n",
      " 51  secondary_cleaner.state.floatbank6_a_air    5290 non-null   float64\n",
      " 52  secondary_cleaner.state.floatbank6_a_level  5290 non-null   float64\n",
      "dtypes: float64(52), object(1)\n",
      "memory usage: 2.1+ MB\n"
     ]
    }
   ],
   "source": [
    "df_test.info()"
   ]
  },
  {
   "cell_type": "code",
   "execution_count": 6,
   "id": "e4235d9e",
   "metadata": {
    "scrolled": true
   },
   "outputs": [
    {
     "name": "stdout",
     "output_type": "stream",
     "text": [
      "<class 'pandas.core.frame.DataFrame'>\n",
      "RangeIndex: 19439 entries, 0 to 19438\n",
      "Data columns (total 87 columns):\n",
      " #   Column                                              Non-Null Count  Dtype  \n",
      "---  ------                                              --------------  -----  \n",
      " 0   date                                                19439 non-null  object \n",
      " 1   final.output.concentrate_ag                         19438 non-null  float64\n",
      " 2   final.output.concentrate_pb                         19438 non-null  float64\n",
      " 3   final.output.concentrate_sol                        19228 non-null  float64\n",
      " 4   final.output.concentrate_au                         19439 non-null  float64\n",
      " 5   final.output.recovery                               19439 non-null  float64\n",
      " 6   final.output.tail_ag                                19438 non-null  float64\n",
      " 7   final.output.tail_pb                                19338 non-null  float64\n",
      " 8   final.output.tail_sol                               19433 non-null  float64\n",
      " 9   final.output.tail_au                                19439 non-null  float64\n",
      " 10  primary_cleaner.input.sulfate                       19415 non-null  float64\n",
      " 11  primary_cleaner.input.depressant                    19402 non-null  float64\n",
      " 12  primary_cleaner.input.feed_size                     19439 non-null  float64\n",
      " 13  primary_cleaner.input.xanthate                      19335 non-null  float64\n",
      " 14  primary_cleaner.output.concentrate_ag               19439 non-null  float64\n",
      " 15  primary_cleaner.output.concentrate_pb               19323 non-null  float64\n",
      " 16  primary_cleaner.output.concentrate_sol              19069 non-null  float64\n",
      " 17  primary_cleaner.output.concentrate_au               19439 non-null  float64\n",
      " 18  primary_cleaner.output.tail_ag                      19435 non-null  float64\n",
      " 19  primary_cleaner.output.tail_pb                      19418 non-null  float64\n",
      " 20  primary_cleaner.output.tail_sol                     19377 non-null  float64\n",
      " 21  primary_cleaner.output.tail_au                      19439 non-null  float64\n",
      " 22  primary_cleaner.state.floatbank8_a_air              19435 non-null  float64\n",
      " 23  primary_cleaner.state.floatbank8_a_level            19438 non-null  float64\n",
      " 24  primary_cleaner.state.floatbank8_b_air              19435 non-null  float64\n",
      " 25  primary_cleaner.state.floatbank8_b_level            19438 non-null  float64\n",
      " 26  primary_cleaner.state.floatbank8_c_air              19437 non-null  float64\n",
      " 27  primary_cleaner.state.floatbank8_c_level            19438 non-null  float64\n",
      " 28  primary_cleaner.state.floatbank8_d_air              19436 non-null  float64\n",
      " 29  primary_cleaner.state.floatbank8_d_level            19438 non-null  float64\n",
      " 30  rougher.calculation.sulfate_to_au_concentrate       19437 non-null  float64\n",
      " 31  rougher.calculation.floatbank10_sulfate_to_au_feed  19437 non-null  float64\n",
      " 32  rougher.calculation.floatbank11_sulfate_to_au_feed  19437 non-null  float64\n",
      " 33  rougher.calculation.au_pb_ratio                     19439 non-null  float64\n",
      " 34  rougher.input.feed_ag                               19439 non-null  float64\n",
      " 35  rougher.input.feed_pb                               19339 non-null  float64\n",
      " 36  rougher.input.feed_rate                             19428 non-null  float64\n",
      " 37  rougher.input.feed_size                             19294 non-null  float64\n",
      " 38  rougher.input.feed_sol                              19340 non-null  float64\n",
      " 39  rougher.input.feed_au                               19439 non-null  float64\n",
      " 40  rougher.input.floatbank10_sulfate                   19405 non-null  float64\n",
      " 41  rougher.input.floatbank10_xanthate                  19431 non-null  float64\n",
      " 42  rougher.input.floatbank11_sulfate                   19395 non-null  float64\n",
      " 43  rougher.input.floatbank11_xanthate                  18986 non-null  float64\n",
      " 44  rougher.output.concentrate_ag                       19439 non-null  float64\n",
      " 45  rougher.output.concentrate_pb                       19439 non-null  float64\n",
      " 46  rougher.output.concentrate_sol                      19416 non-null  float64\n",
      " 47  rougher.output.concentrate_au                       19439 non-null  float64\n",
      " 48  rougher.output.recovery                             19439 non-null  float64\n",
      " 49  rougher.output.tail_ag                              19438 non-null  float64\n",
      " 50  rougher.output.tail_pb                              19439 non-null  float64\n",
      " 51  rougher.output.tail_sol                             19439 non-null  float64\n",
      " 52  rougher.output.tail_au                              19439 non-null  float64\n",
      " 53  rougher.state.floatbank10_a_air                     19438 non-null  float64\n",
      " 54  rougher.state.floatbank10_a_level                   19438 non-null  float64\n",
      " 55  rougher.state.floatbank10_b_air                     19438 non-null  float64\n",
      " 56  rougher.state.floatbank10_b_level                   19438 non-null  float64\n",
      " 57  rougher.state.floatbank10_c_air                     19438 non-null  float64\n",
      " 58  rougher.state.floatbank10_c_level                   19438 non-null  float64\n",
      " 59  rougher.state.floatbank10_d_air                     19439 non-null  float64\n",
      " 60  rougher.state.floatbank10_d_level                   19439 non-null  float64\n",
      " 61  rougher.state.floatbank10_e_air                     19003 non-null  float64\n",
      " 62  rougher.state.floatbank10_e_level                   19439 non-null  float64\n",
      " 63  rougher.state.floatbank10_f_air                     19439 non-null  float64\n",
      " 64  rougher.state.floatbank10_f_level                   19439 non-null  float64\n",
      " 65  secondary_cleaner.output.tail_ag                    19437 non-null  float64\n",
      " 66  secondary_cleaner.output.tail_pb                    19427 non-null  float64\n",
      " 67  secondary_cleaner.output.tail_sol                   17691 non-null  float64\n",
      " 68  secondary_cleaner.output.tail_au                    19439 non-null  float64\n",
      " 69  secondary_cleaner.state.floatbank2_a_air            19219 non-null  float64\n",
      " 70  secondary_cleaner.state.floatbank2_a_level          19438 non-null  float64\n",
      " 71  secondary_cleaner.state.floatbank2_b_air            19416 non-null  float64\n",
      " 72  secondary_cleaner.state.floatbank2_b_level          19438 non-null  float64\n",
      " 73  secondary_cleaner.state.floatbank3_a_air            19426 non-null  float64\n",
      " 74  secondary_cleaner.state.floatbank3_a_level          19438 non-null  float64\n",
      " 75  secondary_cleaner.state.floatbank3_b_air            19438 non-null  float64\n",
      " 76  secondary_cleaner.state.floatbank3_b_level          19438 non-null  float64\n",
      " 77  secondary_cleaner.state.floatbank4_a_air            19433 non-null  float64\n",
      " 78  secondary_cleaner.state.floatbank4_a_level          19438 non-null  float64\n",
      " 79  secondary_cleaner.state.floatbank4_b_air            19438 non-null  float64\n",
      " 80  secondary_cleaner.state.floatbank4_b_level          19438 non-null  float64\n",
      " 81  secondary_cleaner.state.floatbank5_a_air            19438 non-null  float64\n",
      " 82  secondary_cleaner.state.floatbank5_a_level          19438 non-null  float64\n",
      " 83  secondary_cleaner.state.floatbank5_b_air            19438 non-null  float64\n",
      " 84  secondary_cleaner.state.floatbank5_b_level          19438 non-null  float64\n",
      " 85  secondary_cleaner.state.floatbank6_a_air            19437 non-null  float64\n",
      " 86  secondary_cleaner.state.floatbank6_a_level          19438 non-null  float64\n",
      "dtypes: float64(86), object(1)\n",
      "memory usage: 12.9+ MB\n"
     ]
    }
   ],
   "source": [
    "df_full.info()"
   ]
  },
  {
   "cell_type": "markdown",
   "id": "464182a3",
   "metadata": {},
   "source": [
    "### Проверка расчета эффективности обогащения"
   ]
  },
  {
   "cell_type": "markdown",
   "id": "28187acc",
   "metadata": {},
   "source": [
    "Напишем функцию для расчета эффективности обогащения. "
   ]
  },
  {
   "cell_type": "code",
   "execution_count": 7,
   "id": "831e8d65",
   "metadata": {},
   "outputs": [],
   "source": [
    "def gold_recovery(C,F,T):\n",
    "    return ((C*(F-T))/(F*(C-T)))*100"
   ]
  },
  {
   "cell_type": "markdown",
   "id": "85a10067",
   "metadata": {},
   "source": [
    "Переведем в датафрейм и выберем нужные столбцы"
   ]
  },
  {
   "cell_type": "code",
   "execution_count": 8,
   "id": "9ac61776",
   "metadata": {},
   "outputs": [],
   "source": [
    "def gold_recovery_df(df_train):\n",
    "    \n",
    "    C = df_train['rougher.output.concentrate_au']\n",
    "    F = df_train['rougher.input.feed_au']\n",
    "    T = df_train['rougher.output.tail_au']\n",
    "    \n",
    "    return gold_recovery(C,F,T)\n",
    "    "
   ]
  },
  {
   "cell_type": "markdown",
   "id": "9359a6c5",
   "metadata": {},
   "source": [
    "Так мы применяем функцию к датафрейму, будем использовать apply"
   ]
  },
  {
   "cell_type": "code",
   "execution_count": 9,
   "id": "09a45dbf",
   "metadata": {},
   "outputs": [
    {
     "data": {
      "text/html": [
       "<div>\n",
       "<style scoped>\n",
       "    .dataframe tbody tr th:only-of-type {\n",
       "        vertical-align: middle;\n",
       "    }\n",
       "\n",
       "    .dataframe tbody tr th {\n",
       "        vertical-align: top;\n",
       "    }\n",
       "\n",
       "    .dataframe thead th {\n",
       "        text-align: right;\n",
       "    }\n",
       "</style>\n",
       "<table border=\"1\" class=\"dataframe\">\n",
       "  <thead>\n",
       "    <tr style=\"text-align: right;\">\n",
       "      <th></th>\n",
       "      <th>rougher.output.concentrate_au</th>\n",
       "      <th>rougher.input.feed_au</th>\n",
       "      <th>rougher.output.tail_au</th>\n",
       "      <th>rougher.output.recovery</th>\n",
       "    </tr>\n",
       "  </thead>\n",
       "  <tbody>\n",
       "    <tr>\n",
       "      <th>0</th>\n",
       "      <td>19.793808</td>\n",
       "      <td>6.486150</td>\n",
       "      <td>1.170244</td>\n",
       "      <td>87.107763</td>\n",
       "    </tr>\n",
       "    <tr>\n",
       "      <th>1</th>\n",
       "      <td>20.050975</td>\n",
       "      <td>6.478583</td>\n",
       "      <td>1.184827</td>\n",
       "      <td>86.843261</td>\n",
       "    </tr>\n",
       "    <tr>\n",
       "      <th>2</th>\n",
       "      <td>19.737170</td>\n",
       "      <td>6.362222</td>\n",
       "      <td>1.162562</td>\n",
       "      <td>86.842308</td>\n",
       "    </tr>\n",
       "    <tr>\n",
       "      <th>3</th>\n",
       "      <td>19.320810</td>\n",
       "      <td>6.118189</td>\n",
       "      <td>1.079755</td>\n",
       "      <td>87.226430</td>\n",
       "    </tr>\n",
       "    <tr>\n",
       "      <th>4</th>\n",
       "      <td>19.216101</td>\n",
       "      <td>5.663707</td>\n",
       "      <td>1.012642</td>\n",
       "      <td>86.688794</td>\n",
       "    </tr>\n",
       "  </tbody>\n",
       "</table>\n",
       "</div>"
      ],
      "text/plain": [
       "   rougher.output.concentrate_au  rougher.input.feed_au  \\\n",
       "0                      19.793808               6.486150   \n",
       "1                      20.050975               6.478583   \n",
       "2                      19.737170               6.362222   \n",
       "3                      19.320810               6.118189   \n",
       "4                      19.216101               5.663707   \n",
       "\n",
       "   rougher.output.tail_au  rougher.output.recovery  \n",
       "0                1.170244                87.107763  \n",
       "1                1.184827                86.843261  \n",
       "2                1.162562                86.842308  \n",
       "3                1.079755                87.226430  \n",
       "4                1.012642                86.688794  "
      ]
     },
     "metadata": {},
     "output_type": "display_data"
    },
    {
     "name": "stdout",
     "output_type": "stream",
     "text": [
      "<class 'pandas.core.frame.DataFrame'>\n",
      "RangeIndex: 14149 entries, 0 to 14148\n",
      "Data columns (total 4 columns):\n",
      " #   Column                         Non-Null Count  Dtype  \n",
      "---  ------                         --------------  -----  \n",
      " 0   rougher.output.concentrate_au  14149 non-null  float64\n",
      " 1   rougher.input.feed_au          14149 non-null  float64\n",
      " 2   rougher.output.tail_au         14149 non-null  float64\n",
      " 3   rougher.output.recovery        14149 non-null  float64\n",
      "dtypes: float64(4)\n",
      "memory usage: 442.3 KB\n"
     ]
    },
    {
     "data": {
      "text/plain": [
       "None"
      ]
     },
     "metadata": {},
     "output_type": "display_data"
    }
   ],
   "source": [
    "\n",
    "\n",
    "selected_columns=['rougher.output.concentrate_au','rougher.input.feed_au','rougher.output.tail_au','rougher.output.recovery']\n",
    "\n",
    "df_train_selected=df_train[selected_columns]\n",
    "display(df_train_selected.head())\n",
    "display(df_train_selected.info())\n",
    "df_train_selected['rougher.output.recovery.checked']=df_train_selected.apply(gold_recovery_df, axis=1)\n"
   ]
  },
  {
   "cell_type": "markdown",
   "id": "a9f1363a",
   "metadata": {},
   "source": [
    "Вычислим MAE"
   ]
  },
  {
   "cell_type": "code",
   "execution_count": 10,
   "id": "9fe2578b",
   "metadata": {},
   "outputs": [
    {
     "name": "stdout",
     "output_type": "stream",
     "text": [
      "MAE между задаными и рассчитаными значениями составляет 9.73512347450521e-15\n"
     ]
    }
   ],
   "source": [
    "mae = mean_absolute_error(df_train_selected['rougher.output.recovery'], df_train_selected['rougher.output.recovery.checked'])\n",
    "\n",
    "print(\"MAE между задаными и рассчитаными значениями составляет\",mae)"
   ]
  },
  {
   "cell_type": "markdown",
   "id": "71e36ad9",
   "metadata": {},
   "source": [
    "### Выводы по расчету эффективности обогащения\n",
    "\n",
    "- Ошибка между задаными и рассчитаными значениями практически нулевая - эффективность обогащения рассчитана верно"
   ]
  },
  {
   "cell_type": "markdown",
   "id": "5e999604",
   "metadata": {},
   "source": [
    "### Анализ признаков в тестовой выборке\n",
    "\n",
    "- Тестовая выборка содержит существенно меньше столбцов чем обучающая, проверим какие столбцы в обучающей лишние"
   ]
  },
  {
   "cell_type": "code",
   "execution_count": 11,
   "id": "1385696d",
   "metadata": {},
   "outputs": [
    {
     "data": {
      "text/plain": [
       "['final.output.concentrate_ag',\n",
       " 'final.output.concentrate_pb',\n",
       " 'final.output.concentrate_sol',\n",
       " 'final.output.concentrate_au',\n",
       " 'final.output.recovery',\n",
       " 'final.output.tail_ag',\n",
       " 'final.output.tail_pb',\n",
       " 'final.output.tail_sol',\n",
       " 'final.output.tail_au',\n",
       " 'primary_cleaner.output.concentrate_ag',\n",
       " 'primary_cleaner.output.concentrate_pb',\n",
       " 'primary_cleaner.output.concentrate_sol',\n",
       " 'primary_cleaner.output.concentrate_au',\n",
       " 'primary_cleaner.output.tail_ag',\n",
       " 'primary_cleaner.output.tail_pb',\n",
       " 'primary_cleaner.output.tail_sol',\n",
       " 'primary_cleaner.output.tail_au',\n",
       " 'rougher.calculation.sulfate_to_au_concentrate',\n",
       " 'rougher.calculation.floatbank10_sulfate_to_au_feed',\n",
       " 'rougher.calculation.floatbank11_sulfate_to_au_feed',\n",
       " 'rougher.calculation.au_pb_ratio',\n",
       " 'rougher.output.concentrate_ag',\n",
       " 'rougher.output.concentrate_pb',\n",
       " 'rougher.output.concentrate_sol',\n",
       " 'rougher.output.concentrate_au',\n",
       " 'rougher.output.recovery',\n",
       " 'rougher.output.tail_ag',\n",
       " 'rougher.output.tail_pb',\n",
       " 'rougher.output.tail_sol',\n",
       " 'rougher.output.tail_au',\n",
       " 'secondary_cleaner.output.tail_ag',\n",
       " 'secondary_cleaner.output.tail_pb',\n",
       " 'secondary_cleaner.output.tail_sol',\n",
       " 'secondary_cleaner.output.tail_au']"
      ]
     },
     "metadata": {},
     "output_type": "display_data"
    }
   ],
   "source": [
    "exceed_columns = [ elem for elem in list(df_train.columns) ]\n",
    "for item in list(df_test.columns):\n",
    "    if item in list(df_train.columns):\n",
    "        exceed_columns.remove(item)\n",
    "        \n",
    "display(exceed_columns)"
   ]
  },
  {
   "cell_type": "markdown",
   "id": "7ecf0ba0",
   "metadata": {},
   "source": [
    "- В обучающей выборке присутствуют дополнительные столбцы - судя по названиями это результаты некоторых промежуточных вычислений. Нам неизвестен точный способ их вычисления и они будут мешать обучению модели"
   ]
  },
  {
   "cell_type": "markdown",
   "id": "ccbbf2ce",
   "metadata": {},
   "source": [
    "## Предобработка данных\n",
    "\n",
    "- По условиям задачи - данные индексируются датой и временем получения информации (признак date). Соседние по времени параметры часто похожи. Значит будем использовать дату для индексирования данных в разных таблицах\n",
    "- Стоблцов станет на один меньше - мы перевели дату в индекс"
   ]
  },
  {
   "cell_type": "markdown",
   "id": "2af2aeb3",
   "metadata": {},
   "source": [
    "### Индексация"
   ]
  },
  {
   "cell_type": "code",
   "execution_count": 12,
   "id": "03d59e72",
   "metadata": {},
   "outputs": [],
   "source": [
    "df_test = df_test.set_index('date')\n",
    "df_train = df_train.set_index('date')\n",
    "df_full = df_full.set_index('date')"
   ]
  },
  {
   "cell_type": "markdown",
   "id": "0773f511",
   "metadata": {},
   "source": [
    "На предыдущем шаге мы установили, что в обучающей выборке есть лишние столбцы - удалим их"
   ]
  },
  {
   "cell_type": "code",
   "execution_count": 13,
   "id": "2a6a56d8",
   "metadata": {},
   "outputs": [],
   "source": [
    "df_train=df_train[df_test.columns]"
   ]
  },
  {
   "cell_type": "code",
   "execution_count": 14,
   "id": "8d363ccd",
   "metadata": {},
   "outputs": [
    {
     "data": {
      "text/plain": [
       "(14149, 52)"
      ]
     },
     "metadata": {},
     "output_type": "display_data"
    },
    {
     "data": {
      "text/plain": [
       "(5290, 52)"
      ]
     },
     "metadata": {},
     "output_type": "display_data"
    }
   ],
   "source": [
    "display(df_train.shape)\n",
    "display(df_test.shape)"
   ]
  },
  {
   "cell_type": "markdown",
   "id": "510424a2",
   "metadata": {},
   "source": [
    "### Обработка пропусков\n",
    "\n",
    "- Проверим количество пропусков в данных"
   ]
  },
  {
   "cell_type": "code",
   "execution_count": 15,
   "id": "5a74d95d",
   "metadata": {},
   "outputs": [
    {
     "data": {
      "text/plain": [
       "4481"
      ]
     },
     "metadata": {},
     "output_type": "display_data"
    }
   ],
   "source": [
    "display(df_full.isna().sum().sum())"
   ]
  },
  {
   "cell_type": "code",
   "execution_count": 16,
   "id": "d19ef6a1",
   "metadata": {},
   "outputs": [
    {
     "data": {
      "text/plain": [
       "1705"
      ]
     },
     "metadata": {},
     "output_type": "display_data"
    }
   ],
   "source": [
    "display(df_train.isna().sum().sum())"
   ]
  },
  {
   "cell_type": "code",
   "execution_count": 17,
   "id": "4366ad23",
   "metadata": {},
   "outputs": [
    {
     "data": {
      "text/plain": [
       "primary_cleaner.input.sulfate                  20\n",
       "primary_cleaner.input.depressant               32\n",
       "primary_cleaner.input.feed_size                 0\n",
       "primary_cleaner.input.xanthate                100\n",
       "primary_cleaner.state.floatbank8_a_air          4\n",
       "primary_cleaner.state.floatbank8_a_level        1\n",
       "primary_cleaner.state.floatbank8_b_air          4\n",
       "primary_cleaner.state.floatbank8_b_level        1\n",
       "primary_cleaner.state.floatbank8_c_air          2\n",
       "primary_cleaner.state.floatbank8_c_level        1\n",
       "primary_cleaner.state.floatbank8_d_air          3\n",
       "primary_cleaner.state.floatbank8_d_level        1\n",
       "rougher.input.feed_ag                           0\n",
       "rougher.input.feed_pb                         100\n",
       "rougher.input.feed_rate                         8\n",
       "rougher.input.feed_size                       144\n",
       "rougher.input.feed_sol                         78\n",
       "rougher.input.feed_au                           0\n",
       "rougher.input.floatbank10_sulfate              29\n",
       "rougher.input.floatbank10_xanthate              8\n",
       "rougher.input.floatbank11_sulfate              36\n",
       "rougher.input.floatbank11_xanthate            428\n",
       "rougher.state.floatbank10_a_air                 1\n",
       "rougher.state.floatbank10_a_level               1\n",
       "rougher.state.floatbank10_b_air                 1\n",
       "rougher.state.floatbank10_b_level               1\n",
       "rougher.state.floatbank10_c_air                 1\n",
       "rougher.state.floatbank10_c_level               1\n",
       "rougher.state.floatbank10_d_air                 0\n",
       "rougher.state.floatbank10_d_level               0\n",
       "rougher.state.floatbank10_e_air               436\n",
       "rougher.state.floatbank10_e_level               0\n",
       "rougher.state.floatbank10_f_air                 0\n",
       "rougher.state.floatbank10_f_level               0\n",
       "secondary_cleaner.state.floatbank2_a_air      217\n",
       "secondary_cleaner.state.floatbank2_a_level      1\n",
       "secondary_cleaner.state.floatbank2_b_air       21\n",
       "secondary_cleaner.state.floatbank2_b_level      1\n",
       "secondary_cleaner.state.floatbank3_a_air        4\n",
       "secondary_cleaner.state.floatbank3_a_level      1\n",
       "secondary_cleaner.state.floatbank3_b_air        1\n",
       "secondary_cleaner.state.floatbank3_b_level      1\n",
       "secondary_cleaner.state.floatbank4_a_air        6\n",
       "secondary_cleaner.state.floatbank4_a_level      1\n",
       "secondary_cleaner.state.floatbank4_b_air        1\n",
       "secondary_cleaner.state.floatbank4_b_level      1\n",
       "secondary_cleaner.state.floatbank5_a_air        1\n",
       "secondary_cleaner.state.floatbank5_a_level      1\n",
       "secondary_cleaner.state.floatbank5_b_air        1\n",
       "secondary_cleaner.state.floatbank5_b_level      1\n",
       "secondary_cleaner.state.floatbank6_a_air        2\n",
       "secondary_cleaner.state.floatbank6_a_level      1\n",
       "dtype: int64"
      ]
     },
     "metadata": {},
     "output_type": "display_data"
    }
   ],
   "source": [
    "display(df_train.isna().sum())"
   ]
  },
  {
   "cell_type": "code",
   "execution_count": 18,
   "id": "5f53f97c",
   "metadata": {},
   "outputs": [
    {
     "data": {
      "text/plain": [
       "90"
      ]
     },
     "metadata": {},
     "output_type": "display_data"
    }
   ],
   "source": [
    "display(df_test.isna().sum().sum())"
   ]
  },
  {
   "cell_type": "code",
   "execution_count": 19,
   "id": "dbeeb3a4",
   "metadata": {},
   "outputs": [
    {
     "data": {
      "text/plain": [
       "primary_cleaner.input.sulfate                  20\n",
       "primary_cleaner.input.depressant               32\n",
       "primary_cleaner.input.feed_size                 0\n",
       "primary_cleaner.input.xanthate                100\n",
       "primary_cleaner.state.floatbank8_a_air          4\n",
       "primary_cleaner.state.floatbank8_a_level        1\n",
       "primary_cleaner.state.floatbank8_b_air          4\n",
       "primary_cleaner.state.floatbank8_b_level        1\n",
       "primary_cleaner.state.floatbank8_c_air          2\n",
       "primary_cleaner.state.floatbank8_c_level        1\n",
       "primary_cleaner.state.floatbank8_d_air          3\n",
       "primary_cleaner.state.floatbank8_d_level        1\n",
       "rougher.input.feed_ag                           0\n",
       "rougher.input.feed_pb                         100\n",
       "rougher.input.feed_rate                         8\n",
       "rougher.input.feed_size                       144\n",
       "rougher.input.feed_sol                         78\n",
       "rougher.input.feed_au                           0\n",
       "rougher.input.floatbank10_sulfate              29\n",
       "rougher.input.floatbank10_xanthate              8\n",
       "rougher.input.floatbank11_sulfate              36\n",
       "rougher.input.floatbank11_xanthate            428\n",
       "rougher.state.floatbank10_a_air                 1\n",
       "rougher.state.floatbank10_a_level               1\n",
       "rougher.state.floatbank10_b_air                 1\n",
       "rougher.state.floatbank10_b_level               1\n",
       "rougher.state.floatbank10_c_air                 1\n",
       "rougher.state.floatbank10_c_level               1\n",
       "rougher.state.floatbank10_d_air                 0\n",
       "rougher.state.floatbank10_d_level               0\n",
       "rougher.state.floatbank10_e_air               436\n",
       "rougher.state.floatbank10_e_level               0\n",
       "rougher.state.floatbank10_f_air                 0\n",
       "rougher.state.floatbank10_f_level               0\n",
       "secondary_cleaner.state.floatbank2_a_air      217\n",
       "secondary_cleaner.state.floatbank2_a_level      1\n",
       "secondary_cleaner.state.floatbank2_b_air       21\n",
       "secondary_cleaner.state.floatbank2_b_level      1\n",
       "secondary_cleaner.state.floatbank3_a_air        4\n",
       "secondary_cleaner.state.floatbank3_a_level      1\n",
       "secondary_cleaner.state.floatbank3_b_air        1\n",
       "secondary_cleaner.state.floatbank3_b_level      1\n",
       "secondary_cleaner.state.floatbank4_a_air        6\n",
       "secondary_cleaner.state.floatbank4_a_level      1\n",
       "secondary_cleaner.state.floatbank4_b_air        1\n",
       "secondary_cleaner.state.floatbank4_b_level      1\n",
       "secondary_cleaner.state.floatbank5_a_air        1\n",
       "secondary_cleaner.state.floatbank5_a_level      1\n",
       "secondary_cleaner.state.floatbank5_b_air        1\n",
       "secondary_cleaner.state.floatbank5_b_level      1\n",
       "secondary_cleaner.state.floatbank6_a_air        2\n",
       "secondary_cleaner.state.floatbank6_a_level      1\n",
       "dtype: int64"
      ]
     },
     "metadata": {},
     "output_type": "display_data"
    }
   ],
   "source": [
    "display(df_train.isna().sum())"
   ]
  },
  {
   "cell_type": "markdown",
   "id": "fccf1a4d",
   "metadata": {},
   "source": [
    "Логично предположить, что пропуски в тествой и обучающей выборках могут перекрываться данными из полной выборки"
   ]
  },
  {
   "cell_type": "code",
   "execution_count": 20,
   "id": "c8b51841",
   "metadata": {},
   "outputs": [
    {
     "data": {
      "text/plain": [
       "1705"
      ]
     },
     "metadata": {},
     "output_type": "display_data"
    },
    {
     "data": {
      "text/plain": [
       "90"
      ]
     },
     "metadata": {},
     "output_type": "display_data"
    }
   ],
   "source": [
    "df_train = df_train.fillna(df_full)\n",
    "df_test = df_test.fillna(df_full)\n",
    "\n",
    "display(df_train.isna().sum().sum())\n",
    "display(df_test.isna().sum().sum())"
   ]
  },
  {
   "cell_type": "markdown",
   "id": "4fdbd3df",
   "metadata": {},
   "source": [
    "Попробовали заполнить данными из полной выборки - не помогло"
   ]
  },
  {
   "cell_type": "markdown",
   "id": "765ab5a6",
   "metadata": {},
   "source": [
    "Посмотрим подробнее как выглядят пропуски"
   ]
  },
  {
   "cell_type": "code",
   "execution_count": 21,
   "id": "e71ed982",
   "metadata": {},
   "outputs": [
    {
     "data": {
      "text/html": [
       "<div>\n",
       "<style scoped>\n",
       "    .dataframe tbody tr th:only-of-type {\n",
       "        vertical-align: middle;\n",
       "    }\n",
       "\n",
       "    .dataframe tbody tr th {\n",
       "        vertical-align: top;\n",
       "    }\n",
       "\n",
       "    .dataframe thead th {\n",
       "        text-align: right;\n",
       "    }\n",
       "</style>\n",
       "<table border=\"1\" class=\"dataframe\">\n",
       "  <thead>\n",
       "    <tr style=\"text-align: right;\">\n",
       "      <th></th>\n",
       "      <th>primary_cleaner.input.sulfate</th>\n",
       "      <th>primary_cleaner.input.depressant</th>\n",
       "      <th>primary_cleaner.input.feed_size</th>\n",
       "      <th>primary_cleaner.input.xanthate</th>\n",
       "      <th>primary_cleaner.state.floatbank8_a_air</th>\n",
       "      <th>primary_cleaner.state.floatbank8_a_level</th>\n",
       "      <th>primary_cleaner.state.floatbank8_b_air</th>\n",
       "      <th>primary_cleaner.state.floatbank8_b_level</th>\n",
       "      <th>primary_cleaner.state.floatbank8_c_air</th>\n",
       "      <th>primary_cleaner.state.floatbank8_c_level</th>\n",
       "      <th>...</th>\n",
       "      <th>secondary_cleaner.state.floatbank4_a_air</th>\n",
       "      <th>secondary_cleaner.state.floatbank4_a_level</th>\n",
       "      <th>secondary_cleaner.state.floatbank4_b_air</th>\n",
       "      <th>secondary_cleaner.state.floatbank4_b_level</th>\n",
       "      <th>secondary_cleaner.state.floatbank5_a_air</th>\n",
       "      <th>secondary_cleaner.state.floatbank5_a_level</th>\n",
       "      <th>secondary_cleaner.state.floatbank5_b_air</th>\n",
       "      <th>secondary_cleaner.state.floatbank5_b_level</th>\n",
       "      <th>secondary_cleaner.state.floatbank6_a_air</th>\n",
       "      <th>secondary_cleaner.state.floatbank6_a_level</th>\n",
       "    </tr>\n",
       "    <tr>\n",
       "      <th>date</th>\n",
       "      <th></th>\n",
       "      <th></th>\n",
       "      <th></th>\n",
       "      <th></th>\n",
       "      <th></th>\n",
       "      <th></th>\n",
       "      <th></th>\n",
       "      <th></th>\n",
       "      <th></th>\n",
       "      <th></th>\n",
       "      <th></th>\n",
       "      <th></th>\n",
       "      <th></th>\n",
       "      <th></th>\n",
       "      <th></th>\n",
       "      <th></th>\n",
       "      <th></th>\n",
       "      <th></th>\n",
       "      <th></th>\n",
       "      <th></th>\n",
       "      <th></th>\n",
       "    </tr>\n",
       "  </thead>\n",
       "  <tbody>\n",
       "    <tr>\n",
       "      <th>2016-01-19 02:00:00</th>\n",
       "      <td>15.273131</td>\n",
       "      <td>1.940663</td>\n",
       "      <td>7.25</td>\n",
       "      <td>0.180119</td>\n",
       "      <td>1546.951271</td>\n",
       "      <td>-501.138590</td>\n",
       "      <td>1550.530280</td>\n",
       "      <td>-500.130616</td>\n",
       "      <td>1551.535239</td>\n",
       "      <td>-502.251161</td>\n",
       "      <td>...</td>\n",
       "      <td>13.947368</td>\n",
       "      <td>-703.993293</td>\n",
       "      <td>12.018188</td>\n",
       "      <td>-559.800324</td>\n",
       "      <td>9.999754</td>\n",
       "      <td>-512.673353</td>\n",
       "      <td>7.946763</td>\n",
       "      <td>-500.475471</td>\n",
       "      <td>11.963962</td>\n",
       "      <td>-607.847547</td>\n",
       "    </tr>\n",
       "    <tr>\n",
       "      <th>2016-01-21 10:00:00</th>\n",
       "      <td>NaN</td>\n",
       "      <td>NaN</td>\n",
       "      <td>7.25</td>\n",
       "      <td>NaN</td>\n",
       "      <td>NaN</td>\n",
       "      <td>NaN</td>\n",
       "      <td>NaN</td>\n",
       "      <td>NaN</td>\n",
       "      <td>NaN</td>\n",
       "      <td>NaN</td>\n",
       "      <td>...</td>\n",
       "      <td>NaN</td>\n",
       "      <td>NaN</td>\n",
       "      <td>NaN</td>\n",
       "      <td>NaN</td>\n",
       "      <td>NaN</td>\n",
       "      <td>NaN</td>\n",
       "      <td>NaN</td>\n",
       "      <td>NaN</td>\n",
       "      <td>NaN</td>\n",
       "      <td>NaN</td>\n",
       "    </tr>\n",
       "    <tr>\n",
       "      <th>2016-03-02 11:00:00</th>\n",
       "      <td>NaN</td>\n",
       "      <td>0.012373</td>\n",
       "      <td>7.62</td>\n",
       "      <td>0.001285</td>\n",
       "      <td>1602.198286</td>\n",
       "      <td>-450.681741</td>\n",
       "      <td>1600.252087</td>\n",
       "      <td>-449.323651</td>\n",
       "      <td>1599.761123</td>\n",
       "      <td>-448.628056</td>\n",
       "      <td>...</td>\n",
       "      <td>13.974818</td>\n",
       "      <td>-578.520549</td>\n",
       "      <td>14.065672</td>\n",
       "      <td>-501.248199</td>\n",
       "      <td>12.011447</td>\n",
       "      <td>-500.417855</td>\n",
       "      <td>10.025794</td>\n",
       "      <td>-499.889108</td>\n",
       "      <td>20.033958</td>\n",
       "      <td>-499.999036</td>\n",
       "    </tr>\n",
       "    <tr>\n",
       "      <th>2016-05-15 13:59:59</th>\n",
       "      <td>159.551841</td>\n",
       "      <td>11.972081</td>\n",
       "      <td>7.74</td>\n",
       "      <td>0.904101</td>\n",
       "      <td>1203.830417</td>\n",
       "      <td>-499.751674</td>\n",
       "      <td>1204.874868</td>\n",
       "      <td>-499.591962</td>\n",
       "      <td>1201.389978</td>\n",
       "      <td>-500.573755</td>\n",
       "      <td>...</td>\n",
       "      <td>9.989485</td>\n",
       "      <td>-501.018930</td>\n",
       "      <td>8.028083</td>\n",
       "      <td>-504.302157</td>\n",
       "      <td>8.806407</td>\n",
       "      <td>-499.302177</td>\n",
       "      <td>5.980273</td>\n",
       "      <td>-500.507677</td>\n",
       "      <td>20.006564</td>\n",
       "      <td>-496.164292</td>\n",
       "    </tr>\n",
       "    <tr>\n",
       "      <th>2016-05-15 14:59:59</th>\n",
       "      <td>58.717323</td>\n",
       "      <td>12.027662</td>\n",
       "      <td>6.61</td>\n",
       "      <td>0.922359</td>\n",
       "      <td>1392.770893</td>\n",
       "      <td>-500.326034</td>\n",
       "      <td>1299.437987</td>\n",
       "      <td>-499.958419</td>\n",
       "      <td>1203.788552</td>\n",
       "      <td>-496.356381</td>\n",
       "      <td>...</td>\n",
       "      <td>10.012410</td>\n",
       "      <td>-501.591840</td>\n",
       "      <td>7.907263</td>\n",
       "      <td>-513.814631</td>\n",
       "      <td>8.568602</td>\n",
       "      <td>-498.174475</td>\n",
       "      <td>5.968032</td>\n",
       "      <td>-499.963947</td>\n",
       "      <td>19.985684</td>\n",
       "      <td>-503.306448</td>\n",
       "    </tr>\n",
       "    <tr>\n",
       "      <th>2016-06-06 13:59:59</th>\n",
       "      <td>0.832935</td>\n",
       "      <td>NaN</td>\n",
       "      <td>6.80</td>\n",
       "      <td>0.010702</td>\n",
       "      <td>1191.181589</td>\n",
       "      <td>-502.140749</td>\n",
       "      <td>1192.766017</td>\n",
       "      <td>-494.615276</td>\n",
       "      <td>1193.561361</td>\n",
       "      <td>-635.561247</td>\n",
       "      <td>...</td>\n",
       "      <td>10.016232</td>\n",
       "      <td>-591.105501</td>\n",
       "      <td>8.034319</td>\n",
       "      <td>-547.173732</td>\n",
       "      <td>7.957247</td>\n",
       "      <td>-495.834105</td>\n",
       "      <td>6.025972</td>\n",
       "      <td>-500.221367</td>\n",
       "      <td>18.015904</td>\n",
       "      <td>-495.628009</td>\n",
       "    </tr>\n",
       "    <tr>\n",
       "      <th>2016-06-30 18:59:59</th>\n",
       "      <td>0.129139</td>\n",
       "      <td>NaN</td>\n",
       "      <td>7.31</td>\n",
       "      <td>0.004816</td>\n",
       "      <td>531.926222</td>\n",
       "      <td>-498.328181</td>\n",
       "      <td>545.991544</td>\n",
       "      <td>-501.589520</td>\n",
       "      <td>510.630950</td>\n",
       "      <td>-532.511890</td>\n",
       "      <td>...</td>\n",
       "      <td>16.958549</td>\n",
       "      <td>-524.315871</td>\n",
       "      <td>8.942295</td>\n",
       "      <td>-468.564861</td>\n",
       "      <td>16.923684</td>\n",
       "      <td>-465.000206</td>\n",
       "      <td>7.946080</td>\n",
       "      <td>-367.640926</td>\n",
       "      <td>24.960363</td>\n",
       "      <td>-447.242276</td>\n",
       "    </tr>\n",
       "    <tr>\n",
       "      <th>2016-07-07 00:59:59</th>\n",
       "      <td>2.418651</td>\n",
       "      <td>0.434605</td>\n",
       "      <td>8.38</td>\n",
       "      <td>0.143673</td>\n",
       "      <td>1599.694636</td>\n",
       "      <td>-499.278696</td>\n",
       "      <td>1601.423940</td>\n",
       "      <td>-498.715997</td>\n",
       "      <td>1500.153886</td>\n",
       "      <td>-497.415498</td>\n",
       "      <td>...</td>\n",
       "      <td>16.011539</td>\n",
       "      <td>-498.362614</td>\n",
       "      <td>8.015204</td>\n",
       "      <td>-500.114369</td>\n",
       "      <td>15.912076</td>\n",
       "      <td>-489.872124</td>\n",
       "      <td>6.926725</td>\n",
       "      <td>-484.564166</td>\n",
       "      <td>24.961916</td>\n",
       "      <td>-494.938211</td>\n",
       "    </tr>\n",
       "    <tr>\n",
       "      <th>2016-07-18 14:59:59</th>\n",
       "      <td>62.830953</td>\n",
       "      <td>7.006670</td>\n",
       "      <td>8.21</td>\n",
       "      <td>0.574743</td>\n",
       "      <td>1601.946035</td>\n",
       "      <td>-500.703455</td>\n",
       "      <td>1607.720913</td>\n",
       "      <td>-500.257229</td>\n",
       "      <td>1603.724847</td>\n",
       "      <td>-499.778935</td>\n",
       "      <td>...</td>\n",
       "      <td>15.012221</td>\n",
       "      <td>-401.688850</td>\n",
       "      <td>4.974202</td>\n",
       "      <td>-400.312056</td>\n",
       "      <td>10.051200</td>\n",
       "      <td>-403.969189</td>\n",
       "      <td>5.039952</td>\n",
       "      <td>-400.190704</td>\n",
       "      <td>23.012079</td>\n",
       "      <td>-501.597792</td>\n",
       "    </tr>\n",
       "    <tr>\n",
       "      <th>2016-07-23 09:59:59</th>\n",
       "      <td>0.396662</td>\n",
       "      <td>NaN</td>\n",
       "      <td>7.40</td>\n",
       "      <td>0.000005</td>\n",
       "      <td>1602.327540</td>\n",
       "      <td>-498.998698</td>\n",
       "      <td>1598.719365</td>\n",
       "      <td>-500.058839</td>\n",
       "      <td>1596.003724</td>\n",
       "      <td>-499.718919</td>\n",
       "      <td>...</td>\n",
       "      <td>14.985380</td>\n",
       "      <td>-399.839883</td>\n",
       "      <td>4.981463</td>\n",
       "      <td>-400.251595</td>\n",
       "      <td>9.970841</td>\n",
       "      <td>-389.963517</td>\n",
       "      <td>5.043393</td>\n",
       "      <td>-398.340522</td>\n",
       "      <td>23.014861</td>\n",
       "      <td>-492.411938</td>\n",
       "    </tr>\n",
       "  </tbody>\n",
       "</table>\n",
       "<p>10 rows × 52 columns</p>\n",
       "</div>"
      ],
      "text/plain": [
       "                     primary_cleaner.input.sulfate  \\\n",
       "date                                                 \n",
       "2016-01-19 02:00:00                      15.273131   \n",
       "2016-01-21 10:00:00                            NaN   \n",
       "2016-03-02 11:00:00                            NaN   \n",
       "2016-05-15 13:59:59                     159.551841   \n",
       "2016-05-15 14:59:59                      58.717323   \n",
       "2016-06-06 13:59:59                       0.832935   \n",
       "2016-06-30 18:59:59                       0.129139   \n",
       "2016-07-07 00:59:59                       2.418651   \n",
       "2016-07-18 14:59:59                      62.830953   \n",
       "2016-07-23 09:59:59                       0.396662   \n",
       "\n",
       "                     primary_cleaner.input.depressant  \\\n",
       "date                                                    \n",
       "2016-01-19 02:00:00                          1.940663   \n",
       "2016-01-21 10:00:00                               NaN   \n",
       "2016-03-02 11:00:00                          0.012373   \n",
       "2016-05-15 13:59:59                         11.972081   \n",
       "2016-05-15 14:59:59                         12.027662   \n",
       "2016-06-06 13:59:59                               NaN   \n",
       "2016-06-30 18:59:59                               NaN   \n",
       "2016-07-07 00:59:59                          0.434605   \n",
       "2016-07-18 14:59:59                          7.006670   \n",
       "2016-07-23 09:59:59                               NaN   \n",
       "\n",
       "                     primary_cleaner.input.feed_size  \\\n",
       "date                                                   \n",
       "2016-01-19 02:00:00                             7.25   \n",
       "2016-01-21 10:00:00                             7.25   \n",
       "2016-03-02 11:00:00                             7.62   \n",
       "2016-05-15 13:59:59                             7.74   \n",
       "2016-05-15 14:59:59                             6.61   \n",
       "2016-06-06 13:59:59                             6.80   \n",
       "2016-06-30 18:59:59                             7.31   \n",
       "2016-07-07 00:59:59                             8.38   \n",
       "2016-07-18 14:59:59                             8.21   \n",
       "2016-07-23 09:59:59                             7.40   \n",
       "\n",
       "                     primary_cleaner.input.xanthate  \\\n",
       "date                                                  \n",
       "2016-01-19 02:00:00                        0.180119   \n",
       "2016-01-21 10:00:00                             NaN   \n",
       "2016-03-02 11:00:00                        0.001285   \n",
       "2016-05-15 13:59:59                        0.904101   \n",
       "2016-05-15 14:59:59                        0.922359   \n",
       "2016-06-06 13:59:59                        0.010702   \n",
       "2016-06-30 18:59:59                        0.004816   \n",
       "2016-07-07 00:59:59                        0.143673   \n",
       "2016-07-18 14:59:59                        0.574743   \n",
       "2016-07-23 09:59:59                        0.000005   \n",
       "\n",
       "                     primary_cleaner.state.floatbank8_a_air  \\\n",
       "date                                                          \n",
       "2016-01-19 02:00:00                             1546.951271   \n",
       "2016-01-21 10:00:00                                     NaN   \n",
       "2016-03-02 11:00:00                             1602.198286   \n",
       "2016-05-15 13:59:59                             1203.830417   \n",
       "2016-05-15 14:59:59                             1392.770893   \n",
       "2016-06-06 13:59:59                             1191.181589   \n",
       "2016-06-30 18:59:59                              531.926222   \n",
       "2016-07-07 00:59:59                             1599.694636   \n",
       "2016-07-18 14:59:59                             1601.946035   \n",
       "2016-07-23 09:59:59                             1602.327540   \n",
       "\n",
       "                     primary_cleaner.state.floatbank8_a_level  \\\n",
       "date                                                            \n",
       "2016-01-19 02:00:00                               -501.138590   \n",
       "2016-01-21 10:00:00                                       NaN   \n",
       "2016-03-02 11:00:00                               -450.681741   \n",
       "2016-05-15 13:59:59                               -499.751674   \n",
       "2016-05-15 14:59:59                               -500.326034   \n",
       "2016-06-06 13:59:59                               -502.140749   \n",
       "2016-06-30 18:59:59                               -498.328181   \n",
       "2016-07-07 00:59:59                               -499.278696   \n",
       "2016-07-18 14:59:59                               -500.703455   \n",
       "2016-07-23 09:59:59                               -498.998698   \n",
       "\n",
       "                     primary_cleaner.state.floatbank8_b_air  \\\n",
       "date                                                          \n",
       "2016-01-19 02:00:00                             1550.530280   \n",
       "2016-01-21 10:00:00                                     NaN   \n",
       "2016-03-02 11:00:00                             1600.252087   \n",
       "2016-05-15 13:59:59                             1204.874868   \n",
       "2016-05-15 14:59:59                             1299.437987   \n",
       "2016-06-06 13:59:59                             1192.766017   \n",
       "2016-06-30 18:59:59                              545.991544   \n",
       "2016-07-07 00:59:59                             1601.423940   \n",
       "2016-07-18 14:59:59                             1607.720913   \n",
       "2016-07-23 09:59:59                             1598.719365   \n",
       "\n",
       "                     primary_cleaner.state.floatbank8_b_level  \\\n",
       "date                                                            \n",
       "2016-01-19 02:00:00                               -500.130616   \n",
       "2016-01-21 10:00:00                                       NaN   \n",
       "2016-03-02 11:00:00                               -449.323651   \n",
       "2016-05-15 13:59:59                               -499.591962   \n",
       "2016-05-15 14:59:59                               -499.958419   \n",
       "2016-06-06 13:59:59                               -494.615276   \n",
       "2016-06-30 18:59:59                               -501.589520   \n",
       "2016-07-07 00:59:59                               -498.715997   \n",
       "2016-07-18 14:59:59                               -500.257229   \n",
       "2016-07-23 09:59:59                               -500.058839   \n",
       "\n",
       "                     primary_cleaner.state.floatbank8_c_air  \\\n",
       "date                                                          \n",
       "2016-01-19 02:00:00                             1551.535239   \n",
       "2016-01-21 10:00:00                                     NaN   \n",
       "2016-03-02 11:00:00                             1599.761123   \n",
       "2016-05-15 13:59:59                             1201.389978   \n",
       "2016-05-15 14:59:59                             1203.788552   \n",
       "2016-06-06 13:59:59                             1193.561361   \n",
       "2016-06-30 18:59:59                              510.630950   \n",
       "2016-07-07 00:59:59                             1500.153886   \n",
       "2016-07-18 14:59:59                             1603.724847   \n",
       "2016-07-23 09:59:59                             1596.003724   \n",
       "\n",
       "                     primary_cleaner.state.floatbank8_c_level  ...  \\\n",
       "date                                                           ...   \n",
       "2016-01-19 02:00:00                               -502.251161  ...   \n",
       "2016-01-21 10:00:00                                       NaN  ...   \n",
       "2016-03-02 11:00:00                               -448.628056  ...   \n",
       "2016-05-15 13:59:59                               -500.573755  ...   \n",
       "2016-05-15 14:59:59                               -496.356381  ...   \n",
       "2016-06-06 13:59:59                               -635.561247  ...   \n",
       "2016-06-30 18:59:59                               -532.511890  ...   \n",
       "2016-07-07 00:59:59                               -497.415498  ...   \n",
       "2016-07-18 14:59:59                               -499.778935  ...   \n",
       "2016-07-23 09:59:59                               -499.718919  ...   \n",
       "\n",
       "                     secondary_cleaner.state.floatbank4_a_air  \\\n",
       "date                                                            \n",
       "2016-01-19 02:00:00                                 13.947368   \n",
       "2016-01-21 10:00:00                                       NaN   \n",
       "2016-03-02 11:00:00                                 13.974818   \n",
       "2016-05-15 13:59:59                                  9.989485   \n",
       "2016-05-15 14:59:59                                 10.012410   \n",
       "2016-06-06 13:59:59                                 10.016232   \n",
       "2016-06-30 18:59:59                                 16.958549   \n",
       "2016-07-07 00:59:59                                 16.011539   \n",
       "2016-07-18 14:59:59                                 15.012221   \n",
       "2016-07-23 09:59:59                                 14.985380   \n",
       "\n",
       "                     secondary_cleaner.state.floatbank4_a_level  \\\n",
       "date                                                              \n",
       "2016-01-19 02:00:00                                 -703.993293   \n",
       "2016-01-21 10:00:00                                         NaN   \n",
       "2016-03-02 11:00:00                                 -578.520549   \n",
       "2016-05-15 13:59:59                                 -501.018930   \n",
       "2016-05-15 14:59:59                                 -501.591840   \n",
       "2016-06-06 13:59:59                                 -591.105501   \n",
       "2016-06-30 18:59:59                                 -524.315871   \n",
       "2016-07-07 00:59:59                                 -498.362614   \n",
       "2016-07-18 14:59:59                                 -401.688850   \n",
       "2016-07-23 09:59:59                                 -399.839883   \n",
       "\n",
       "                     secondary_cleaner.state.floatbank4_b_air  \\\n",
       "date                                                            \n",
       "2016-01-19 02:00:00                                 12.018188   \n",
       "2016-01-21 10:00:00                                       NaN   \n",
       "2016-03-02 11:00:00                                 14.065672   \n",
       "2016-05-15 13:59:59                                  8.028083   \n",
       "2016-05-15 14:59:59                                  7.907263   \n",
       "2016-06-06 13:59:59                                  8.034319   \n",
       "2016-06-30 18:59:59                                  8.942295   \n",
       "2016-07-07 00:59:59                                  8.015204   \n",
       "2016-07-18 14:59:59                                  4.974202   \n",
       "2016-07-23 09:59:59                                  4.981463   \n",
       "\n",
       "                     secondary_cleaner.state.floatbank4_b_level  \\\n",
       "date                                                              \n",
       "2016-01-19 02:00:00                                 -559.800324   \n",
       "2016-01-21 10:00:00                                         NaN   \n",
       "2016-03-02 11:00:00                                 -501.248199   \n",
       "2016-05-15 13:59:59                                 -504.302157   \n",
       "2016-05-15 14:59:59                                 -513.814631   \n",
       "2016-06-06 13:59:59                                 -547.173732   \n",
       "2016-06-30 18:59:59                                 -468.564861   \n",
       "2016-07-07 00:59:59                                 -500.114369   \n",
       "2016-07-18 14:59:59                                 -400.312056   \n",
       "2016-07-23 09:59:59                                 -400.251595   \n",
       "\n",
       "                     secondary_cleaner.state.floatbank5_a_air  \\\n",
       "date                                                            \n",
       "2016-01-19 02:00:00                                  9.999754   \n",
       "2016-01-21 10:00:00                                       NaN   \n",
       "2016-03-02 11:00:00                                 12.011447   \n",
       "2016-05-15 13:59:59                                  8.806407   \n",
       "2016-05-15 14:59:59                                  8.568602   \n",
       "2016-06-06 13:59:59                                  7.957247   \n",
       "2016-06-30 18:59:59                                 16.923684   \n",
       "2016-07-07 00:59:59                                 15.912076   \n",
       "2016-07-18 14:59:59                                 10.051200   \n",
       "2016-07-23 09:59:59                                  9.970841   \n",
       "\n",
       "                     secondary_cleaner.state.floatbank5_a_level  \\\n",
       "date                                                              \n",
       "2016-01-19 02:00:00                                 -512.673353   \n",
       "2016-01-21 10:00:00                                         NaN   \n",
       "2016-03-02 11:00:00                                 -500.417855   \n",
       "2016-05-15 13:59:59                                 -499.302177   \n",
       "2016-05-15 14:59:59                                 -498.174475   \n",
       "2016-06-06 13:59:59                                 -495.834105   \n",
       "2016-06-30 18:59:59                                 -465.000206   \n",
       "2016-07-07 00:59:59                                 -489.872124   \n",
       "2016-07-18 14:59:59                                 -403.969189   \n",
       "2016-07-23 09:59:59                                 -389.963517   \n",
       "\n",
       "                     secondary_cleaner.state.floatbank5_b_air  \\\n",
       "date                                                            \n",
       "2016-01-19 02:00:00                                  7.946763   \n",
       "2016-01-21 10:00:00                                       NaN   \n",
       "2016-03-02 11:00:00                                 10.025794   \n",
       "2016-05-15 13:59:59                                  5.980273   \n",
       "2016-05-15 14:59:59                                  5.968032   \n",
       "2016-06-06 13:59:59                                  6.025972   \n",
       "2016-06-30 18:59:59                                  7.946080   \n",
       "2016-07-07 00:59:59                                  6.926725   \n",
       "2016-07-18 14:59:59                                  5.039952   \n",
       "2016-07-23 09:59:59                                  5.043393   \n",
       "\n",
       "                     secondary_cleaner.state.floatbank5_b_level  \\\n",
       "date                                                              \n",
       "2016-01-19 02:00:00                                 -500.475471   \n",
       "2016-01-21 10:00:00                                         NaN   \n",
       "2016-03-02 11:00:00                                 -499.889108   \n",
       "2016-05-15 13:59:59                                 -500.507677   \n",
       "2016-05-15 14:59:59                                 -499.963947   \n",
       "2016-06-06 13:59:59                                 -500.221367   \n",
       "2016-06-30 18:59:59                                 -367.640926   \n",
       "2016-07-07 00:59:59                                 -484.564166   \n",
       "2016-07-18 14:59:59                                 -400.190704   \n",
       "2016-07-23 09:59:59                                 -398.340522   \n",
       "\n",
       "                     secondary_cleaner.state.floatbank6_a_air  \\\n",
       "date                                                            \n",
       "2016-01-19 02:00:00                                 11.963962   \n",
       "2016-01-21 10:00:00                                       NaN   \n",
       "2016-03-02 11:00:00                                 20.033958   \n",
       "2016-05-15 13:59:59                                 20.006564   \n",
       "2016-05-15 14:59:59                                 19.985684   \n",
       "2016-06-06 13:59:59                                 18.015904   \n",
       "2016-06-30 18:59:59                                 24.960363   \n",
       "2016-07-07 00:59:59                                 24.961916   \n",
       "2016-07-18 14:59:59                                 23.012079   \n",
       "2016-07-23 09:59:59                                 23.014861   \n",
       "\n",
       "                     secondary_cleaner.state.floatbank6_a_level  \n",
       "date                                                             \n",
       "2016-01-19 02:00:00                                 -607.847547  \n",
       "2016-01-21 10:00:00                                         NaN  \n",
       "2016-03-02 11:00:00                                 -499.999036  \n",
       "2016-05-15 13:59:59                                 -496.164292  \n",
       "2016-05-15 14:59:59                                 -503.306448  \n",
       "2016-06-06 13:59:59                                 -495.628009  \n",
       "2016-06-30 18:59:59                                 -447.242276  \n",
       "2016-07-07 00:59:59                                 -494.938211  \n",
       "2016-07-18 14:59:59                                 -501.597792  \n",
       "2016-07-23 09:59:59                                 -492.411938  \n",
       "\n",
       "[10 rows x 52 columns]"
      ]
     },
     "execution_count": 21,
     "metadata": {},
     "output_type": "execute_result"
    }
   ],
   "source": [
    "df_train[df_train['rougher.input.floatbank11_xanthate'].isna()].head(10)"
   ]
  },
  {
   "cell_type": "code",
   "execution_count": 22,
   "id": "0bd64973",
   "metadata": {},
   "outputs": [
    {
     "data": {
      "text/html": [
       "<div>\n",
       "<style scoped>\n",
       "    .dataframe tbody tr th:only-of-type {\n",
       "        vertical-align: middle;\n",
       "    }\n",
       "\n",
       "    .dataframe tbody tr th {\n",
       "        vertical-align: top;\n",
       "    }\n",
       "\n",
       "    .dataframe thead th {\n",
       "        text-align: right;\n",
       "    }\n",
       "</style>\n",
       "<table border=\"1\" class=\"dataframe\">\n",
       "  <thead>\n",
       "    <tr style=\"text-align: right;\">\n",
       "      <th></th>\n",
       "      <th>primary_cleaner.input.sulfate</th>\n",
       "      <th>primary_cleaner.input.depressant</th>\n",
       "      <th>primary_cleaner.input.feed_size</th>\n",
       "      <th>primary_cleaner.input.xanthate</th>\n",
       "      <th>primary_cleaner.state.floatbank8_a_air</th>\n",
       "      <th>primary_cleaner.state.floatbank8_a_level</th>\n",
       "      <th>primary_cleaner.state.floatbank8_b_air</th>\n",
       "      <th>primary_cleaner.state.floatbank8_b_level</th>\n",
       "      <th>primary_cleaner.state.floatbank8_c_air</th>\n",
       "      <th>primary_cleaner.state.floatbank8_c_level</th>\n",
       "      <th>...</th>\n",
       "      <th>secondary_cleaner.state.floatbank4_a_air</th>\n",
       "      <th>secondary_cleaner.state.floatbank4_a_level</th>\n",
       "      <th>secondary_cleaner.state.floatbank4_b_air</th>\n",
       "      <th>secondary_cleaner.state.floatbank4_b_level</th>\n",
       "      <th>secondary_cleaner.state.floatbank5_a_air</th>\n",
       "      <th>secondary_cleaner.state.floatbank5_a_level</th>\n",
       "      <th>secondary_cleaner.state.floatbank5_b_air</th>\n",
       "      <th>secondary_cleaner.state.floatbank5_b_level</th>\n",
       "      <th>secondary_cleaner.state.floatbank6_a_air</th>\n",
       "      <th>secondary_cleaner.state.floatbank6_a_level</th>\n",
       "    </tr>\n",
       "    <tr>\n",
       "      <th>date</th>\n",
       "      <th></th>\n",
       "      <th></th>\n",
       "      <th></th>\n",
       "      <th></th>\n",
       "      <th></th>\n",
       "      <th></th>\n",
       "      <th></th>\n",
       "      <th></th>\n",
       "      <th></th>\n",
       "      <th></th>\n",
       "      <th></th>\n",
       "      <th></th>\n",
       "      <th></th>\n",
       "      <th></th>\n",
       "      <th></th>\n",
       "      <th></th>\n",
       "      <th></th>\n",
       "      <th></th>\n",
       "      <th></th>\n",
       "      <th></th>\n",
       "      <th></th>\n",
       "    </tr>\n",
       "  </thead>\n",
       "  <tbody>\n",
       "    <tr>\n",
       "      <th>2016-01-21 10:00:00</th>\n",
       "      <td>NaN</td>\n",
       "      <td>NaN</td>\n",
       "      <td>7.25</td>\n",
       "      <td>NaN</td>\n",
       "      <td>NaN</td>\n",
       "      <td>NaN</td>\n",
       "      <td>NaN</td>\n",
       "      <td>NaN</td>\n",
       "      <td>NaN</td>\n",
       "      <td>NaN</td>\n",
       "      <td>...</td>\n",
       "      <td>NaN</td>\n",
       "      <td>NaN</td>\n",
       "      <td>NaN</td>\n",
       "      <td>NaN</td>\n",
       "      <td>NaN</td>\n",
       "      <td>NaN</td>\n",
       "      <td>NaN</td>\n",
       "      <td>NaN</td>\n",
       "      <td>NaN</td>\n",
       "      <td>NaN</td>\n",
       "    </tr>\n",
       "    <tr>\n",
       "      <th>2016-03-24 08:00:00</th>\n",
       "      <td>104.956422</td>\n",
       "      <td>11.999398</td>\n",
       "      <td>7.37</td>\n",
       "      <td>NaN</td>\n",
       "      <td>1597.697640</td>\n",
       "      <td>-399.819202</td>\n",
       "      <td>1596.949702</td>\n",
       "      <td>-399.888695</td>\n",
       "      <td>1600.157805</td>\n",
       "      <td>-399.248583</td>\n",
       "      <td>...</td>\n",
       "      <td>11.998092</td>\n",
       "      <td>-500.936562</td>\n",
       "      <td>12.031555</td>\n",
       "      <td>-500.081283</td>\n",
       "      <td>11.969752</td>\n",
       "      <td>-500.306954</td>\n",
       "      <td>10.013980</td>\n",
       "      <td>-499.529430</td>\n",
       "      <td>19.940392</td>\n",
       "      <td>-500.892556</td>\n",
       "    </tr>\n",
       "    <tr>\n",
       "      <th>2016-05-01 01:59:59</th>\n",
       "      <td>4.494127</td>\n",
       "      <td>0.537326</td>\n",
       "      <td>8.40</td>\n",
       "      <td>NaN</td>\n",
       "      <td>1545.276832</td>\n",
       "      <td>-497.689866</td>\n",
       "      <td>1554.624773</td>\n",
       "      <td>-497.102269</td>\n",
       "      <td>1549.974989</td>\n",
       "      <td>-499.133237</td>\n",
       "      <td>...</td>\n",
       "      <td>14.956706</td>\n",
       "      <td>-500.612510</td>\n",
       "      <td>13.115482</td>\n",
       "      <td>-500.857934</td>\n",
       "      <td>8.998472</td>\n",
       "      <td>-492.875599</td>\n",
       "      <td>9.004232</td>\n",
       "      <td>-498.633139</td>\n",
       "      <td>16.033764</td>\n",
       "      <td>-492.840123</td>\n",
       "    </tr>\n",
       "    <tr>\n",
       "      <th>2016-06-30 19:59:59</th>\n",
       "      <td>NaN</td>\n",
       "      <td>NaN</td>\n",
       "      <td>7.31</td>\n",
       "      <td>NaN</td>\n",
       "      <td>1697.674286</td>\n",
       "      <td>-498.075966</td>\n",
       "      <td>1699.239866</td>\n",
       "      <td>-489.467718</td>\n",
       "      <td>1602.133795</td>\n",
       "      <td>-457.803895</td>\n",
       "      <td>...</td>\n",
       "      <td>17.038284</td>\n",
       "      <td>-501.556625</td>\n",
       "      <td>8.972578</td>\n",
       "      <td>-500.082165</td>\n",
       "      <td>17.001588</td>\n",
       "      <td>-387.026716</td>\n",
       "      <td>7.946884</td>\n",
       "      <td>-157.396071</td>\n",
       "      <td>25.013642</td>\n",
       "      <td>-203.923380</td>\n",
       "    </tr>\n",
       "    <tr>\n",
       "      <th>2016-08-06 17:59:59</th>\n",
       "      <td>39.212581</td>\n",
       "      <td>4.021451</td>\n",
       "      <td>6.96</td>\n",
       "      <td>NaN</td>\n",
       "      <td>1601.363273</td>\n",
       "      <td>-499.934881</td>\n",
       "      <td>1604.865110</td>\n",
       "      <td>-498.900916</td>\n",
       "      <td>1598.727276</td>\n",
       "      <td>-500.339612</td>\n",
       "      <td>...</td>\n",
       "      <td>20.005287</td>\n",
       "      <td>-399.101286</td>\n",
       "      <td>9.905119</td>\n",
       "      <td>-400.346541</td>\n",
       "      <td>8.670982</td>\n",
       "      <td>-399.648465</td>\n",
       "      <td>5.065398</td>\n",
       "      <td>-399.260062</td>\n",
       "      <td>22.986697</td>\n",
       "      <td>-496.006129</td>\n",
       "    </tr>\n",
       "    <tr>\n",
       "      <th>2016-08-23 14:59:59</th>\n",
       "      <td>137.285657</td>\n",
       "      <td>9.458449</td>\n",
       "      <td>8.08</td>\n",
       "      <td>NaN</td>\n",
       "      <td>0.016993</td>\n",
       "      <td>-499.020645</td>\n",
       "      <td>0.023275</td>\n",
       "      <td>-501.276978</td>\n",
       "      <td>0.040552</td>\n",
       "      <td>-499.823259</td>\n",
       "      <td>...</td>\n",
       "      <td>17.962890</td>\n",
       "      <td>-399.856508</td>\n",
       "      <td>10.046007</td>\n",
       "      <td>-403.844511</td>\n",
       "      <td>10.004214</td>\n",
       "      <td>-399.028523</td>\n",
       "      <td>5.004691</td>\n",
       "      <td>-401.004709</td>\n",
       "      <td>24.962476</td>\n",
       "      <td>-500.704776</td>\n",
       "    </tr>\n",
       "    <tr>\n",
       "      <th>2016-08-23 15:59:59</th>\n",
       "      <td>132.673093</td>\n",
       "      <td>9.562038</td>\n",
       "      <td>8.08</td>\n",
       "      <td>NaN</td>\n",
       "      <td>0.006352</td>\n",
       "      <td>-500.304951</td>\n",
       "      <td>0.008700</td>\n",
       "      <td>-499.262719</td>\n",
       "      <td>0.015159</td>\n",
       "      <td>-500.343851</td>\n",
       "      <td>...</td>\n",
       "      <td>17.985631</td>\n",
       "      <td>-399.727175</td>\n",
       "      <td>9.947099</td>\n",
       "      <td>-400.188069</td>\n",
       "      <td>9.982761</td>\n",
       "      <td>-396.801088</td>\n",
       "      <td>4.976753</td>\n",
       "      <td>-400.430756</td>\n",
       "      <td>25.023599</td>\n",
       "      <td>-498.866859</td>\n",
       "    </tr>\n",
       "    <tr>\n",
       "      <th>2017-01-06 19:59:59</th>\n",
       "      <td>NaN</td>\n",
       "      <td>0.416502</td>\n",
       "      <td>7.79</td>\n",
       "      <td>NaN</td>\n",
       "      <td>1854.162080</td>\n",
       "      <td>-615.091268</td>\n",
       "      <td>2114.906758</td>\n",
       "      <td>-593.303764</td>\n",
       "      <td>1779.139349</td>\n",
       "      <td>-799.719089</td>\n",
       "      <td>...</td>\n",
       "      <td>0.000000</td>\n",
       "      <td>-530.197868</td>\n",
       "      <td>0.000000</td>\n",
       "      <td>-799.619081</td>\n",
       "      <td>-0.112612</td>\n",
       "      <td>-792.794538</td>\n",
       "      <td>0.646208</td>\n",
       "      <td>-515.392892</td>\n",
       "      <td>0.238511</td>\n",
       "      <td>-809.398668</td>\n",
       "    </tr>\n",
       "    <tr>\n",
       "      <th>2017-01-06 20:59:59</th>\n",
       "      <td>5.302022</td>\n",
       "      <td>0.175973</td>\n",
       "      <td>7.79</td>\n",
       "      <td>NaN</td>\n",
       "      <td>1548.750511</td>\n",
       "      <td>-591.057651</td>\n",
       "      <td>1900.007038</td>\n",
       "      <td>-583.389637</td>\n",
       "      <td>1987.239461</td>\n",
       "      <td>-799.002180</td>\n",
       "      <td>...</td>\n",
       "      <td>8.233483</td>\n",
       "      <td>-512.934976</td>\n",
       "      <td>7.289017</td>\n",
       "      <td>-798.565350</td>\n",
       "      <td>10.473148</td>\n",
       "      <td>-721.653922</td>\n",
       "      <td>4.478303</td>\n",
       "      <td>-520.698265</td>\n",
       "      <td>9.742702</td>\n",
       "      <td>-661.493480</td>\n",
       "    </tr>\n",
       "    <tr>\n",
       "      <th>2017-01-06 21:59:59</th>\n",
       "      <td>NaN</td>\n",
       "      <td>0.132026</td>\n",
       "      <td>7.79</td>\n",
       "      <td>NaN</td>\n",
       "      <td>1587.094035</td>\n",
       "      <td>-500.312601</td>\n",
       "      <td>1599.274342</td>\n",
       "      <td>-492.440877</td>\n",
       "      <td>1548.854285</td>\n",
       "      <td>-609.247843</td>\n",
       "      <td>...</td>\n",
       "      <td>16.984524</td>\n",
       "      <td>-496.641588</td>\n",
       "      <td>14.952960</td>\n",
       "      <td>-535.479797</td>\n",
       "      <td>19.088193</td>\n",
       "      <td>-504.315013</td>\n",
       "      <td>7.946953</td>\n",
       "      <td>-500.415405</td>\n",
       "      <td>19.985514</td>\n",
       "      <td>-592.337973</td>\n",
       "    </tr>\n",
       "  </tbody>\n",
       "</table>\n",
       "<p>10 rows × 52 columns</p>\n",
       "</div>"
      ],
      "text/plain": [
       "                     primary_cleaner.input.sulfate  \\\n",
       "date                                                 \n",
       "2016-01-21 10:00:00                            NaN   \n",
       "2016-03-24 08:00:00                     104.956422   \n",
       "2016-05-01 01:59:59                       4.494127   \n",
       "2016-06-30 19:59:59                            NaN   \n",
       "2016-08-06 17:59:59                      39.212581   \n",
       "2016-08-23 14:59:59                     137.285657   \n",
       "2016-08-23 15:59:59                     132.673093   \n",
       "2017-01-06 19:59:59                            NaN   \n",
       "2017-01-06 20:59:59                       5.302022   \n",
       "2017-01-06 21:59:59                            NaN   \n",
       "\n",
       "                     primary_cleaner.input.depressant  \\\n",
       "date                                                    \n",
       "2016-01-21 10:00:00                               NaN   \n",
       "2016-03-24 08:00:00                         11.999398   \n",
       "2016-05-01 01:59:59                          0.537326   \n",
       "2016-06-30 19:59:59                               NaN   \n",
       "2016-08-06 17:59:59                          4.021451   \n",
       "2016-08-23 14:59:59                          9.458449   \n",
       "2016-08-23 15:59:59                          9.562038   \n",
       "2017-01-06 19:59:59                          0.416502   \n",
       "2017-01-06 20:59:59                          0.175973   \n",
       "2017-01-06 21:59:59                          0.132026   \n",
       "\n",
       "                     primary_cleaner.input.feed_size  \\\n",
       "date                                                   \n",
       "2016-01-21 10:00:00                             7.25   \n",
       "2016-03-24 08:00:00                             7.37   \n",
       "2016-05-01 01:59:59                             8.40   \n",
       "2016-06-30 19:59:59                             7.31   \n",
       "2016-08-06 17:59:59                             6.96   \n",
       "2016-08-23 14:59:59                             8.08   \n",
       "2016-08-23 15:59:59                             8.08   \n",
       "2017-01-06 19:59:59                             7.79   \n",
       "2017-01-06 20:59:59                             7.79   \n",
       "2017-01-06 21:59:59                             7.79   \n",
       "\n",
       "                     primary_cleaner.input.xanthate  \\\n",
       "date                                                  \n",
       "2016-01-21 10:00:00                             NaN   \n",
       "2016-03-24 08:00:00                             NaN   \n",
       "2016-05-01 01:59:59                             NaN   \n",
       "2016-06-30 19:59:59                             NaN   \n",
       "2016-08-06 17:59:59                             NaN   \n",
       "2016-08-23 14:59:59                             NaN   \n",
       "2016-08-23 15:59:59                             NaN   \n",
       "2017-01-06 19:59:59                             NaN   \n",
       "2017-01-06 20:59:59                             NaN   \n",
       "2017-01-06 21:59:59                             NaN   \n",
       "\n",
       "                     primary_cleaner.state.floatbank8_a_air  \\\n",
       "date                                                          \n",
       "2016-01-21 10:00:00                                     NaN   \n",
       "2016-03-24 08:00:00                             1597.697640   \n",
       "2016-05-01 01:59:59                             1545.276832   \n",
       "2016-06-30 19:59:59                             1697.674286   \n",
       "2016-08-06 17:59:59                             1601.363273   \n",
       "2016-08-23 14:59:59                                0.016993   \n",
       "2016-08-23 15:59:59                                0.006352   \n",
       "2017-01-06 19:59:59                             1854.162080   \n",
       "2017-01-06 20:59:59                             1548.750511   \n",
       "2017-01-06 21:59:59                             1587.094035   \n",
       "\n",
       "                     primary_cleaner.state.floatbank8_a_level  \\\n",
       "date                                                            \n",
       "2016-01-21 10:00:00                                       NaN   \n",
       "2016-03-24 08:00:00                               -399.819202   \n",
       "2016-05-01 01:59:59                               -497.689866   \n",
       "2016-06-30 19:59:59                               -498.075966   \n",
       "2016-08-06 17:59:59                               -499.934881   \n",
       "2016-08-23 14:59:59                               -499.020645   \n",
       "2016-08-23 15:59:59                               -500.304951   \n",
       "2017-01-06 19:59:59                               -615.091268   \n",
       "2017-01-06 20:59:59                               -591.057651   \n",
       "2017-01-06 21:59:59                               -500.312601   \n",
       "\n",
       "                     primary_cleaner.state.floatbank8_b_air  \\\n",
       "date                                                          \n",
       "2016-01-21 10:00:00                                     NaN   \n",
       "2016-03-24 08:00:00                             1596.949702   \n",
       "2016-05-01 01:59:59                             1554.624773   \n",
       "2016-06-30 19:59:59                             1699.239866   \n",
       "2016-08-06 17:59:59                             1604.865110   \n",
       "2016-08-23 14:59:59                                0.023275   \n",
       "2016-08-23 15:59:59                                0.008700   \n",
       "2017-01-06 19:59:59                             2114.906758   \n",
       "2017-01-06 20:59:59                             1900.007038   \n",
       "2017-01-06 21:59:59                             1599.274342   \n",
       "\n",
       "                     primary_cleaner.state.floatbank8_b_level  \\\n",
       "date                                                            \n",
       "2016-01-21 10:00:00                                       NaN   \n",
       "2016-03-24 08:00:00                               -399.888695   \n",
       "2016-05-01 01:59:59                               -497.102269   \n",
       "2016-06-30 19:59:59                               -489.467718   \n",
       "2016-08-06 17:59:59                               -498.900916   \n",
       "2016-08-23 14:59:59                               -501.276978   \n",
       "2016-08-23 15:59:59                               -499.262719   \n",
       "2017-01-06 19:59:59                               -593.303764   \n",
       "2017-01-06 20:59:59                               -583.389637   \n",
       "2017-01-06 21:59:59                               -492.440877   \n",
       "\n",
       "                     primary_cleaner.state.floatbank8_c_air  \\\n",
       "date                                                          \n",
       "2016-01-21 10:00:00                                     NaN   \n",
       "2016-03-24 08:00:00                             1600.157805   \n",
       "2016-05-01 01:59:59                             1549.974989   \n",
       "2016-06-30 19:59:59                             1602.133795   \n",
       "2016-08-06 17:59:59                             1598.727276   \n",
       "2016-08-23 14:59:59                                0.040552   \n",
       "2016-08-23 15:59:59                                0.015159   \n",
       "2017-01-06 19:59:59                             1779.139349   \n",
       "2017-01-06 20:59:59                             1987.239461   \n",
       "2017-01-06 21:59:59                             1548.854285   \n",
       "\n",
       "                     primary_cleaner.state.floatbank8_c_level  ...  \\\n",
       "date                                                           ...   \n",
       "2016-01-21 10:00:00                                       NaN  ...   \n",
       "2016-03-24 08:00:00                               -399.248583  ...   \n",
       "2016-05-01 01:59:59                               -499.133237  ...   \n",
       "2016-06-30 19:59:59                               -457.803895  ...   \n",
       "2016-08-06 17:59:59                               -500.339612  ...   \n",
       "2016-08-23 14:59:59                               -499.823259  ...   \n",
       "2016-08-23 15:59:59                               -500.343851  ...   \n",
       "2017-01-06 19:59:59                               -799.719089  ...   \n",
       "2017-01-06 20:59:59                               -799.002180  ...   \n",
       "2017-01-06 21:59:59                               -609.247843  ...   \n",
       "\n",
       "                     secondary_cleaner.state.floatbank4_a_air  \\\n",
       "date                                                            \n",
       "2016-01-21 10:00:00                                       NaN   \n",
       "2016-03-24 08:00:00                                 11.998092   \n",
       "2016-05-01 01:59:59                                 14.956706   \n",
       "2016-06-30 19:59:59                                 17.038284   \n",
       "2016-08-06 17:59:59                                 20.005287   \n",
       "2016-08-23 14:59:59                                 17.962890   \n",
       "2016-08-23 15:59:59                                 17.985631   \n",
       "2017-01-06 19:59:59                                  0.000000   \n",
       "2017-01-06 20:59:59                                  8.233483   \n",
       "2017-01-06 21:59:59                                 16.984524   \n",
       "\n",
       "                     secondary_cleaner.state.floatbank4_a_level  \\\n",
       "date                                                              \n",
       "2016-01-21 10:00:00                                         NaN   \n",
       "2016-03-24 08:00:00                                 -500.936562   \n",
       "2016-05-01 01:59:59                                 -500.612510   \n",
       "2016-06-30 19:59:59                                 -501.556625   \n",
       "2016-08-06 17:59:59                                 -399.101286   \n",
       "2016-08-23 14:59:59                                 -399.856508   \n",
       "2016-08-23 15:59:59                                 -399.727175   \n",
       "2017-01-06 19:59:59                                 -530.197868   \n",
       "2017-01-06 20:59:59                                 -512.934976   \n",
       "2017-01-06 21:59:59                                 -496.641588   \n",
       "\n",
       "                     secondary_cleaner.state.floatbank4_b_air  \\\n",
       "date                                                            \n",
       "2016-01-21 10:00:00                                       NaN   \n",
       "2016-03-24 08:00:00                                 12.031555   \n",
       "2016-05-01 01:59:59                                 13.115482   \n",
       "2016-06-30 19:59:59                                  8.972578   \n",
       "2016-08-06 17:59:59                                  9.905119   \n",
       "2016-08-23 14:59:59                                 10.046007   \n",
       "2016-08-23 15:59:59                                  9.947099   \n",
       "2017-01-06 19:59:59                                  0.000000   \n",
       "2017-01-06 20:59:59                                  7.289017   \n",
       "2017-01-06 21:59:59                                 14.952960   \n",
       "\n",
       "                     secondary_cleaner.state.floatbank4_b_level  \\\n",
       "date                                                              \n",
       "2016-01-21 10:00:00                                         NaN   \n",
       "2016-03-24 08:00:00                                 -500.081283   \n",
       "2016-05-01 01:59:59                                 -500.857934   \n",
       "2016-06-30 19:59:59                                 -500.082165   \n",
       "2016-08-06 17:59:59                                 -400.346541   \n",
       "2016-08-23 14:59:59                                 -403.844511   \n",
       "2016-08-23 15:59:59                                 -400.188069   \n",
       "2017-01-06 19:59:59                                 -799.619081   \n",
       "2017-01-06 20:59:59                                 -798.565350   \n",
       "2017-01-06 21:59:59                                 -535.479797   \n",
       "\n",
       "                     secondary_cleaner.state.floatbank5_a_air  \\\n",
       "date                                                            \n",
       "2016-01-21 10:00:00                                       NaN   \n",
       "2016-03-24 08:00:00                                 11.969752   \n",
       "2016-05-01 01:59:59                                  8.998472   \n",
       "2016-06-30 19:59:59                                 17.001588   \n",
       "2016-08-06 17:59:59                                  8.670982   \n",
       "2016-08-23 14:59:59                                 10.004214   \n",
       "2016-08-23 15:59:59                                  9.982761   \n",
       "2017-01-06 19:59:59                                 -0.112612   \n",
       "2017-01-06 20:59:59                                 10.473148   \n",
       "2017-01-06 21:59:59                                 19.088193   \n",
       "\n",
       "                     secondary_cleaner.state.floatbank5_a_level  \\\n",
       "date                                                              \n",
       "2016-01-21 10:00:00                                         NaN   \n",
       "2016-03-24 08:00:00                                 -500.306954   \n",
       "2016-05-01 01:59:59                                 -492.875599   \n",
       "2016-06-30 19:59:59                                 -387.026716   \n",
       "2016-08-06 17:59:59                                 -399.648465   \n",
       "2016-08-23 14:59:59                                 -399.028523   \n",
       "2016-08-23 15:59:59                                 -396.801088   \n",
       "2017-01-06 19:59:59                                 -792.794538   \n",
       "2017-01-06 20:59:59                                 -721.653922   \n",
       "2017-01-06 21:59:59                                 -504.315013   \n",
       "\n",
       "                     secondary_cleaner.state.floatbank5_b_air  \\\n",
       "date                                                            \n",
       "2016-01-21 10:00:00                                       NaN   \n",
       "2016-03-24 08:00:00                                 10.013980   \n",
       "2016-05-01 01:59:59                                  9.004232   \n",
       "2016-06-30 19:59:59                                  7.946884   \n",
       "2016-08-06 17:59:59                                  5.065398   \n",
       "2016-08-23 14:59:59                                  5.004691   \n",
       "2016-08-23 15:59:59                                  4.976753   \n",
       "2017-01-06 19:59:59                                  0.646208   \n",
       "2017-01-06 20:59:59                                  4.478303   \n",
       "2017-01-06 21:59:59                                  7.946953   \n",
       "\n",
       "                     secondary_cleaner.state.floatbank5_b_level  \\\n",
       "date                                                              \n",
       "2016-01-21 10:00:00                                         NaN   \n",
       "2016-03-24 08:00:00                                 -499.529430   \n",
       "2016-05-01 01:59:59                                 -498.633139   \n",
       "2016-06-30 19:59:59                                 -157.396071   \n",
       "2016-08-06 17:59:59                                 -399.260062   \n",
       "2016-08-23 14:59:59                                 -401.004709   \n",
       "2016-08-23 15:59:59                                 -400.430756   \n",
       "2017-01-06 19:59:59                                 -515.392892   \n",
       "2017-01-06 20:59:59                                 -520.698265   \n",
       "2017-01-06 21:59:59                                 -500.415405   \n",
       "\n",
       "                     secondary_cleaner.state.floatbank6_a_air  \\\n",
       "date                                                            \n",
       "2016-01-21 10:00:00                                       NaN   \n",
       "2016-03-24 08:00:00                                 19.940392   \n",
       "2016-05-01 01:59:59                                 16.033764   \n",
       "2016-06-30 19:59:59                                 25.013642   \n",
       "2016-08-06 17:59:59                                 22.986697   \n",
       "2016-08-23 14:59:59                                 24.962476   \n",
       "2016-08-23 15:59:59                                 25.023599   \n",
       "2017-01-06 19:59:59                                  0.238511   \n",
       "2017-01-06 20:59:59                                  9.742702   \n",
       "2017-01-06 21:59:59                                 19.985514   \n",
       "\n",
       "                     secondary_cleaner.state.floatbank6_a_level  \n",
       "date                                                             \n",
       "2016-01-21 10:00:00                                         NaN  \n",
       "2016-03-24 08:00:00                                 -500.892556  \n",
       "2016-05-01 01:59:59                                 -492.840123  \n",
       "2016-06-30 19:59:59                                 -203.923380  \n",
       "2016-08-06 17:59:59                                 -496.006129  \n",
       "2016-08-23 14:59:59                                 -500.704776  \n",
       "2016-08-23 15:59:59                                 -498.866859  \n",
       "2017-01-06 19:59:59                                 -809.398668  \n",
       "2017-01-06 20:59:59                                 -661.493480  \n",
       "2017-01-06 21:59:59                                 -592.337973  \n",
       "\n",
       "[10 rows x 52 columns]"
      ]
     },
     "execution_count": 22,
     "metadata": {},
     "output_type": "execute_result"
    }
   ],
   "source": [
    "df_train[df_train['primary_cleaner.input.xanthate'].isna()].head(10)"
   ]
  },
  {
   "cell_type": "markdown",
   "id": "e714c33a",
   "metadata": {},
   "source": [
    "Так как по условиям задачи и по сути технологического процесса близкие по дате значения очень похожи - заполним пропуски методом ffil"
   ]
  },
  {
   "cell_type": "code",
   "execution_count": 23,
   "id": "bbfc3ae0",
   "metadata": {},
   "outputs": [
    {
     "data": {
      "text/plain": [
       "0"
      ]
     },
     "metadata": {},
     "output_type": "display_data"
    },
    {
     "data": {
      "text/plain": [
       "0"
      ]
     },
     "metadata": {},
     "output_type": "display_data"
    },
    {
     "data": {
      "text/plain": [
       "0"
      ]
     },
     "metadata": {},
     "output_type": "display_data"
    }
   ],
   "source": [
    "df_train = df_train.fillna(method = 'ffill')\n",
    "df_test = df_test.fillna(method = 'ffill')\n",
    "df_full = df_full.fillna(method = 'ffill')\n",
    "\n",
    "display(df_train.isna().sum().sum())\n",
    "display(df_test.isna().sum().sum())\n",
    "display(df_full.isna().sum().sum())"
   ]
  },
  {
   "cell_type": "markdown",
   "id": "66197f10",
   "metadata": {},
   "source": [
    "### Обработка дубликатов\n",
    "\n",
    "- Проверим что с дубликатами"
   ]
  },
  {
   "cell_type": "code",
   "execution_count": 24,
   "id": "d7bcbf5e",
   "metadata": {},
   "outputs": [
    {
     "data": {
      "text/plain": [
       "0"
      ]
     },
     "metadata": {},
     "output_type": "display_data"
    },
    {
     "data": {
      "text/plain": [
       "0"
      ]
     },
     "metadata": {},
     "output_type": "display_data"
    },
    {
     "data": {
      "text/plain": [
       "0"
      ]
     },
     "metadata": {},
     "output_type": "display_data"
    }
   ],
   "source": [
    "display(df_train.duplicated().sum())\n",
    "display(df_test.duplicated().sum())\n",
    "display(df_full.duplicated().sum())"
   ]
  },
  {
   "cell_type": "markdown",
   "id": "bc8900c1",
   "metadata": {},
   "source": [
    "Дубликатов либо вообще не было, либо они были удалены вместо в пропусками"
   ]
  },
  {
   "cell_type": "markdown",
   "id": "1f826693",
   "metadata": {},
   "source": [
    "### Выводы\n",
    "\n",
    "- Предобработка данных выполнена, пропуски и дубликаты удалены"
   ]
  },
  {
   "cell_type": "markdown",
   "id": "96e9b9a8",
   "metadata": {},
   "source": [
    "## Анализ данных"
   ]
  },
  {
   "cell_type": "markdown",
   "id": "d05f35ed",
   "metadata": {},
   "source": [
    "### Проверка концентрации металлов (Au, Ag, Pb) на различных этапах очистки"
   ]
  },
  {
   "cell_type": "code",
   "execution_count": 25,
   "id": "a64e3f34",
   "metadata": {},
   "outputs": [
    {
     "data": {
      "image/png": "[encoded data removed]",
      "text/plain": [
       "<Figure size 1400x800 with 1 Axes>"
      ]
     },
     "metadata": {},
     "output_type": "display_data"
    },
    {
     "data": {
      "image/png": "[encoded data removed]",
      "text/plain": [
       "<Figure size 1400x800 with 1 Axes>"
      ]
     },
     "metadata": {},
     "output_type": "display_data"
    },
    {
     "data": {
      "image/png": "[encoded data removed]",
      "text/plain": [
       "<Figure size 1400x800 with 1 Axes>"
      ]
     },
     "metadata": {},
     "output_type": "display_data"
    }
   ],
   "source": [
    "ag= ['rougher.output.concentrate_ag', 'primary_cleaner.output.concentrate_ag','final.output.concentrate_ag','rougher.input.feed_ag']\n",
    "au = ['rougher.output.concentrate_au', 'primary_cleaner.output.concentrate_au','final.output.concentrate_au','rougher.input.feed_au']\n",
    "pb = ['rougher.output.concentrate_pb', 'primary_cleaner.output.concentrate_pb','final.output.concentrate_pb','rougher.input.feed_pb']\n",
    "\n",
    "metalls = {\"Au\": au, \"Ag\": ag, \"Pb\": pb}\n",
    "for metall in metalls:\n",
    "    \n",
    "    legend = 'Изменение концентрации ' + metall + ' по этапам очистки'\n",
    "    \n",
    "    fig, ax = plt.subplots()\n",
    "    ax.set_title(legend)\n",
    "    ax.set_xlabel('Концентрация')\n",
    "\n",
    "    df_full[metalls[metall]].plot(kind='hist', bins=150, figsize=(14,8), ax=ax, legend=True, alpha=0.4)"
   ]
  },
  {
   "cell_type": "markdown",
   "id": "94dd37ec",
   "metadata": {},
   "source": [
    "### Выводы\n",
    "\n",
    "- Концентрация золота увеличивается с каждым этапом очистки сырья - так и должно быть, в этом смысл процесса\n",
    "- Концентарция серебра постепенно уменьшается\n",
    "- Концентрация свинца также как и у золота увеличивается к финальными этапам очистки\n",
    "- На графике присутствуют пики на нулевых значениях - скорее всего это выбросы, которые следует удалить"
   ]
  },
  {
   "cell_type": "markdown",
   "id": "b68db4d5",
   "metadata": {},
   "source": [
    "### Распределение размеров гранул сырья на обучающей и тестовой выборках"
   ]
  },
  {
   "cell_type": "code",
   "execution_count": 26,
   "id": "4130a6fa",
   "metadata": {},
   "outputs": [
    {
     "data": {
      "image/png": "[encoded data removed]",
      "text/plain": [
       "<Figure size 1400x800 with 1 Axes>"
      ]
     },
     "metadata": {},
     "output_type": "display_data"
    },
    {
     "data": {
      "image/png": "[encoded data removed]",
      "text/plain": [
       "<Figure size 1400x800 with 1 Axes>"
      ]
     },
     "metadata": {},
     "output_type": "display_data"
    }
   ],
   "source": [
    "feed_size_dict = {\"Обучающая выборка\": df_train, \"Тестовая выборка\": df_test}\n",
    "feed_size_columns = ['primary_cleaner.input.feed_size','rougher.input.feed_size']\n",
    "\n",
    "for size in feed_size_dict:\n",
    "    \n",
    "    df = feed_size_dict[size]\n",
    "    legend = 'Размеры гранул сырья: ' + size\n",
    "    \n",
    "    fig, ax = plt.subplots()\n",
    "    ax.set_title(legend)\n",
    "    ax.set_xlabel('Размер гранул сырья')\n",
    "\n",
    "    df[feed_size_columns].plot(kind='hist', density=True, bins=150, range=(0,100), figsize=(14,8), ax=ax, legend=True, alpha=0.4)"
   ]
  },
  {
   "cell_type": "markdown",
   "id": "993eb634",
   "metadata": {},
   "source": [
    "### Выводы\n",
    "\n",
    "- Гранулы исходного сырья значительно больше чем после очистки - это соотвествует смыслу технологии\n",
    "- Обучающая и тестовая выборки показывают примерно одинаковые распределения размеров гранул сырья в зависимости от этапа очистки"
   ]
  },
  {
   "cell_type": "code",
   "execution_count": 27,
   "id": "f9061f09",
   "metadata": {},
   "outputs": [
    {
     "data": {
      "image/png": "[encoded data removed]",
      "text/plain": [
       "<Figure size 1500x500 with 1 Axes>"
      ]
     },
     "metadata": {},
     "output_type": "display_data"
    }
   ],
   "source": [
    "plt.figure(figsize=(15, 5))\n",
    "plt.hist([df_train['rougher.input.feed_size'], df_test['rougher.input.feed_size']], bins=100,\n",
    "        density=True)\n",
    "\n",
    "plt.title('Распределение размеров гранул сырья'+ \"\\n\")\n",
    "plt.xlabel('Размер гранул')\n",
    "plt.ylabel('Частотность')\n",
    "plt.legend(['train', 'test'])\n",
    "\n",
    "plt.show()"
   ]
  },
  {
   "cell_type": "markdown",
   "id": "f72d08dc",
   "metadata": {},
   "source": [
    "### Cуммарная концентрация всех веществ на разных стадиях: в сырье, в черновом и финальном концентратах"
   ]
  },
  {
   "cell_type": "code",
   "execution_count": 28,
   "id": "e78a9b87",
   "metadata": {},
   "outputs": [
    {
     "data": {
      "text/plain": [
       "<AxesSubplot:title={'center':'Распределение суммарного содержания металлов'}, xlabel='Концентрация металлов', ylabel='Frequency'>"
      ]
     },
     "execution_count": 28,
     "metadata": {},
     "output_type": "execute_result"
    },
    {
     "data": {
      "image/png": "[encoded data removed]",
      "text/plain": [
       "<Figure size 1600x800 with 1 Axes>"
      ]
     },
     "metadata": {},
     "output_type": "display_data"
    }
   ],
   "source": [
    "columns_sum = ['rougher.metall_sum', 'primary_cleaner.metall_sum', 'final.metall_sum','rougher.input.feed_sum']\n",
    "\n",
    "\n",
    "df_full['rougher.metall_sum'] = df_full['rougher.output.concentrate_ag'] + df_full['rougher.output.concentrate_au'] \\\n",
    "+ df_full['rougher.output.concentrate_pb']\n",
    "\n",
    "df_full['primary_cleaner.metall_sum'] = df_full['primary_cleaner.output.concentrate_ag'] \\\n",
    "+ df_full['primary_cleaner.output.concentrate_au'] + df_full['primary_cleaner.output.concentrate_pb']\n",
    "\n",
    "df_full['final.metall_sum'] = df_full['final.output.concentrate_ag'] + df_full['final.output.concentrate_au'] \\\n",
    "+ df_full['final.output.concentrate_pb']\n",
    "\n",
    "df_full['rougher.input.feed_sum'] = df_full['rougher.input.feed_ag'] + df_full['rougher.input.feed_au'] \\\n",
    "+ df_full['rougher.input.feed_pb']\n",
    "\n",
    "fig, ax = plt.subplots()\n",
    "ax.set_title('Распределение суммарного содержания металлов')\n",
    "ax.set_xlabel('Концентрация металлов')\n",
    "df_full[columns_sum].plot(kind='hist', bins=100, figsize=(16,8), ax=ax, legend=True, alpha=0.4)"
   ]
  },
  {
   "cell_type": "markdown",
   "id": "cb305105",
   "metadata": {},
   "source": [
    "### Выводы\n",
    "\n",
    "- Суммарная концентрация растет до максимальных значений к концу очистки - так должно быть\n",
    "- Все еще присутствуют нулевые значения концентрации - это выбросы"
   ]
  },
  {
   "cell_type": "markdown",
   "id": "2899d44c",
   "metadata": {},
   "source": [
    "### Обработка выбросов\n",
    "\n",
    "- Определим и удалим выбросы данных - их совсем немного, но они будут негативно влиять на качество модели машинного обучения"
   ]
  },
  {
   "cell_type": "code",
   "execution_count": 29,
   "id": "8eb64789",
   "metadata": {},
   "outputs": [
    {
     "data": {
      "image/png": "[encoded data removed]",
      "text/plain": [
       "<Figure size 1600x800 with 1 Axes>"
      ]
     },
     "metadata": {},
     "output_type": "display_data"
    }
   ],
   "source": [
    "df_full.boxplot(column=['rougher.input.feed_sum','rougher.metall_sum', 'primary_cleaner.metall_sum', 'final.metall_sum']\\\n",
    "                , figsize=(16, 8))\n",
    "plt.show()\n"
   ]
  },
  {
   "cell_type": "markdown",
   "id": "bd0cc1ad",
   "metadata": {},
   "source": [
    "- Установим критерий - отрежем хвосты boxpot снизу на необходимый минимум, чтобы не потерять более 3% данных\n",
    "- Здесь не будем писать функцию, для каждого этапа - свой уровень"
   ]
  },
  {
   "cell_type": "code",
   "execution_count": 30,
   "id": "b29f9142",
   "metadata": {},
   "outputs": [
    {
     "name": "stdout",
     "output_type": "stream",
     "text": [
      "97.49987139256135\n",
      "97.11919337414476\n",
      "97.73650907968518\n"
     ]
    }
   ],
   "source": [
    "print(df_full[df_full['rougher.metall_sum'] > 20].value_counts().sum()/df_full['rougher.metall_sum'].value_counts().sum()*100)\n",
    "\n",
    "print(df_full[df_full['primary_cleaner.metall_sum'] > 30].value_counts().sum()/df_full['primary_cleaner.metall_sum'].value_counts().sum()*100)\n",
    "\n",
    "print(df_full[df_full['final.metall_sum'] > 45].value_counts().sum()/df_full['final.metall_sum'].value_counts().sum()*100)\n"
   ]
  },
  {
   "cell_type": "code",
   "execution_count": 31,
   "id": "c596ad95",
   "metadata": {},
   "outputs": [
    {
     "data": {
      "text/plain": [
       "<AxesSubplot:title={'center':'Распределение суммарного содержания металлов'}, xlabel='Концентрация металлов', ylabel='Frequency'>"
      ]
     },
     "execution_count": 31,
     "metadata": {},
     "output_type": "execute_result"
    },
    {
     "data": {
      "image/png": "[encoded data removed]",
      "text/plain": [
       "<Figure size 1600x800 with 1 Axes>"
      ]
     },
     "metadata": {},
     "output_type": "display_data"
    }
   ],
   "source": [
    "df_full=df_full[df_full['rougher.metall_sum'] > 20]\n",
    "df_full=df_full[df_full['primary_cleaner.metall_sum'] > 30]\n",
    "df_full=df_full[df_full['final.metall_sum'] > 45]\n",
    "\n",
    "fig, ax = plt.subplots()\n",
    "ax.set_title('Распределение суммарного содержания металлов')\n",
    "ax.set_xlabel('Концентрация металлов')\n",
    "df_full[columns_sum].plot(kind='hist', bins=100, figsize=(16,8), ax=ax, legend=True, alpha=0.4)\n"
   ]
  },
  {
   "cell_type": "markdown",
   "id": "7dfc2bf6",
   "metadata": {},
   "source": [
    "Переведем очищенные данные из общей выборки в обучающую и тестовую.\n"
   ]
  },
  {
   "cell_type": "code",
   "execution_count": 32,
   "id": "608a2420",
   "metadata": {},
   "outputs": [
    {
     "data": {
      "text/plain": [
       "(13163, 52)"
      ]
     },
     "metadata": {},
     "output_type": "display_data"
    },
    {
     "data": {
      "text/plain": [
       "(4931, 52)"
      ]
     },
     "metadata": {},
     "output_type": "display_data"
    }
   ],
   "source": [
    "df_train = df_train[df_train.index.isin(df_full.index)]\n",
    "df_test = df_test[df_test.index.isin(df_full.index)]\n",
    "\n",
    "display(df_train.shape)\n",
    "display(df_test.shape)"
   ]
  },
  {
   "cell_type": "markdown",
   "id": "aeb9d81a",
   "metadata": {},
   "source": [
    "### Выводы \n",
    "\n",
    "- Выбросы удалены за счет очень небольшой потери данных. Это должно улучшить качество моделей при обучении"
   ]
  },
  {
   "cell_type": "markdown",
   "id": "dbb51ac5",
   "metadata": {},
   "source": [
    "## Построение модели"
   ]
  },
  {
   "cell_type": "markdown",
   "id": "0d6ab801",
   "metadata": {},
   "source": [
    "### Функция для SMAPE"
   ]
  },
  {
   "cell_type": "code",
   "execution_count": 33,
   "id": "3fb42118",
   "metadata": {},
   "outputs": [],
   "source": [
    "def smape(target, predicted):\n",
    "    return 1/len(target) * np.sum(2 * np.abs(predicted-target) / (np.abs(target) + np.abs(predicted))*100)"
   ]
  },
  {
   "cell_type": "code",
   "execution_count": 34,
   "id": "d18cf703",
   "metadata": {},
   "outputs": [],
   "source": [
    "def total_smape(rougher, final):\n",
    "    return 0.25 * rougher + 0.75 * final\n",
    "    "
   ]
  },
  {
   "cell_type": "code",
   "execution_count": 35,
   "id": "3d800ebc",
   "metadata": {},
   "outputs": [],
   "source": [
    "smape_score = make_scorer(smape)"
   ]
  },
  {
   "cell_type": "markdown",
   "id": "08a18e91",
   "metadata": {},
   "source": [
    "### Выделение признаков\n",
    "\n",
    "- Нужные столбцы (rougher.output.recovery и final.output.recovery) отсутствуют в обучающей и тестовой выборке. Подтянем их полной выборки"
   ]
  },
  {
   "cell_type": "code",
   "execution_count": 36,
   "id": "67ac6fe9",
   "metadata": {},
   "outputs": [
    {
     "name": "stdout",
     "output_type": "stream",
     "text": [
      "<class 'pandas.core.frame.DataFrame'>\n",
      "Index: 13163 entries, 2016-01-15 00:00:00 to 2018-08-18 10:59:59\n",
      "Data columns (total 52 columns):\n",
      " #   Column                                      Non-Null Count  Dtype  \n",
      "---  ------                                      --------------  -----  \n",
      " 0   primary_cleaner.input.sulfate               13163 non-null  float64\n",
      " 1   primary_cleaner.input.depressant            13163 non-null  float64\n",
      " 2   primary_cleaner.input.feed_size             13163 non-null  float64\n",
      " 3   primary_cleaner.input.xanthate              13163 non-null  float64\n",
      " 4   primary_cleaner.state.floatbank8_a_air      13163 non-null  float64\n",
      " 5   primary_cleaner.state.floatbank8_a_level    13163 non-null  float64\n",
      " 6   primary_cleaner.state.floatbank8_b_air      13163 non-null  float64\n",
      " 7   primary_cleaner.state.floatbank8_b_level    13163 non-null  float64\n",
      " 8   primary_cleaner.state.floatbank8_c_air      13163 non-null  float64\n",
      " 9   primary_cleaner.state.floatbank8_c_level    13163 non-null  float64\n",
      " 10  primary_cleaner.state.floatbank8_d_air      13163 non-null  float64\n",
      " 11  primary_cleaner.state.floatbank8_d_level    13163 non-null  float64\n",
      " 12  rougher.input.feed_ag                       13163 non-null  float64\n",
      " 13  rougher.input.feed_pb                       13163 non-null  float64\n",
      " 14  rougher.input.feed_rate                     13163 non-null  float64\n",
      " 15  rougher.input.feed_size                     13163 non-null  float64\n",
      " 16  rougher.input.feed_sol                      13163 non-null  float64\n",
      " 17  rougher.input.feed_au                       13163 non-null  float64\n",
      " 18  rougher.input.floatbank10_sulfate           13163 non-null  float64\n",
      " 19  rougher.input.floatbank10_xanthate          13163 non-null  float64\n",
      " 20  rougher.input.floatbank11_sulfate           13163 non-null  float64\n",
      " 21  rougher.input.floatbank11_xanthate          13163 non-null  float64\n",
      " 22  rougher.state.floatbank10_a_air             13163 non-null  float64\n",
      " 23  rougher.state.floatbank10_a_level           13163 non-null  float64\n",
      " 24  rougher.state.floatbank10_b_air             13163 non-null  float64\n",
      " 25  rougher.state.floatbank10_b_level           13163 non-null  float64\n",
      " 26  rougher.state.floatbank10_c_air             13163 non-null  float64\n",
      " 27  rougher.state.floatbank10_c_level           13163 non-null  float64\n",
      " 28  rougher.state.floatbank10_d_air             13163 non-null  float64\n",
      " 29  rougher.state.floatbank10_d_level           13163 non-null  float64\n",
      " 30  rougher.state.floatbank10_e_air             13163 non-null  float64\n",
      " 31  rougher.state.floatbank10_e_level           13163 non-null  float64\n",
      " 32  rougher.state.floatbank10_f_air             13163 non-null  float64\n",
      " 33  rougher.state.floatbank10_f_level           13163 non-null  float64\n",
      " 34  secondary_cleaner.state.floatbank2_a_air    13163 non-null  float64\n",
      " 35  secondary_cleaner.state.floatbank2_a_level  13163 non-null  float64\n",
      " 36  secondary_cleaner.state.floatbank2_b_air    13163 non-null  float64\n",
      " 37  secondary_cleaner.state.floatbank2_b_level  13163 non-null  float64\n",
      " 38  secondary_cleaner.state.floatbank3_a_air    13163 non-null  float64\n",
      " 39  secondary_cleaner.state.floatbank3_a_level  13163 non-null  float64\n",
      " 40  secondary_cleaner.state.floatbank3_b_air    13163 non-null  float64\n",
      " 41  secondary_cleaner.state.floatbank3_b_level  13163 non-null  float64\n",
      " 42  secondary_cleaner.state.floatbank4_a_air    13163 non-null  float64\n",
      " 43  secondary_cleaner.state.floatbank4_a_level  13163 non-null  float64\n",
      " 44  secondary_cleaner.state.floatbank4_b_air    13163 non-null  float64\n",
      " 45  secondary_cleaner.state.floatbank4_b_level  13163 non-null  float64\n",
      " 46  secondary_cleaner.state.floatbank5_a_air    13163 non-null  float64\n",
      " 47  secondary_cleaner.state.floatbank5_a_level  13163 non-null  float64\n",
      " 48  secondary_cleaner.state.floatbank5_b_air    13163 non-null  float64\n",
      " 49  secondary_cleaner.state.floatbank5_b_level  13163 non-null  float64\n",
      " 50  secondary_cleaner.state.floatbank6_a_air    13163 non-null  float64\n",
      " 51  secondary_cleaner.state.floatbank6_a_level  13163 non-null  float64\n",
      "dtypes: float64(52)\n",
      "memory usage: 5.3+ MB\n"
     ]
    }
   ],
   "source": [
    "df_train.info()"
   ]
  },
  {
   "cell_type": "code",
   "execution_count": 37,
   "id": "3ba1863d",
   "metadata": {},
   "outputs": [
    {
     "name": "stdout",
     "output_type": "stream",
     "text": [
      "<class 'pandas.core.frame.DataFrame'>\n",
      "Index: 4931 entries, 2016-09-01 00:59:59 to 2017-12-31 23:59:59\n",
      "Data columns (total 52 columns):\n",
      " #   Column                                      Non-Null Count  Dtype  \n",
      "---  ------                                      --------------  -----  \n",
      " 0   primary_cleaner.input.sulfate               4931 non-null   float64\n",
      " 1   primary_cleaner.input.depressant            4931 non-null   float64\n",
      " 2   primary_cleaner.input.feed_size             4931 non-null   float64\n",
      " 3   primary_cleaner.input.xanthate              4931 non-null   float64\n",
      " 4   primary_cleaner.state.floatbank8_a_air      4931 non-null   float64\n",
      " 5   primary_cleaner.state.floatbank8_a_level    4931 non-null   float64\n",
      " 6   primary_cleaner.state.floatbank8_b_air      4931 non-null   float64\n",
      " 7   primary_cleaner.state.floatbank8_b_level    4931 non-null   float64\n",
      " 8   primary_cleaner.state.floatbank8_c_air      4931 non-null   float64\n",
      " 9   primary_cleaner.state.floatbank8_c_level    4931 non-null   float64\n",
      " 10  primary_cleaner.state.floatbank8_d_air      4931 non-null   float64\n",
      " 11  primary_cleaner.state.floatbank8_d_level    4931 non-null   float64\n",
      " 12  rougher.input.feed_ag                       4931 non-null   float64\n",
      " 13  rougher.input.feed_pb                       4931 non-null   float64\n",
      " 14  rougher.input.feed_rate                     4931 non-null   float64\n",
      " 15  rougher.input.feed_size                     4931 non-null   float64\n",
      " 16  rougher.input.feed_sol                      4931 non-null   float64\n",
      " 17  rougher.input.feed_au                       4931 non-null   float64\n",
      " 18  rougher.input.floatbank10_sulfate           4931 non-null   float64\n",
      " 19  rougher.input.floatbank10_xanthate          4931 non-null   float64\n",
      " 20  rougher.input.floatbank11_sulfate           4931 non-null   float64\n",
      " 21  rougher.input.floatbank11_xanthate          4931 non-null   float64\n",
      " 22  rougher.state.floatbank10_a_air             4931 non-null   float64\n",
      " 23  rougher.state.floatbank10_a_level           4931 non-null   float64\n",
      " 24  rougher.state.floatbank10_b_air             4931 non-null   float64\n",
      " 25  rougher.state.floatbank10_b_level           4931 non-null   float64\n",
      " 26  rougher.state.floatbank10_c_air             4931 non-null   float64\n",
      " 27  rougher.state.floatbank10_c_level           4931 non-null   float64\n",
      " 28  rougher.state.floatbank10_d_air             4931 non-null   float64\n",
      " 29  rougher.state.floatbank10_d_level           4931 non-null   float64\n",
      " 30  rougher.state.floatbank10_e_air             4931 non-null   float64\n",
      " 31  rougher.state.floatbank10_e_level           4931 non-null   float64\n",
      " 32  rougher.state.floatbank10_f_air             4931 non-null   float64\n",
      " 33  rougher.state.floatbank10_f_level           4931 non-null   float64\n",
      " 34  secondary_cleaner.state.floatbank2_a_air    4931 non-null   float64\n",
      " 35  secondary_cleaner.state.floatbank2_a_level  4931 non-null   float64\n",
      " 36  secondary_cleaner.state.floatbank2_b_air    4931 non-null   float64\n",
      " 37  secondary_cleaner.state.floatbank2_b_level  4931 non-null   float64\n",
      " 38  secondary_cleaner.state.floatbank3_a_air    4931 non-null   float64\n",
      " 39  secondary_cleaner.state.floatbank3_a_level  4931 non-null   float64\n",
      " 40  secondary_cleaner.state.floatbank3_b_air    4931 non-null   float64\n",
      " 41  secondary_cleaner.state.floatbank3_b_level  4931 non-null   float64\n",
      " 42  secondary_cleaner.state.floatbank4_a_air    4931 non-null   float64\n",
      " 43  secondary_cleaner.state.floatbank4_a_level  4931 non-null   float64\n",
      " 44  secondary_cleaner.state.floatbank4_b_air    4931 non-null   float64\n",
      " 45  secondary_cleaner.state.floatbank4_b_level  4931 non-null   float64\n",
      " 46  secondary_cleaner.state.floatbank5_a_air    4931 non-null   float64\n",
      " 47  secondary_cleaner.state.floatbank5_a_level  4931 non-null   float64\n",
      " 48  secondary_cleaner.state.floatbank5_b_air    4931 non-null   float64\n",
      " 49  secondary_cleaner.state.floatbank5_b_level  4931 non-null   float64\n",
      " 50  secondary_cleaner.state.floatbank6_a_air    4931 non-null   float64\n",
      " 51  secondary_cleaner.state.floatbank6_a_level  4931 non-null   float64\n",
      "dtypes: float64(52)\n",
      "memory usage: 2.0+ MB\n"
     ]
    }
   ],
   "source": [
    "df_test.info()"
   ]
  },
  {
   "cell_type": "code",
   "execution_count": 38,
   "id": "87ff78fb",
   "metadata": {},
   "outputs": [
    {
     "data": {
      "text/html": [
       "<div>\n",
       "<style scoped>\n",
       "    .dataframe tbody tr th:only-of-type {\n",
       "        vertical-align: middle;\n",
       "    }\n",
       "\n",
       "    .dataframe tbody tr th {\n",
       "        vertical-align: top;\n",
       "    }\n",
       "\n",
       "    .dataframe thead th {\n",
       "        text-align: right;\n",
       "    }\n",
       "</style>\n",
       "<table border=\"1\" class=\"dataframe\">\n",
       "  <thead>\n",
       "    <tr style=\"text-align: right;\">\n",
       "      <th></th>\n",
       "      <th>rougher.output.recovery</th>\n",
       "      <th>final.output.recovery</th>\n",
       "    </tr>\n",
       "    <tr>\n",
       "      <th>date</th>\n",
       "      <th></th>\n",
       "      <th></th>\n",
       "    </tr>\n",
       "  </thead>\n",
       "  <tbody>\n",
       "    <tr>\n",
       "      <th>2016-01-15 00:00:00</th>\n",
       "      <td>87.107763</td>\n",
       "      <td>70.541216</td>\n",
       "    </tr>\n",
       "    <tr>\n",
       "      <th>2016-01-15 01:00:00</th>\n",
       "      <td>86.843261</td>\n",
       "      <td>69.266198</td>\n",
       "    </tr>\n",
       "    <tr>\n",
       "      <th>2016-01-15 02:00:00</th>\n",
       "      <td>86.842308</td>\n",
       "      <td>68.116445</td>\n",
       "    </tr>\n",
       "    <tr>\n",
       "      <th>2016-01-15 03:00:00</th>\n",
       "      <td>87.226430</td>\n",
       "      <td>68.347543</td>\n",
       "    </tr>\n",
       "    <tr>\n",
       "      <th>2016-01-15 04:00:00</th>\n",
       "      <td>86.688794</td>\n",
       "      <td>66.927016</td>\n",
       "    </tr>\n",
       "  </tbody>\n",
       "</table>\n",
       "</div>"
      ],
      "text/plain": [
       "                     rougher.output.recovery  final.output.recovery\n",
       "date                                                               \n",
       "2016-01-15 00:00:00                87.107763              70.541216\n",
       "2016-01-15 01:00:00                86.843261              69.266198\n",
       "2016-01-15 02:00:00                86.842308              68.116445\n",
       "2016-01-15 03:00:00                87.226430              68.347543\n",
       "2016-01-15 04:00:00                86.688794              66.927016"
      ]
     },
     "execution_count": 38,
     "metadata": {},
     "output_type": "execute_result"
    }
   ],
   "source": [
    "df_train_target = df_full[df_full.index.isin(df_train.index)][['rougher.output.recovery', 'final.output.recovery']]\n",
    "df_train_target.head()"
   ]
  },
  {
   "cell_type": "code",
   "execution_count": 39,
   "id": "672ca98d",
   "metadata": {},
   "outputs": [
    {
     "data": {
      "text/html": [
       "<div>\n",
       "<style scoped>\n",
       "    .dataframe tbody tr th:only-of-type {\n",
       "        vertical-align: middle;\n",
       "    }\n",
       "\n",
       "    .dataframe tbody tr th {\n",
       "        vertical-align: top;\n",
       "    }\n",
       "\n",
       "    .dataframe thead th {\n",
       "        text-align: right;\n",
       "    }\n",
       "</style>\n",
       "<table border=\"1\" class=\"dataframe\">\n",
       "  <thead>\n",
       "    <tr style=\"text-align: right;\">\n",
       "      <th></th>\n",
       "      <th>rougher.output.recovery</th>\n",
       "      <th>final.output.recovery</th>\n",
       "    </tr>\n",
       "    <tr>\n",
       "      <th>date</th>\n",
       "      <th></th>\n",
       "      <th></th>\n",
       "    </tr>\n",
       "  </thead>\n",
       "  <tbody>\n",
       "    <tr>\n",
       "      <th>2016-09-01 00:59:59</th>\n",
       "      <td>89.993421</td>\n",
       "      <td>70.273583</td>\n",
       "    </tr>\n",
       "    <tr>\n",
       "      <th>2016-09-01 01:59:59</th>\n",
       "      <td>88.089657</td>\n",
       "      <td>68.910432</td>\n",
       "    </tr>\n",
       "    <tr>\n",
       "      <th>2016-09-01 02:59:59</th>\n",
       "      <td>88.412756</td>\n",
       "      <td>68.143213</td>\n",
       "    </tr>\n",
       "    <tr>\n",
       "      <th>2016-09-01 03:59:59</th>\n",
       "      <td>87.360133</td>\n",
       "      <td>67.776393</td>\n",
       "    </tr>\n",
       "    <tr>\n",
       "      <th>2016-09-01 04:59:59</th>\n",
       "      <td>83.236367</td>\n",
       "      <td>61.467078</td>\n",
       "    </tr>\n",
       "  </tbody>\n",
       "</table>\n",
       "</div>"
      ],
      "text/plain": [
       "                     rougher.output.recovery  final.output.recovery\n",
       "date                                                               \n",
       "2016-09-01 00:59:59                89.993421              70.273583\n",
       "2016-09-01 01:59:59                88.089657              68.910432\n",
       "2016-09-01 02:59:59                88.412756              68.143213\n",
       "2016-09-01 03:59:59                87.360133              67.776393\n",
       "2016-09-01 04:59:59                83.236367              61.467078"
      ]
     },
     "execution_count": 39,
     "metadata": {},
     "output_type": "execute_result"
    }
   ],
   "source": [
    "df_test_target = df_full[df_full.index.isin(df_test.index)][['rougher.output.recovery', 'final.output.recovery']]\n",
    "df_test_target.head()"
   ]
  },
  {
   "cell_type": "markdown",
   "id": "f9c51bc6",
   "metadata": {},
   "source": [
    "- Судя по технологической последовательности процесса на разных этапах обработки на эффективность процесса влияют различные параметры\n",
    "\n",
    "\n",
    "- **rougher.output.recovery (Черновой концентрат)**\n",
    "    - На результаты очистки чернового концентрата должны влиять параметры флотации и входного сырья\n",
    "    - Параметры последующих этапов очистки не будут иметь значения, так как находятся позже по технологическому процессу\n",
    "    \n",
    "    \n",
    "- **final.output.recovery (Финальный концентрат)**\n",
    "    - На результаты очистки финального концентрата должны влиять параметры первого и второго этапов очистки\n",
    "\n",
    "\n",
    "- Выделим соовествующие признаки"
   ]
  },
  {
   "cell_type": "code",
   "execution_count": 40,
   "id": "7742008a",
   "metadata": {},
   "outputs": [],
   "source": [
    "columns_rougher_stage = ['rougher.input.feed_ag',                       \n",
    "'rougher.input.feed_pb',                      \n",
    "'rougher.input.feed_rate',                   \n",
    "'rougher.input.feed_size',                   \n",
    "'rougher.input.feed_sol',                     \n",
    "'rougher.input.feed_au',                      \n",
    "'rougher.input.floatbank10_sulfate',           \n",
    "'rougher.input.floatbank10_xanthate',        \n",
    "'rougher.input.floatbank11_sulfate',           \n",
    "'rougher.input.floatbank11_xanthate',         \n",
    "'rougher.state.floatbank10_a_air',            \n",
    "'rougher.state.floatbank10_a_level',           \n",
    "'rougher.state.floatbank10_b_air',             \n",
    "'rougher.state.floatbank10_b_level',           \n",
    "'rougher.state.floatbank10_c_air',             \n",
    "'rougher.state.floatbank10_c_level',          \n",
    "'rougher.state.floatbank10_d_air',            \n",
    "'rougher.state.floatbank10_d_level',          \n",
    "'rougher.state.floatbank10_e_air',            \n",
    "'rougher.state.floatbank10_e_level',           \n",
    "'rougher.state.floatbank10_f_air',             \n",
    "'rougher.state.floatbank10_f_level']"
   ]
  },
  {
   "cell_type": "code",
   "execution_count": 41,
   "id": "b0447ecb",
   "metadata": {},
   "outputs": [],
   "source": [
    "columns_final_stage = ['primary_cleaner.input.sulfate',  \n",
    "'primary_cleaner.input.depressant',            \n",
    "'primary_cleaner.input.feed_size',             \n",
    "'primary_cleaner.input.xanthate'  ,            \n",
    "'primary_cleaner.state.floatbank8_a_air',      \n",
    "'primary_cleaner.state.floatbank8_a_level',    \n",
    "'primary_cleaner.state.floatbank8_b_air'   ,   \n",
    "'primary_cleaner.state.floatbank8_b_level'  ,  \n",
    "'primary_cleaner.state.floatbank8_c_air'    ,  \n",
    "'primary_cleaner.state.floatbank8_c_level'  ,  \n",
    "'primary_cleaner.state.floatbank8_d_air'    ,  \n",
    "'primary_cleaner.state.floatbank8_d_level'  ,  \n",
    "'secondary_cleaner.state.floatbank2_a_air'  ,  \n",
    "'secondary_cleaner.state.floatbank2_a_level' , \n",
    "'secondary_cleaner.state.floatbank2_b_air'   , \n",
    "'secondary_cleaner.state.floatbank2_b_level' , \n",
    "'secondary_cleaner.state.floatbank3_a_air'   , \n",
    "'secondary_cleaner.state.floatbank3_a_level' , \n",
    "'secondary_cleaner.state.floatbank3_b_air'   , \n",
    "'secondary_cleaner.state.floatbank3_b_level' ,\n",
    "'secondary_cleaner.state.floatbank4_a_air'   , \n",
    "'secondary_cleaner.state.floatbank4_a_level' , \n",
    "'secondary_cleaner.state.floatbank4_b_air'   , \n",
    "'secondary_cleaner.state.floatbank4_b_level' , \n",
    "'secondary_cleaner.state.floatbank5_a_air'   , \n",
    "'secondary_cleaner.state.floatbank5_a_level' , \n",
    "'secondary_cleaner.state.floatbank5_b_air'   , \n",
    "'secondary_cleaner.state.floatbank5_b_level' , \n",
    "'secondary_cleaner.state.floatbank6_a_air'   ,\n",
    "'secondary_cleaner.state.floatbank6_a_level']\n",
    "                       "
   ]
  },
  {
   "cell_type": "code",
   "execution_count": 42,
   "id": "7e9ab4b0",
   "metadata": {},
   "outputs": [
    {
     "data": {
      "text/html": [
       "<div>\n",
       "<style scoped>\n",
       "    .dataframe tbody tr th:only-of-type {\n",
       "        vertical-align: middle;\n",
       "    }\n",
       "\n",
       "    .dataframe tbody tr th {\n",
       "        vertical-align: top;\n",
       "    }\n",
       "\n",
       "    .dataframe thead th {\n",
       "        text-align: right;\n",
       "    }\n",
       "</style>\n",
       "<table border=\"1\" class=\"dataframe\">\n",
       "  <thead>\n",
       "    <tr style=\"text-align: right;\">\n",
       "      <th></th>\n",
       "      <th>rougher.input.feed_ag</th>\n",
       "      <th>rougher.input.feed_pb</th>\n",
       "      <th>rougher.input.feed_rate</th>\n",
       "      <th>rougher.input.feed_size</th>\n",
       "      <th>rougher.input.feed_sol</th>\n",
       "      <th>rougher.input.feed_au</th>\n",
       "      <th>rougher.input.floatbank10_sulfate</th>\n",
       "      <th>rougher.input.floatbank10_xanthate</th>\n",
       "      <th>rougher.input.floatbank11_sulfate</th>\n",
       "      <th>rougher.input.floatbank11_xanthate</th>\n",
       "      <th>...</th>\n",
       "      <th>rougher.state.floatbank10_b_air</th>\n",
       "      <th>rougher.state.floatbank10_b_level</th>\n",
       "      <th>rougher.state.floatbank10_c_air</th>\n",
       "      <th>rougher.state.floatbank10_c_level</th>\n",
       "      <th>rougher.state.floatbank10_d_air</th>\n",
       "      <th>rougher.state.floatbank10_d_level</th>\n",
       "      <th>rougher.state.floatbank10_e_air</th>\n",
       "      <th>rougher.state.floatbank10_e_level</th>\n",
       "      <th>rougher.state.floatbank10_f_air</th>\n",
       "      <th>rougher.state.floatbank10_f_level</th>\n",
       "    </tr>\n",
       "    <tr>\n",
       "      <th>date</th>\n",
       "      <th></th>\n",
       "      <th></th>\n",
       "      <th></th>\n",
       "      <th></th>\n",
       "      <th></th>\n",
       "      <th></th>\n",
       "      <th></th>\n",
       "      <th></th>\n",
       "      <th></th>\n",
       "      <th></th>\n",
       "      <th></th>\n",
       "      <th></th>\n",
       "      <th></th>\n",
       "      <th></th>\n",
       "      <th></th>\n",
       "      <th></th>\n",
       "      <th></th>\n",
       "      <th></th>\n",
       "      <th></th>\n",
       "      <th></th>\n",
       "      <th></th>\n",
       "    </tr>\n",
       "  </thead>\n",
       "  <tbody>\n",
       "    <tr>\n",
       "      <th>2016-01-15 00:00:00</th>\n",
       "      <td>6.100378</td>\n",
       "      <td>2.284912</td>\n",
       "      <td>523.546326</td>\n",
       "      <td>55.486599</td>\n",
       "      <td>36.808594</td>\n",
       "      <td>6.486150</td>\n",
       "      <td>11.986616</td>\n",
       "      <td>6.007990</td>\n",
       "      <td>11.836743</td>\n",
       "      <td>6.005818</td>\n",
       "      <td>...</td>\n",
       "      <td>1603.011353</td>\n",
       "      <td>-434.715027</td>\n",
       "      <td>1602.375000</td>\n",
       "      <td>-442.204468</td>\n",
       "      <td>1598.937256</td>\n",
       "      <td>-451.294128</td>\n",
       "      <td>1404.472046</td>\n",
       "      <td>-455.462982</td>\n",
       "      <td>1416.354980</td>\n",
       "      <td>-451.939636</td>\n",
       "    </tr>\n",
       "    <tr>\n",
       "      <th>2016-01-15 01:00:00</th>\n",
       "      <td>6.161113</td>\n",
       "      <td>2.266033</td>\n",
       "      <td>525.290581</td>\n",
       "      <td>57.278666</td>\n",
       "      <td>35.753385</td>\n",
       "      <td>6.478583</td>\n",
       "      <td>11.971193</td>\n",
       "      <td>6.005766</td>\n",
       "      <td>11.996163</td>\n",
       "      <td>6.012594</td>\n",
       "      <td>...</td>\n",
       "      <td>1600.754587</td>\n",
       "      <td>-449.953435</td>\n",
       "      <td>1600.479580</td>\n",
       "      <td>-449.830646</td>\n",
       "      <td>1600.527589</td>\n",
       "      <td>-449.953649</td>\n",
       "      <td>1399.227084</td>\n",
       "      <td>-450.869848</td>\n",
       "      <td>1399.719514</td>\n",
       "      <td>-450.119001</td>\n",
       "    </tr>\n",
       "    <tr>\n",
       "      <th>2016-01-15 02:00:00</th>\n",
       "      <td>6.116455</td>\n",
       "      <td>2.159622</td>\n",
       "      <td>530.026610</td>\n",
       "      <td>57.510649</td>\n",
       "      <td>35.971630</td>\n",
       "      <td>6.362222</td>\n",
       "      <td>11.920603</td>\n",
       "      <td>6.197377</td>\n",
       "      <td>11.920305</td>\n",
       "      <td>6.204633</td>\n",
       "      <td>...</td>\n",
       "      <td>1599.337330</td>\n",
       "      <td>-450.008530</td>\n",
       "      <td>1599.672797</td>\n",
       "      <td>-449.954491</td>\n",
       "      <td>1599.849325</td>\n",
       "      <td>-449.954185</td>\n",
       "      <td>1399.180945</td>\n",
       "      <td>-449.937588</td>\n",
       "      <td>1400.316682</td>\n",
       "      <td>-450.527147</td>\n",
       "    </tr>\n",
       "    <tr>\n",
       "      <th>2016-01-15 03:00:00</th>\n",
       "      <td>6.043309</td>\n",
       "      <td>2.037807</td>\n",
       "      <td>542.590390</td>\n",
       "      <td>57.792734</td>\n",
       "      <td>36.862241</td>\n",
       "      <td>6.118189</td>\n",
       "      <td>11.630094</td>\n",
       "      <td>6.203177</td>\n",
       "      <td>11.692450</td>\n",
       "      <td>6.196578</td>\n",
       "      <td>...</td>\n",
       "      <td>1600.059442</td>\n",
       "      <td>-450.619948</td>\n",
       "      <td>1600.012842</td>\n",
       "      <td>-449.910497</td>\n",
       "      <td>1597.725177</td>\n",
       "      <td>-450.130127</td>\n",
       "      <td>1400.943157</td>\n",
       "      <td>-450.030142</td>\n",
       "      <td>1400.234743</td>\n",
       "      <td>-449.790835</td>\n",
       "    </tr>\n",
       "    <tr>\n",
       "      <th>2016-01-15 04:00:00</th>\n",
       "      <td>6.060915</td>\n",
       "      <td>1.786875</td>\n",
       "      <td>540.531893</td>\n",
       "      <td>56.047189</td>\n",
       "      <td>34.347666</td>\n",
       "      <td>5.663707</td>\n",
       "      <td>10.957755</td>\n",
       "      <td>6.198826</td>\n",
       "      <td>10.960521</td>\n",
       "      <td>6.194897</td>\n",
       "      <td>...</td>\n",
       "      <td>1600.208824</td>\n",
       "      <td>-449.599614</td>\n",
       "      <td>1600.357732</td>\n",
       "      <td>-450.034364</td>\n",
       "      <td>1599.759049</td>\n",
       "      <td>-449.909799</td>\n",
       "      <td>1401.560902</td>\n",
       "      <td>-448.877187</td>\n",
       "      <td>1401.160227</td>\n",
       "      <td>-450.407128</td>\n",
       "    </tr>\n",
       "  </tbody>\n",
       "</table>\n",
       "<p>5 rows × 22 columns</p>\n",
       "</div>"
      ],
      "text/plain": [
       "                     rougher.input.feed_ag  rougher.input.feed_pb  \\\n",
       "date                                                                \n",
       "2016-01-15 00:00:00               6.100378               2.284912   \n",
       "2016-01-15 01:00:00               6.161113               2.266033   \n",
       "2016-01-15 02:00:00               6.116455               2.159622   \n",
       "2016-01-15 03:00:00               6.043309               2.037807   \n",
       "2016-01-15 04:00:00               6.060915               1.786875   \n",
       "\n",
       "                     rougher.input.feed_rate  rougher.input.feed_size  \\\n",
       "date                                                                    \n",
       "2016-01-15 00:00:00               523.546326                55.486599   \n",
       "2016-01-15 01:00:00               525.290581                57.278666   \n",
       "2016-01-15 02:00:00               530.026610                57.510649   \n",
       "2016-01-15 03:00:00               542.590390                57.792734   \n",
       "2016-01-15 04:00:00               540.531893                56.047189   \n",
       "\n",
       "                     rougher.input.feed_sol  rougher.input.feed_au  \\\n",
       "date                                                                 \n",
       "2016-01-15 00:00:00               36.808594               6.486150   \n",
       "2016-01-15 01:00:00               35.753385               6.478583   \n",
       "2016-01-15 02:00:00               35.971630               6.362222   \n",
       "2016-01-15 03:00:00               36.862241               6.118189   \n",
       "2016-01-15 04:00:00               34.347666               5.663707   \n",
       "\n",
       "                     rougher.input.floatbank10_sulfate  \\\n",
       "date                                                     \n",
       "2016-01-15 00:00:00                          11.986616   \n",
       "2016-01-15 01:00:00                          11.971193   \n",
       "2016-01-15 02:00:00                          11.920603   \n",
       "2016-01-15 03:00:00                          11.630094   \n",
       "2016-01-15 04:00:00                          10.957755   \n",
       "\n",
       "                     rougher.input.floatbank10_xanthate  \\\n",
       "date                                                      \n",
       "2016-01-15 00:00:00                            6.007990   \n",
       "2016-01-15 01:00:00                            6.005766   \n",
       "2016-01-15 02:00:00                            6.197377   \n",
       "2016-01-15 03:00:00                            6.203177   \n",
       "2016-01-15 04:00:00                            6.198826   \n",
       "\n",
       "                     rougher.input.floatbank11_sulfate  \\\n",
       "date                                                     \n",
       "2016-01-15 00:00:00                          11.836743   \n",
       "2016-01-15 01:00:00                          11.996163   \n",
       "2016-01-15 02:00:00                          11.920305   \n",
       "2016-01-15 03:00:00                          11.692450   \n",
       "2016-01-15 04:00:00                          10.960521   \n",
       "\n",
       "                     rougher.input.floatbank11_xanthate  ...  \\\n",
       "date                                                     ...   \n",
       "2016-01-15 00:00:00                            6.005818  ...   \n",
       "2016-01-15 01:00:00                            6.012594  ...   \n",
       "2016-01-15 02:00:00                            6.204633  ...   \n",
       "2016-01-15 03:00:00                            6.196578  ...   \n",
       "2016-01-15 04:00:00                            6.194897  ...   \n",
       "\n",
       "                     rougher.state.floatbank10_b_air  \\\n",
       "date                                                   \n",
       "2016-01-15 00:00:00                      1603.011353   \n",
       "2016-01-15 01:00:00                      1600.754587   \n",
       "2016-01-15 02:00:00                      1599.337330   \n",
       "2016-01-15 03:00:00                      1600.059442   \n",
       "2016-01-15 04:00:00                      1600.208824   \n",
       "\n",
       "                     rougher.state.floatbank10_b_level  \\\n",
       "date                                                     \n",
       "2016-01-15 00:00:00                        -434.715027   \n",
       "2016-01-15 01:00:00                        -449.953435   \n",
       "2016-01-15 02:00:00                        -450.008530   \n",
       "2016-01-15 03:00:00                        -450.619948   \n",
       "2016-01-15 04:00:00                        -449.599614   \n",
       "\n",
       "                     rougher.state.floatbank10_c_air  \\\n",
       "date                                                   \n",
       "2016-01-15 00:00:00                      1602.375000   \n",
       "2016-01-15 01:00:00                      1600.479580   \n",
       "2016-01-15 02:00:00                      1599.672797   \n",
       "2016-01-15 03:00:00                      1600.012842   \n",
       "2016-01-15 04:00:00                      1600.357732   \n",
       "\n",
       "                     rougher.state.floatbank10_c_level  \\\n",
       "date                                                     \n",
       "2016-01-15 00:00:00                        -442.204468   \n",
       "2016-01-15 01:00:00                        -449.830646   \n",
       "2016-01-15 02:00:00                        -449.954491   \n",
       "2016-01-15 03:00:00                        -449.910497   \n",
       "2016-01-15 04:00:00                        -450.034364   \n",
       "\n",
       "                     rougher.state.floatbank10_d_air  \\\n",
       "date                                                   \n",
       "2016-01-15 00:00:00                      1598.937256   \n",
       "2016-01-15 01:00:00                      1600.527589   \n",
       "2016-01-15 02:00:00                      1599.849325   \n",
       "2016-01-15 03:00:00                      1597.725177   \n",
       "2016-01-15 04:00:00                      1599.759049   \n",
       "\n",
       "                     rougher.state.floatbank10_d_level  \\\n",
       "date                                                     \n",
       "2016-01-15 00:00:00                        -451.294128   \n",
       "2016-01-15 01:00:00                        -449.953649   \n",
       "2016-01-15 02:00:00                        -449.954185   \n",
       "2016-01-15 03:00:00                        -450.130127   \n",
       "2016-01-15 04:00:00                        -449.909799   \n",
       "\n",
       "                     rougher.state.floatbank10_e_air  \\\n",
       "date                                                   \n",
       "2016-01-15 00:00:00                      1404.472046   \n",
       "2016-01-15 01:00:00                      1399.227084   \n",
       "2016-01-15 02:00:00                      1399.180945   \n",
       "2016-01-15 03:00:00                      1400.943157   \n",
       "2016-01-15 04:00:00                      1401.560902   \n",
       "\n",
       "                     rougher.state.floatbank10_e_level  \\\n",
       "date                                                     \n",
       "2016-01-15 00:00:00                        -455.462982   \n",
       "2016-01-15 01:00:00                        -450.869848   \n",
       "2016-01-15 02:00:00                        -449.937588   \n",
       "2016-01-15 03:00:00                        -450.030142   \n",
       "2016-01-15 04:00:00                        -448.877187   \n",
       "\n",
       "                     rougher.state.floatbank10_f_air  \\\n",
       "date                                                   \n",
       "2016-01-15 00:00:00                      1416.354980   \n",
       "2016-01-15 01:00:00                      1399.719514   \n",
       "2016-01-15 02:00:00                      1400.316682   \n",
       "2016-01-15 03:00:00                      1400.234743   \n",
       "2016-01-15 04:00:00                      1401.160227   \n",
       "\n",
       "                     rougher.state.floatbank10_f_level  \n",
       "date                                                    \n",
       "2016-01-15 00:00:00                        -451.939636  \n",
       "2016-01-15 01:00:00                        -450.119001  \n",
       "2016-01-15 02:00:00                        -450.527147  \n",
       "2016-01-15 03:00:00                        -449.790835  \n",
       "2016-01-15 04:00:00                        -450.407128  \n",
       "\n",
       "[5 rows x 22 columns]"
      ]
     },
     "execution_count": 42,
     "metadata": {},
     "output_type": "execute_result"
    }
   ],
   "source": [
    "df_rougher_train = df_train[columns_rougher_stage]\n",
    "df_rougher_target = df_train_target['rougher.output.recovery']\n",
    "\n",
    "df_final_train = df_train[columns_final_stage]\n",
    "df_final_target = df_train_target['final.output.recovery']\n",
    "\n",
    "\n",
    "df_rougher_train.head()"
   ]
  },
  {
   "cell_type": "markdown",
   "id": "9e215204",
   "metadata": {},
   "source": [
    "### Обучение моделей\n",
    "\n",
    "- Необходимо попробовать обучать различные модели. Будем обучать два типа моделей - Линейная регрессия и Случайный лес"
   ]
  },
  {
   "cell_type": "markdown",
   "id": "3c897dab",
   "metadata": {},
   "source": [
    "- В данных есть много числовых значений разной величины. Применим масштабирование"
   ]
  },
  {
   "cell_type": "code",
   "execution_count": 43,
   "id": "c4e2af1f",
   "metadata": {},
   "outputs": [
    {
     "data": {
      "text/html": [
       "<div>\n",
       "<style scoped>\n",
       "    .dataframe tbody tr th:only-of-type {\n",
       "        vertical-align: middle;\n",
       "    }\n",
       "\n",
       "    .dataframe tbody tr th {\n",
       "        vertical-align: top;\n",
       "    }\n",
       "\n",
       "    .dataframe thead th {\n",
       "        text-align: right;\n",
       "    }\n",
       "</style>\n",
       "<table border=\"1\" class=\"dataframe\">\n",
       "  <thead>\n",
       "    <tr style=\"text-align: right;\">\n",
       "      <th></th>\n",
       "      <th>rougher.input.feed_ag</th>\n",
       "      <th>rougher.input.feed_pb</th>\n",
       "      <th>rougher.input.feed_rate</th>\n",
       "      <th>rougher.input.feed_size</th>\n",
       "      <th>rougher.input.feed_sol</th>\n",
       "      <th>rougher.input.feed_au</th>\n",
       "      <th>rougher.input.floatbank10_sulfate</th>\n",
       "      <th>rougher.input.floatbank10_xanthate</th>\n",
       "      <th>rougher.input.floatbank11_sulfate</th>\n",
       "      <th>rougher.input.floatbank11_xanthate</th>\n",
       "      <th>...</th>\n",
       "      <th>rougher.state.floatbank10_b_air</th>\n",
       "      <th>rougher.state.floatbank10_b_level</th>\n",
       "      <th>rougher.state.floatbank10_c_air</th>\n",
       "      <th>rougher.state.floatbank10_c_level</th>\n",
       "      <th>rougher.state.floatbank10_d_air</th>\n",
       "      <th>rougher.state.floatbank10_d_level</th>\n",
       "      <th>rougher.state.floatbank10_e_air</th>\n",
       "      <th>rougher.state.floatbank10_e_level</th>\n",
       "      <th>rougher.state.floatbank10_f_air</th>\n",
       "      <th>rougher.state.floatbank10_f_level</th>\n",
       "    </tr>\n",
       "    <tr>\n",
       "      <th>date</th>\n",
       "      <th></th>\n",
       "      <th></th>\n",
       "      <th></th>\n",
       "      <th></th>\n",
       "      <th></th>\n",
       "      <th></th>\n",
       "      <th></th>\n",
       "      <th></th>\n",
       "      <th></th>\n",
       "      <th></th>\n",
       "      <th></th>\n",
       "      <th></th>\n",
       "      <th></th>\n",
       "      <th></th>\n",
       "      <th></th>\n",
       "      <th></th>\n",
       "      <th></th>\n",
       "      <th></th>\n",
       "      <th></th>\n",
       "      <th></th>\n",
       "      <th></th>\n",
       "    </tr>\n",
       "  </thead>\n",
       "  <tbody>\n",
       "    <tr>\n",
       "      <th>2016-01-15 00:00:00</th>\n",
       "      <td>-1.346933</td>\n",
       "      <td>-1.139258</td>\n",
       "      <td>0.474289</td>\n",
       "      <td>-0.201916</td>\n",
       "      <td>0.087153</td>\n",
       "      <td>-0.754132</td>\n",
       "      <td>0.074707</td>\n",
       "      <td>0.116729</td>\n",
       "      <td>0.121501</td>\n",
       "      <td>0.140534</td>\n",
       "      <td>...</td>\n",
       "      <td>1.533170</td>\n",
       "      <td>0.505250</td>\n",
       "      <td>1.408063</td>\n",
       "      <td>0.400649</td>\n",
       "      <td>1.838135</td>\n",
       "      <td>0.245830</td>\n",
       "      <td>1.693824</td>\n",
       "      <td>0.157085</td>\n",
       "      <td>2.152409</td>\n",
       "      <td>0.216275</td>\n",
       "    </tr>\n",
       "    <tr>\n",
       "      <th>2016-01-15 01:00:00</th>\n",
       "      <td>-1.314226</td>\n",
       "      <td>-1.156752</td>\n",
       "      <td>0.491586</td>\n",
       "      <td>-0.124431</td>\n",
       "      <td>-0.137010</td>\n",
       "      <td>-0.758181</td>\n",
       "      <td>0.069876</td>\n",
       "      <td>0.114663</td>\n",
       "      <td>0.165038</td>\n",
       "      <td>0.146142</td>\n",
       "      <td>...</td>\n",
       "      <td>1.520740</td>\n",
       "      <td>0.239467</td>\n",
       "      <td>1.399107</td>\n",
       "      <td>0.263862</td>\n",
       "      <td>1.845757</td>\n",
       "      <td>0.269937</td>\n",
       "      <td>1.665757</td>\n",
       "      <td>0.238503</td>\n",
       "      <td>2.057684</td>\n",
       "      <td>0.248535</td>\n",
       "    </tr>\n",
       "    <tr>\n",
       "      <th>2016-01-15 02:00:00</th>\n",
       "      <td>-1.338275</td>\n",
       "      <td>-1.255349</td>\n",
       "      <td>0.538551</td>\n",
       "      <td>-0.114400</td>\n",
       "      <td>-0.090647</td>\n",
       "      <td>-0.820453</td>\n",
       "      <td>0.054032</td>\n",
       "      <td>0.292686</td>\n",
       "      <td>0.144321</td>\n",
       "      <td>0.305091</td>\n",
       "      <td>...</td>\n",
       "      <td>1.512934</td>\n",
       "      <td>0.238507</td>\n",
       "      <td>1.395295</td>\n",
       "      <td>0.261640</td>\n",
       "      <td>1.842507</td>\n",
       "      <td>0.269927</td>\n",
       "      <td>1.665510</td>\n",
       "      <td>0.255029</td>\n",
       "      <td>2.061084</td>\n",
       "      <td>0.241303</td>\n",
       "    </tr>\n",
       "    <tr>\n",
       "      <th>2016-01-15 03:00:00</th>\n",
       "      <td>-1.377666</td>\n",
       "      <td>-1.368219</td>\n",
       "      <td>0.663140</td>\n",
       "      <td>-0.102203</td>\n",
       "      <td>0.098549</td>\n",
       "      <td>-0.951049</td>\n",
       "      <td>-0.036954</td>\n",
       "      <td>0.298075</td>\n",
       "      <td>0.082095</td>\n",
       "      <td>0.298423</td>\n",
       "      <td>...</td>\n",
       "      <td>1.516911</td>\n",
       "      <td>0.227842</td>\n",
       "      <td>1.396901</td>\n",
       "      <td>0.262430</td>\n",
       "      <td>1.832327</td>\n",
       "      <td>0.266763</td>\n",
       "      <td>1.674940</td>\n",
       "      <td>0.253388</td>\n",
       "      <td>2.060618</td>\n",
       "      <td>0.254350</td>\n",
       "    </tr>\n",
       "    <tr>\n",
       "      <th>2016-01-15 04:00:00</th>\n",
       "      <td>-1.368184</td>\n",
       "      <td>-1.600725</td>\n",
       "      <td>0.642727</td>\n",
       "      <td>-0.177677</td>\n",
       "      <td>-0.435632</td>\n",
       "      <td>-1.194269</td>\n",
       "      <td>-0.247526</td>\n",
       "      <td>0.294033</td>\n",
       "      <td>-0.117792</td>\n",
       "      <td>0.297032</td>\n",
       "      <td>...</td>\n",
       "      <td>1.517734</td>\n",
       "      <td>0.245639</td>\n",
       "      <td>1.398531</td>\n",
       "      <td>0.260208</td>\n",
       "      <td>1.842074</td>\n",
       "      <td>0.270725</td>\n",
       "      <td>1.678245</td>\n",
       "      <td>0.273825</td>\n",
       "      <td>2.065887</td>\n",
       "      <td>0.243429</td>\n",
       "    </tr>\n",
       "  </tbody>\n",
       "</table>\n",
       "<p>5 rows × 22 columns</p>\n",
       "</div>"
      ],
      "text/plain": [
       "                     rougher.input.feed_ag  rougher.input.feed_pb  \\\n",
       "date                                                                \n",
       "2016-01-15 00:00:00              -1.346933              -1.139258   \n",
       "2016-01-15 01:00:00              -1.314226              -1.156752   \n",
       "2016-01-15 02:00:00              -1.338275              -1.255349   \n",
       "2016-01-15 03:00:00              -1.377666              -1.368219   \n",
       "2016-01-15 04:00:00              -1.368184              -1.600725   \n",
       "\n",
       "                     rougher.input.feed_rate  rougher.input.feed_size  \\\n",
       "date                                                                    \n",
       "2016-01-15 00:00:00                 0.474289                -0.201916   \n",
       "2016-01-15 01:00:00                 0.491586                -0.124431   \n",
       "2016-01-15 02:00:00                 0.538551                -0.114400   \n",
       "2016-01-15 03:00:00                 0.663140                -0.102203   \n",
       "2016-01-15 04:00:00                 0.642727                -0.177677   \n",
       "\n",
       "                     rougher.input.feed_sol  rougher.input.feed_au  \\\n",
       "date                                                                 \n",
       "2016-01-15 00:00:00                0.087153              -0.754132   \n",
       "2016-01-15 01:00:00               -0.137010              -0.758181   \n",
       "2016-01-15 02:00:00               -0.090647              -0.820453   \n",
       "2016-01-15 03:00:00                0.098549              -0.951049   \n",
       "2016-01-15 04:00:00               -0.435632              -1.194269   \n",
       "\n",
       "                     rougher.input.floatbank10_sulfate  \\\n",
       "date                                                     \n",
       "2016-01-15 00:00:00                           0.074707   \n",
       "2016-01-15 01:00:00                           0.069876   \n",
       "2016-01-15 02:00:00                           0.054032   \n",
       "2016-01-15 03:00:00                          -0.036954   \n",
       "2016-01-15 04:00:00                          -0.247526   \n",
       "\n",
       "                     rougher.input.floatbank10_xanthate  \\\n",
       "date                                                      \n",
       "2016-01-15 00:00:00                            0.116729   \n",
       "2016-01-15 01:00:00                            0.114663   \n",
       "2016-01-15 02:00:00                            0.292686   \n",
       "2016-01-15 03:00:00                            0.298075   \n",
       "2016-01-15 04:00:00                            0.294033   \n",
       "\n",
       "                     rougher.input.floatbank11_sulfate  \\\n",
       "date                                                     \n",
       "2016-01-15 00:00:00                           0.121501   \n",
       "2016-01-15 01:00:00                           0.165038   \n",
       "2016-01-15 02:00:00                           0.144321   \n",
       "2016-01-15 03:00:00                           0.082095   \n",
       "2016-01-15 04:00:00                          -0.117792   \n",
       "\n",
       "                     rougher.input.floatbank11_xanthate  ...  \\\n",
       "date                                                     ...   \n",
       "2016-01-15 00:00:00                            0.140534  ...   \n",
       "2016-01-15 01:00:00                            0.146142  ...   \n",
       "2016-01-15 02:00:00                            0.305091  ...   \n",
       "2016-01-15 03:00:00                            0.298423  ...   \n",
       "2016-01-15 04:00:00                            0.297032  ...   \n",
       "\n",
       "                     rougher.state.floatbank10_b_air  \\\n",
       "date                                                   \n",
       "2016-01-15 00:00:00                         1.533170   \n",
       "2016-01-15 01:00:00                         1.520740   \n",
       "2016-01-15 02:00:00                         1.512934   \n",
       "2016-01-15 03:00:00                         1.516911   \n",
       "2016-01-15 04:00:00                         1.517734   \n",
       "\n",
       "                     rougher.state.floatbank10_b_level  \\\n",
       "date                                                     \n",
       "2016-01-15 00:00:00                           0.505250   \n",
       "2016-01-15 01:00:00                           0.239467   \n",
       "2016-01-15 02:00:00                           0.238507   \n",
       "2016-01-15 03:00:00                           0.227842   \n",
       "2016-01-15 04:00:00                           0.245639   \n",
       "\n",
       "                     rougher.state.floatbank10_c_air  \\\n",
       "date                                                   \n",
       "2016-01-15 00:00:00                         1.408063   \n",
       "2016-01-15 01:00:00                         1.399107   \n",
       "2016-01-15 02:00:00                         1.395295   \n",
       "2016-01-15 03:00:00                         1.396901   \n",
       "2016-01-15 04:00:00                         1.398531   \n",
       "\n",
       "                     rougher.state.floatbank10_c_level  \\\n",
       "date                                                     \n",
       "2016-01-15 00:00:00                           0.400649   \n",
       "2016-01-15 01:00:00                           0.263862   \n",
       "2016-01-15 02:00:00                           0.261640   \n",
       "2016-01-15 03:00:00                           0.262430   \n",
       "2016-01-15 04:00:00                           0.260208   \n",
       "\n",
       "                     rougher.state.floatbank10_d_air  \\\n",
       "date                                                   \n",
       "2016-01-15 00:00:00                         1.838135   \n",
       "2016-01-15 01:00:00                         1.845757   \n",
       "2016-01-15 02:00:00                         1.842507   \n",
       "2016-01-15 03:00:00                         1.832327   \n",
       "2016-01-15 04:00:00                         1.842074   \n",
       "\n",
       "                     rougher.state.floatbank10_d_level  \\\n",
       "date                                                     \n",
       "2016-01-15 00:00:00                           0.245830   \n",
       "2016-01-15 01:00:00                           0.269937   \n",
       "2016-01-15 02:00:00                           0.269927   \n",
       "2016-01-15 03:00:00                           0.266763   \n",
       "2016-01-15 04:00:00                           0.270725   \n",
       "\n",
       "                     rougher.state.floatbank10_e_air  \\\n",
       "date                                                   \n",
       "2016-01-15 00:00:00                         1.693824   \n",
       "2016-01-15 01:00:00                         1.665757   \n",
       "2016-01-15 02:00:00                         1.665510   \n",
       "2016-01-15 03:00:00                         1.674940   \n",
       "2016-01-15 04:00:00                         1.678245   \n",
       "\n",
       "                     rougher.state.floatbank10_e_level  \\\n",
       "date                                                     \n",
       "2016-01-15 00:00:00                           0.157085   \n",
       "2016-01-15 01:00:00                           0.238503   \n",
       "2016-01-15 02:00:00                           0.255029   \n",
       "2016-01-15 03:00:00                           0.253388   \n",
       "2016-01-15 04:00:00                           0.273825   \n",
       "\n",
       "                     rougher.state.floatbank10_f_air  \\\n",
       "date                                                   \n",
       "2016-01-15 00:00:00                         2.152409   \n",
       "2016-01-15 01:00:00                         2.057684   \n",
       "2016-01-15 02:00:00                         2.061084   \n",
       "2016-01-15 03:00:00                         2.060618   \n",
       "2016-01-15 04:00:00                         2.065887   \n",
       "\n",
       "                     rougher.state.floatbank10_f_level  \n",
       "date                                                    \n",
       "2016-01-15 00:00:00                           0.216275  \n",
       "2016-01-15 01:00:00                           0.248535  \n",
       "2016-01-15 02:00:00                           0.241303  \n",
       "2016-01-15 03:00:00                           0.254350  \n",
       "2016-01-15 04:00:00                           0.243429  \n",
       "\n",
       "[5 rows x 22 columns]"
      ]
     },
     "execution_count": 43,
     "metadata": {},
     "output_type": "execute_result"
    }
   ],
   "source": [
    "rougher_scaler = StandardScaler()\n",
    "\n",
    "rougher_scaler.fit(df_rougher_train[columns_rougher_stage])\n",
    "df_rougher_train[columns_rougher_stage] = rougher_scaler.transform(df_rougher_train[columns_rougher_stage])\n",
    "\n",
    "final_scaler = StandardScaler()\n",
    "\n",
    "final_scaler.fit(df_final_train[columns_final_stage])\n",
    "df_final_train[columns_final_stage] = final_scaler.transform(df_final_train[columns_final_stage])\n",
    "\n",
    "\n",
    "df_rougher_train.head()"
   ]
  },
  {
   "cell_type": "markdown",
   "id": "b41213e4",
   "metadata": {},
   "source": [
    "- Масшабируем тестовую выборку"
   ]
  },
  {
   "cell_type": "code",
   "execution_count": 44,
   "id": "e9e18308",
   "metadata": {},
   "outputs": [],
   "source": [
    "df_test[columns_rougher_stage] = rougher_scaler.transform(df_test[columns_rougher_stage])\n",
    "df_test[columns_final_stage] = final_scaler.transform(df_test[columns_final_stage])\n",
    "\n",
    "\n",
    "target_test_rough = df_test_target['rougher.output.recovery']\n",
    "target_test_final = df_test_target['final.output.recovery']\n",
    "features_test_rough = df_test[columns_rougher_stage]\n",
    "feature_test_final = df_test[columns_final_stage]"
   ]
  },
  {
   "cell_type": "markdown",
   "id": "d9021f15",
   "metadata": {},
   "source": [
    "#### Случайный лес (черновой концентрат)\n",
    "\n",
    "- Параметры выставлены на единственное значение для экономии времени"
   ]
  },
  {
   "cell_type": "code",
   "execution_count": 45,
   "id": "09cab547",
   "metadata": {},
   "outputs": [
    {
     "name": "stdout",
     "output_type": "stream",
     "text": [
      "SMAPE = 6.317147972867028 при n_estimators = 50 max_depth = 5\n"
     ]
    }
   ],
   "source": [
    "for estim in range(50,51,10):\n",
    "    for depth in range(5,6,1):\n",
    "        model_r_forest = RandomForestRegressor(n_estimators=estim, max_depth=depth, random_state=12345)\n",
    "        smape_score_rough_forest_reg = cross_val_score(model_r_forest, df_rougher_train, df_rougher_target, cv=5, scoring=smape_score)\n",
    "        print('SMAPE =', smape_score_rough_forest_reg.mean(), 'при n_estimators =', estim, 'max_depth =',depth)"
   ]
  },
  {
   "cell_type": "markdown",
   "id": "8b6f7cef",
   "metadata": {},
   "source": [
    "#### Случайный лес (финальный концентрат)\n",
    "\n",
    "- Параметры выставлены на единственное значение для экономии времени"
   ]
  },
  {
   "cell_type": "code",
   "execution_count": 46,
   "id": "d7af1265",
   "metadata": {},
   "outputs": [
    {
     "name": "stdout",
     "output_type": "stream",
     "text": [
      "SMAPE = 11.075140097071257 при n_estimators = 50 max_depth = 5\n"
     ]
    }
   ],
   "source": [
    "for estim in range(50,51,10):\n",
    "    for depth in range(5,6,1):\n",
    "        model_r_forest = RandomForestRegressor(n_estimators=estim, max_depth=depth, random_state=12345)\n",
    "        smape_score_final_forest_reg = cross_val_score(model_r_forest, df_final_train, df_final_target, cv=5, scoring=smape_score)\n",
    "        print('SMAPE =', smape_score_final_forest_reg.mean(), 'при n_estimators =', estim, 'max_depth =',depth)"
   ]
  },
  {
   "cell_type": "markdown",
   "id": "51d0e838",
   "metadata": {},
   "source": [
    "Кросс-валидация дает несколько значений, возьмем средние"
   ]
  },
  {
   "cell_type": "code",
   "execution_count": 47,
   "id": "5df1e741",
   "metadata": {},
   "outputs": [
    {
     "data": {
      "text/plain": [
       "array([9.65181276, 7.02008895, 4.49263709, 4.44222587, 5.97897519])"
      ]
     },
     "metadata": {},
     "output_type": "display_data"
    },
    {
     "data": {
      "text/plain": [
       "array([ 9.10022475, 16.85010922,  9.44622694,  9.31672096, 10.6624186 ])"
      ]
     },
     "metadata": {},
     "output_type": "display_data"
    },
    {
     "name": "stdout",
     "output_type": "stream",
     "text": [
      "SMAPE total RandomForestRegressor: 7.506646003918085\n"
     ]
    }
   ],
   "source": [
    "display(smape_score_rough_forest_reg)\n",
    "display(smape_score_final_forest_reg)\n",
    "\n",
    "smape_total_forest = total_smape(smape_score_final_forest_reg.mean(), smape_score_rough_forest_reg.mean())\n",
    "\n",
    "print('SMAPE total RandomForestRegressor:', smape_total_forest)"
   ]
  },
  {
   "cell_type": "markdown",
   "id": "c69583c7",
   "metadata": {},
   "source": [
    "Для случайного леса наименьшая ошибка получилась при n_estimators=50 и max_depth = 5. **Используем эти параметры с тестовой выборкой**"
   ]
  },
  {
   "cell_type": "code",
   "execution_count": 48,
   "id": "be5fcfcf",
   "metadata": {},
   "outputs": [
    {
     "data": {
      "text/plain": [
       "RandomForestRegressor(max_depth=5, n_estimators=50, random_state=12345)"
      ]
     },
     "execution_count": 48,
     "metadata": {},
     "output_type": "execute_result"
    }
   ],
   "source": [
    "forest_model_rough = RandomForestRegressor(n_estimators=50, max_depth=5, random_state=12345)\n",
    "forest_model_rough.fit(df_rougher_train, df_rougher_target)\n",
    "\n",
    "forest_model_final = RandomForestRegressor(n_estimators=50, max_depth=5, random_state=12345)\n",
    "forest_model_final.fit(df_final_train, df_final_target)\n"
   ]
  },
  {
   "cell_type": "code",
   "execution_count": 49,
   "id": "fad1a0e5",
   "metadata": {},
   "outputs": [],
   "source": [
    "predict_forest_rough = forest_model_rough.predict(features_test_rough)\n",
    "predict_forest_final = forest_model_final.predict(feature_test_final)"
   ]
  },
  {
   "cell_type": "code",
   "execution_count": 50,
   "id": "0c8b9d7e",
   "metadata": {},
   "outputs": [],
   "source": [
    "smape_rough_forest = smape(target_test_rough, predict_forest_rough)\n",
    "\n",
    "smape_final_forest = smape(target_test_final, predict_forest_final)"
   ]
  },
  {
   "cell_type": "markdown",
   "id": "94ea271c",
   "metadata": {},
   "source": [
    "#### Результат - SMAPE на тестовой выборке"
   ]
  },
  {
   "cell_type": "code",
   "execution_count": 51,
   "id": "771f028b",
   "metadata": {},
   "outputs": [
    {
     "name": "stdout",
     "output_type": "stream",
     "text": [
      "SMAPE модели RandomForestRegressor на тестовой выборке: 7.98804621661054\n"
     ]
    }
   ],
   "source": [
    "smape_forest = total_smape(smape_rough_forest.mean(), smape_final_forest.mean())\n",
    "print('SMAPE модели RandomForestRegressor на тестовой выборке:', smape_forest)"
   ]
  },
  {
   "cell_type": "markdown",
   "id": "739ca279",
   "metadata": {},
   "source": [
    "#### Линейная модель (черновой концентрат)"
   ]
  },
  {
   "cell_type": "code",
   "execution_count": 52,
   "id": "48377e7b",
   "metadata": {},
   "outputs": [
    {
     "name": "stdout",
     "output_type": "stream",
     "text": [
      "SMAPE = 6.467848181821938\n"
     ]
    }
   ],
   "source": [
    "linear_model_rough = LinearRegression()\n",
    "smape_score_rough_lin_reg = cross_val_score(linear_model_rough, df_rougher_train, df_rougher_target, cv=5, scoring=smape_score)\n",
    "print('SMAPE =', smape_score_rough_lin_reg.mean())"
   ]
  },
  {
   "cell_type": "markdown",
   "id": "2e0f3f54",
   "metadata": {},
   "source": [
    "#### Линейная модель (финальный концентрат)"
   ]
  },
  {
   "cell_type": "code",
   "execution_count": 53,
   "id": "a39ff41a",
   "metadata": {},
   "outputs": [
    {
     "name": "stdout",
     "output_type": "stream",
     "text": [
      "sMAPE = 9.457394773403712\n"
     ]
    }
   ],
   "source": [
    "linear_model_final = LinearRegression()\n",
    "smape_score_final_lin_reg = cross_val_score(linear_model_final, df_final_train, df_final_target, cv=5, scoring=smape_score)\n",
    "print('sMAPE =', smape_score_final_lin_reg.mean())"
   ]
  },
  {
   "cell_type": "code",
   "execution_count": 54,
   "id": "884fbc14",
   "metadata": {},
   "outputs": [
    {
     "name": "stdout",
     "output_type": "stream",
     "text": [
      "SMAPE final LinearRegression: 8.710008125508267\n"
     ]
    }
   ],
   "source": [
    "smape_final_lin = total_smape(smape_score_rough_lin_reg.mean(), smape_score_final_lin_reg.mean())\n",
    "print('SMAPE final LinearRegression:', smape_final_lin)"
   ]
  },
  {
   "cell_type": "markdown",
   "id": "329dd344",
   "metadata": {},
   "source": [
    "Проверим на тестовой выборке"
   ]
  },
  {
   "cell_type": "code",
   "execution_count": 55,
   "id": "674ce2ba",
   "metadata": {},
   "outputs": [
    {
     "data": {
      "text/plain": [
       "LinearRegression()"
      ]
     },
     "execution_count": 55,
     "metadata": {},
     "output_type": "execute_result"
    }
   ],
   "source": [
    "linear_model_rough = LinearRegression()\n",
    "linear_model_rough.fit(df_rougher_train, df_rougher_target)\n",
    "linear_model_final.fit(df_final_train, df_final_target)\n"
   ]
  },
  {
   "cell_type": "code",
   "execution_count": 56,
   "id": "461a4e78",
   "metadata": {},
   "outputs": [],
   "source": [
    "predict_linear_rough = linear_model_rough.predict(features_test_rough)\n",
    "predict_linear_final = linear_model_final.predict(feature_test_final)"
   ]
  },
  {
   "cell_type": "code",
   "execution_count": 57,
   "id": "14059bd1",
   "metadata": {},
   "outputs": [],
   "source": [
    "smape_rough_linear = smape(target_test_rough, predict_linear_rough)\n",
    "smape_final_linear = smape(target_test_final, predict_linear_final)"
   ]
  },
  {
   "cell_type": "code",
   "execution_count": 58,
   "id": "4f4fb081",
   "metadata": {},
   "outputs": [
    {
     "name": "stdout",
     "output_type": "stream",
     "text": [
      "SMAPE модели Linear Regression на тестовой выборке: 6.895080728736744\n"
     ]
    }
   ],
   "source": [
    "smape_linear_regr = total_smape(smape_rough_linear.mean(),smape_final_linear.mean())\n",
    "print('SMAPE модели Linear Regression на тестовой выборке:', smape_linear_regr)"
   ]
  },
  {
   "cell_type": "markdown",
   "id": "224d48d4",
   "metadata": {},
   "source": [
    "### Сравнение с константой. Оценка адекватности"
   ]
  },
  {
   "cell_type": "code",
   "execution_count": 59,
   "id": "c2c53d59",
   "metadata": {},
   "outputs": [],
   "source": [
    "df_test['target_train_rough_mean'] = df_rougher_target.mean()"
   ]
  },
  {
   "cell_type": "code",
   "execution_count": 60,
   "id": "abc0e3fa",
   "metadata": {},
   "outputs": [],
   "source": [
    "df_test['target_train_final_mean'] = df_final_target.mean()\n"
   ]
  },
  {
   "cell_type": "code",
   "execution_count": 61,
   "id": "81bf91d8",
   "metadata": {
    "scrolled": true
   },
   "outputs": [
    {
     "name": "stdout",
     "output_type": "stream",
     "text": [
      "SMAPE const :  7.390413003211798\n"
     ]
    }
   ],
   "source": [
    "smape_const = smape(df_test['target_train_rough_mean'], target_test_rough)*0.25 + smape(df_test['target_train_final_mean'], target_test_final)* 0.75\n",
    "print( \"SMAPE const : \", smape_const)"
   ]
  },
  {
   "cell_type": "markdown",
   "id": "9132bdee",
   "metadata": {},
   "source": [
    "Показатели SMAPE лучше константы для Линейной регрессии"
   ]
  },
  {
   "cell_type": "markdown",
   "id": "b450c9e4",
   "metadata": {},
   "source": [
    "## Выводы"
   ]
  },
  {
   "cell_type": "markdown",
   "id": "192de665",
   "metadata": {},
   "source": [
    "- Была выполнена загрузка и общий анализ данных, проверена корректность расчетов эффективности обогащения\n",
    "- Определены значимые и лишние столбцы для анализа данных\n",
    "- Обработаны пропуски и дубликаты\n",
    "- Были проанализированы данные, изучены концентрации металлов в зависимости от этапа очистки, построены соовествующие графики\n",
    "- Оценено распределение размеров гранул сырья по этапам очистки\n",
    "- Было произведена оценка суммарной концентрации металлов, обработаны выбросы\n",
    "- Рассчитана метрика SMAPE для двух различных моделей, подобраны гиперпарметры, модели оценены на адекватность\n",
    "- По итогам работы наилучшие результаты показала модель Линейной регрессии с минимальным значением SMAPE"
   ]
  }
 ],
 "metadata": {
  "ExecuteTimeLog": [
   {
    "duration": 1520,
    "start_time": "2022-10-11T12:32:43.997Z"
   },
   {
    "duration": 2070,
    "start_time": "2022-10-11T12:32:45.519Z"
   },
   {
    "duration": 82,
    "start_time": "2022-10-11T12:32:47.593Z"
   },
   {
    "duration": 41,
    "start_time": "2022-10-11T12:32:47.678Z"
   },
   {
    "duration": 13,
    "start_time": "2022-10-11T12:32:47.721Z"
   },
   {
    "duration": 20,
    "start_time": "2022-10-11T12:32:47.736Z"
   },
   {
    "duration": 2,
    "start_time": "2022-10-11T12:32:47.759Z"
   },
   {
    "duration": 9,
    "start_time": "2022-10-11T12:32:47.763Z"
   },
   {
    "duration": 200,
    "start_time": "2022-10-11T12:32:47.773Z"
   },
   {
    "duration": 4,
    "start_time": "2022-10-11T12:32:47.975Z"
   },
   {
    "duration": 23,
    "start_time": "2022-10-11T12:32:47.981Z"
   },
   {
    "duration": 51,
    "start_time": "2022-10-11T12:32:48.006Z"
   },
   {
    "duration": 4,
    "start_time": "2022-10-11T12:32:48.060Z"
   },
   {
    "duration": 19,
    "start_time": "2022-10-11T12:32:48.066Z"
   },
   {
    "duration": 11,
    "start_time": "2022-10-11T12:32:48.087Z"
   },
   {
    "duration": 10,
    "start_time": "2022-10-11T12:32:48.100Z"
   },
   {
    "duration": 7,
    "start_time": "2022-10-11T12:32:48.111Z"
   },
   {
    "duration": 4,
    "start_time": "2022-10-11T12:32:48.120Z"
   },
   {
    "duration": 12,
    "start_time": "2022-10-11T12:32:48.126Z"
   },
   {
    "duration": 44,
    "start_time": "2022-10-11T12:32:48.139Z"
   },
   {
    "duration": 37,
    "start_time": "2022-10-11T12:32:48.185Z"
   },
   {
    "duration": 33,
    "start_time": "2022-10-11T12:32:48.224Z"
   },
   {
    "duration": 40,
    "start_time": "2022-10-11T12:32:48.259Z"
   },
   {
    "duration": 166,
    "start_time": "2022-10-11T12:32:48.301Z"
   },
   {
    "duration": 3204,
    "start_time": "2022-10-11T12:32:48.470Z"
   },
   {
    "duration": 1414,
    "start_time": "2022-10-11T12:32:51.676Z"
   },
   {
    "duration": 1789,
    "start_time": "2022-10-11T12:32:53.092Z"
   },
   {
    "duration": 201,
    "start_time": "2022-10-11T12:32:54.884Z"
   },
   {
    "duration": 1064,
    "start_time": "2022-10-11T12:32:55.087Z"
   },
   {
    "duration": 760,
    "start_time": "2022-10-11T12:32:56.153Z"
   },
   {
    "duration": 12,
    "start_time": "2022-10-11T12:32:56.914Z"
   },
   {
    "duration": 15,
    "start_time": "2022-10-11T12:32:56.927Z"
   },
   {
    "duration": 21,
    "start_time": "2022-10-11T12:32:56.943Z"
   },
   {
    "duration": 19,
    "start_time": "2022-10-11T12:32:56.966Z"
   },
   {
    "duration": 128,
    "start_time": "2022-10-11T12:32:56.986Z"
   },
   {
    "duration": 10,
    "start_time": "2022-10-11T12:32:57.115Z"
   },
   {
    "duration": 31,
    "start_time": "2022-10-11T12:32:57.126Z"
   },
   {
    "duration": 33,
    "start_time": "2022-10-11T12:32:57.158Z"
   },
   {
    "duration": 16,
    "start_time": "2022-10-11T12:32:57.193Z"
   },
   {
    "duration": 23,
    "start_time": "2022-10-11T12:32:57.211Z"
   },
   {
    "duration": 49,
    "start_time": "2022-10-11T12:32:57.235Z"
   },
   {
    "duration": 53,
    "start_time": "2022-10-11T12:32:57.286Z"
   },
   {
    "duration": 14,
    "start_time": "2022-10-11T12:32:57.341Z"
   },
   {
    "duration": 14385,
    "start_time": "2022-10-11T12:32:57.357Z"
   },
   {
    "duration": 19611,
    "start_time": "2022-10-11T12:33:11.743Z"
   },
   {
    "duration": 7,
    "start_time": "2022-10-11T12:33:31.356Z"
   },
   {
    "duration": 5953,
    "start_time": "2022-10-11T12:33:31.365Z"
   },
   {
    "duration": 35,
    "start_time": "2022-10-11T12:33:37.320Z"
   },
   {
    "duration": 149,
    "start_time": "2022-10-11T12:33:37.357Z"
   },
   {
    "duration": 0,
    "start_time": "2022-10-11T12:33:37.509Z"
   },
   {
    "duration": 0,
    "start_time": "2022-10-11T12:33:37.511Z"
   },
   {
    "duration": 0,
    "start_time": "2022-10-11T12:33:37.512Z"
   },
   {
    "duration": 0,
    "start_time": "2022-10-11T12:33:37.513Z"
   },
   {
    "duration": 0,
    "start_time": "2022-10-11T12:33:37.514Z"
   },
   {
    "duration": 0,
    "start_time": "2022-10-11T12:33:37.516Z"
   },
   {
    "duration": 0,
    "start_time": "2022-10-11T12:33:37.517Z"
   },
   {
    "duration": 0,
    "start_time": "2022-10-11T12:33:37.518Z"
   },
   {
    "duration": 0,
    "start_time": "2022-10-11T12:33:37.520Z"
   },
   {
    "duration": 0,
    "start_time": "2022-10-11T12:33:37.521Z"
   },
   {
    "duration": 0,
    "start_time": "2022-10-11T12:33:37.522Z"
   },
   {
    "duration": 0,
    "start_time": "2022-10-11T12:33:37.525Z"
   },
   {
    "duration": 0,
    "start_time": "2022-10-11T12:33:37.527Z"
   },
   {
    "duration": 1339,
    "start_time": "2022-10-11T12:33:42.779Z"
   },
   {
    "duration": 1534,
    "start_time": "2022-10-11T12:33:44.120Z"
   },
   {
    "duration": 63,
    "start_time": "2022-10-11T12:33:45.656Z"
   },
   {
    "duration": 15,
    "start_time": "2022-10-11T12:33:45.721Z"
   },
   {
    "duration": 11,
    "start_time": "2022-10-11T12:33:45.738Z"
   },
   {
    "duration": 15,
    "start_time": "2022-10-11T12:33:45.751Z"
   },
   {
    "duration": 2,
    "start_time": "2022-10-11T12:33:45.768Z"
   },
   {
    "duration": 34,
    "start_time": "2022-10-11T12:33:45.771Z"
   },
   {
    "duration": 173,
    "start_time": "2022-10-11T12:33:45.807Z"
   },
   {
    "duration": 5,
    "start_time": "2022-10-11T12:33:45.984Z"
   },
   {
    "duration": 21,
    "start_time": "2022-10-11T12:33:45.990Z"
   },
   {
    "duration": 14,
    "start_time": "2022-10-11T12:33:46.012Z"
   },
   {
    "duration": 5,
    "start_time": "2022-10-11T12:33:46.028Z"
   },
   {
    "duration": 6,
    "start_time": "2022-10-11T12:33:46.035Z"
   },
   {
    "duration": 10,
    "start_time": "2022-10-11T12:33:46.042Z"
   },
   {
    "duration": 8,
    "start_time": "2022-10-11T12:33:46.053Z"
   },
   {
    "duration": 9,
    "start_time": "2022-10-11T12:33:46.063Z"
   },
   {
    "duration": 4,
    "start_time": "2022-10-11T12:33:46.073Z"
   },
   {
    "duration": 32,
    "start_time": "2022-10-11T12:33:46.078Z"
   },
   {
    "duration": 46,
    "start_time": "2022-10-11T12:33:46.112Z"
   },
   {
    "duration": 21,
    "start_time": "2022-10-11T12:33:46.161Z"
   },
   {
    "duration": 34,
    "start_time": "2022-10-11T12:33:46.184Z"
   },
   {
    "duration": 25,
    "start_time": "2022-10-11T12:33:46.219Z"
   },
   {
    "duration": 197,
    "start_time": "2022-10-11T12:33:46.246Z"
   },
   {
    "duration": 3297,
    "start_time": "2022-10-11T12:33:46.445Z"
   },
   {
    "duration": 1259,
    "start_time": "2022-10-11T12:33:49.743Z"
   },
   {
    "duration": 898,
    "start_time": "2022-10-11T12:33:51.003Z"
   },
   {
    "duration": 194,
    "start_time": "2022-10-11T12:33:51.906Z"
   },
   {
    "duration": 1042,
    "start_time": "2022-10-11T12:33:52.104Z"
   },
   {
    "duration": 718,
    "start_time": "2022-10-11T12:33:53.148Z"
   },
   {
    "duration": 11,
    "start_time": "2022-10-11T12:33:53.868Z"
   },
   {
    "duration": 3,
    "start_time": "2022-10-11T12:33:53.881Z"
   },
   {
    "duration": 24,
    "start_time": "2022-10-11T12:33:53.885Z"
   },
   {
    "duration": 5,
    "start_time": "2022-10-11T12:33:53.910Z"
   },
   {
    "duration": 106,
    "start_time": "2022-10-11T12:33:53.916Z"
   },
   {
    "duration": 11,
    "start_time": "2022-10-11T12:33:54.023Z"
   },
   {
    "duration": 13,
    "start_time": "2022-10-11T12:33:54.035Z"
   },
   {
    "duration": 12,
    "start_time": "2022-10-11T12:33:54.049Z"
   },
   {
    "duration": 10,
    "start_time": "2022-10-11T12:33:54.063Z"
   },
   {
    "duration": 11,
    "start_time": "2022-10-11T12:33:54.074Z"
   },
   {
    "duration": 36,
    "start_time": "2022-10-11T12:33:54.087Z"
   },
   {
    "duration": 41,
    "start_time": "2022-10-11T12:33:54.124Z"
   },
   {
    "duration": 11,
    "start_time": "2022-10-11T12:33:54.167Z"
   },
   {
    "duration": 14281,
    "start_time": "2022-10-11T12:33:54.179Z"
   },
   {
    "duration": 19454,
    "start_time": "2022-10-11T12:34:08.462Z"
   },
   {
    "duration": 9,
    "start_time": "2022-10-11T12:34:27.918Z"
   },
   {
    "duration": 5952,
    "start_time": "2022-10-11T12:34:27.929Z"
   },
   {
    "duration": 31,
    "start_time": "2022-10-11T12:34:33.883Z"
   },
   {
    "duration": 108,
    "start_time": "2022-10-11T12:34:33.915Z"
   },
   {
    "duration": 0,
    "start_time": "2022-10-11T12:34:34.025Z"
   },
   {
    "duration": 0,
    "start_time": "2022-10-11T12:34:34.026Z"
   },
   {
    "duration": 0,
    "start_time": "2022-10-11T12:34:34.028Z"
   },
   {
    "duration": 0,
    "start_time": "2022-10-11T12:34:34.029Z"
   },
   {
    "duration": 0,
    "start_time": "2022-10-11T12:34:34.030Z"
   },
   {
    "duration": 0,
    "start_time": "2022-10-11T12:34:34.031Z"
   },
   {
    "duration": 0,
    "start_time": "2022-10-11T12:34:34.032Z"
   },
   {
    "duration": 0,
    "start_time": "2022-10-11T12:34:34.033Z"
   },
   {
    "duration": 0,
    "start_time": "2022-10-11T12:34:34.034Z"
   },
   {
    "duration": 0,
    "start_time": "2022-10-11T12:34:34.035Z"
   },
   {
    "duration": 0,
    "start_time": "2022-10-11T12:34:34.036Z"
   },
   {
    "duration": 15,
    "start_time": "2022-10-11T12:34:44.368Z"
   },
   {
    "duration": 1109,
    "start_time": "2022-10-11T12:35:25.608Z"
   },
   {
    "duration": 1238,
    "start_time": "2022-10-11T12:35:52.448Z"
   },
   {
    "duration": 1493,
    "start_time": "2022-10-11T12:36:19.777Z"
   },
   {
    "duration": 1474,
    "start_time": "2022-10-11T12:36:21.272Z"
   },
   {
    "duration": 91,
    "start_time": "2022-10-11T12:36:22.748Z"
   },
   {
    "duration": 15,
    "start_time": "2022-10-11T12:36:22.841Z"
   },
   {
    "duration": 14,
    "start_time": "2022-10-11T12:36:22.858Z"
   },
   {
    "duration": 44,
    "start_time": "2022-10-11T12:36:22.874Z"
   },
   {
    "duration": 2,
    "start_time": "2022-10-11T12:36:22.920Z"
   },
   {
    "duration": 6,
    "start_time": "2022-10-11T12:36:22.924Z"
   },
   {
    "duration": 196,
    "start_time": "2022-10-11T12:36:22.932Z"
   },
   {
    "duration": 5,
    "start_time": "2022-10-11T12:36:23.131Z"
   },
   {
    "duration": 11,
    "start_time": "2022-10-11T12:36:23.137Z"
   },
   {
    "duration": 21,
    "start_time": "2022-10-11T12:36:23.149Z"
   },
   {
    "duration": 4,
    "start_time": "2022-10-11T12:36:23.172Z"
   },
   {
    "duration": 9,
    "start_time": "2022-10-11T12:36:23.178Z"
   },
   {
    "duration": 19,
    "start_time": "2022-10-11T12:36:23.188Z"
   },
   {
    "duration": 5,
    "start_time": "2022-10-11T12:36:23.208Z"
   },
   {
    "duration": 9,
    "start_time": "2022-10-11T12:36:23.214Z"
   },
   {
    "duration": 5,
    "start_time": "2022-10-11T12:36:23.224Z"
   },
   {
    "duration": 6,
    "start_time": "2022-10-11T12:36:23.231Z"
   },
   {
    "duration": 82,
    "start_time": "2022-10-11T12:36:23.238Z"
   },
   {
    "duration": 23,
    "start_time": "2022-10-11T12:36:23.322Z"
   },
   {
    "duration": 22,
    "start_time": "2022-10-11T12:36:23.347Z"
   },
   {
    "duration": 50,
    "start_time": "2022-10-11T12:36:23.370Z"
   },
   {
    "duration": 178,
    "start_time": "2022-10-11T12:36:23.422Z"
   },
   {
    "duration": 3418,
    "start_time": "2022-10-11T12:36:23.602Z"
   },
   {
    "duration": 1421,
    "start_time": "2022-10-11T12:36:27.022Z"
   },
   {
    "duration": 917,
    "start_time": "2022-10-11T12:36:28.444Z"
   },
   {
    "duration": 198,
    "start_time": "2022-10-11T12:36:29.365Z"
   },
   {
    "duration": 1105,
    "start_time": "2022-10-11T12:36:29.565Z"
   },
   {
    "duration": 821,
    "start_time": "2022-10-11T12:36:30.672Z"
   },
   {
    "duration": 16,
    "start_time": "2022-10-11T12:36:31.495Z"
   },
   {
    "duration": 5,
    "start_time": "2022-10-11T12:36:31.513Z"
   },
   {
    "duration": 12,
    "start_time": "2022-10-11T12:36:31.520Z"
   },
   {
    "duration": 7,
    "start_time": "2022-10-11T12:36:31.534Z"
   },
   {
    "duration": 127,
    "start_time": "2022-10-11T12:36:31.543Z"
   },
   {
    "duration": 11,
    "start_time": "2022-10-11T12:36:31.672Z"
   },
   {
    "duration": 30,
    "start_time": "2022-10-11T12:36:31.685Z"
   },
   {
    "duration": 19,
    "start_time": "2022-10-11T12:36:31.718Z"
   },
   {
    "duration": 8,
    "start_time": "2022-10-11T12:36:31.739Z"
   },
   {
    "duration": 9,
    "start_time": "2022-10-11T12:36:31.748Z"
   },
   {
    "duration": 29,
    "start_time": "2022-10-11T12:36:31.759Z"
   },
   {
    "duration": 57,
    "start_time": "2022-10-11T12:36:31.789Z"
   },
   {
    "duration": 13,
    "start_time": "2022-10-11T12:36:31.848Z"
   },
   {
    "duration": 14546,
    "start_time": "2022-10-11T12:36:31.862Z"
   },
   {
    "duration": 19183,
    "start_time": "2022-10-11T12:36:46.409Z"
   },
   {
    "duration": 15,
    "start_time": "2022-10-11T12:37:05.594Z"
   },
   {
    "duration": 5976,
    "start_time": "2022-10-11T12:37:05.610Z"
   },
   {
    "duration": 34,
    "start_time": "2022-10-11T12:37:11.588Z"
   },
   {
    "duration": 121,
    "start_time": "2022-10-11T12:37:11.624Z"
   },
   {
    "duration": 0,
    "start_time": "2022-10-11T12:37:11.747Z"
   },
   {
    "duration": 0,
    "start_time": "2022-10-11T12:37:11.748Z"
   },
   {
    "duration": 0,
    "start_time": "2022-10-11T12:37:11.750Z"
   },
   {
    "duration": 0,
    "start_time": "2022-10-11T12:37:11.751Z"
   },
   {
    "duration": 0,
    "start_time": "2022-10-11T12:37:11.753Z"
   },
   {
    "duration": 0,
    "start_time": "2022-10-11T12:37:11.754Z"
   },
   {
    "duration": 0,
    "start_time": "2022-10-11T12:37:11.755Z"
   },
   {
    "duration": 0,
    "start_time": "2022-10-11T12:37:11.756Z"
   },
   {
    "duration": 0,
    "start_time": "2022-10-11T12:37:11.757Z"
   },
   {
    "duration": 0,
    "start_time": "2022-10-11T12:37:11.758Z"
   },
   {
    "duration": 0,
    "start_time": "2022-10-11T12:37:11.759Z"
   },
   {
    "duration": 1760,
    "start_time": "2022-10-11T12:43:51.563Z"
   },
   {
    "duration": 1986,
    "start_time": "2022-10-11T12:43:53.324Z"
   },
   {
    "duration": 52,
    "start_time": "2022-10-11T12:43:55.312Z"
   },
   {
    "duration": 39,
    "start_time": "2022-10-11T12:43:55.366Z"
   },
   {
    "duration": 12,
    "start_time": "2022-10-11T12:43:55.406Z"
   },
   {
    "duration": 29,
    "start_time": "2022-10-11T12:43:55.419Z"
   },
   {
    "duration": 6,
    "start_time": "2022-10-11T12:43:55.450Z"
   },
   {
    "duration": 28,
    "start_time": "2022-10-11T12:43:55.457Z"
   },
   {
    "duration": 164,
    "start_time": "2022-10-11T12:43:55.487Z"
   },
   {
    "duration": 5,
    "start_time": "2022-10-11T12:43:55.654Z"
   },
   {
    "duration": 18,
    "start_time": "2022-10-11T12:43:55.660Z"
   },
   {
    "duration": 21,
    "start_time": "2022-10-11T12:43:55.679Z"
   },
   {
    "duration": 24,
    "start_time": "2022-10-11T12:43:55.701Z"
   },
   {
    "duration": 23,
    "start_time": "2022-10-11T12:43:55.726Z"
   },
   {
    "duration": 12,
    "start_time": "2022-10-11T12:43:55.750Z"
   },
   {
    "duration": 12,
    "start_time": "2022-10-11T12:43:55.764Z"
   },
   {
    "duration": 7,
    "start_time": "2022-10-11T12:43:55.778Z"
   },
   {
    "duration": 10,
    "start_time": "2022-10-11T12:43:55.786Z"
   },
   {
    "duration": 19,
    "start_time": "2022-10-11T12:43:55.798Z"
   },
   {
    "duration": 53,
    "start_time": "2022-10-11T12:43:55.819Z"
   },
   {
    "duration": 22,
    "start_time": "2022-10-11T12:43:55.873Z"
   },
   {
    "duration": 47,
    "start_time": "2022-10-11T12:43:55.897Z"
   },
   {
    "duration": 46,
    "start_time": "2022-10-11T12:43:55.946Z"
   },
   {
    "duration": 163,
    "start_time": "2022-10-11T12:43:55.993Z"
   },
   {
    "duration": 3259,
    "start_time": "2022-10-11T12:43:56.158Z"
   },
   {
    "duration": 1266,
    "start_time": "2022-10-11T12:43:59.418Z"
   },
   {
    "duration": 931,
    "start_time": "2022-10-11T12:44:00.686Z"
   },
   {
    "duration": 197,
    "start_time": "2022-10-11T12:44:01.620Z"
   },
   {
    "duration": 1074,
    "start_time": "2022-10-11T12:44:01.818Z"
   },
   {
    "duration": 719,
    "start_time": "2022-10-11T12:44:02.894Z"
   },
   {
    "duration": 11,
    "start_time": "2022-10-11T12:44:03.614Z"
   },
   {
    "duration": 3,
    "start_time": "2022-10-11T12:44:03.627Z"
   },
   {
    "duration": 5,
    "start_time": "2022-10-11T12:44:03.632Z"
   },
   {
    "duration": 6,
    "start_time": "2022-10-11T12:44:03.638Z"
   },
   {
    "duration": 126,
    "start_time": "2022-10-11T12:44:03.645Z"
   },
   {
    "duration": 11,
    "start_time": "2022-10-11T12:44:03.772Z"
   },
   {
    "duration": 28,
    "start_time": "2022-10-11T12:44:03.784Z"
   },
   {
    "duration": 15,
    "start_time": "2022-10-11T12:44:03.814Z"
   },
   {
    "duration": 11,
    "start_time": "2022-10-11T12:44:03.831Z"
   },
   {
    "duration": 18,
    "start_time": "2022-10-11T12:44:03.844Z"
   },
   {
    "duration": 24,
    "start_time": "2022-10-11T12:44:03.864Z"
   },
   {
    "duration": 42,
    "start_time": "2022-10-11T12:44:03.890Z"
   },
   {
    "duration": 10,
    "start_time": "2022-10-11T12:44:03.934Z"
   },
   {
    "duration": 14148,
    "start_time": "2022-10-11T12:44:03.946Z"
   },
   {
    "duration": 19268,
    "start_time": "2022-10-11T12:44:18.096Z"
   },
   {
    "duration": 8,
    "start_time": "2022-10-11T12:44:37.366Z"
   },
   {
    "duration": 8523,
    "start_time": "2022-10-11T12:44:37.376Z"
   },
   {
    "duration": 110,
    "start_time": "2022-10-11T12:44:45.900Z"
   },
   {
    "duration": 0,
    "start_time": "2022-10-11T12:44:46.012Z"
   },
   {
    "duration": 0,
    "start_time": "2022-10-11T12:44:46.013Z"
   },
   {
    "duration": 0,
    "start_time": "2022-10-11T12:44:46.015Z"
   },
   {
    "duration": 0,
    "start_time": "2022-10-11T12:44:46.016Z"
   },
   {
    "duration": 0,
    "start_time": "2022-10-11T12:44:46.017Z"
   },
   {
    "duration": 0,
    "start_time": "2022-10-11T12:44:46.019Z"
   },
   {
    "duration": 0,
    "start_time": "2022-10-11T12:44:46.021Z"
   },
   {
    "duration": 0,
    "start_time": "2022-10-11T12:44:46.022Z"
   },
   {
    "duration": 0,
    "start_time": "2022-10-11T12:44:46.024Z"
   },
   {
    "duration": 0,
    "start_time": "2022-10-11T12:44:46.025Z"
   },
   {
    "duration": 0,
    "start_time": "2022-10-11T12:44:46.026Z"
   },
   {
    "duration": 0,
    "start_time": "2022-10-11T12:44:46.027Z"
   },
   {
    "duration": 32,
    "start_time": "2022-10-11T12:45:44.230Z"
   },
   {
    "duration": 6,
    "start_time": "2022-10-11T12:46:14.819Z"
   },
   {
    "duration": 32,
    "start_time": "2022-10-11T12:46:27.759Z"
   },
   {
    "duration": 4,
    "start_time": "2022-10-11T12:47:22.128Z"
   },
   {
    "duration": 3,
    "start_time": "2022-10-11T12:47:41.983Z"
   },
   {
    "duration": 27,
    "start_time": "2022-10-11T12:49:30.063Z"
   },
   {
    "duration": 1415,
    "start_time": "2022-10-11T12:49:37.835Z"
   },
   {
    "duration": 1424,
    "start_time": "2022-10-11T12:49:39.252Z"
   },
   {
    "duration": 68,
    "start_time": "2022-10-11T12:49:40.678Z"
   },
   {
    "duration": 15,
    "start_time": "2022-10-11T12:49:40.748Z"
   },
   {
    "duration": 10,
    "start_time": "2022-10-11T12:49:40.765Z"
   },
   {
    "duration": 42,
    "start_time": "2022-10-11T12:49:40.776Z"
   },
   {
    "duration": 4,
    "start_time": "2022-10-11T12:49:40.820Z"
   },
   {
    "duration": 6,
    "start_time": "2022-10-11T12:49:40.826Z"
   },
   {
    "duration": 208,
    "start_time": "2022-10-11T12:49:40.833Z"
   },
   {
    "duration": 4,
    "start_time": "2022-10-11T12:49:41.043Z"
   },
   {
    "duration": 7,
    "start_time": "2022-10-11T12:49:41.049Z"
   },
   {
    "duration": 18,
    "start_time": "2022-10-11T12:49:41.057Z"
   },
   {
    "duration": 4,
    "start_time": "2022-10-11T12:49:41.076Z"
   },
   {
    "duration": 24,
    "start_time": "2022-10-11T12:49:41.082Z"
   },
   {
    "duration": 8,
    "start_time": "2022-10-11T12:49:41.107Z"
   },
   {
    "duration": 8,
    "start_time": "2022-10-11T12:49:41.116Z"
   },
   {
    "duration": 8,
    "start_time": "2022-10-11T12:49:41.125Z"
   },
   {
    "duration": 6,
    "start_time": "2022-10-11T12:49:41.134Z"
   },
   {
    "duration": 10,
    "start_time": "2022-10-11T12:49:41.141Z"
   },
   {
    "duration": 75,
    "start_time": "2022-10-11T12:49:41.152Z"
   },
   {
    "duration": 24,
    "start_time": "2022-10-11T12:49:41.228Z"
   },
   {
    "duration": 52,
    "start_time": "2022-10-11T12:49:41.254Z"
   },
   {
    "duration": 27,
    "start_time": "2022-10-11T12:49:41.307Z"
   },
   {
    "duration": 186,
    "start_time": "2022-10-11T12:49:41.335Z"
   },
   {
    "duration": 3296,
    "start_time": "2022-10-11T12:49:41.523Z"
   },
   {
    "duration": 1262,
    "start_time": "2022-10-11T12:49:44.820Z"
   },
   {
    "duration": 901,
    "start_time": "2022-10-11T12:49:46.083Z"
   },
   {
    "duration": 202,
    "start_time": "2022-10-11T12:49:46.988Z"
   },
   {
    "duration": 1125,
    "start_time": "2022-10-11T12:49:47.192Z"
   },
   {
    "duration": 724,
    "start_time": "2022-10-11T12:49:48.318Z"
   },
   {
    "duration": 10,
    "start_time": "2022-10-11T12:49:49.044Z"
   },
   {
    "duration": 9,
    "start_time": "2022-10-11T12:49:49.056Z"
   },
   {
    "duration": 18,
    "start_time": "2022-10-11T12:49:49.066Z"
   },
   {
    "duration": 26,
    "start_time": "2022-10-11T12:49:49.085Z"
   },
   {
    "duration": 117,
    "start_time": "2022-10-11T12:49:49.112Z"
   },
   {
    "duration": 10,
    "start_time": "2022-10-11T12:49:49.230Z"
   },
   {
    "duration": 13,
    "start_time": "2022-10-11T12:49:49.242Z"
   },
   {
    "duration": 28,
    "start_time": "2022-10-11T12:49:49.257Z"
   },
   {
    "duration": 6,
    "start_time": "2022-10-11T12:49:49.287Z"
   },
   {
    "duration": 22,
    "start_time": "2022-10-11T12:49:49.295Z"
   },
   {
    "duration": 40,
    "start_time": "2022-10-11T12:49:49.318Z"
   },
   {
    "duration": 43,
    "start_time": "2022-10-11T12:49:49.359Z"
   },
   {
    "duration": 11,
    "start_time": "2022-10-11T12:49:49.404Z"
   },
   {
    "duration": 14112,
    "start_time": "2022-10-11T12:49:49.417Z"
   },
   {
    "duration": 19169,
    "start_time": "2022-10-11T12:50:03.531Z"
   },
   {
    "duration": 10,
    "start_time": "2022-10-11T12:50:22.701Z"
   },
   {
    "duration": 8528,
    "start_time": "2022-10-11T12:50:22.713Z"
   },
   {
    "duration": 28,
    "start_time": "2022-10-11T12:50:31.242Z"
   },
   {
    "duration": 535,
    "start_time": "2022-10-11T12:50:31.271Z"
   },
   {
    "duration": 0,
    "start_time": "2022-10-11T12:50:31.807Z"
   },
   {
    "duration": 0,
    "start_time": "2022-10-11T12:50:31.809Z"
   },
   {
    "duration": 0,
    "start_time": "2022-10-11T12:50:31.810Z"
   },
   {
    "duration": 0,
    "start_time": "2022-10-11T12:50:31.811Z"
   },
   {
    "duration": 0,
    "start_time": "2022-10-11T12:50:31.812Z"
   },
   {
    "duration": 0,
    "start_time": "2022-10-11T12:50:31.813Z"
   },
   {
    "duration": 0,
    "start_time": "2022-10-11T12:50:31.814Z"
   },
   {
    "duration": 0,
    "start_time": "2022-10-11T12:50:31.814Z"
   },
   {
    "duration": 0,
    "start_time": "2022-10-11T12:50:31.815Z"
   },
   {
    "duration": 0,
    "start_time": "2022-10-11T12:50:31.816Z"
   },
   {
    "duration": 0,
    "start_time": "2022-10-11T12:50:31.817Z"
   },
   {
    "duration": 1317,
    "start_time": "2022-10-11T12:52:15.228Z"
   },
   {
    "duration": 1859,
    "start_time": "2022-10-11T12:52:16.547Z"
   },
   {
    "duration": 52,
    "start_time": "2022-10-11T12:52:18.408Z"
   },
   {
    "duration": 14,
    "start_time": "2022-10-11T12:52:18.462Z"
   },
   {
    "duration": 36,
    "start_time": "2022-10-11T12:52:18.478Z"
   },
   {
    "duration": 16,
    "start_time": "2022-10-11T12:52:18.516Z"
   },
   {
    "duration": 3,
    "start_time": "2022-10-11T12:52:18.533Z"
   },
   {
    "duration": 6,
    "start_time": "2022-10-11T12:52:18.537Z"
   },
   {
    "duration": 184,
    "start_time": "2022-10-11T12:52:18.544Z"
   },
   {
    "duration": 4,
    "start_time": "2022-10-11T12:52:18.730Z"
   },
   {
    "duration": 7,
    "start_time": "2022-10-11T12:52:18.735Z"
   },
   {
    "duration": 16,
    "start_time": "2022-10-11T12:52:18.743Z"
   },
   {
    "duration": 4,
    "start_time": "2022-10-11T12:52:18.760Z"
   },
   {
    "duration": 10,
    "start_time": "2022-10-11T12:52:18.765Z"
   },
   {
    "duration": 11,
    "start_time": "2022-10-11T12:52:18.776Z"
   },
   {
    "duration": 20,
    "start_time": "2022-10-11T12:52:18.788Z"
   },
   {
    "duration": 9,
    "start_time": "2022-10-11T12:52:18.809Z"
   },
   {
    "duration": 7,
    "start_time": "2022-10-11T12:52:18.819Z"
   },
   {
    "duration": 9,
    "start_time": "2022-10-11T12:52:18.828Z"
   },
   {
    "duration": 37,
    "start_time": "2022-10-11T12:52:18.839Z"
   },
   {
    "duration": 48,
    "start_time": "2022-10-11T12:52:18.878Z"
   },
   {
    "duration": 23,
    "start_time": "2022-10-11T12:52:18.928Z"
   },
   {
    "duration": 28,
    "start_time": "2022-10-11T12:52:18.953Z"
   },
   {
    "duration": 197,
    "start_time": "2022-10-11T12:52:18.982Z"
   },
   {
    "duration": 3315,
    "start_time": "2022-10-11T12:52:19.181Z"
   },
   {
    "duration": 1292,
    "start_time": "2022-10-11T12:52:22.498Z"
   },
   {
    "duration": 899,
    "start_time": "2022-10-11T12:52:23.792Z"
   },
   {
    "duration": 197,
    "start_time": "2022-10-11T12:52:24.695Z"
   },
   {
    "duration": 1036,
    "start_time": "2022-10-11T12:52:24.893Z"
   },
   {
    "duration": 720,
    "start_time": "2022-10-11T12:52:25.931Z"
   },
   {
    "duration": 9,
    "start_time": "2022-10-11T12:52:26.653Z"
   },
   {
    "duration": 7,
    "start_time": "2022-10-11T12:52:26.663Z"
   },
   {
    "duration": 6,
    "start_time": "2022-10-11T12:52:26.671Z"
   },
   {
    "duration": 4,
    "start_time": "2022-10-11T12:52:26.678Z"
   },
   {
    "duration": 113,
    "start_time": "2022-10-11T12:52:26.684Z"
   },
   {
    "duration": 14,
    "start_time": "2022-10-11T12:52:26.799Z"
   },
   {
    "duration": 13,
    "start_time": "2022-10-11T12:52:26.814Z"
   },
   {
    "duration": 10,
    "start_time": "2022-10-11T12:52:26.829Z"
   },
   {
    "duration": 7,
    "start_time": "2022-10-11T12:52:26.840Z"
   },
   {
    "duration": 7,
    "start_time": "2022-10-11T12:52:26.848Z"
   },
   {
    "duration": 24,
    "start_time": "2022-10-11T12:52:26.856Z"
   },
   {
    "duration": 58,
    "start_time": "2022-10-11T12:52:26.882Z"
   },
   {
    "duration": 12,
    "start_time": "2022-10-11T12:52:26.941Z"
   },
   {
    "duration": 14618,
    "start_time": "2022-10-11T12:52:26.955Z"
   },
   {
    "duration": 19586,
    "start_time": "2022-10-11T12:52:41.575Z"
   },
   {
    "duration": 7,
    "start_time": "2022-10-11T12:53:01.162Z"
   },
   {
    "duration": 8539,
    "start_time": "2022-10-11T12:53:01.170Z"
   },
   {
    "duration": 27,
    "start_time": "2022-10-11T12:53:09.710Z"
   },
   {
    "duration": 1432,
    "start_time": "2022-10-11T12:53:09.738Z"
   },
   {
    "duration": 0,
    "start_time": "2022-10-11T12:53:11.172Z"
   },
   {
    "duration": 0,
    "start_time": "2022-10-11T12:53:11.173Z"
   },
   {
    "duration": 0,
    "start_time": "2022-10-11T12:53:11.174Z"
   },
   {
    "duration": 0,
    "start_time": "2022-10-11T12:53:11.175Z"
   },
   {
    "duration": 0,
    "start_time": "2022-10-11T12:53:11.176Z"
   },
   {
    "duration": 0,
    "start_time": "2022-10-11T12:53:11.177Z"
   },
   {
    "duration": 0,
    "start_time": "2022-10-11T12:53:11.178Z"
   },
   {
    "duration": 0,
    "start_time": "2022-10-11T12:53:11.179Z"
   },
   {
    "duration": 0,
    "start_time": "2022-10-11T12:53:11.180Z"
   },
   {
    "duration": 0,
    "start_time": "2022-10-11T12:53:11.181Z"
   },
   {
    "duration": 0,
    "start_time": "2022-10-11T12:53:11.182Z"
   },
   {
    "duration": 5,
    "start_time": "2022-10-11T12:54:41.617Z"
   },
   {
    "duration": 4,
    "start_time": "2022-10-11T12:55:00.704Z"
   },
   {
    "duration": 1323,
    "start_time": "2022-10-11T12:56:31.551Z"
   },
   {
    "duration": 1362,
    "start_time": "2022-10-11T12:56:32.876Z"
   },
   {
    "duration": 79,
    "start_time": "2022-10-11T12:56:34.241Z"
   },
   {
    "duration": 15,
    "start_time": "2022-10-11T12:56:34.322Z"
   },
   {
    "duration": 18,
    "start_time": "2022-10-11T12:56:34.339Z"
   },
   {
    "duration": 54,
    "start_time": "2022-10-11T12:56:34.359Z"
   },
   {
    "duration": 4,
    "start_time": "2022-10-11T12:56:34.415Z"
   },
   {
    "duration": 6,
    "start_time": "2022-10-11T12:56:34.421Z"
   },
   {
    "duration": 179,
    "start_time": "2022-10-11T12:56:34.429Z"
   },
   {
    "duration": 5,
    "start_time": "2022-10-11T12:56:34.610Z"
   },
   {
    "duration": 10,
    "start_time": "2022-10-11T12:56:34.616Z"
   },
   {
    "duration": 19,
    "start_time": "2022-10-11T12:56:34.627Z"
   },
   {
    "duration": 4,
    "start_time": "2022-10-11T12:56:34.648Z"
   },
   {
    "duration": 5,
    "start_time": "2022-10-11T12:56:34.655Z"
   },
   {
    "duration": 8,
    "start_time": "2022-10-11T12:56:34.661Z"
   },
   {
    "duration": 36,
    "start_time": "2022-10-11T12:56:34.671Z"
   },
   {
    "duration": 6,
    "start_time": "2022-10-11T12:56:34.709Z"
   },
   {
    "duration": 6,
    "start_time": "2022-10-11T12:56:34.716Z"
   },
   {
    "duration": 12,
    "start_time": "2022-10-11T12:56:34.723Z"
   },
   {
    "duration": 39,
    "start_time": "2022-10-11T12:56:34.737Z"
   },
   {
    "duration": 65,
    "start_time": "2022-10-11T12:56:34.778Z"
   },
   {
    "duration": 39,
    "start_time": "2022-10-11T12:56:34.845Z"
   },
   {
    "duration": 42,
    "start_time": "2022-10-11T12:56:34.886Z"
   },
   {
    "duration": 191,
    "start_time": "2022-10-11T12:56:34.930Z"
   },
   {
    "duration": 3315,
    "start_time": "2022-10-11T12:56:35.122Z"
   },
   {
    "duration": 1252,
    "start_time": "2022-10-11T12:56:38.438Z"
   },
   {
    "duration": 891,
    "start_time": "2022-10-11T12:56:39.692Z"
   },
   {
    "duration": 195,
    "start_time": "2022-10-11T12:56:40.585Z"
   },
   {
    "duration": 1085,
    "start_time": "2022-10-11T12:56:40.782Z"
   },
   {
    "duration": 753,
    "start_time": "2022-10-11T12:56:41.869Z"
   },
   {
    "duration": 10,
    "start_time": "2022-10-11T12:56:42.624Z"
   },
   {
    "duration": 22,
    "start_time": "2022-10-11T12:56:42.636Z"
   },
   {
    "duration": 6,
    "start_time": "2022-10-11T12:56:42.660Z"
   },
   {
    "duration": 11,
    "start_time": "2022-10-11T12:56:42.667Z"
   },
   {
    "duration": 141,
    "start_time": "2022-10-11T12:56:42.680Z"
   },
   {
    "duration": 11,
    "start_time": "2022-10-11T12:56:42.823Z"
   },
   {
    "duration": 17,
    "start_time": "2022-10-11T12:56:42.835Z"
   },
   {
    "duration": 14,
    "start_time": "2022-10-11T12:56:42.853Z"
   },
   {
    "duration": 7,
    "start_time": "2022-10-11T12:56:42.869Z"
   },
   {
    "duration": 26,
    "start_time": "2022-10-11T12:56:42.879Z"
   },
   {
    "duration": 34,
    "start_time": "2022-10-11T12:56:42.912Z"
   },
   {
    "duration": 58,
    "start_time": "2022-10-11T12:56:42.948Z"
   },
   {
    "duration": 17,
    "start_time": "2022-10-11T12:56:43.008Z"
   },
   {
    "duration": 14151,
    "start_time": "2022-10-11T12:56:43.026Z"
   },
   {
    "duration": 19420,
    "start_time": "2022-10-11T12:56:57.178Z"
   },
   {
    "duration": 9,
    "start_time": "2022-10-11T12:57:16.600Z"
   },
   {
    "duration": 8608,
    "start_time": "2022-10-11T12:57:16.611Z"
   },
   {
    "duration": 22,
    "start_time": "2022-10-11T12:57:25.221Z"
   },
   {
    "duration": 4,
    "start_time": "2022-10-11T12:57:25.244Z"
   },
   {
    "duration": 7,
    "start_time": "2022-10-11T12:57:25.249Z"
   },
   {
    "duration": 109,
    "start_time": "2022-10-11T12:57:25.258Z"
   },
   {
    "duration": 0,
    "start_time": "2022-10-11T12:57:25.368Z"
   },
   {
    "duration": 0,
    "start_time": "2022-10-11T12:57:25.370Z"
   },
   {
    "duration": 0,
    "start_time": "2022-10-11T12:57:25.371Z"
   },
   {
    "duration": 0,
    "start_time": "2022-10-11T12:57:25.372Z"
   },
   {
    "duration": 0,
    "start_time": "2022-10-11T12:57:25.373Z"
   },
   {
    "duration": 0,
    "start_time": "2022-10-11T12:57:25.374Z"
   },
   {
    "duration": 0,
    "start_time": "2022-10-11T12:57:25.375Z"
   },
   {
    "duration": 0,
    "start_time": "2022-10-11T12:57:25.376Z"
   },
   {
    "duration": 0,
    "start_time": "2022-10-11T12:57:25.377Z"
   },
   {
    "duration": 0,
    "start_time": "2022-10-11T12:57:25.377Z"
   },
   {
    "duration": 9,
    "start_time": "2022-10-11T12:58:00.100Z"
   },
   {
    "duration": 22,
    "start_time": "2022-10-11T12:58:22.672Z"
   },
   {
    "duration": 13,
    "start_time": "2022-10-11T12:58:31.692Z"
   },
   {
    "duration": 14,
    "start_time": "2022-10-11T12:58:47.812Z"
   },
   {
    "duration": 1432,
    "start_time": "2022-10-11T12:58:57.012Z"
   },
   {
    "duration": 1354,
    "start_time": "2022-10-11T12:58:58.445Z"
   },
   {
    "duration": 65,
    "start_time": "2022-10-11T12:58:59.800Z"
   },
   {
    "duration": 39,
    "start_time": "2022-10-11T12:58:59.867Z"
   },
   {
    "duration": 19,
    "start_time": "2022-10-11T12:58:59.907Z"
   },
   {
    "duration": 32,
    "start_time": "2022-10-11T12:58:59.928Z"
   },
   {
    "duration": 3,
    "start_time": "2022-10-11T12:58:59.963Z"
   },
   {
    "duration": 6,
    "start_time": "2022-10-11T12:58:59.968Z"
   },
   {
    "duration": 196,
    "start_time": "2022-10-11T12:58:59.976Z"
   },
   {
    "duration": 4,
    "start_time": "2022-10-11T12:59:00.175Z"
   },
   {
    "duration": 9,
    "start_time": "2022-10-11T12:59:00.180Z"
   },
   {
    "duration": 21,
    "start_time": "2022-10-11T12:59:00.191Z"
   },
   {
    "duration": 4,
    "start_time": "2022-10-11T12:59:00.214Z"
   },
   {
    "duration": 10,
    "start_time": "2022-10-11T12:59:00.220Z"
   },
   {
    "duration": 31,
    "start_time": "2022-10-11T12:59:00.232Z"
   },
   {
    "duration": 6,
    "start_time": "2022-10-11T12:59:00.264Z"
   },
   {
    "duration": 17,
    "start_time": "2022-10-11T12:59:00.272Z"
   },
   {
    "duration": 20,
    "start_time": "2022-10-11T12:59:00.291Z"
   },
   {
    "duration": 7,
    "start_time": "2022-10-11T12:59:00.313Z"
   },
   {
    "duration": 49,
    "start_time": "2022-10-11T12:59:00.321Z"
   },
   {
    "duration": 24,
    "start_time": "2022-10-11T12:59:00.373Z"
   },
   {
    "duration": 36,
    "start_time": "2022-10-11T12:59:00.404Z"
   },
   {
    "duration": 32,
    "start_time": "2022-10-11T12:59:00.442Z"
   },
   {
    "duration": 178,
    "start_time": "2022-10-11T12:59:00.476Z"
   },
   {
    "duration": 3313,
    "start_time": "2022-10-11T12:59:00.655Z"
   },
   {
    "duration": 1274,
    "start_time": "2022-10-11T12:59:03.970Z"
   },
   {
    "duration": 914,
    "start_time": "2022-10-11T12:59:05.245Z"
   },
   {
    "duration": 257,
    "start_time": "2022-10-11T12:59:06.163Z"
   },
   {
    "duration": 1087,
    "start_time": "2022-10-11T12:59:06.421Z"
   },
   {
    "duration": 920,
    "start_time": "2022-10-11T12:59:07.510Z"
   },
   {
    "duration": 11,
    "start_time": "2022-10-11T12:59:08.431Z"
   },
   {
    "duration": 3,
    "start_time": "2022-10-11T12:59:08.443Z"
   },
   {
    "duration": 7,
    "start_time": "2022-10-11T12:59:08.448Z"
   },
   {
    "duration": 7,
    "start_time": "2022-10-11T12:59:08.457Z"
   },
   {
    "duration": 130,
    "start_time": "2022-10-11T12:59:08.466Z"
   },
   {
    "duration": 15,
    "start_time": "2022-10-11T12:59:08.598Z"
   },
   {
    "duration": 12,
    "start_time": "2022-10-11T12:59:08.615Z"
   },
   {
    "duration": 14,
    "start_time": "2022-10-11T12:59:08.628Z"
   },
   {
    "duration": 18,
    "start_time": "2022-10-11T12:59:08.644Z"
   },
   {
    "duration": 9,
    "start_time": "2022-10-11T12:59:08.663Z"
   },
   {
    "duration": 26,
    "start_time": "2022-10-11T12:59:08.674Z"
   },
   {
    "duration": 42,
    "start_time": "2022-10-11T12:59:08.701Z"
   },
   {
    "duration": 14,
    "start_time": "2022-10-11T12:59:08.744Z"
   },
   {
    "duration": 14426,
    "start_time": "2022-10-11T12:59:08.759Z"
   },
   {
    "duration": 19287,
    "start_time": "2022-10-11T12:59:23.187Z"
   },
   {
    "duration": 8,
    "start_time": "2022-10-11T12:59:42.476Z"
   },
   {
    "duration": 8637,
    "start_time": "2022-10-11T12:59:42.486Z"
   },
   {
    "duration": 22,
    "start_time": "2022-10-11T12:59:51.125Z"
   },
   {
    "duration": 133,
    "start_time": "2022-10-11T12:59:51.149Z"
   },
   {
    "duration": 0,
    "start_time": "2022-10-11T12:59:51.284Z"
   },
   {
    "duration": 0,
    "start_time": "2022-10-11T12:59:51.285Z"
   },
   {
    "duration": 0,
    "start_time": "2022-10-11T12:59:51.286Z"
   },
   {
    "duration": 0,
    "start_time": "2022-10-11T12:59:51.287Z"
   },
   {
    "duration": 0,
    "start_time": "2022-10-11T12:59:51.289Z"
   },
   {
    "duration": 0,
    "start_time": "2022-10-11T12:59:51.305Z"
   },
   {
    "duration": 0,
    "start_time": "2022-10-11T12:59:51.307Z"
   },
   {
    "duration": 0,
    "start_time": "2022-10-11T12:59:51.309Z"
   },
   {
    "duration": 0,
    "start_time": "2022-10-11T12:59:51.311Z"
   },
   {
    "duration": 0,
    "start_time": "2022-10-11T12:59:51.319Z"
   },
   {
    "duration": 9,
    "start_time": "2022-10-11T13:00:30.536Z"
   },
   {
    "duration": 8,
    "start_time": "2022-10-11T13:00:53.863Z"
   },
   {
    "duration": 9,
    "start_time": "2022-10-11T13:00:59.780Z"
   },
   {
    "duration": 8481,
    "start_time": "2022-10-11T13:04:04.247Z"
   },
   {
    "duration": 24,
    "start_time": "2022-10-11T13:04:12.730Z"
   },
   {
    "duration": 0,
    "start_time": "2022-10-11T13:04:12.767Z"
   },
   {
    "duration": 8,
    "start_time": "2022-10-11T13:04:19.343Z"
   },
   {
    "duration": 8562,
    "start_time": "2022-10-11T13:05:50.338Z"
   },
   {
    "duration": 13,
    "start_time": "2022-10-11T13:05:58.902Z"
   },
   {
    "duration": 0,
    "start_time": "2022-10-11T13:05:58.916Z"
   },
   {
    "duration": 1320,
    "start_time": "2022-10-11T13:06:19.612Z"
   },
   {
    "duration": 1987,
    "start_time": "2022-10-11T13:06:20.934Z"
   },
   {
    "duration": 63,
    "start_time": "2022-10-11T13:06:22.923Z"
   },
   {
    "duration": 15,
    "start_time": "2022-10-11T13:06:23.005Z"
   },
   {
    "duration": 12,
    "start_time": "2022-10-11T13:06:23.021Z"
   },
   {
    "duration": 14,
    "start_time": "2022-10-11T13:06:23.034Z"
   },
   {
    "duration": 2,
    "start_time": "2022-10-11T13:06:23.050Z"
   },
   {
    "duration": 6,
    "start_time": "2022-10-11T13:06:23.054Z"
   },
   {
    "duration": 214,
    "start_time": "2022-10-11T13:06:23.061Z"
   },
   {
    "duration": 4,
    "start_time": "2022-10-11T13:06:23.277Z"
   },
   {
    "duration": 11,
    "start_time": "2022-10-11T13:06:23.282Z"
   },
   {
    "duration": 24,
    "start_time": "2022-10-11T13:06:23.294Z"
   },
   {
    "duration": 4,
    "start_time": "2022-10-11T13:06:23.320Z"
   },
   {
    "duration": 6,
    "start_time": "2022-10-11T13:06:23.327Z"
   },
   {
    "duration": 10,
    "start_time": "2022-10-11T13:06:23.334Z"
   },
   {
    "duration": 4,
    "start_time": "2022-10-11T13:06:23.346Z"
   },
   {
    "duration": 7,
    "start_time": "2022-10-11T13:06:23.352Z"
   },
   {
    "duration": 46,
    "start_time": "2022-10-11T13:06:23.360Z"
   },
   {
    "duration": 7,
    "start_time": "2022-10-11T13:06:23.407Z"
   },
   {
    "duration": 39,
    "start_time": "2022-10-11T13:06:23.416Z"
   },
   {
    "duration": 48,
    "start_time": "2022-10-11T13:06:23.456Z"
   },
   {
    "duration": 23,
    "start_time": "2022-10-11T13:06:23.506Z"
   },
   {
    "duration": 32,
    "start_time": "2022-10-11T13:06:23.531Z"
   },
   {
    "duration": 192,
    "start_time": "2022-10-11T13:06:23.565Z"
   },
   {
    "duration": 3388,
    "start_time": "2022-10-11T13:06:23.759Z"
   },
   {
    "duration": 1653,
    "start_time": "2022-10-11T13:06:27.150Z"
   },
   {
    "duration": 985,
    "start_time": "2022-10-11T13:06:28.805Z"
   },
   {
    "duration": 230,
    "start_time": "2022-10-11T13:06:29.792Z"
   },
   {
    "duration": 1086,
    "start_time": "2022-10-11T13:06:30.024Z"
   },
   {
    "duration": 745,
    "start_time": "2022-10-11T13:06:31.112Z"
   },
   {
    "duration": 12,
    "start_time": "2022-10-11T13:06:31.858Z"
   },
   {
    "duration": 10,
    "start_time": "2022-10-11T13:06:31.872Z"
   },
   {
    "duration": 20,
    "start_time": "2022-10-11T13:06:31.884Z"
   },
   {
    "duration": 6,
    "start_time": "2022-10-11T13:06:31.906Z"
   },
   {
    "duration": 114,
    "start_time": "2022-10-11T13:06:31.913Z"
   },
   {
    "duration": 11,
    "start_time": "2022-10-11T13:06:32.029Z"
   },
   {
    "duration": 16,
    "start_time": "2022-10-11T13:06:32.042Z"
   },
   {
    "duration": 24,
    "start_time": "2022-10-11T13:06:32.060Z"
   },
   {
    "duration": 20,
    "start_time": "2022-10-11T13:06:32.086Z"
   },
   {
    "duration": 11,
    "start_time": "2022-10-11T13:06:32.108Z"
   },
   {
    "duration": 34,
    "start_time": "2022-10-11T13:06:32.124Z"
   },
   {
    "duration": 53,
    "start_time": "2022-10-11T13:06:32.160Z"
   },
   {
    "duration": 14,
    "start_time": "2022-10-11T13:06:32.215Z"
   },
   {
    "duration": 14410,
    "start_time": "2022-10-11T13:06:32.231Z"
   },
   {
    "duration": 19163,
    "start_time": "2022-10-11T13:06:46.643Z"
   },
   {
    "duration": 6,
    "start_time": "2022-10-11T13:07:05.808Z"
   },
   {
    "duration": 8530,
    "start_time": "2022-10-11T13:07:05.816Z"
   },
   {
    "duration": 105,
    "start_time": "2022-10-11T13:07:14.348Z"
   },
   {
    "duration": 0,
    "start_time": "2022-10-11T13:07:14.455Z"
   },
   {
    "duration": 0,
    "start_time": "2022-10-11T13:07:14.456Z"
   },
   {
    "duration": 0,
    "start_time": "2022-10-11T13:07:14.457Z"
   },
   {
    "duration": 0,
    "start_time": "2022-10-11T13:07:14.458Z"
   },
   {
    "duration": 0,
    "start_time": "2022-10-11T13:07:14.459Z"
   },
   {
    "duration": 0,
    "start_time": "2022-10-11T13:07:14.460Z"
   },
   {
    "duration": 0,
    "start_time": "2022-10-11T13:07:14.462Z"
   },
   {
    "duration": 0,
    "start_time": "2022-10-11T13:07:14.463Z"
   },
   {
    "duration": 0,
    "start_time": "2022-10-11T13:07:14.464Z"
   },
   {
    "duration": 0,
    "start_time": "2022-10-11T13:07:14.465Z"
   },
   {
    "duration": 0,
    "start_time": "2022-10-11T13:07:14.467Z"
   },
   {
    "duration": 6,
    "start_time": "2022-10-11T13:11:08.668Z"
   },
   {
    "duration": 8581,
    "start_time": "2022-10-11T13:11:21.962Z"
   },
   {
    "duration": 9,
    "start_time": "2022-10-11T13:11:30.544Z"
   },
   {
    "duration": 8571,
    "start_time": "2022-10-11T13:17:13.508Z"
   },
   {
    "duration": 9,
    "start_time": "2022-10-11T13:18:08.937Z"
   },
   {
    "duration": 10,
    "start_time": "2022-10-11T13:18:54.799Z"
   },
   {
    "duration": 3,
    "start_time": "2022-10-11T13:19:07.639Z"
   },
   {
    "duration": 9,
    "start_time": "2022-10-11T13:19:08.442Z"
   },
   {
    "duration": 3,
    "start_time": "2022-10-11T13:21:21.077Z"
   },
   {
    "duration": 4,
    "start_time": "2022-10-11T13:21:31.324Z"
   },
   {
    "duration": 4,
    "start_time": "2022-10-11T13:23:02.216Z"
   },
   {
    "duration": 5,
    "start_time": "2022-10-11T13:23:14.891Z"
   },
   {
    "duration": 9,
    "start_time": "2022-10-11T13:23:29.971Z"
   },
   {
    "duration": 9,
    "start_time": "2022-10-11T13:23:38.882Z"
   },
   {
    "duration": 6,
    "start_time": "2022-10-11T13:23:45.754Z"
   },
   {
    "duration": 11,
    "start_time": "2022-10-11T13:24:10.511Z"
   },
   {
    "duration": 11,
    "start_time": "2022-10-11T13:24:15.137Z"
   },
   {
    "duration": 6,
    "start_time": "2022-10-11T13:25:24.486Z"
   },
   {
    "duration": 9,
    "start_time": "2022-10-11T13:25:43.813Z"
   },
   {
    "duration": 8,
    "start_time": "2022-10-11T13:29:18.307Z"
   },
   {
    "duration": 1381,
    "start_time": "2022-10-11T13:29:42.999Z"
   },
   {
    "duration": 1839,
    "start_time": "2022-10-11T13:29:44.382Z"
   },
   {
    "duration": 84,
    "start_time": "2022-10-11T13:29:46.223Z"
   },
   {
    "duration": 16,
    "start_time": "2022-10-11T13:29:46.309Z"
   },
   {
    "duration": 12,
    "start_time": "2022-10-11T13:29:46.327Z"
   },
   {
    "duration": 16,
    "start_time": "2022-10-11T13:29:46.341Z"
   },
   {
    "duration": 6,
    "start_time": "2022-10-11T13:29:46.358Z"
   },
   {
    "duration": 4,
    "start_time": "2022-10-11T13:29:46.366Z"
   },
   {
    "duration": 195,
    "start_time": "2022-10-11T13:29:46.372Z"
   },
   {
    "duration": 5,
    "start_time": "2022-10-11T13:29:46.569Z"
   },
   {
    "duration": 7,
    "start_time": "2022-10-11T13:29:46.575Z"
   },
   {
    "duration": 25,
    "start_time": "2022-10-11T13:29:46.584Z"
   },
   {
    "duration": 4,
    "start_time": "2022-10-11T13:29:46.611Z"
   },
   {
    "duration": 11,
    "start_time": "2022-10-11T13:29:46.616Z"
   },
   {
    "duration": 8,
    "start_time": "2022-10-11T13:29:46.629Z"
   },
   {
    "duration": 5,
    "start_time": "2022-10-11T13:29:46.639Z"
   },
   {
    "duration": 9,
    "start_time": "2022-10-11T13:29:46.645Z"
   },
   {
    "duration": 19,
    "start_time": "2022-10-11T13:29:46.656Z"
   },
   {
    "duration": 31,
    "start_time": "2022-10-11T13:29:46.676Z"
   },
   {
    "duration": 36,
    "start_time": "2022-10-11T13:29:46.709Z"
   },
   {
    "duration": 21,
    "start_time": "2022-10-11T13:29:46.746Z"
   },
   {
    "duration": 43,
    "start_time": "2022-10-11T13:29:46.768Z"
   },
   {
    "duration": 24,
    "start_time": "2022-10-11T13:29:46.812Z"
   },
   {
    "duration": 184,
    "start_time": "2022-10-11T13:29:46.837Z"
   },
   {
    "duration": 3282,
    "start_time": "2022-10-11T13:29:47.023Z"
   },
   {
    "duration": 1266,
    "start_time": "2022-10-11T13:29:50.306Z"
   },
   {
    "duration": 904,
    "start_time": "2022-10-11T13:29:51.574Z"
   },
   {
    "duration": 205,
    "start_time": "2022-10-11T13:29:52.482Z"
   },
   {
    "duration": 1079,
    "start_time": "2022-10-11T13:29:52.688Z"
   },
   {
    "duration": 753,
    "start_time": "2022-10-11T13:29:53.769Z"
   },
   {
    "duration": 11,
    "start_time": "2022-10-11T13:29:54.524Z"
   },
   {
    "duration": 4,
    "start_time": "2022-10-11T13:29:54.537Z"
   },
   {
    "duration": 5,
    "start_time": "2022-10-11T13:29:54.542Z"
   },
   {
    "duration": 6,
    "start_time": "2022-10-11T13:29:54.549Z"
   },
   {
    "duration": 123,
    "start_time": "2022-10-11T13:29:54.556Z"
   },
   {
    "duration": 10,
    "start_time": "2022-10-11T13:29:54.680Z"
   },
   {
    "duration": 20,
    "start_time": "2022-10-11T13:29:54.692Z"
   },
   {
    "duration": 10,
    "start_time": "2022-10-11T13:29:54.714Z"
   },
   {
    "duration": 8,
    "start_time": "2022-10-11T13:29:54.726Z"
   },
   {
    "duration": 9,
    "start_time": "2022-10-11T13:29:54.736Z"
   },
   {
    "duration": 26,
    "start_time": "2022-10-11T13:29:54.747Z"
   },
   {
    "duration": 51,
    "start_time": "2022-10-11T13:29:54.775Z"
   },
   {
    "duration": 13,
    "start_time": "2022-10-11T13:29:54.828Z"
   },
   {
    "duration": 14247,
    "start_time": "2022-10-11T13:29:54.842Z"
   },
   {
    "duration": 19148,
    "start_time": "2022-10-11T13:30:09.091Z"
   },
   {
    "duration": 6,
    "start_time": "2022-10-11T13:30:28.241Z"
   },
   {
    "duration": 8588,
    "start_time": "2022-10-11T13:30:28.249Z"
   },
   {
    "duration": 29,
    "start_time": "2022-10-11T13:30:36.838Z"
   },
   {
    "duration": 117,
    "start_time": "2022-10-11T13:30:36.869Z"
   },
   {
    "duration": 0,
    "start_time": "2022-10-11T13:30:36.988Z"
   },
   {
    "duration": 0,
    "start_time": "2022-10-11T13:30:36.989Z"
   },
   {
    "duration": 0,
    "start_time": "2022-10-11T13:30:36.990Z"
   },
   {
    "duration": 0,
    "start_time": "2022-10-11T13:30:37.005Z"
   },
   {
    "duration": 0,
    "start_time": "2022-10-11T13:30:37.006Z"
   },
   {
    "duration": 0,
    "start_time": "2022-10-11T13:30:37.006Z"
   },
   {
    "duration": 0,
    "start_time": "2022-10-11T13:30:37.007Z"
   },
   {
    "duration": 0,
    "start_time": "2022-10-11T13:30:37.008Z"
   },
   {
    "duration": 0,
    "start_time": "2022-10-11T13:30:37.009Z"
   },
   {
    "duration": 0,
    "start_time": "2022-10-11T13:30:37.010Z"
   },
   {
    "duration": 0,
    "start_time": "2022-10-11T13:30:37.011Z"
   },
   {
    "duration": 8,
    "start_time": "2022-10-11T13:31:02.513Z"
   },
   {
    "duration": 3,
    "start_time": "2022-10-11T13:31:03.656Z"
   },
   {
    "duration": 1342,
    "start_time": "2022-10-11T13:31:22.009Z"
   },
   {
    "duration": 1434,
    "start_time": "2022-10-11T13:31:23.352Z"
   },
   {
    "duration": 64,
    "start_time": "2022-10-11T13:31:24.787Z"
   },
   {
    "duration": 22,
    "start_time": "2022-10-11T13:31:24.854Z"
   },
   {
    "duration": 37,
    "start_time": "2022-10-11T13:31:24.878Z"
   },
   {
    "duration": 23,
    "start_time": "2022-10-11T13:31:24.917Z"
   },
   {
    "duration": 3,
    "start_time": "2022-10-11T13:31:24.941Z"
   },
   {
    "duration": 7,
    "start_time": "2022-10-11T13:31:24.945Z"
   },
   {
    "duration": 187,
    "start_time": "2022-10-11T13:31:24.954Z"
   },
   {
    "duration": 5,
    "start_time": "2022-10-11T13:31:25.144Z"
   },
   {
    "duration": 5,
    "start_time": "2022-10-11T13:31:25.151Z"
   },
   {
    "duration": 14,
    "start_time": "2022-10-11T13:31:25.158Z"
   },
   {
    "duration": 5,
    "start_time": "2022-10-11T13:31:25.173Z"
   },
   {
    "duration": 28,
    "start_time": "2022-10-11T13:31:25.179Z"
   },
   {
    "duration": 8,
    "start_time": "2022-10-11T13:31:25.209Z"
   },
   {
    "duration": 6,
    "start_time": "2022-10-11T13:31:25.219Z"
   },
   {
    "duration": 7,
    "start_time": "2022-10-11T13:31:25.227Z"
   },
   {
    "duration": 4,
    "start_time": "2022-10-11T13:31:25.236Z"
   },
   {
    "duration": 8,
    "start_time": "2022-10-11T13:31:25.241Z"
   },
   {
    "duration": 73,
    "start_time": "2022-10-11T13:31:25.250Z"
   },
   {
    "duration": 24,
    "start_time": "2022-10-11T13:31:25.324Z"
   },
   {
    "duration": 21,
    "start_time": "2022-10-11T13:31:25.350Z"
   },
   {
    "duration": 49,
    "start_time": "2022-10-11T13:31:25.373Z"
   },
   {
    "duration": 164,
    "start_time": "2022-10-11T13:31:25.423Z"
   },
   {
    "duration": 3245,
    "start_time": "2022-10-11T13:31:25.589Z"
   },
   {
    "duration": 1296,
    "start_time": "2022-10-11T13:31:28.835Z"
   },
   {
    "duration": 937,
    "start_time": "2022-10-11T13:31:30.133Z"
   },
   {
    "duration": 212,
    "start_time": "2022-10-11T13:31:31.074Z"
   },
   {
    "duration": 1050,
    "start_time": "2022-10-11T13:31:31.287Z"
   },
   {
    "duration": 715,
    "start_time": "2022-10-11T13:31:32.338Z"
   },
   {
    "duration": 11,
    "start_time": "2022-10-11T13:31:33.055Z"
   },
   {
    "duration": 8,
    "start_time": "2022-10-11T13:31:33.067Z"
   },
   {
    "duration": 5,
    "start_time": "2022-10-11T13:31:33.076Z"
   },
   {
    "duration": 7,
    "start_time": "2022-10-11T13:31:33.082Z"
   },
   {
    "duration": 124,
    "start_time": "2022-10-11T13:31:33.090Z"
   },
   {
    "duration": 11,
    "start_time": "2022-10-11T13:31:33.216Z"
   },
   {
    "duration": 17,
    "start_time": "2022-10-11T13:31:33.229Z"
   },
   {
    "duration": 12,
    "start_time": "2022-10-11T13:31:33.248Z"
   },
   {
    "duration": 5,
    "start_time": "2022-10-11T13:31:33.262Z"
   },
   {
    "duration": 11,
    "start_time": "2022-10-11T13:31:33.269Z"
   },
   {
    "duration": 46,
    "start_time": "2022-10-11T13:31:33.281Z"
   },
   {
    "duration": 41,
    "start_time": "2022-10-11T13:31:33.329Z"
   },
   {
    "duration": 12,
    "start_time": "2022-10-11T13:31:33.371Z"
   },
   {
    "duration": 14112,
    "start_time": "2022-10-11T13:31:33.384Z"
   },
   {
    "duration": 18944,
    "start_time": "2022-10-11T13:31:47.498Z"
   },
   {
    "duration": 7,
    "start_time": "2022-10-11T13:32:06.444Z"
   },
   {
    "duration": 8367,
    "start_time": "2022-10-11T13:32:06.452Z"
   },
   {
    "duration": 22,
    "start_time": "2022-10-11T13:32:14.821Z"
   },
   {
    "duration": 5,
    "start_time": "2022-10-11T13:32:14.845Z"
   },
   {
    "duration": 7,
    "start_time": "2022-10-11T13:32:14.852Z"
   },
   {
    "duration": 452,
    "start_time": "2022-10-11T13:32:14.860Z"
   },
   {
    "duration": 1292,
    "start_time": "2022-10-11T13:32:15.314Z"
   },
   {
    "duration": 3,
    "start_time": "2022-10-11T13:32:16.608Z"
   },
   {
    "duration": 142,
    "start_time": "2022-10-11T13:32:16.612Z"
   },
   {
    "duration": 0,
    "start_time": "2022-10-11T13:32:16.755Z"
   },
   {
    "duration": 0,
    "start_time": "2022-10-11T13:32:16.756Z"
   },
   {
    "duration": 0,
    "start_time": "2022-10-11T13:32:16.758Z"
   },
   {
    "duration": 0,
    "start_time": "2022-10-11T13:32:16.759Z"
   },
   {
    "duration": 0,
    "start_time": "2022-10-11T13:32:16.760Z"
   },
   {
    "duration": 0,
    "start_time": "2022-10-11T13:32:16.761Z"
   },
   {
    "duration": 62,
    "start_time": "2022-10-11T13:33:39.644Z"
   },
   {
    "duration": 7,
    "start_time": "2022-10-11T13:34:02.741Z"
   },
   {
    "duration": 5,
    "start_time": "2022-10-11T13:34:03.873Z"
   },
   {
    "duration": 3,
    "start_time": "2022-10-11T13:34:04.541Z"
   },
   {
    "duration": 5,
    "start_time": "2022-10-11T13:34:08.819Z"
   },
   {
    "duration": 5,
    "start_time": "2022-10-11T13:34:09.265Z"
   },
   {
    "duration": 13,
    "start_time": "2022-10-11T13:34:09.765Z"
   },
   {
    "duration": 596,
    "start_time": "2022-10-11T13:35:52.119Z"
   },
   {
    "duration": 3,
    "start_time": "2022-10-11T13:35:58.425Z"
   },
   {
    "duration": 1379,
    "start_time": "2022-10-11T13:37:56.175Z"
   },
   {
    "duration": 1330,
    "start_time": "2022-10-11T13:37:57.556Z"
   },
   {
    "duration": 58,
    "start_time": "2022-10-11T13:37:58.888Z"
   },
   {
    "duration": 15,
    "start_time": "2022-10-11T13:37:58.948Z"
   },
   {
    "duration": 11,
    "start_time": "2022-10-11T13:37:58.964Z"
   },
   {
    "duration": 33,
    "start_time": "2022-10-11T13:37:58.976Z"
   },
   {
    "duration": 3,
    "start_time": "2022-10-11T13:37:59.010Z"
   },
   {
    "duration": 6,
    "start_time": "2022-10-11T13:37:59.014Z"
   },
   {
    "duration": 192,
    "start_time": "2022-10-11T13:37:59.021Z"
   },
   {
    "duration": 5,
    "start_time": "2022-10-11T13:37:59.215Z"
   },
   {
    "duration": 7,
    "start_time": "2022-10-11T13:37:59.221Z"
   },
   {
    "duration": 20,
    "start_time": "2022-10-11T13:37:59.230Z"
   },
   {
    "duration": 4,
    "start_time": "2022-10-11T13:37:59.252Z"
   },
   {
    "duration": 8,
    "start_time": "2022-10-11T13:37:59.258Z"
   },
   {
    "duration": 9,
    "start_time": "2022-10-11T13:37:59.267Z"
   },
   {
    "duration": 15,
    "start_time": "2022-10-11T13:37:59.277Z"
   },
   {
    "duration": 17,
    "start_time": "2022-10-11T13:37:59.293Z"
   },
   {
    "duration": 6,
    "start_time": "2022-10-11T13:37:59.311Z"
   },
   {
    "duration": 11,
    "start_time": "2022-10-11T13:37:59.319Z"
   },
   {
    "duration": 41,
    "start_time": "2022-10-11T13:37:59.331Z"
   },
   {
    "duration": 32,
    "start_time": "2022-10-11T13:37:59.374Z"
   },
   {
    "duration": 27,
    "start_time": "2022-10-11T13:37:59.408Z"
   },
   {
    "duration": 27,
    "start_time": "2022-10-11T13:37:59.436Z"
   },
   {
    "duration": 182,
    "start_time": "2022-10-11T13:37:59.465Z"
   },
   {
    "duration": 3364,
    "start_time": "2022-10-11T13:37:59.649Z"
   },
   {
    "duration": 1289,
    "start_time": "2022-10-11T13:38:03.016Z"
   },
   {
    "duration": 864,
    "start_time": "2022-10-11T13:38:04.307Z"
   },
   {
    "duration": 211,
    "start_time": "2022-10-11T13:38:05.175Z"
   },
   {
    "duration": 1112,
    "start_time": "2022-10-11T13:38:05.388Z"
   },
   {
    "duration": 766,
    "start_time": "2022-10-11T13:38:06.501Z"
   },
   {
    "duration": 11,
    "start_time": "2022-10-11T13:38:07.268Z"
   },
   {
    "duration": 2,
    "start_time": "2022-10-11T13:38:07.281Z"
   },
   {
    "duration": 9,
    "start_time": "2022-10-11T13:38:07.285Z"
   },
   {
    "duration": 3,
    "start_time": "2022-10-11T13:38:07.304Z"
   },
   {
    "duration": 142,
    "start_time": "2022-10-11T13:38:07.308Z"
   },
   {
    "duration": 16,
    "start_time": "2022-10-11T13:38:07.452Z"
   },
   {
    "duration": 19,
    "start_time": "2022-10-11T13:38:07.470Z"
   },
   {
    "duration": 26,
    "start_time": "2022-10-11T13:38:07.491Z"
   },
   {
    "duration": 10,
    "start_time": "2022-10-11T13:38:07.519Z"
   },
   {
    "duration": 24,
    "start_time": "2022-10-11T13:38:07.531Z"
   },
   {
    "duration": 37,
    "start_time": "2022-10-11T13:38:07.557Z"
   },
   {
    "duration": 50,
    "start_time": "2022-10-11T13:38:07.596Z"
   },
   {
    "duration": 11,
    "start_time": "2022-10-11T13:38:07.648Z"
   },
   {
    "duration": 14014,
    "start_time": "2022-10-11T13:38:07.661Z"
   },
   {
    "duration": 19285,
    "start_time": "2022-10-11T13:38:21.677Z"
   },
   {
    "duration": 6,
    "start_time": "2022-10-11T13:38:40.964Z"
   },
   {
    "duration": 8395,
    "start_time": "2022-10-11T13:38:40.971Z"
   },
   {
    "duration": 22,
    "start_time": "2022-10-11T13:38:49.367Z"
   },
   {
    "duration": 5,
    "start_time": "2022-10-11T13:38:49.391Z"
   },
   {
    "duration": 5,
    "start_time": "2022-10-11T13:38:49.404Z"
   },
   {
    "duration": 896,
    "start_time": "2022-10-11T13:38:49.410Z"
   },
   {
    "duration": 1202,
    "start_time": "2022-10-11T13:38:50.309Z"
   },
   {
    "duration": 94,
    "start_time": "2022-10-11T13:38:51.514Z"
   },
   {
    "duration": 97,
    "start_time": "2022-10-11T13:38:51.609Z"
   },
   {
    "duration": 97,
    "start_time": "2022-10-11T13:38:51.711Z"
   },
   {
    "duration": 8,
    "start_time": "2022-10-11T13:38:51.811Z"
   },
   {
    "duration": 8,
    "start_time": "2022-10-11T13:38:51.904Z"
   },
   {
    "duration": 91,
    "start_time": "2022-10-11T13:38:51.914Z"
   },
   {
    "duration": 5,
    "start_time": "2022-10-11T13:38:52.008Z"
   },
   {
    "duration": 11,
    "start_time": "2022-10-11T13:38:52.015Z"
   },
   {
    "duration": 2253,
    "start_time": "2022-10-11T17:50:54.041Z"
   },
   {
    "duration": 1829,
    "start_time": "2022-10-11T17:50:56.297Z"
   },
   {
    "duration": 76,
    "start_time": "2022-10-11T17:50:58.128Z"
   },
   {
    "duration": 52,
    "start_time": "2022-10-11T17:50:58.207Z"
   },
   {
    "duration": 20,
    "start_time": "2022-10-11T17:50:58.262Z"
   },
   {
    "duration": 28,
    "start_time": "2022-10-11T17:50:58.285Z"
   },
   {
    "duration": 4,
    "start_time": "2022-10-11T17:50:58.315Z"
   },
   {
    "duration": 34,
    "start_time": "2022-10-11T17:50:58.321Z"
   },
   {
    "duration": 210,
    "start_time": "2022-10-11T17:50:58.357Z"
   },
   {
    "duration": 5,
    "start_time": "2022-10-11T17:50:58.570Z"
   },
   {
    "duration": 14,
    "start_time": "2022-10-11T17:50:58.577Z"
   },
   {
    "duration": 20,
    "start_time": "2022-10-11T17:50:58.593Z"
   },
   {
    "duration": 6,
    "start_time": "2022-10-11T17:50:58.615Z"
   },
   {
    "duration": 7,
    "start_time": "2022-10-11T17:50:58.623Z"
   },
   {
    "duration": 32,
    "start_time": "2022-10-11T17:50:58.632Z"
   },
   {
    "duration": 7,
    "start_time": "2022-10-11T17:50:58.665Z"
   },
   {
    "duration": 23,
    "start_time": "2022-10-11T17:50:58.674Z"
   },
   {
    "duration": 8,
    "start_time": "2022-10-11T17:50:58.699Z"
   },
   {
    "duration": 10,
    "start_time": "2022-10-11T17:50:58.709Z"
   },
   {
    "duration": 87,
    "start_time": "2022-10-11T17:50:58.721Z"
   },
   {
    "duration": 45,
    "start_time": "2022-10-11T17:50:58.811Z"
   },
   {
    "duration": 43,
    "start_time": "2022-10-11T17:50:58.858Z"
   },
   {
    "duration": 51,
    "start_time": "2022-10-11T17:50:58.903Z"
   },
   {
    "duration": 214,
    "start_time": "2022-10-11T17:50:58.956Z"
   },
   {
    "duration": 4117,
    "start_time": "2022-10-11T17:50:59.171Z"
   },
   {
    "duration": 1534,
    "start_time": "2022-10-11T17:51:03.290Z"
   },
   {
    "duration": 1992,
    "start_time": "2022-10-11T17:51:04.825Z"
   }
  ],
  "kernelspec": {
   "display_name": "Python 3 (ipykernel)",
   "language": "python",
   "name": "python3"
  },
  "language_info": {
   "codemirror_mode": {
    "name": "ipython",
    "version": 3
   },
   "file_extension": ".py",
   "mimetype": "text/x-python",
   "name": "python",
   "nbconvert_exporter": "python",
   "pygments_lexer": "ipython3",
   "version": "3.9.13"
  },
  "toc": {
   "base_numbering": 1,
   "nav_menu": {},
   "number_sections": true,
   "sideBar": true,
   "skip_h1_title": false,
   "title_cell": "Table of Contents",
   "title_sidebar": "Сборный проект - 2",
   "toc_cell": false,
   "toc_position": {
    "height": "calc(100% - 180px)",
    "left": "10px",
    "top": "150px",
    "width": "219px"
   },
   "toc_section_display": true,
   "toc_window_display": true
  }
 },
 "nbformat": 4,
 "nbformat_minor": 5
}
