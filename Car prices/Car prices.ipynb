{
 "cells": [
  {
   "cell_type": "markdown",
   "id": "b9229cb0",
   "metadata": {},
   "source": [
    "# Проект - Определение стоимости автомобилей"
   ]
  },
  {
   "cell_type": "markdown",
   "id": "b8b4199f",
   "metadata": {},
   "source": [
    "## Описание проекта\n",
    "\n",
    "1. Сервис по продаже автомобилей с пробегом разрабатывает приложение, чтобы привлечь новых клиентов. В нём можно будет узнать рыночную стоимость своего автомобиля. \n",
    "2. Нужно построить модель, которая умеет её определять. В нашем распоряжении данные о технических характеристиках, комплектации и ценах других автомобилей.\n",
    "3. Критерии, которые важны заказчику:\n",
    "    - качество предсказания;\n",
    "    - время обучения модели;\n",
    "    - время предсказания модели."
   ]
  },
  {
   "cell_type": "markdown",
   "id": "90e1aefd",
   "metadata": {},
   "source": [
    "## Основные шаги\n",
    "\n",
    "1. Загрузим данные\n",
    "2. Изучим данные, заполнить пропущенные значения и обработаем аномалии в столбцах. Если среди признаков имеются неимформативные их следует удалить\n",
    "3. Подготовим выборки для обучения моделей\n",
    "4. Обучитм разные модели, одна из которых - LightGBM, как минимум одна - не бустинг. Для каждой модели попробуем разные гиперпараметры\n",
    "5. Проанализируем время обучения, время предсказания и качество моделей\n",
    "6. Опираясь на критерии заказчика, выберем лучшую модель, проверим ее качество на тестовой выборке\n"
   ]
  },
  {
   "cell_type": "markdown",
   "id": "5b33e3b4",
   "metadata": {},
   "source": [
    "## Описание данных\n",
    "\n",
    "1. **Признаки**\n",
    "    - DateCrawled — дата скачивания анкеты из базы\n",
    "    - VehicleType — тип автомобильного кузова\n",
    "    - RegistrationYear — год регистрации автомобиля\n",
    "    - Gearbox — тип коробки передач\n",
    "    - Power — мощность (л. с.)\n",
    "    - Model — модель автомобиля\n",
    "    - Kilometer — пробег (км)\n",
    "    - RegistrationMonth — месяц регистрации автомобиля\n",
    "    - FuelType — тип топлива\n",
    "    - Brand — марка автомобиля\n",
    "    - Repaired — была машина в ремонте или нет\n",
    "    - DateCreated — дата создания анкеты\n",
    "    - NumberOfPictures — количество фотографий автомобиля\n",
    "    - PostalCode — почтовый индекс владельца анкеты (пользователя)\n",
    "    - LastSeen — дата последней активности пользователя\n",
    "2. **Целевой признак**\n",
    "    - Price - цена (евро)"
   ]
  },
  {
   "cell_type": "markdown",
   "id": "79f33a9c",
   "metadata": {},
   "source": [
    "# Выполнение проекта"
   ]
  },
  {
   "cell_type": "markdown",
   "id": "a76aa49f",
   "metadata": {},
   "source": [
    "## Выгрузка необходимых библиотек"
   ]
  },
  {
   "cell_type": "code",
   "execution_count": 1,
   "id": "c7998586-b755-456e-b083-5e66b4e81ba8",
   "metadata": {},
   "outputs": [],
   "source": [
    "import math\n",
    "import numpy as np\n",
    "import pandas as pd\n",
    "from sklearn.metrics import r2_score\n",
    "import lightgbm as lgb\n",
    "from catboost import CatBoostRegressor\n",
    "from sklearn.model_selection import KFold\n",
    "from sklearn.model_selection import GridSearchCV\n",
    "from sklearn.metrics import roc_auc_score\n",
    "from sklearn.preprocessing import StandardScaler, OrdinalEncoder\n",
    "from sklearn.model_selection import train_test_split, cross_val_score, StratifiedShuffleSplit\n",
    "from sklearn.ensemble import RandomForestRegressor\n",
    "import seaborn as sns\n",
    "import matplotlib.pyplot as plt\n",
    "from sklearn.metrics import mean_squared_error\n"
   ]
  },
  {
   "cell_type": "code",
   "execution_count": 2,
   "id": "ba1dd5ca",
   "metadata": {},
   "outputs": [],
   "source": [
    "import sys\n",
    "\n",
    "if not sys.warnoptions:\n",
    "    import warnings\n",
    "    warnings.simplefilter(\"ignore\")"
   ]
  },
  {
   "cell_type": "code",
   "execution_count": 3,
   "id": "8f7b0906",
   "metadata": {},
   "outputs": [],
   "source": [
    "import time\n",
    "def exec_time(start, end):\n",
    "   diff_time = end - start\n",
    "   m, s = divmod(diff_time, 60)\n",
    "   h, m = divmod(m, 60)\n",
    "   s,m,h = int(round(s, 0)), int(round(m, 0)), int(round(h, 0))\n",
    "   print(\"Time: \" + \"{0:02d}:{1:02d}:{2:02d}\".format(h, m, s))\n",
    "   return(\"{0:02d}:{1:02d}:{2:02d}\".format(h, m, s))"
   ]
  },
  {
   "cell_type": "markdown",
   "id": "842762f6",
   "metadata": {},
   "source": [
    "## Загрузка данных\n",
    "\n",
    "- Загрузим данные"
   ]
  },
  {
   "cell_type": "code",
   "execution_count": 4,
   "id": "48348085-ed67-448d-835c-983daf90a89b",
   "metadata": {},
   "outputs": [],
   "source": [
    "try:\n",
    "    data=pd.read_csv('C:/Users/kaz-106/YandexDisk/Py-projects/02_Practicum projects/09_Numerical_methods/autos.csv')\n",
    "except:\n",
    "    data=pd.read_csv('/datasets/autos.csv')"
   ]
  },
  {
   "cell_type": "markdown",
   "id": "2068c3c6",
   "metadata": {},
   "source": [
    "## Предобработка данных"
   ]
  },
  {
   "cell_type": "code",
   "execution_count": 5,
   "id": "b0be108a",
   "metadata": {},
   "outputs": [
    {
     "name": "stdout",
     "output_type": "stream",
     "text": [
      "DateCrawled          object\n",
      "Price                 int64\n",
      "VehicleType          object\n",
      "RegistrationYear      int64\n",
      "Gearbox              object\n",
      "Power                 int64\n",
      "Model                object\n",
      "Kilometer             int64\n",
      "RegistrationMonth     int64\n",
      "FuelType             object\n",
      "Brand                object\n",
      "Repaired             object\n",
      "DateCreated          object\n",
      "NumberOfPictures      int64\n",
      "PostalCode            int64\n",
      "LastSeen             object\n",
      "dtype: object\n",
      "<class 'pandas.core.frame.DataFrame'>\n",
      "RangeIndex: 354369 entries, 0 to 354368\n",
      "Data columns (total 16 columns):\n",
      " #   Column             Non-Null Count   Dtype \n",
      "---  ------             --------------   ----- \n",
      " 0   DateCrawled        354369 non-null  object\n",
      " 1   Price              354369 non-null  int64 \n",
      " 2   VehicleType        316879 non-null  object\n",
      " 3   RegistrationYear   354369 non-null  int64 \n",
      " 4   Gearbox            334536 non-null  object\n",
      " 5   Power              354369 non-null  int64 \n",
      " 6   Model              334664 non-null  object\n",
      " 7   Kilometer          354369 non-null  int64 \n",
      " 8   RegistrationMonth  354369 non-null  int64 \n",
      " 9   FuelType           321474 non-null  object\n",
      " 10  Brand              354369 non-null  object\n",
      " 11  Repaired           283215 non-null  object\n",
      " 12  DateCreated        354369 non-null  object\n",
      " 13  NumberOfPictures   354369 non-null  int64 \n",
      " 14  PostalCode         354369 non-null  int64 \n",
      " 15  LastSeen           354369 non-null  object\n",
      "dtypes: int64(7), object(9)\n",
      "memory usage: 43.3+ MB\n",
      "None\n"
     ]
    },
    {
     "data": {
      "text/html": [
       "<div>\n",
       "<style scoped>\n",
       "    .dataframe tbody tr th:only-of-type {\n",
       "        vertical-align: middle;\n",
       "    }\n",
       "\n",
       "    .dataframe tbody tr th {\n",
       "        vertical-align: top;\n",
       "    }\n",
       "\n",
       "    .dataframe thead th {\n",
       "        text-align: right;\n",
       "    }\n",
       "</style>\n",
       "<table border=\"1\" class=\"dataframe\">\n",
       "  <thead>\n",
       "    <tr style=\"text-align: right;\">\n",
       "      <th></th>\n",
       "      <th>DateCrawled</th>\n",
       "      <th>Price</th>\n",
       "      <th>VehicleType</th>\n",
       "      <th>RegistrationYear</th>\n",
       "      <th>Gearbox</th>\n",
       "      <th>Power</th>\n",
       "      <th>Model</th>\n",
       "      <th>Kilometer</th>\n",
       "      <th>RegistrationMonth</th>\n",
       "      <th>FuelType</th>\n",
       "      <th>Brand</th>\n",
       "      <th>Repaired</th>\n",
       "      <th>DateCreated</th>\n",
       "      <th>NumberOfPictures</th>\n",
       "      <th>PostalCode</th>\n",
       "      <th>LastSeen</th>\n",
       "    </tr>\n",
       "  </thead>\n",
       "  <tbody>\n",
       "    <tr>\n",
       "      <th>0</th>\n",
       "      <td>2016-03-24 11:52:17</td>\n",
       "      <td>480</td>\n",
       "      <td>NaN</td>\n",
       "      <td>1993</td>\n",
       "      <td>manual</td>\n",
       "      <td>0</td>\n",
       "      <td>golf</td>\n",
       "      <td>150000</td>\n",
       "      <td>0</td>\n",
       "      <td>petrol</td>\n",
       "      <td>volkswagen</td>\n",
       "      <td>NaN</td>\n",
       "      <td>2016-03-24 00:00:00</td>\n",
       "      <td>0</td>\n",
       "      <td>70435</td>\n",
       "      <td>2016-04-07 03:16:57</td>\n",
       "    </tr>\n",
       "    <tr>\n",
       "      <th>1</th>\n",
       "      <td>2016-03-24 10:58:45</td>\n",
       "      <td>18300</td>\n",
       "      <td>coupe</td>\n",
       "      <td>2011</td>\n",
       "      <td>manual</td>\n",
       "      <td>190</td>\n",
       "      <td>NaN</td>\n",
       "      <td>125000</td>\n",
       "      <td>5</td>\n",
       "      <td>gasoline</td>\n",
       "      <td>audi</td>\n",
       "      <td>yes</td>\n",
       "      <td>2016-03-24 00:00:00</td>\n",
       "      <td>0</td>\n",
       "      <td>66954</td>\n",
       "      <td>2016-04-07 01:46:50</td>\n",
       "    </tr>\n",
       "    <tr>\n",
       "      <th>2</th>\n",
       "      <td>2016-03-14 12:52:21</td>\n",
       "      <td>9800</td>\n",
       "      <td>suv</td>\n",
       "      <td>2004</td>\n",
       "      <td>auto</td>\n",
       "      <td>163</td>\n",
       "      <td>grand</td>\n",
       "      <td>125000</td>\n",
       "      <td>8</td>\n",
       "      <td>gasoline</td>\n",
       "      <td>jeep</td>\n",
       "      <td>NaN</td>\n",
       "      <td>2016-03-14 00:00:00</td>\n",
       "      <td>0</td>\n",
       "      <td>90480</td>\n",
       "      <td>2016-04-05 12:47:46</td>\n",
       "    </tr>\n",
       "    <tr>\n",
       "      <th>3</th>\n",
       "      <td>2016-03-17 16:54:04</td>\n",
       "      <td>1500</td>\n",
       "      <td>small</td>\n",
       "      <td>2001</td>\n",
       "      <td>manual</td>\n",
       "      <td>75</td>\n",
       "      <td>golf</td>\n",
       "      <td>150000</td>\n",
       "      <td>6</td>\n",
       "      <td>petrol</td>\n",
       "      <td>volkswagen</td>\n",
       "      <td>no</td>\n",
       "      <td>2016-03-17 00:00:00</td>\n",
       "      <td>0</td>\n",
       "      <td>91074</td>\n",
       "      <td>2016-03-17 17:40:17</td>\n",
       "    </tr>\n",
       "    <tr>\n",
       "      <th>4</th>\n",
       "      <td>2016-03-31 17:25:20</td>\n",
       "      <td>3600</td>\n",
       "      <td>small</td>\n",
       "      <td>2008</td>\n",
       "      <td>manual</td>\n",
       "      <td>69</td>\n",
       "      <td>fabia</td>\n",
       "      <td>90000</td>\n",
       "      <td>7</td>\n",
       "      <td>gasoline</td>\n",
       "      <td>skoda</td>\n",
       "      <td>no</td>\n",
       "      <td>2016-03-31 00:00:00</td>\n",
       "      <td>0</td>\n",
       "      <td>60437</td>\n",
       "      <td>2016-04-06 10:17:21</td>\n",
       "    </tr>\n",
       "  </tbody>\n",
       "</table>\n",
       "</div>"
      ],
      "text/plain": [
       "           DateCrawled  Price VehicleType  RegistrationYear Gearbox  Power  \\\n",
       "0  2016-03-24 11:52:17    480         NaN              1993  manual      0   \n",
       "1  2016-03-24 10:58:45  18300       coupe              2011  manual    190   \n",
       "2  2016-03-14 12:52:21   9800         suv              2004    auto    163   \n",
       "3  2016-03-17 16:54:04   1500       small              2001  manual     75   \n",
       "4  2016-03-31 17:25:20   3600       small              2008  manual     69   \n",
       "\n",
       "   Model  Kilometer  RegistrationMonth  FuelType       Brand Repaired  \\\n",
       "0   golf     150000                  0    petrol  volkswagen      NaN   \n",
       "1    NaN     125000                  5  gasoline        audi      yes   \n",
       "2  grand     125000                  8  gasoline        jeep      NaN   \n",
       "3   golf     150000                  6    petrol  volkswagen       no   \n",
       "4  fabia      90000                  7  gasoline       skoda       no   \n",
       "\n",
       "           DateCreated  NumberOfPictures  PostalCode             LastSeen  \n",
       "0  2016-03-24 00:00:00                 0       70435  2016-04-07 03:16:57  \n",
       "1  2016-03-24 00:00:00                 0       66954  2016-04-07 01:46:50  \n",
       "2  2016-03-14 00:00:00                 0       90480  2016-04-05 12:47:46  \n",
       "3  2016-03-17 00:00:00                 0       91074  2016-03-17 17:40:17  \n",
       "4  2016-03-31 00:00:00                 0       60437  2016-04-06 10:17:21  "
      ]
     },
     "metadata": {},
     "output_type": "display_data"
    }
   ],
   "source": [
    "print(data.dtypes)\n",
    "print(data.info())\n",
    "display(data.head())"
   ]
  },
  {
   "cell_type": "markdown",
   "id": "674c68eb",
   "metadata": {},
   "source": [
    "### Выделение необходимых столбцов\n",
    "\n",
    "    - DateCrawled — дата скачивания анкеты из базы - врядли влияет на цену - удаляем\n",
    "    - VehicleType — тип автомобильного кузова - оставляем\n",
    "    - RegistrationYear — год регистрации автомобиля - оставляем\n",
    "    - Gearbox — тип коробки передач - оставляем\n",
    "    - Power — мощность (л. с.) - оставляем\n",
    "    - Model — модель автомобиля - оставляем\n",
    "    - Kilometer — пробег (км) - оставляем\n",
    "    - RegistrationMonth — месяц регистрации автомобиля - возможно на цену авто влияет сезонность - оставляем\n",
    "    - FuelType — тип топлива - оставляем\n",
    "    - Brand — марка автомобиля - оставялем\n",
    "    - Repaired — была машина в ремонте или нет - оставляем\n",
    "    - DateCreated — дата создания анкеты - врядли влияет на цену - удаляем\n",
    "    - NumberOfPictures — количество фотографий автомобиля - больше фото - лучше качество объявления - оставляем\n",
    "    - PostalCode — почтовый индекс владельца анкеты (пользователя). Нам неизвестно распределение по странам или типам индексов, а системы кодирования везде разные - удаляем\n",
    "    - LastSeen — дата последней активности пользователя - врядли влияет на цену - удаляем"
   ]
  },
  {
   "cell_type": "code",
   "execution_count": 6,
   "id": "bb119587",
   "metadata": {},
   "outputs": [],
   "source": [
    "data = data.drop(['DateCrawled','DateCreated','PostalCode','LastSeen'], axis=1)"
   ]
  },
  {
   "cell_type": "markdown",
   "id": "1b760b29",
   "metadata": {},
   "source": [
    "### Обработка пропусков"
   ]
  },
  {
   "cell_type": "code",
   "execution_count": 7,
   "id": "110b251e-0190-44bc-9717-e38f26235b7d",
   "metadata": {},
   "outputs": [
    {
     "data": {
      "text/plain": [
       "Price                    0\n",
       "VehicleType          37490\n",
       "RegistrationYear         0\n",
       "Gearbox              19833\n",
       "Power                    0\n",
       "Model                19705\n",
       "Kilometer                0\n",
       "RegistrationMonth        0\n",
       "FuelType             32895\n",
       "Brand                    0\n",
       "Repaired             71154\n",
       "NumberOfPictures         0\n",
       "dtype: int64"
      ]
     },
     "execution_count": 7,
     "metadata": {},
     "output_type": "execute_result"
    }
   ],
   "source": [
    "data.isna().sum()"
   ]
  },
  {
   "cell_type": "markdown",
   "id": "d0fc0777",
   "metadata": {},
   "source": [
    "В данных довольно много пропусков, посмотрим как их можно обработать. Посмотрим, какой процент пропусков по столбцам"
   ]
  },
  {
   "cell_type": "code",
   "execution_count": 8,
   "id": "cf1c2300",
   "metadata": {
    "scrolled": true
   },
   "outputs": [
    {
     "data": {
      "text/plain": [
       "Price                 0.000000\n",
       "VehicleType          10.579368\n",
       "RegistrationYear      0.000000\n",
       "Gearbox               5.596709\n",
       "Power                 0.000000\n",
       "Model                 5.560588\n",
       "Kilometer             0.000000\n",
       "RegistrationMonth     0.000000\n",
       "FuelType              9.282697\n",
       "Brand                 0.000000\n",
       "Repaired             20.079070\n",
       "NumberOfPictures      0.000000\n",
       "dtype: float64"
      ]
     },
     "metadata": {},
     "output_type": "display_data"
    }
   ],
   "source": [
    "nan_lines = (data.isna().sum()/data.shape[0])*100\n",
    "display(nan_lines)"
   ]
  },
  {
   "cell_type": "code",
   "execution_count": 9,
   "id": "8afc9589",
   "metadata": {},
   "outputs": [
    {
     "data": {
      "text/plain": [
       "array([nan, 'yes', 'no'], dtype=object)"
      ]
     },
     "metadata": {},
     "output_type": "display_data"
    }
   ],
   "source": [
    "display(data.Repaired.unique())"
   ]
  },
  {
   "cell_type": "markdown",
   "id": "403dd033",
   "metadata": {},
   "source": [
    "#### Пропуски в столбце \"Repaired\"\n",
    "- предположим, что если машина не ремонтировалась, то при заполнении анкеты автор оставлял это поле пустым, значит можно заменить NaN на no"
   ]
  },
  {
   "cell_type": "code",
   "execution_count": 10,
   "id": "c32d4541",
   "metadata": {},
   "outputs": [],
   "source": [
    "data['Repaired'] = data['Repaired'].fillna(\"no\")"
   ]
  },
  {
   "cell_type": "markdown",
   "id": "6f07a4ef",
   "metadata": {},
   "source": [
    "#### Пропуски в столбце \"VehicleType\"\n",
    "- Nan можно перевести в категорию Other"
   ]
  },
  {
   "cell_type": "code",
   "execution_count": 11,
   "id": "36a8c7a5",
   "metadata": {},
   "outputs": [
    {
     "data": {
      "text/plain": [
       "array([nan, 'coupe', 'suv', 'small', 'sedan', 'convertible', 'bus',\n",
       "       'wagon', 'other'], dtype=object)"
      ]
     },
     "metadata": {},
     "output_type": "display_data"
    }
   ],
   "source": [
    "display(data.VehicleType.unique())"
   ]
  },
  {
   "cell_type": "code",
   "execution_count": 12,
   "id": "57dbd9d3",
   "metadata": {},
   "outputs": [],
   "source": [
    "data['VehicleType'] = data['VehicleType'].fillna(\"other\")"
   ]
  },
  {
   "cell_type": "code",
   "execution_count": 13,
   "id": "3eac8a15",
   "metadata": {},
   "outputs": [
    {
     "data": {
      "text/plain": [
       "array(['manual', 'auto', nan], dtype=object)"
      ]
     },
     "metadata": {},
     "output_type": "display_data"
    }
   ],
   "source": [
    "display(data.Gearbox.unique())"
   ]
  },
  {
   "cell_type": "markdown",
   "id": "437a630e",
   "metadata": {},
   "source": [
    "#### Пропуски в столбце \"Gearbox\"\n",
    "- Ничего не поделать - придется удалить пропуски"
   ]
  },
  {
   "cell_type": "code",
   "execution_count": 14,
   "id": "09a4f315",
   "metadata": {},
   "outputs": [],
   "source": [
    "data = data.dropna(subset=['Gearbox'])"
   ]
  },
  {
   "cell_type": "code",
   "execution_count": 15,
   "id": "702f7eba",
   "metadata": {},
   "outputs": [
    {
     "data": {
      "text/plain": [
       "array(['petrol', 'gasoline', nan, 'lpg', 'other', 'hybrid', 'cng',\n",
       "       'electric'], dtype=object)"
      ]
     },
     "metadata": {},
     "output_type": "display_data"
    }
   ],
   "source": [
    "display(data.FuelType.unique())"
   ]
  },
  {
   "cell_type": "markdown",
   "id": "069de78f",
   "metadata": {},
   "source": [
    "#### Пропуски в столбце \"FuelType\"\n",
    "- Nan можно перевести в категорию Other"
   ]
  },
  {
   "cell_type": "code",
   "execution_count": 16,
   "id": "3d79adde",
   "metadata": {},
   "outputs": [],
   "source": [
    "data['FuelType'] = data['FuelType'].fillna(\"other\")"
   ]
  },
  {
   "cell_type": "code",
   "execution_count": 17,
   "id": "7792d55a",
   "metadata": {},
   "outputs": [
    {
     "data": {
      "text/plain": [
       "array(['golf', nan, 'grand', 'fabia', '3er', '2_reihe', 'other', 'c_max',\n",
       "       '3_reihe', 'passat', 'navara', 'twingo', 'a_klasse', 'scirocco',\n",
       "       '5er', 'meriva', 'arosa', 'c4', 'civic', 'transporter', 'punto',\n",
       "       'e_klasse', 'clio', 'kadett', 'one', 'fortwo', '1er', 'b_klasse',\n",
       "       'signum', 'astra', 'a8', 'jetta', 'polo', 'fiesta', 'c_klasse',\n",
       "       'micra', 'vito', 'sprinter', '156', 'escort', 'forester',\n",
       "       'xc_reihe', 'scenic', 'a4', 'a1', 'combo', 'focus', 'tt', 'a6',\n",
       "       'jazz', 'omega', 'slk', '7er', 'corsa', '80', '147', 'z_reihe',\n",
       "       'sportage', 'sorento', 'v40', 'ibiza', 'mustang', 'eos', 'touran',\n",
       "       'getz', 'insignia', 'ka', 'almera', 'megane', 'a3', 'lupo', 'r19',\n",
       "       'zafira', 'caddy', 'mondeo', 'cordoba', 'colt', 'impreza',\n",
       "       'vectra', 'berlingo', 'tiguan', 'i_reihe', 'sharan', '6_reihe',\n",
       "       'panda', 'up', 'seicento', 'ceed', 'kangoo', '5_reihe', 'yeti',\n",
       "       'octavia', 'mii', 'rx_reihe', '6er', 'modus', 'fox', 'matiz',\n",
       "       'beetle', 'rio', 'touareg', 'logan', 'spider', 'cuore', 's_max',\n",
       "       'a2', 'galaxy', 'c3', 'viano', 's_klasse', '1_reihe', 'avensis',\n",
       "       'roomster', 'sl', 'kaefer', 'santa', 'cooper', 'leon', '4_reihe',\n",
       "       'a5', '500', 'laguna', 'ptcruiser', 'clk', 'primera', 'espace',\n",
       "       'x_reihe', 'exeo', '159', 'transit', 'juke', 'qashqai', 'carisma',\n",
       "       'accord', 'corolla', 'lanos', 'phaeton', 'verso', 'swift', 'rav',\n",
       "       'picanto', 'boxster', 'stilo', 'alhambra', 'mx_reihe', 'roadster',\n",
       "       'ypsilon', 'galant', 'justy', '90', 'sirion', 'crossfire', 'agila',\n",
       "       'duster', 'v50', 'c_reihe', 'v_klasse', 'm_klasse', 'yaris', 'c5',\n",
       "       'aygo', 'cc', 'carnival', '911', 'bora', 'forfour', 'm_reihe',\n",
       "       '100', 'cl', 'tigra', '300c', 'cr_reihe', 'spark', 'kuga',\n",
       "       'x_type', 'ducato', 's_type', 'x_trail', 'toledo', 'altea',\n",
       "       'voyager', 'calibra', 'v70', 'bravo', 'antara', 'c1', 'citigo',\n",
       "       'jimny', 'cayenne', 'wrangler', 'lybra', 'q7', 'lancer', 'captiva',\n",
       "       'fusion', 'c2', 'discovery', 'freelander', 'sandero', 'note',\n",
       "       '900', 'cherokee', 'clubman', 'samara', 'defender', '601',\n",
       "       'cx_reihe', 'legacy', 'pajero', 'auris', 'niva', 's60', 'nubira',\n",
       "       'vivaro', 'tucson', 'g_klasse', 'lodgy', 'superb', '850',\n",
       "       'range_rover', 'q3', 'serie_2', 'glk', 'charade', 'croma',\n",
       "       'outlander', 'doblo', 'musa', 'move', '9000', 'kalos', 'v60',\n",
       "       '145', '200', 'b_max', 'range_rover_sport', 'aveo', 'terios',\n",
       "       'rangerover', 'q5', 'range_rover_evoque', 'materia', 'delta', 'gl',\n",
       "       'kalina', 'elefantino', 'i3', 'amarok', 'kappa', 'serie_3',\n",
       "       'serie_1'], dtype=object)"
      ]
     },
     "metadata": {},
     "output_type": "display_data"
    }
   ],
   "source": [
    "display(data.Model.unique())"
   ]
  },
  {
   "cell_type": "markdown",
   "id": "5d47a69b",
   "metadata": {},
   "source": [
    "#### Пропуски в столбце \"Model\"\n",
    "- Просто удаляем"
   ]
  },
  {
   "cell_type": "code",
   "execution_count": 18,
   "id": "5889098e",
   "metadata": {},
   "outputs": [],
   "source": [
    "data = data.dropna(subset=[\"Model\",])"
   ]
  },
  {
   "cell_type": "markdown",
   "id": "0654e54d",
   "metadata": {},
   "source": [
    "Проверим оставшиеся пропуски"
   ]
  },
  {
   "cell_type": "markdown",
   "id": "6bafaac8",
   "metadata": {},
   "source": [
    "data.isna().sum()"
   ]
  },
  {
   "cell_type": "code",
   "execution_count": 19,
   "id": "292dc349",
   "metadata": {},
   "outputs": [
    {
     "data": {
      "text/plain": [
       "Price                0\n",
       "VehicleType          0\n",
       "RegistrationYear     0\n",
       "Gearbox              0\n",
       "Power                0\n",
       "Model                0\n",
       "Kilometer            0\n",
       "RegistrationMonth    0\n",
       "FuelType             0\n",
       "Brand                0\n",
       "Repaired             0\n",
       "NumberOfPictures     0\n",
       "dtype: int64"
      ]
     },
     "execution_count": 19,
     "metadata": {},
     "output_type": "execute_result"
    }
   ],
   "source": [
    "data.isna().sum()"
   ]
  },
  {
   "cell_type": "markdown",
   "id": "d2efd261",
   "metadata": {},
   "source": [
    "### Обработка дубликатов\n",
    "\n",
    "- проверим количество дубликатов"
   ]
  },
  {
   "cell_type": "code",
   "execution_count": 20,
   "id": "15ada0c7",
   "metadata": {},
   "outputs": [
    {
     "data": {
      "text/plain": [
       "27971"
      ]
     },
     "execution_count": 20,
     "metadata": {},
     "output_type": "execute_result"
    }
   ],
   "source": [
    "data.duplicated().sum()"
   ]
  },
  {
   "cell_type": "markdown",
   "id": "7ad311c5",
   "metadata": {},
   "source": [
    "Удалим дубликаты"
   ]
  },
  {
   "cell_type": "code",
   "execution_count": 21,
   "id": "faeb9e69",
   "metadata": {},
   "outputs": [
    {
     "data": {
      "text/plain": [
       "0"
      ]
     },
     "execution_count": 21,
     "metadata": {},
     "output_type": "execute_result"
    }
   ],
   "source": [
    "data=data.drop_duplicates()\n",
    "data.duplicated().sum()"
   ]
  },
  {
   "cell_type": "markdown",
   "id": "792061f4",
   "metadata": {},
   "source": [
    "## Исследовательский анализ данных"
   ]
  },
  {
   "cell_type": "code",
   "execution_count": 22,
   "id": "bb167869",
   "metadata": {},
   "outputs": [
    {
     "data": {
      "text/html": [
       "<div>\n",
       "<style scoped>\n",
       "    .dataframe tbody tr th:only-of-type {\n",
       "        vertical-align: middle;\n",
       "    }\n",
       "\n",
       "    .dataframe tbody tr th {\n",
       "        vertical-align: top;\n",
       "    }\n",
       "\n",
       "    .dataframe thead th {\n",
       "        text-align: right;\n",
       "    }\n",
       "</style>\n",
       "<table border=\"1\" class=\"dataframe\">\n",
       "  <thead>\n",
       "    <tr style=\"text-align: right;\">\n",
       "      <th></th>\n",
       "      <th>Price</th>\n",
       "      <th>VehicleType</th>\n",
       "      <th>RegistrationYear</th>\n",
       "      <th>Gearbox</th>\n",
       "      <th>Power</th>\n",
       "      <th>Model</th>\n",
       "      <th>Kilometer</th>\n",
       "      <th>RegistrationMonth</th>\n",
       "      <th>FuelType</th>\n",
       "      <th>Brand</th>\n",
       "      <th>Repaired</th>\n",
       "      <th>NumberOfPictures</th>\n",
       "    </tr>\n",
       "  </thead>\n",
       "  <tbody>\n",
       "    <tr>\n",
       "      <th>0</th>\n",
       "      <td>480</td>\n",
       "      <td>other</td>\n",
       "      <td>1993</td>\n",
       "      <td>manual</td>\n",
       "      <td>0</td>\n",
       "      <td>golf</td>\n",
       "      <td>150000</td>\n",
       "      <td>0</td>\n",
       "      <td>petrol</td>\n",
       "      <td>volkswagen</td>\n",
       "      <td>no</td>\n",
       "      <td>0</td>\n",
       "    </tr>\n",
       "    <tr>\n",
       "      <th>2</th>\n",
       "      <td>9800</td>\n",
       "      <td>suv</td>\n",
       "      <td>2004</td>\n",
       "      <td>auto</td>\n",
       "      <td>163</td>\n",
       "      <td>grand</td>\n",
       "      <td>125000</td>\n",
       "      <td>8</td>\n",
       "      <td>gasoline</td>\n",
       "      <td>jeep</td>\n",
       "      <td>no</td>\n",
       "      <td>0</td>\n",
       "    </tr>\n",
       "    <tr>\n",
       "      <th>3</th>\n",
       "      <td>1500</td>\n",
       "      <td>small</td>\n",
       "      <td>2001</td>\n",
       "      <td>manual</td>\n",
       "      <td>75</td>\n",
       "      <td>golf</td>\n",
       "      <td>150000</td>\n",
       "      <td>6</td>\n",
       "      <td>petrol</td>\n",
       "      <td>volkswagen</td>\n",
       "      <td>no</td>\n",
       "      <td>0</td>\n",
       "    </tr>\n",
       "    <tr>\n",
       "      <th>4</th>\n",
       "      <td>3600</td>\n",
       "      <td>small</td>\n",
       "      <td>2008</td>\n",
       "      <td>manual</td>\n",
       "      <td>69</td>\n",
       "      <td>fabia</td>\n",
       "      <td>90000</td>\n",
       "      <td>7</td>\n",
       "      <td>gasoline</td>\n",
       "      <td>skoda</td>\n",
       "      <td>no</td>\n",
       "      <td>0</td>\n",
       "    </tr>\n",
       "    <tr>\n",
       "      <th>5</th>\n",
       "      <td>650</td>\n",
       "      <td>sedan</td>\n",
       "      <td>1995</td>\n",
       "      <td>manual</td>\n",
       "      <td>102</td>\n",
       "      <td>3er</td>\n",
       "      <td>150000</td>\n",
       "      <td>10</td>\n",
       "      <td>petrol</td>\n",
       "      <td>bmw</td>\n",
       "      <td>yes</td>\n",
       "      <td>0</td>\n",
       "    </tr>\n",
       "  </tbody>\n",
       "</table>\n",
       "</div>"
      ],
      "text/plain": [
       "   Price VehicleType  RegistrationYear Gearbox  Power  Model  Kilometer  \\\n",
       "0    480       other              1993  manual      0   golf     150000   \n",
       "2   9800         suv              2004    auto    163  grand     125000   \n",
       "3   1500       small              2001  manual     75   golf     150000   \n",
       "4   3600       small              2008  manual     69  fabia      90000   \n",
       "5    650       sedan              1995  manual    102    3er     150000   \n",
       "\n",
       "   RegistrationMonth  FuelType       Brand Repaired  NumberOfPictures  \n",
       "0                  0    petrol  volkswagen       no                 0  \n",
       "2                  8  gasoline        jeep       no                 0  \n",
       "3                  6    petrol  volkswagen       no                 0  \n",
       "4                  7  gasoline       skoda       no                 0  \n",
       "5                 10    petrol         bmw      yes                 0  "
      ]
     },
     "metadata": {},
     "output_type": "display_data"
    },
    {
     "data": {
      "text/html": [
       "<div>\n",
       "<style scoped>\n",
       "    .dataframe tbody tr th:only-of-type {\n",
       "        vertical-align: middle;\n",
       "    }\n",
       "\n",
       "    .dataframe tbody tr th {\n",
       "        vertical-align: top;\n",
       "    }\n",
       "\n",
       "    .dataframe thead th {\n",
       "        text-align: right;\n",
       "    }\n",
       "</style>\n",
       "<table border=\"1\" class=\"dataframe\">\n",
       "  <thead>\n",
       "    <tr style=\"text-align: right;\">\n",
       "      <th></th>\n",
       "      <th>Price</th>\n",
       "      <th>RegistrationYear</th>\n",
       "      <th>Power</th>\n",
       "      <th>Kilometer</th>\n",
       "      <th>RegistrationMonth</th>\n",
       "      <th>NumberOfPictures</th>\n",
       "    </tr>\n",
       "  </thead>\n",
       "  <tbody>\n",
       "    <tr>\n",
       "      <th>count</th>\n",
       "      <td>290991.000000</td>\n",
       "      <td>290991.000000</td>\n",
       "      <td>290991.000000</td>\n",
       "      <td>290991.000000</td>\n",
       "      <td>290991.000000</td>\n",
       "      <td>290991.0</td>\n",
       "    </tr>\n",
       "    <tr>\n",
       "      <th>mean</th>\n",
       "      <td>4595.355891</td>\n",
       "      <td>2003.405607</td>\n",
       "      <td>114.836318</td>\n",
       "      <td>128727.864436</td>\n",
       "      <td>5.884185</td>\n",
       "      <td>0.0</td>\n",
       "    </tr>\n",
       "    <tr>\n",
       "      <th>std</th>\n",
       "      <td>4571.414286</td>\n",
       "      <td>30.560506</td>\n",
       "      <td>192.496951</td>\n",
       "      <td>36747.778989</td>\n",
       "      <td>3.638763</td>\n",
       "      <td>0.0</td>\n",
       "    </tr>\n",
       "    <tr>\n",
       "      <th>min</th>\n",
       "      <td>0.000000</td>\n",
       "      <td>1000.000000</td>\n",
       "      <td>0.000000</td>\n",
       "      <td>5000.000000</td>\n",
       "      <td>0.000000</td>\n",
       "      <td>0.0</td>\n",
       "    </tr>\n",
       "    <tr>\n",
       "      <th>25%</th>\n",
       "      <td>1200.000000</td>\n",
       "      <td>1999.000000</td>\n",
       "      <td>75.000000</td>\n",
       "      <td>125000.000000</td>\n",
       "      <td>3.000000</td>\n",
       "      <td>0.0</td>\n",
       "    </tr>\n",
       "    <tr>\n",
       "      <th>50%</th>\n",
       "      <td>2900.000000</td>\n",
       "      <td>2003.000000</td>\n",
       "      <td>105.000000</td>\n",
       "      <td>150000.000000</td>\n",
       "      <td>6.000000</td>\n",
       "      <td>0.0</td>\n",
       "    </tr>\n",
       "    <tr>\n",
       "      <th>75%</th>\n",
       "      <td>6650.000000</td>\n",
       "      <td>2008.000000</td>\n",
       "      <td>143.000000</td>\n",
       "      <td>150000.000000</td>\n",
       "      <td>9.000000</td>\n",
       "      <td>0.0</td>\n",
       "    </tr>\n",
       "    <tr>\n",
       "      <th>max</th>\n",
       "      <td>20000.000000</td>\n",
       "      <td>9000.000000</td>\n",
       "      <td>20000.000000</td>\n",
       "      <td>150000.000000</td>\n",
       "      <td>12.000000</td>\n",
       "      <td>0.0</td>\n",
       "    </tr>\n",
       "  </tbody>\n",
       "</table>\n",
       "</div>"
      ],
      "text/plain": [
       "               Price  RegistrationYear          Power      Kilometer  \\\n",
       "count  290991.000000     290991.000000  290991.000000  290991.000000   \n",
       "mean     4595.355891       2003.405607     114.836318  128727.864436   \n",
       "std      4571.414286         30.560506     192.496951   36747.778989   \n",
       "min         0.000000       1000.000000       0.000000    5000.000000   \n",
       "25%      1200.000000       1999.000000      75.000000  125000.000000   \n",
       "50%      2900.000000       2003.000000     105.000000  150000.000000   \n",
       "75%      6650.000000       2008.000000     143.000000  150000.000000   \n",
       "max     20000.000000       9000.000000   20000.000000  150000.000000   \n",
       "\n",
       "       RegistrationMonth  NumberOfPictures  \n",
       "count      290991.000000          290991.0  \n",
       "mean            5.884185               0.0  \n",
       "std             3.638763               0.0  \n",
       "min             0.000000               0.0  \n",
       "25%             3.000000               0.0  \n",
       "50%             6.000000               0.0  \n",
       "75%             9.000000               0.0  \n",
       "max            12.000000               0.0  "
      ]
     },
     "execution_count": 22,
     "metadata": {},
     "output_type": "execute_result"
    }
   ],
   "source": [
    "display(data.head())\n",
    "data.describe()"
   ]
  },
  {
   "cell_type": "markdown",
   "id": "8bed60fb",
   "metadata": {},
   "source": [
    "### Обработка выбросов\n",
    "\n",
    "- Выбросы можно обработать только в количественных признаках"
   ]
  },
  {
   "cell_type": "code",
   "execution_count": 23,
   "id": "0098c1d8",
   "metadata": {},
   "outputs": [],
   "source": [
    "data_numerical = data[['Price', 'RegistrationYear', 'Power', 'Kilometer', 'RegistrationMonth', 'NumberOfPictures']]\n"
   ]
  },
  {
   "cell_type": "code",
   "execution_count": 24,
   "id": "29d89e0b",
   "metadata": {},
   "outputs": [
    {
     "data": {
      "image/png": "[encoded data removed]",
      "text/plain": [
       "<Figure size 1200x50 with 1 Axes>"
      ]
     },
     "metadata": {},
     "output_type": "display_data"
    },
    {
     "data": {
      "image/png": "[encoded data removed]",
      "text/plain": [
       "<Figure size 1200x50 with 1 Axes>"
      ]
     },
     "metadata": {},
     "output_type": "display_data"
    },
    {
     "data": {
      "image/png": "[encoded data removed]",
      "text/plain": [
       "<Figure size 1200x50 with 1 Axes>"
      ]
     },
     "metadata": {},
     "output_type": "display_data"
    },
    {
     "data": {
      "image/png": "[encoded data removed]",
      "text/plain": [
       "<Figure size 1200x50 with 1 Axes>"
      ]
     },
     "metadata": {},
     "output_type": "display_data"
    },
    {
     "data": {
      "image/png": "[encoded data removed]",
      "text/plain": [
       "<Figure size 1200x50 with 1 Axes>"
      ]
     },
     "metadata": {},
     "output_type": "display_data"
    },
    {
     "data": {
      "image/png": "[encoded data removed]",
      "text/plain": [
       "<Figure size 1200x50 with 1 Axes>"
      ]
     },
     "metadata": {},
     "output_type": "display_data"
    }
   ],
   "source": [
    "for i in list(data_numerical.columns):\n",
    "    plt.figure(figsize=(12,.5))\n",
    "    sns.boxplot(data[i]);\n",
    "    plt.show()"
   ]
  },
  {
   "cell_type": "markdown",
   "id": "ba4f2748",
   "metadata": {},
   "source": [
    "#### Выбросы в столбце \"Price\"\n",
    "- Машины не могут продаваться по цене 0 Евро. Установим нижнюю границу в 250 Евро (20 000 руб)"
   ]
  },
  {
   "cell_type": "code",
   "execution_count": 25,
   "id": "0148e941",
   "metadata": {},
   "outputs": [
    {
     "data": {
      "text/plain": [
       "<AxesSubplot:xlabel='Price'>"
      ]
     },
     "execution_count": 25,
     "metadata": {},
     "output_type": "execute_result"
    },
    {
     "data": {
      "image/png": "[encoded data removed]",
      "text/plain": [
       "<Figure size 1200x50 with 1 Axes>"
      ]
     },
     "metadata": {},
     "output_type": "display_data"
    }
   ],
   "source": [
    "data = data.query('250 < Price')\n",
    "plt.figure(figsize=(12,.5))\n",
    "sns.boxplot(data['Price'])"
   ]
  },
  {
   "cell_type": "markdown",
   "id": "253a84ad",
   "metadata": {},
   "source": [
    "#### Выбросы в столбце \"Registration Year\"\n",
    "- Сейчас 2023 год. Самое раннее авто, представленное на Авто.ру - Opel Olympia, 1935 года. Ограничимся этими годами."
   ]
  },
  {
   "cell_type": "code",
   "execution_count": 26,
   "id": "7ccda346",
   "metadata": {},
   "outputs": [
    {
     "data": {
      "text/plain": [
       "<AxesSubplot:xlabel='RegistrationYear'>"
      ]
     },
     "execution_count": 26,
     "metadata": {},
     "output_type": "execute_result"
    },
    {
     "data": {
      "image/png": "[encoded data removed]",
      "text/plain": [
       "<Figure size 1200x50 with 1 Axes>"
      ]
     },
     "metadata": {},
     "output_type": "display_data"
    }
   ],
   "source": [
    "data = data.query('1935 < RegistrationYear < 2035')\n",
    "plt.figure(figsize=(12,.5))\n",
    "sns.boxplot(data['RegistrationYear'])"
   ]
  },
  {
   "cell_type": "markdown",
   "id": "f4dab5c4",
   "metadata": {},
   "source": [
    "#### Выбросы в столбце \"Power\"\n",
    "- Самые слабые авто на Авто.ру - СМЗ по 10 л.с. Самые мощные - Tesla по 1020 л.с. Ограничимся этими параметрами"
   ]
  },
  {
   "cell_type": "code",
   "execution_count": 27,
   "id": "e3c733bd",
   "metadata": {},
   "outputs": [
    {
     "data": {
      "text/plain": [
       "<AxesSubplot:xlabel='Power'>"
      ]
     },
     "execution_count": 27,
     "metadata": {},
     "output_type": "execute_result"
    },
    {
     "data": {
      "image/png": "[encoded data removed]",
      "text/plain": [
       "<Figure size 1200x50 with 1 Axes>"
      ]
     },
     "metadata": {},
     "output_type": "display_data"
    }
   ],
   "source": [
    "data = data.query('10 < Power < 1020')\n",
    "plt.figure(figsize=(12,.5))\n",
    "sns.boxplot(data['Power'])"
   ]
  },
  {
   "cell_type": "markdown",
   "id": "652378f2",
   "metadata": {},
   "source": [
    "#### Выбросы в столбце \"Kilometer\"\n",
    "- Здесь все данные корректны"
   ]
  },
  {
   "cell_type": "markdown",
   "id": "530f72b5",
   "metadata": {},
   "source": [
    "#### Выбросы в столбце \"NumberOfPictures\"\n",
    "- В этом столбце одни нули, либо данные неправильно выгрузились, либо стобец не участвует в заполнении анкеты. Придется его просто удалить"
   ]
  },
  {
   "cell_type": "code",
   "execution_count": 28,
   "id": "4361df48",
   "metadata": {},
   "outputs": [
    {
     "data": {
      "text/plain": [
       "array([0], dtype=int64)"
      ]
     },
     "metadata": {},
     "output_type": "display_data"
    }
   ],
   "source": [
    "display(data[\"NumberOfPictures\"].unique())"
   ]
  },
  {
   "cell_type": "code",
   "execution_count": 29,
   "id": "6c98d326",
   "metadata": {},
   "outputs": [],
   "source": [
    "data = data.drop([\"NumberOfPictures\"], axis=1)"
   ]
  },
  {
   "cell_type": "markdown",
   "id": "b7119a50",
   "metadata": {},
   "source": [
    "#### Проверка выбросов после очистки"
   ]
  },
  {
   "cell_type": "code",
   "execution_count": 30,
   "id": "70d39463",
   "metadata": {},
   "outputs": [
    {
     "data": {
      "image/png": "[encoded data removed]",
      "text/plain": [
       "<Figure size 1200x50 with 1 Axes>"
      ]
     },
     "metadata": {},
     "output_type": "display_data"
    },
    {
     "data": {
      "image/png": "[encoded data removed]",
      "text/plain": [
       "<Figure size 1200x50 with 1 Axes>"
      ]
     },
     "metadata": {},
     "output_type": "display_data"
    },
    {
     "data": {
      "image/png": "[encoded data removed]",
      "text/plain": [
       "<Figure size 1200x50 with 1 Axes>"
      ]
     },
     "metadata": {},
     "output_type": "display_data"
    },
    {
     "data": {
      "image/png": "[encoded data removed]",
      "text/plain": [
       "<Figure size 1200x50 with 1 Axes>"
      ]
     },
     "metadata": {},
     "output_type": "display_data"
    },
    {
     "data": {
      "image/png": "[encoded data removed]",
      "text/plain": [
       "<Figure size 1200x50 with 1 Axes>"
      ]
     },
     "metadata": {},
     "output_type": "display_data"
    }
   ],
   "source": [
    "data_numerical = data[['Price', 'RegistrationYear', 'Power', 'Kilometer', 'RegistrationMonth']]\n",
    "for i in list(data_numerical.columns):\n",
    "    plt.figure(figsize=(12,.5))\n",
    "    sns.boxplot(data[i]);\n",
    "    plt.show()"
   ]
  },
  {
   "cell_type": "markdown",
   "id": "95797b31",
   "metadata": {},
   "source": [
    "## Преобработка и анализ - выводы"
   ]
  },
  {
   "cell_type": "markdown",
   "id": "37c3ace7",
   "metadata": {},
   "source": [
    "- Обработаны пропуски, nan заменены на other где возможно\n",
    "- Удалены дубликаты\n",
    "- Удалены выбросы/некорректные значения\n",
    "- Все типы данных корректны и не требуют обработки"
   ]
  },
  {
   "cell_type": "markdown",
   "id": "76d7997b",
   "metadata": {},
   "source": [
    "## Подготовка и обучение моделей"
   ]
  },
  {
   "cell_type": "markdown",
   "id": "ce58b1cd",
   "metadata": {},
   "source": [
    "### Разделение данных на выборки и выделим признаки\n",
    "- Разделим данные в соотношении 60:20:20\n",
    "- Выделим целевой признак"
   ]
  },
  {
   "cell_type": "code",
   "execution_count": 31,
   "id": "49214eea",
   "metadata": {},
   "outputs": [
    {
     "name": "stdout",
     "output_type": "stream",
     "text": [
      "(154284, 10)\n",
      "(51428, 10)\n",
      "(51428, 10)\n"
     ]
    }
   ],
   "source": [
    "features = data.drop(['Price'], axis = 1)  \n",
    "target = data['Price'] \n",
    "\n",
    "features_train, features_valid, target_train, target_valid = train_test_split(features,target, test_size=0.2,train_size=0.8,random_state=123)\n",
    "features_train, features_test, target_train, target_test = train_test_split(features_train, target_train, test_size=0.25,train_size=0.75,random_state=123)\n",
    "\n",
    "print(features_train.shape)\n",
    "print(features_valid.shape)\n",
    "print(features_test.shape)"
   ]
  },
  {
   "cell_type": "markdown",
   "id": "7a36ae2b",
   "metadata": {},
   "source": [
    "### Обучение моделей и подбор гиперпараметров"
   ]
  },
  {
   "cell_type": "markdown",
   "id": "df0aca7f",
   "metadata": {},
   "source": [
    "#### LGBMRegressor\n",
    "\n",
    "- Судя по документации LGBMRegressor не требует кодирования категориальных признаков\n",
    "- categorical_feature — принимает список строк/целых чисел или строку auto. Если мы передадим список строк/целых чисел, тогда указанные столбцы из набора данных будут рассматриваться как категориальные."
   ]
  },
  {
   "cell_type": "code",
   "execution_count": 32,
   "id": "6184e5c7",
   "metadata": {},
   "outputs": [
    {
     "data": {
      "text/html": [
       "<div>\n",
       "<style scoped>\n",
       "    .dataframe tbody tr th:only-of-type {\n",
       "        vertical-align: middle;\n",
       "    }\n",
       "\n",
       "    .dataframe tbody tr th {\n",
       "        vertical-align: top;\n",
       "    }\n",
       "\n",
       "    .dataframe thead th {\n",
       "        text-align: right;\n",
       "    }\n",
       "</style>\n",
       "<table border=\"1\" class=\"dataframe\">\n",
       "  <thead>\n",
       "    <tr style=\"text-align: right;\">\n",
       "      <th></th>\n",
       "      <th>VehicleType</th>\n",
       "      <th>RegistrationYear</th>\n",
       "      <th>Gearbox</th>\n",
       "      <th>Power</th>\n",
       "      <th>Model</th>\n",
       "      <th>Kilometer</th>\n",
       "      <th>RegistrationMonth</th>\n",
       "      <th>FuelType</th>\n",
       "      <th>Brand</th>\n",
       "      <th>Repaired</th>\n",
       "    </tr>\n",
       "  </thead>\n",
       "  <tbody>\n",
       "    <tr>\n",
       "      <th>229474</th>\n",
       "      <td>bus</td>\n",
       "      <td>2008</td>\n",
       "      <td>manual</td>\n",
       "      <td>105</td>\n",
       "      <td>caddy</td>\n",
       "      <td>150000</td>\n",
       "      <td>9</td>\n",
       "      <td>gasoline</td>\n",
       "      <td>volkswagen</td>\n",
       "      <td>no</td>\n",
       "    </tr>\n",
       "  </tbody>\n",
       "</table>\n",
       "</div>"
      ],
      "text/plain": [
       "       VehicleType  RegistrationYear Gearbox  Power  Model  Kilometer  \\\n",
       "229474         bus              2008  manual    105  caddy     150000   \n",
       "\n",
       "        RegistrationMonth  FuelType       Brand Repaired  \n",
       "229474                  9  gasoline  volkswagen       no  "
      ]
     },
     "metadata": {},
     "output_type": "display_data"
    },
    {
     "name": "stdout",
     "output_type": "stream",
     "text": [
      "[0, 2, 4, 7, 8, 9]\n"
     ]
    }
   ],
   "source": [
    "display(features_train.head(1))\n",
    "categorical_features = [0,2,4,7,8,9]\n",
    "print(categorical_features)\n",
    "for i in ['VehicleType','Gearbox','Model','FuelType','Brand','Repaired']:\n",
    "    features_train[i]=features_train[i].astype('category')\n",
    "    features_valid[i]=features_valid[i].astype('category')\n",
    "    features_test[i]=features_test[i].astype('category')\n"
   ]
  },
  {
   "cell_type": "code",
   "execution_count": 33,
   "id": "46a7c82b",
   "metadata": {},
   "outputs": [
    {
     "name": "stdout",
     "output_type": "stream",
     "text": [
      "Time: 00:00:01\n",
      "00:00:01\n",
      "Wall time: 864 ms\n"
     ]
    }
   ],
   "source": [
    "%%time\n",
    "\n",
    "start = time.time() \n",
    "\n",
    "LGBM_model = lgb.LGBMRegressor(num_leaves= 100, learning_rate=0.05, max_depth=15, n_estimators=100)\n",
    "LGBM_model.fit(features_train, target_train, eval_metric='rmse', categorical_feature=categorical_features)\n",
    "\n",
    "end = time.time()\n",
    "\n",
    "LGBM_learn=exec_time(start,end)\n",
    "\n",
    "print(LGBM_learn)"
   ]
  },
  {
   "cell_type": "code",
   "execution_count": 34,
   "id": "e844d5f0",
   "metadata": {},
   "outputs": [
    {
     "name": "stdout",
     "output_type": "stream",
     "text": [
      "RMSE for LGBMR -> test: 1590.230446012981\n",
      "Time: 00:00:00\n",
      "00:00:00\n",
      "Wall time: 135 ms\n"
     ]
    }
   ],
   "source": [
    "%%time\n",
    "\n",
    "start = time.time() \n",
    "\n",
    "predicted_test_LGBM = LGBM_model.predict(features_test)\n",
    "\n",
    "end = time.time()\n",
    "\n",
    "print('RMSE for LGBMR -> test:', mean_squared_error(target_test, predicted_test_LGBM) ** 0.5)\n",
    "\n",
    "LGBM_predict=exec_time(start,end)\n",
    "LGBM_RMSE=mean_squared_error(target_test, predicted_test_LGBM) ** 0.5\n",
    "print(LGBM_predict)"
   ]
  },
  {
   "cell_type": "markdown",
   "id": "24ec0d28",
   "metadata": {},
   "source": [
    "Попробуем подбор параметров с помощью GridSearh. (Код закомментирован для экономии времени выполнения кода)"
   ]
  },
  {
   "cell_type": "code",
   "execution_count": 35,
   "id": "3d312648",
   "metadata": {},
   "outputs": [],
   "source": [
    "#%%time\n",
    "#param_grid = {'max_depth':[5,15],\n",
    "#              'learning_rate': [0.05,0.1],\n",
    "#              }\n",
    "#LGBM_model = lgb.LGBMRegressor()\n",
    "#                                  \n",
    "#parameters_LGBM = GridSearchCV(estimator = LGBM_model,param_grid = param_grid,n_jobs=1,verbose=10,scoring= 'neg_root_mean_squared_error',cv=5)\n",
    "#\n",
    "#parameters_LGBM.fit(features_train, target_train)\n",
    "#print('best params\\n', parameters_LGBM.best_params_)\n",
    "#print('best RMSE\\n', parameters_LGBM.best_score_)"
   ]
  },
  {
   "cell_type": "markdown",
   "id": "f3af1f2a",
   "metadata": {},
   "source": [
    "#### CatBoost\n",
    "\n",
    "- Судя по документации CatBoost также не требует кодирования категориальных признаков"
   ]
  },
  {
   "cell_type": "code",
   "execution_count": 36,
   "id": "e9f2a389",
   "metadata": {},
   "outputs": [
    {
     "name": "stdout",
     "output_type": "stream",
     "text": [
      "0:\tlearn: 4518.5271637\ttotal: 230ms\tremaining: 34.3s\n",
      "10:\tlearn: 3701.4629857\ttotal: 945ms\tremaining: 11.9s\n",
      "20:\tlearn: 3128.2722842\ttotal: 1.73s\tremaining: 10.6s\n",
      "30:\tlearn: 2737.6072284\ttotal: 2.45s\tremaining: 9.39s\n",
      "40:\tlearn: 2449.9085138\ttotal: 3.18s\tremaining: 8.45s\n",
      "50:\tlearn: 2247.9879071\ttotal: 3.86s\tremaining: 7.49s\n",
      "60:\tlearn: 2108.1491910\ttotal: 4.48s\tremaining: 6.54s\n",
      "70:\tlearn: 2004.4123930\ttotal: 5.1s\tremaining: 5.67s\n",
      "80:\tlearn: 1931.1207134\ttotal: 5.73s\tremaining: 4.88s\n",
      "90:\tlearn: 1870.5084967\ttotal: 6.34s\tremaining: 4.11s\n",
      "100:\tlearn: 1831.1413387\ttotal: 6.95s\tremaining: 3.37s\n",
      "110:\tlearn: 1802.0643187\ttotal: 7.55s\tremaining: 2.65s\n",
      "120:\tlearn: 1779.9411710\ttotal: 8.18s\tremaining: 1.96s\n",
      "130:\tlearn: 1760.8609006\ttotal: 8.87s\tremaining: 1.29s\n",
      "140:\tlearn: 1745.7219383\ttotal: 9.58s\tremaining: 611ms\n",
      "149:\tlearn: 1734.6143450\ttotal: 10.2s\tremaining: 0us\n",
      "Time: 00:00:10\n",
      "Wall time: 10.5 s\n"
     ]
    }
   ],
   "source": [
    "%%time\n",
    "\n",
    "start = time.time() \n",
    "\n",
    "CatBoost_model = CatBoostRegressor(iterations = 150, l2_leaf_reg=10, max_depth=10,loss_function = 'RMSE',eval_metric = 'RMSE')\n",
    "CatBoost_model.fit(features_train, target_train, cat_features=categorical_features,verbose=10)\n",
    "\n",
    "end = time.time()\n",
    "CatBoost_learn=exec_time(start,end)\n"
   ]
  },
  {
   "cell_type": "code",
   "execution_count": 37,
   "id": "207d632c",
   "metadata": {},
   "outputs": [
    {
     "name": "stdout",
     "output_type": "stream",
     "text": [
      "Time: 00:00:00\n",
      "RMSE for CatBoost -> test: 1764.3770163619367\n",
      "Wall time: 62.6 ms\n"
     ]
    }
   ],
   "source": [
    "%%time\n",
    "\n",
    "start = time.time() \n",
    "\n",
    "predicted_test_CatBoost = CatBoost_model.predict(features_test)\n",
    "\n",
    "end = time.time()\n",
    "\n",
    "CatBoost_predict=exec_time(start,end)\n",
    "\n",
    "print('RMSE for CatBoost -> test:', mean_squared_error(target_test, predicted_test_CatBoost) ** 0.5)\n",
    "\n",
    "CatBoost_RMSE=mean_squared_error(target_test, predicted_test_CatBoost) ** 0.5"
   ]
  },
  {
   "cell_type": "markdown",
   "id": "8f6eb01a",
   "metadata": {},
   "source": [
    "Попробуем подбор параметров с помощью GridSearh. (Код закомментирован для экономии времени выполнения кода)"
   ]
  },
  {
   "cell_type": "code",
   "execution_count": 38,
   "id": "fab25f58",
   "metadata": {},
   "outputs": [],
   "source": [
    "#%%time\n",
    "#param_grid = {'l2_leaf_reg':[10,15],\n",
    "#              'max_depth': [10,15],\n",
    "#              }\n",
    "#CatBoost_model = CatBoostRegressor(loss_function=\"RMSE\", iterations=50,cat_features=categorical_features)\n",
    "#                                  \n",
    "#parameters_CatBoost = GridSearchCV(estimator = CatBoost_model,param_grid = param_grid,n_jobs=1,scoring= 'neg_root_mean_squared_error',cv=5)\n",
    "#\n",
    "#parameters_CatBoost.fit(features_train, target_train)\n",
    "#print('best params\\n', parameters_CatBoost.best_params_)\n",
    "#print('best RMSE\\n', parameters_CatBoost.best_score_)"
   ]
  },
  {
   "cell_type": "markdown",
   "id": "b7050e58",
   "metadata": {},
   "source": [
    "#### Случайный лес\n",
    "\n",
    "- Для случайного леса придется кодировать категориальные признаки, используем OHE кодирование\n",
    "- Разделим кодированные данные на датасеты\n",
    "- Количественные признаки имеют разный масшаб, но для модели случайного леса масшабирование не требуется"
   ]
  },
  {
   "cell_type": "code",
   "execution_count": 39,
   "id": "a76ff481",
   "metadata": {},
   "outputs": [
    {
     "data": {
      "text/html": [
       "<div>\n",
       "<style scoped>\n",
       "    .dataframe tbody tr th:only-of-type {\n",
       "        vertical-align: middle;\n",
       "    }\n",
       "\n",
       "    .dataframe tbody tr th {\n",
       "        vertical-align: top;\n",
       "    }\n",
       "\n",
       "    .dataframe thead th {\n",
       "        text-align: right;\n",
       "    }\n",
       "</style>\n",
       "<table border=\"1\" class=\"dataframe\">\n",
       "  <thead>\n",
       "    <tr style=\"text-align: right;\">\n",
       "      <th></th>\n",
       "      <th>Price</th>\n",
       "      <th>VehicleType</th>\n",
       "      <th>RegistrationYear</th>\n",
       "      <th>Gearbox</th>\n",
       "      <th>Power</th>\n",
       "      <th>Model</th>\n",
       "      <th>Kilometer</th>\n",
       "      <th>RegistrationMonth</th>\n",
       "      <th>FuelType</th>\n",
       "      <th>Brand</th>\n",
       "      <th>Repaired</th>\n",
       "    </tr>\n",
       "  </thead>\n",
       "  <tbody>\n",
       "    <tr>\n",
       "      <th>2</th>\n",
       "      <td>9800</td>\n",
       "      <td>suv</td>\n",
       "      <td>2004</td>\n",
       "      <td>auto</td>\n",
       "      <td>163</td>\n",
       "      <td>grand</td>\n",
       "      <td>125000</td>\n",
       "      <td>8</td>\n",
       "      <td>gasoline</td>\n",
       "      <td>jeep</td>\n",
       "      <td>no</td>\n",
       "    </tr>\n",
       "    <tr>\n",
       "      <th>3</th>\n",
       "      <td>1500</td>\n",
       "      <td>small</td>\n",
       "      <td>2001</td>\n",
       "      <td>manual</td>\n",
       "      <td>75</td>\n",
       "      <td>golf</td>\n",
       "      <td>150000</td>\n",
       "      <td>6</td>\n",
       "      <td>petrol</td>\n",
       "      <td>volkswagen</td>\n",
       "      <td>no</td>\n",
       "    </tr>\n",
       "    <tr>\n",
       "      <th>4</th>\n",
       "      <td>3600</td>\n",
       "      <td>small</td>\n",
       "      <td>2008</td>\n",
       "      <td>manual</td>\n",
       "      <td>69</td>\n",
       "      <td>fabia</td>\n",
       "      <td>90000</td>\n",
       "      <td>7</td>\n",
       "      <td>gasoline</td>\n",
       "      <td>skoda</td>\n",
       "      <td>no</td>\n",
       "    </tr>\n",
       "    <tr>\n",
       "      <th>5</th>\n",
       "      <td>650</td>\n",
       "      <td>sedan</td>\n",
       "      <td>1995</td>\n",
       "      <td>manual</td>\n",
       "      <td>102</td>\n",
       "      <td>3er</td>\n",
       "      <td>150000</td>\n",
       "      <td>10</td>\n",
       "      <td>petrol</td>\n",
       "      <td>bmw</td>\n",
       "      <td>yes</td>\n",
       "    </tr>\n",
       "    <tr>\n",
       "      <th>6</th>\n",
       "      <td>2200</td>\n",
       "      <td>convertible</td>\n",
       "      <td>2004</td>\n",
       "      <td>manual</td>\n",
       "      <td>109</td>\n",
       "      <td>2_reihe</td>\n",
       "      <td>150000</td>\n",
       "      <td>8</td>\n",
       "      <td>petrol</td>\n",
       "      <td>peugeot</td>\n",
       "      <td>no</td>\n",
       "    </tr>\n",
       "  </tbody>\n",
       "</table>\n",
       "</div>"
      ],
      "text/plain": [
       "   Price  VehicleType  RegistrationYear Gearbox  Power    Model  Kilometer  \\\n",
       "2   9800          suv              2004    auto    163    grand     125000   \n",
       "3   1500        small              2001  manual     75     golf     150000   \n",
       "4   3600        small              2008  manual     69    fabia      90000   \n",
       "5    650        sedan              1995  manual    102      3er     150000   \n",
       "6   2200  convertible              2004  manual    109  2_reihe     150000   \n",
       "\n",
       "   RegistrationMonth  FuelType       Brand Repaired  \n",
       "2                  8  gasoline        jeep       no  \n",
       "3                  6    petrol  volkswagen       no  \n",
       "4                  7  gasoline       skoda       no  \n",
       "5                 10    petrol         bmw      yes  \n",
       "6                  8    petrol     peugeot       no  "
      ]
     },
     "metadata": {},
     "output_type": "display_data"
    },
    {
     "name": "stdout",
     "output_type": "stream",
     "text": [
      "(154284, 10)\n",
      "(51428, 10)\n",
      "(51428, 10)\n"
     ]
    }
   ],
   "source": [
    "data_ord=data.copy()\n",
    "\n",
    "encoder = OrdinalEncoder()\n",
    "\n",
    "cat_columns = ['VehicleType','Gearbox','Model','FuelType','Brand','Repaired']\n",
    "\n",
    "data_ord[cat_columns]=encoder.fit_transform(data_ord[cat_columns])\n",
    "\n",
    "display(data.head())\n",
    "\n",
    "features_ord = data_ord.drop(['Price'], axis = 1)  \n",
    "target_ord = data_ord['Price'] \n",
    "\n",
    "features_train_ord, features_valid_ord, target_train_ord, target_valid_ord = train_test_split(features_ord,target_ord, test_size=0.2,train_size=0.8,random_state=123)\n",
    "features_train_ord, features_test_ord, target_train_ord, target_test_ord = train_test_split(features_train_ord, target_train_ord, test_size=0.25,train_size=0.75,random_state=123)\n",
    "\n",
    "print(features_train_ord.shape)\n",
    "print(features_valid_ord.shape)\n",
    "print(features_test_ord.shape)\n",
    "\n"
   ]
  },
  {
   "cell_type": "code",
   "execution_count": 40,
   "id": "6f2b7a33",
   "metadata": {},
   "outputs": [],
   "source": [
    "#data_ohe=pd.get_dummies(data, drop_first=True)\n",
    "#display(data_ohe.head())\n",
    "\n",
    "#features_ohe = data_ohe.drop(['Price'], axis = 1)  \n",
    "#target_ohe = data_ohe['Price'] \n",
    "\n",
    "#features_train_ohe, features_valid_ohe, target_train_ohe, target_valid_ohe = train_test_split(features_ohe,target_ohe, test_size=0.2,train_size=0.8,random_state=123)\n",
    "#features_train_ohe, features_test_ohe, target_train_ohe, target_test_ohe = train_test_split(features_train_ohe, target_train_ohe, test_size=0.25,train_size=0.75,random_state=123)\n",
    "\n",
    "#print(features_train_ohe.shape)\n",
    "#print(features_valid_ohe.shape)\n",
    "#print(features_test_ohe.shape)"
   ]
  },
  {
   "cell_type": "code",
   "execution_count": 41,
   "id": "4d93c7c8",
   "metadata": {},
   "outputs": [
    {
     "name": "stdout",
     "output_type": "stream",
     "text": [
      "Time: 00:00:20\n",
      "Wall time: 19.9 s\n"
     ]
    }
   ],
   "source": [
    "%%time\n",
    "\n",
    "start = time.time() \n",
    "\n",
    "RandomForest_model = RandomForestRegressor(max_depth=10, random_state = 12345)\n",
    "RandomForest_model.fit(features_train_ord, target_train_ord)\n",
    "\n",
    "end = time.time()\n",
    "RandomForest_learn=exec_time(start,end)"
   ]
  },
  {
   "cell_type": "code",
   "execution_count": 42,
   "id": "107d6982",
   "metadata": {},
   "outputs": [
    {
     "name": "stdout",
     "output_type": "stream",
     "text": [
      "Time: 00:00:01\n",
      "RMSE for RandomForest -> test: 1876.7148825127535\n",
      "Wall time: 513 ms\n"
     ]
    }
   ],
   "source": [
    "%%time\n",
    "\n",
    "start = time.time() \n",
    "\n",
    "predicted_test_RandomForest = RandomForest_model.predict(features_test_ord)\n",
    "\n",
    "end = time.time()\n",
    "RandomForest_predict=exec_time(start,end)\n",
    "\n",
    "print('RMSE for RandomForest -> test:', mean_squared_error(target_test_ord, predicted_test_RandomForest) ** 0.5)\n",
    "\n",
    "\n",
    "RandomForest_RMSE=mean_squared_error(target_test, predicted_test_RandomForest) ** 0.5"
   ]
  },
  {
   "cell_type": "markdown",
   "id": "8bf1a648",
   "metadata": {},
   "source": [
    "Линейная модель заведомо медленнее бустинговых, остановимся на заданных гиперпараметрах"
   ]
  },
  {
   "cell_type": "markdown",
   "id": "ef6e04b4",
   "metadata": {},
   "source": [
    "### Анализ рассмотренных моделей\n",
    "\n",
    "- Были обучены и подобраны гиперпараметры для трех моделей\n",
    "    - LGBM\n",
    "    - CatBoost\n",
    "    - Случайный лес\n",
    "- Бустинговая модель LGBM показала как наилучшее время обучения так и лучшую RMSE, с другой стороны, у CatBoost несколько лучшее время предсказания\n",
    "- По сочетанию трех показателей (время обучения, время предсказания, качество модели) для финального тестирования будем использовать LGBM\n"
   ]
  },
  {
   "cell_type": "code",
   "execution_count": 43,
   "id": "820160ce",
   "metadata": {},
   "outputs": [
    {
     "data": {
      "text/html": [
       "<div>\n",
       "<style scoped>\n",
       "    .dataframe tbody tr th:only-of-type {\n",
       "        vertical-align: middle;\n",
       "    }\n",
       "\n",
       "    .dataframe tbody tr th {\n",
       "        vertical-align: top;\n",
       "    }\n",
       "\n",
       "    .dataframe thead th {\n",
       "        text-align: right;\n",
       "    }\n",
       "</style>\n",
       "<table border=\"1\" class=\"dataframe\">\n",
       "  <thead>\n",
       "    <tr style=\"text-align: right;\">\n",
       "      <th></th>\n",
       "      <th>Модель</th>\n",
       "      <th>Скорость обучения</th>\n",
       "      <th>Скорость предсказания</th>\n",
       "      <th>RMSE</th>\n",
       "    </tr>\n",
       "  </thead>\n",
       "  <tbody>\n",
       "    <tr>\n",
       "      <th>0</th>\n",
       "      <td>LGBM</td>\n",
       "      <td>00:00:01</td>\n",
       "      <td>00:00:00</td>\n",
       "      <td>1590.230446</td>\n",
       "    </tr>\n",
       "    <tr>\n",
       "      <th>1</th>\n",
       "      <td>CatBoost</td>\n",
       "      <td>00:00:10</td>\n",
       "      <td>00:00:00</td>\n",
       "      <td>1764.377016</td>\n",
       "    </tr>\n",
       "    <tr>\n",
       "      <th>2</th>\n",
       "      <td>Случайный лес</td>\n",
       "      <td>00:00:20</td>\n",
       "      <td>00:00:01</td>\n",
       "      <td>1876.714883</td>\n",
       "    </tr>\n",
       "  </tbody>\n",
       "</table>\n",
       "</div>"
      ],
      "text/plain": [
       "          Модель Скорость обучения Скорость предсказания         RMSE\n",
       "0           LGBM          00:00:01              00:00:00  1590.230446\n",
       "1       CatBoost          00:00:10              00:00:00  1764.377016\n",
       "2  Случайный лес          00:00:20              00:00:01  1876.714883"
      ]
     },
     "metadata": {},
     "output_type": "display_data"
    }
   ],
   "source": [
    "result = {'Модель':['LGBM','CatBoost','Случайный лес'],\n",
    "          'Скорость обучения':[LGBM_learn,CatBoost_learn,RandomForest_learn],\n",
    "          'Скорость предсказания':[LGBM_predict,CatBoost_predict,RandomForest_predict],\n",
    "          'RMSE':[LGBM_RMSE,CatBoost_RMSE,RandomForest_RMSE]}\n",
    "\n",
    "result=pd.DataFrame(result)\n",
    "\n",
    "display(result)"
   ]
  },
  {
   "cell_type": "markdown",
   "id": "bdd612fc",
   "metadata": {},
   "source": [
    "## Финальное тестирование модели"
   ]
  },
  {
   "cell_type": "code",
   "execution_count": 44,
   "id": "2939dc0a",
   "metadata": {},
   "outputs": [
    {
     "name": "stdout",
     "output_type": "stream",
     "text": [
      "RMSE for LGBMR -> valid: 1535.6947481666714\n",
      "Wall time: 3.17 s\n"
     ]
    }
   ],
   "source": [
    "%%time\n",
    "\n",
    "LGBM_model = lgb.LGBMRegressor(num_leaves= 100, learning_rate=0.1, max_depth=15, n_estimators=300)\n",
    "LGBM_model.fit(features_train, target_train, eval_metric='rmse', categorical_feature=categorical_features)\n",
    "predicted_valid_LGBM = LGBM_model.predict(features_valid)\n",
    "\n",
    "print('RMSE for LGBMR -> valid:', mean_squared_error(target_valid, predicted_valid_LGBM) ** 0.5)"
   ]
  },
  {
   "cell_type": "markdown",
   "id": "313d28ca",
   "metadata": {},
   "source": [
    "## Выводы\n",
    "\n",
    "- Проведены предобработка и анализ представленных данных с помощью различных моделей машинного обучения, по каждому этапу представлены промежуточные выводы\n",
    "- В данной задаче, по критериям, требуемым заказчиком наиболее подходящей моделью является LGBM, она показывает наилучшее быстродействие и качество обучения"
   ]
  },
  {
   "cell_type": "code",
   "execution_count": null,
   "id": "fdafa50b",
   "metadata": {},
   "outputs": [],
   "source": []
  }
 ],
 "metadata": {
  "kernelspec": {
   "display_name": "Python 3 (ipykernel)",
   "language": "python",
   "name": "python3"
  },
  "language_info": {
   "codemirror_mode": {
    "name": "ipython",
    "version": 3
   },
   "file_extension": ".py",
   "mimetype": "text/x-python",
   "name": "python",
   "nbconvert_exporter": "python",
   "pygments_lexer": "ipython3",
   "version": "3.9.13"
  },
  "toc": {
   "base_numbering": 1,
   "nav_menu": {},
   "number_sections": true,
   "sideBar": true,
   "skip_h1_title": false,
   "title_cell": "Table of Contents",
   "title_sidebar": "Contents",
   "toc_cell": false,
   "toc_position": {
    "height": "calc(100% - 180px)",
    "left": "10px",
    "top": "150px",
    "width": "349.091px"
   },
   "toc_section_display": true,
   "toc_window_display": true
  }
 },
 "nbformat": 4,
 "nbformat_minor": 5
}
